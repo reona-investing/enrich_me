{
 "cells": [
  {
   "cell_type": "markdown",
   "metadata": {},
   "source": [
    "# 時系列リターン評価の実行例"
   ]
  },
  {
   "cell_type": "code",
   "execution_count": null,
   "metadata": {},
   "outputs": [],
   "source": [
    "from pathlib import Path\n",
    "import sys\n",
    "MODULES_PATH = str(Path.cwd().parent / 'modules')\n",
    "sys.path.append(MODULES_PATH)\n"
   ]
  },
  {
   "cell_type": "code",
   "execution_count": null,
   "metadata": {},
   "outputs": [],
   "source": [
    "import numpy as np\n",
    "import pandas as pd\n",
    "\n",
    "from modules.return_metrics_tool import (\n",
    "    ReturnMetricsRunner,\n",
    "    MetricsInteractiveViewer,\n",
    ")\n",
    "\n",
    "# サンプルデータ生成\n",
    "dates = pd.date_range('2024-01-01', periods=20).repeat(3)\n",
    "returns = pd.Series(np.random.randn(len(dates)) / 100)\n",
    "sectors = pd.Series(['A', 'B', 'C'] * 20)\n",
    "labels = pd.Series(np.random.randn(len(dates)) / 100)\n",
    "\n",
    "runner = ReturnMetricsRunner(dates, returns, sector_series=sectors, correction_label_series=labels)\n",
    "metrics = runner.calculate()\n",
    "viewer = MetricsInteractiveViewer(metrics)\n",
    "viewer.display()"
   ]
  }
 ],
 "metadata": {
  "kernelspec": {
   "display_name": "Python 3",
   "language": "python",
   "name": "python3"
  },
  "language_info": {
   "name": "python",
   "version": "3.11"
  }
 },
 "nbformat": 4,
 "nbformat_minor": 5
}
