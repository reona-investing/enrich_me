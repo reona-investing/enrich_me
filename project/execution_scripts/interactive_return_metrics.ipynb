{
 "cells": [
  {
   "cell_type": "markdown",
   "metadata": {},
   "source": [
    "# 時系列リターン評価の実行例"
   ]
  },
  {
   "cell_type": "code",
   "execution_count": 1,
   "id": "d987ca90",
   "metadata": {},
   "outputs": [
    {
     "data": {
      "text/html": [
       "<div>\n",
       "<style scoped>\n",
       "    .dataframe tbody tr th:only-of-type {\n",
       "        vertical-align: middle;\n",
       "    }\n",
       "\n",
       "    .dataframe tbody tr th {\n",
       "        vertical-align: top;\n",
       "    }\n",
       "\n",
       "    .dataframe thead th {\n",
       "        text-align: right;\n",
       "    }\n",
       "</style>\n",
       "<table border=\"1\" class=\"dataframe\">\n",
       "  <thead>\n",
       "    <tr style=\"text-align: right;\">\n",
       "      <th></th>\n",
       "      <th>日付</th>\n",
       "      <th>売or買</th>\n",
       "      <th>業種</th>\n",
       "      <th>銘柄コード</th>\n",
       "      <th>社名</th>\n",
       "      <th>株数</th>\n",
       "      <th>取得単価</th>\n",
       "      <th>決済単価</th>\n",
       "      <th>取得価格</th>\n",
       "      <th>決済価格</th>\n",
       "      <th>手数料</th>\n",
       "      <th>利益（税引前）</th>\n",
       "      <th>利率（税引前）</th>\n",
       "    </tr>\n",
       "  </thead>\n",
       "  <tbody>\n",
       "    <tr>\n",
       "      <th>14089</th>\n",
       "      <td>2025-06-24</td>\n",
       "      <td>買</td>\n",
       "      <td>建設（中堅ゼネコン・建材）</td>\n",
       "      <td>5911</td>\n",
       "      <td>横河ブリッジホールディングス</td>\n",
       "      <td>200</td>\n",
       "      <td>2549.0</td>\n",
       "      <td>2531.0</td>\n",
       "      <td>509800</td>\n",
       "      <td>506200</td>\n",
       "      <td>0</td>\n",
       "      <td>-3600</td>\n",
       "      <td>-0.007062</td>\n",
       "    </tr>\n",
       "    <tr>\n",
       "      <th>14090</th>\n",
       "      <td>2025-06-24</td>\n",
       "      <td>買</td>\n",
       "      <td>建設（中堅ゼネコン・建材）</td>\n",
       "      <td>6737</td>\n",
       "      <td>ＥＩＺＯ</td>\n",
       "      <td>200</td>\n",
       "      <td>2115.0</td>\n",
       "      <td>2114.0</td>\n",
       "      <td>423000</td>\n",
       "      <td>422800</td>\n",
       "      <td>0</td>\n",
       "      <td>-200</td>\n",
       "      <td>-0.000473</td>\n",
       "    </tr>\n",
       "  </tbody>\n",
       "</table>\n",
       "</div>"
      ],
      "text/plain": [
       "               日付 売or買             業種  銘柄コード              社名   株数    取得単価  \\\n",
       "14089  2025-06-24    買  建設（中堅ゼネコン・建材）   5911  横河ブリッジホールディングス  200  2549.0   \n",
       "14090  2025-06-24    買  建設（中堅ゼネコン・建材）   6737            ＥＩＺＯ  200  2115.0   \n",
       "\n",
       "         決済単価    取得価格    決済価格  手数料  利益（税引前）   利率（税引前）  \n",
       "14089  2531.0  509800  506200    0    -3600 -0.007062  \n",
       "14090  2114.0  423000  422800    0     -200 -0.000473  "
      ]
     },
     "execution_count": 1,
     "metadata": {},
     "output_type": "execute_result"
    }
   ],
   "source": [
    "import numpy as np\n",
    "import pandas as pd\n",
    "from utils.paths import Paths\n",
    "\n",
    "trade_history = pd.read_csv(Paths.TRADE_HISTORY_CSV)\n",
    "trade_history.tail(2)"
   ]
  },
  {
   "cell_type": "code",
   "execution_count": 2,
   "metadata": {},
   "outputs": [
    {
     "data": {
      "application/vnd.jupyter.widget-view+json": {
       "model_id": "b3ffec914ddb4f6e9fae9825242d2e23",
       "version_major": 2,
       "version_minor": 0
      },
      "text/plain": [
       "HBox(children=(Dropdown(description='Metric:', options=('期待リターン', '標準偏差', 'シャープレシオ', '最大ドローダウン', '理論上最大ドローダウン'…"
      ]
     },
     "metadata": {},
     "output_type": "display_data"
    },
    {
     "data": {
      "application/vnd.jupyter.widget-view+json": {
       "model_id": "b42818b975b14cb4995389f6c65198d7",
       "version_major": 2,
       "version_minor": 0
      },
      "text/plain": [
       "Output()"
      ]
     },
     "metadata": {},
     "output_type": "display_data"
    }
   ],
   "source": [
    "from return_metrics_tool import (\n",
    "    DailyReturnGenerator,\n",
    "    ReturnMetricsRunner,\n",
    "    MetricsInteractiveViewer,\n",
    ")\n",
    "\n",
    "drg = DailyReturnGenerator(date_series=trade_history[\"日付\"],\n",
    "                     acquisition_price_series=trade_history[\"取得価格\"],\n",
    "                     settlement_price_series=trade_history[\"決済価格\"],\n",
    "                     long_or_short_series=trade_history[\"売or買\"],\n",
    "                     short_keyphrase=\"売\")\n",
    "daily_return_df = drg.get()\n",
    "\n",
    "\n",
    "runner = ReturnMetricsRunner(date_series=daily_return_df.index,\n",
    "                             return_series=daily_return_df['Return'])\n",
    "metrics = runner.calculate()\n",
    "viewer = MetricsInteractiveViewer(metrics)\n",
    "viewer.display()"
   ]
  }
 ],
 "metadata": {
  "kernelspec": {
   "display_name": ".venv",
   "language": "python",
   "name": "python3"
  },
  "language_info": {
   "codemirror_mode": {
    "name": "ipython",
    "version": 3
   },
   "file_extension": ".py",
   "mimetype": "text/x-python",
   "name": "python",
   "nbconvert_exporter": "python",
   "pygments_lexer": "ipython3",
   "version": "3.11.10"
  }
 },
 "nbformat": 4,
 "nbformat_minor": 5
}
