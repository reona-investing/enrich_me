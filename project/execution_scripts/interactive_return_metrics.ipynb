{
 "cells": [
  {
   "cell_type": "code",
   "execution_count": 1,
   "id": "d987ca90",
   "metadata": {},
   "outputs": [],
   "source": [
    "\n",
    "import pandas as pd\n",
    "from datetime import datetime\n",
    "from utils.paths import Paths\n",
    "\n",
    "from performance.tools import (\n",
    "    DailyReturnGenerator,\n",
    "    ReturnMetricsRunner,\n",
    "    MetricsInteractiveViewer,\n",
    "    ReturnDataFrameBuilder,\n",
    ")\n",
    "from models.machine_learning import DatasetLoader"
   ]
  },
  {
   "cell_type": "markdown",
   "id": "05929416",
   "metadata": {},
   "source": [
    "## 実際のトレード履歴をリターン化"
   ]
  },
  {
   "cell_type": "code",
   "execution_count": 2,
   "id": "6e7d9642",
   "metadata": {},
   "outputs": [
    {
     "data": {
      "text/html": [
       "<div>\n",
       "<style scoped>\n",
       "    .dataframe tbody tr th:only-of-type {\n",
       "        vertical-align: middle;\n",
       "    }\n",
       "\n",
       "    .dataframe tbody tr th {\n",
       "        vertical-align: top;\n",
       "    }\n",
       "\n",
       "    .dataframe thead th {\n",
       "        text-align: right;\n",
       "    }\n",
       "</style>\n",
       "<table border=\"1\" class=\"dataframe\">\n",
       "  <thead>\n",
       "    <tr style=\"text-align: right;\">\n",
       "      <th></th>\n",
       "      <th>Return</th>\n",
       "    </tr>\n",
       "    <tr>\n",
       "      <th>Date</th>\n",
       "      <th></th>\n",
       "    </tr>\n",
       "  </thead>\n",
       "  <tbody>\n",
       "    <tr>\n",
       "      <th>2025-06-25</th>\n",
       "      <td>-0.002846</td>\n",
       "    </tr>\n",
       "    <tr>\n",
       "      <th>2025-06-26</th>\n",
       "      <td>-0.000405</td>\n",
       "    </tr>\n",
       "  </tbody>\n",
       "</table>\n",
       "</div>"
      ],
      "text/plain": [
       "              Return\n",
       "Date                \n",
       "2025-06-25 -0.002846\n",
       "2025-06-26 -0.000405"
      ]
     },
     "execution_count": 2,
     "metadata": {},
     "output_type": "execute_result"
    }
   ],
   "source": [
    "trade_history = pd.read_csv(Paths.TRADE_HISTORY_CSV)\n",
    "drg = DailyReturnGenerator(date_series=trade_history[\"日付\"],\n",
    "                     acquisition_price_series=trade_history[\"取得価格\"],\n",
    "                     settlement_price_series=trade_history[\"決済価格\"],\n",
    "                     long_or_short_series=trade_history[\"売or買\"],\n",
    "                     short_keyphrase=\"売\")\n",
    "daily_return_df = drg.get()\n",
    "daily_return_df.tail(2)"
   ]
  },
  {
   "cell_type": "code",
   "execution_count": 3,
   "id": "4037f5f4",
   "metadata": {},
   "outputs": [
    {
     "data": {
      "application/vnd.jupyter.widget-view+json": {
       "model_id": "30297151a7bb4772a3233a93432709f7",
       "version_major": 2,
       "version_minor": 0
      },
      "text/plain": [
       "VBox(children=(Dropdown(description='パターン:', options=('税引前・レバレッジ無', '税引前・レバレッジ有', '税引後・レバレッジ有'), value='税引前・レバ…"
      ]
     },
     "metadata": {},
     "output_type": "display_data"
    }
   ],
   "source": [
    "rmr = ReturnMetricsRunner(date_series=daily_return_df.index,\n",
    "                          return_series=daily_return_df['Return'])\n",
    "df_dict = rmr.calculate()\n",
    "miv = MetricsInteractiveViewer(df_dict)\n",
    "miv.display()"
   ]
  },
  {
   "cell_type": "markdown",
   "id": "e52c2044",
   "metadata": {},
   "source": [
    "## モデルのリターンデータ読み込み"
   ]
  },
  {
   "cell_type": "code",
   "execution_count": 4,
   "id": "c2f44f43",
   "metadata": {},
   "outputs": [],
   "source": [
    "\n",
    "en48 = f'{Paths.ML_DATASETS_FOLDER}/48sectors_Ensembled_learned_in_250615'\n",
    "#en48_dataset = DatasetLoader(dataset_root=en48).load_datasets()"
   ]
  },
  {
   "cell_type": "code",
   "execution_count": 5,
   "id": "e0e1da6a",
   "metadata": {},
   "outputs": [
    {
     "data": {
      "text/plain": [
       "\"\\nlasso54_for_evaluating_performance['TargetRank'] = lasso54_for_evaluating_performance.groupby('Date')['Target'].rank(ascending=False)\\nlasso54_for_evaluating_performance['PredRank'] = lasso54_for_evaluating_performance.groupby('Date')['Pred'].rank(ascending=False)\\n\\nsector_numbers = len(lasso54_for_evaluating_performance.index.get_level_values('Sector').unique())\\nlasso54_long = lasso54_for_evaluating_performance[lasso54_for_evaluating_performance['PredRank'] <= trade_secor_numbers]\\nlasso54_short = lasso54_for_evaluating_performance[lasso54_for_evaluating_performance['PredRank'] > sector_numbers - trade_secor_numbers]\\n\\nif trade_secor_numbers > 1:\\n    lasso54_long.loc[lasso54_long['PredRank'] == 1, 'Target'] *= top_slope\\n    lasso54_long.loc[lasso54_long['PredRank'] != 1, 'Target'] *= 1 - (top_slope - 1) / (trade_secor_numbers - 1)\\n    lasso54_short.loc[lasso54_short['PredRank'] == sector_numbers, 'Target'] *= top_slope\\n    lasso54_short.loc[lasso54_short['PredRank'] != sector_numbers, 'Target'] *= 1 - (top_slope - 1) / (trade_secor_numbers - 1)\\nlasso54_long = lasso54_long.groupby('Date')[['Target']].mean()\\nlasso54_short = - lasso54_short.groupby('Date')[['Target']].mean()\\nlasso54_return = (lasso54_long + lasso54_short) / 2\\n\\nlasso54_return\\n\""
      ]
     },
     "execution_count": 5,
     "metadata": {},
     "output_type": "execute_result"
    }
   ],
   "source": [
    "lasso54 = f'{Paths.ML_DATASETS_FOLDER}/54sectors_LASSO_learned_in_250623'\n",
    "trade_secor_numbers = 2\n",
    "top_slope = 1\n",
    "eval_start_date = datetime(2022, 1, 1)\n",
    "eval_end_date = datetime.today()\n",
    "\n",
    "# ここのゾーンは独立したクラスとして作成\n",
    "# データセットからリターン算出用データフレームを作成\n",
    "lasso54_pred_df = ReturnDataFrameBuilder(dataset_root=lasso54, start_date=eval_start_date, end_date=eval_end_date).build()\n",
    "\n",
    "\n",
    "# これ以降の部分は既存のReturnMetricsRunnerに追加（correction_label_seriesがNoneではないときのみ）\n",
    "# TargetとPredにRank列を追加\n",
    "'''\n",
    "lasso54_for_evaluating_performance['TargetRank'] = lasso54_for_evaluating_performance.groupby('Date')['Target'].rank(ascending=False)\n",
    "lasso54_for_evaluating_performance['PredRank'] = lasso54_for_evaluating_performance.groupby('Date')['Pred'].rank(ascending=False)\n",
    "\n",
    "sector_numbers = len(lasso54_for_evaluating_performance.index.get_level_values('Sector').unique())\n",
    "lasso54_long = lasso54_for_evaluating_performance[lasso54_for_evaluating_performance['PredRank'] <= trade_secor_numbers]\n",
    "lasso54_short = lasso54_for_evaluating_performance[lasso54_for_evaluating_performance['PredRank'] > sector_numbers - trade_secor_numbers]\n",
    "\n",
    "if trade_secor_numbers > 1:\n",
    "    lasso54_long.loc[lasso54_long['PredRank'] == 1, 'Target'] *= top_slope\n",
    "    lasso54_long.loc[lasso54_long['PredRank'] != 1, 'Target'] *= 1 - (top_slope - 1) / (trade_secor_numbers - 1)\n",
    "    lasso54_short.loc[lasso54_short['PredRank'] == sector_numbers, 'Target'] *= top_slope\n",
    "    lasso54_short.loc[lasso54_short['PredRank'] != sector_numbers, 'Target'] *= 1 - (top_slope - 1) / (trade_secor_numbers - 1)\n",
    "lasso54_long = lasso54_long.groupby('Date')[['Target']].mean()\n",
    "lasso54_short = - lasso54_short.groupby('Date')[['Target']].mean()\n",
    "lasso54_return = (lasso54_long + lasso54_short) / 2\n",
    "\n",
    "lasso54_return\n",
    "'''\n"
   ]
  },
  {
   "cell_type": "code",
   "execution_count": 6,
   "id": "382502bf",
   "metadata": {},
   "outputs": [],
   "source": []
  }
 ],
 "metadata": {
  "kernelspec": {
   "display_name": ".venv",
   "language": "python",
   "name": "python3"
  },
  "language_info": {
   "codemirror_mode": {
    "name": "ipython",
    "version": 3
   },
   "file_extension": ".py",
   "mimetype": "text/x-python",
   "name": "python",
   "nbconvert_exporter": "python",
   "pygments_lexer": "ipython3",
   "version": "3.11.10"
  }
 },
 "nbformat": 4,
 "nbformat_minor": 5
}
