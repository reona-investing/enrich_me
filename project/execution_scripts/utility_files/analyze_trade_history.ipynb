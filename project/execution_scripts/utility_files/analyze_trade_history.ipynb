{
 "cells": [
  {
   "cell_type": "code",
   "execution_count": 2,
   "metadata": {},
   "outputs": [
    {
     "data": {
      "application/vnd.jupyter.widget-view+json": {
       "model_id": "8fe61c66e04149a4b02cf97679b8d7b4",
       "version_major": 2,
       "version_minor": 0
      },
      "text/plain": [
       "Tab(children=(VBox(children=(HTML(value='<h3>表示設定</h3>'), Dropdown(description='データフレーム:', layout=Layout(width…"
      ]
     },
     "metadata": {},
     "output_type": "display_data"
    }
   ],
   "source": [
    "# パスを通す\n",
    "from pathlib import Path\n",
    "import sys\n",
    "ORIGINAL_MODULES = 'C:/Users/ryosh/enrich_me/project/modules'\n",
    "sys.path.append(ORIGINAL_MODULES)\n",
    "#モジュールのインポート\n",
    "from datetime import datetime\n",
    "from evaluation import TradeHistoryAnalyzer\n",
    "\n",
    "tha = TradeHistoryAnalyzer(start_date=datetime(2023,7,1), end_date=datetime.today())\n",
    "#tha.display_result()"
   ]
  }
 ],
 "metadata": {
  "kernelspec": {
   "display_name": ".venv",
   "language": "python",
   "name": "python3"
  },
  "language_info": {
   "codemirror_mode": {
    "name": "ipython",
    "version": 3
   },
   "file_extension": ".py",
   "mimetype": "text/x-python",
   "name": "python",
   "nbconvert_exporter": "python",
   "pygments_lexer": "ipython3",
   "version": "3.11.10"
  }
 },
 "nbformat": 4,
 "nbformat_minor": 2
}
