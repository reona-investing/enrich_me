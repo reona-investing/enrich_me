{
 "cells": [
  {
   "cell_type": "code",
   "execution_count": 2,
   "metadata": {},
   "outputs": [
    {
     "data": {
      "application/vnd.jupyter.widget-view+json": {
       "model_id": "f3538c1b56824dc0ab35f48b916ecc24",
       "version_major": 2,
       "version_minor": 0
      },
      "text/plain": [
       "HBox(children=(Dropdown(description='選択：', options=('日次リターン', '日次リターン（集計）', '日次リターン（業種別）', '日次リターン（レバ込み）', '日次…"
      ]
     },
     "metadata": {},
     "output_type": "display_data"
    },
    {
     "data": {
      "application/vnd.jupyter.widget-view+json": {
       "model_id": "e632a43f6def48f8b8243009c5a8c992",
       "version_major": 2,
       "version_minor": 0
      },
      "text/plain": [
       "Output()"
      ]
     },
     "metadata": {},
     "output_type": "display_data"
    }
   ],
   "source": [
    "# パスを通す\n",
    "from pathlib import Path\n",
    "import sys\n",
    "ORIGINAL_MODULES = 'C:/Users/ryosh/enrich_me/project/modules'\n",
    "sys.path.append(ORIGINAL_MODULES)\n",
    "#モジュールのインポート\n",
    "from datetime import datetime\n",
    "import TradeHistoryAnalyzer\n",
    "\n",
    "tha = TradeHistoryAnalyzer.TradeHistoryAnalyzer(start_date=datetime(2024,1,1), end_date=datetime.today())\n",
    "tha.display_result()"
   ]
  }
 ],
 "metadata": {
  "kernelspec": {
   "display_name": "Python 3",
   "language": "python",
   "name": "python3"
  },
  "language_info": {
   "codemirror_mode": {
    "name": "ipython",
    "version": 3
   },
   "file_extension": ".py",
   "mimetype": "text/x-python",
   "name": "python",
   "nbconvert_exporter": "python",
   "pygments_lexer": "ipython3",
   "version": "3.11.10"
  }
 },
 "nbformat": 4,
 "nbformat_minor": 2
}
