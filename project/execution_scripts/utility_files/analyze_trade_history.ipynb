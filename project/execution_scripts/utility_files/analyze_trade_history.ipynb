{
 "cells": [
  {
   "cell_type": "code",
   "execution_count": 1,
   "metadata": {},
   "outputs": [
    {
     "data": {
      "application/vnd.jupyter.widget-view+json": {
       "model_id": "551855ceb03f4247ae44d57a522503fe",
       "version_major": 2,
       "version_minor": 0
      },
      "text/plain": [
       "HBox(children=(Dropdown(description='選択：', options=('日次リターン', '日次リターン（集計）', '日次リターン（業種別）', '日次リターン（レバ込み）', '日次…"
      ]
     },
     "metadata": {},
     "output_type": "display_data"
    },
    {
     "data": {
      "application/vnd.jupyter.widget-view+json": {
       "model_id": "48a3ae8aa69b4f0fa0da9e249f3ff47d",
       "version_major": 2,
       "version_minor": 0
      },
      "text/plain": [
       "Output()"
      ]
     },
     "metadata": {},
     "output_type": "display_data"
    }
   ],
   "source": [
    "# パスを通す\n",
    "from pathlib import Path\n",
    "import sys\n",
    "ORIGINAL_MODULES = 'C:/Users/ryosh/enrich_me/project/modules'\n",
    "sys.path.append(ORIGINAL_MODULES)\n",
    "#モジュールのインポート\n",
    "from datetime import datetime\n",
    "import TradeHistoryAnalyzer\n",
    "\n",
    "tha = TradeHistoryAnalyzer.TradeHistoryAnalyzer(start_date=datetime(2023,3,1), end_date=datetime.today())\n",
    "tha.display_result()"
   ]
  }
 ],
 "metadata": {
  "kernelspec": {
   "display_name": "Python 3",
   "language": "python",
   "name": "python3"
  },
  "language_info": {
   "codemirror_mode": {
    "name": "ipython",
    "version": 3
   },
   "file_extension": ".py",
   "mimetype": "text/x-python",
   "name": "python",
   "nbconvert_exporter": "python",
   "pygments_lexer": "ipython3",
   "version": "3.11.10"
  }
 },
 "nbformat": 4,
 "nbformat_minor": 2
}
