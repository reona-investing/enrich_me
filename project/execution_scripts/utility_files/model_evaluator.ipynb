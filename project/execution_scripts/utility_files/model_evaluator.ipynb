{
 "cells": [
  {
   "cell_type": "code",
   "execution_count": 30,
   "metadata": {},
   "outputs": [],
   "source": [
    "from pathlib import Path\n",
    "import sys\n",
    "PROJECT_FOLDER = 'C:/Users/ryosh/enrich_me/project'\n",
    "ORIGINAL_MODULES = PROJECT_FOLDER + '/modules'\n",
    "sys.path.append(ORIGINAL_MODULES)"
   ]
  },
  {
   "cell_type": "code",
   "execution_count": 31,
   "metadata": {},
   "outputs": [
    {
     "name": "stdout",
     "output_type": "stream",
     "text": [
      "インスタンス情報を読み込みました。\n",
      "インスタンス情報を読み込みました。\n",
      "インスタンス情報を読み込みました。\n",
      "インスタンス情報を読み込みました。\n"
     ]
    }
   ],
   "source": [
    "import MLDataset\n",
    "import paths\n",
    "import evaluate_model\n",
    "from datetime import datetime\n",
    "\n",
    "lasso_dataset = MLDataset.MLDataset(f'{paths.ML_DATASETS_FOLDER}/New48sectors')\n",
    "lgbm_dataset = MLDataset.MLDataset(f'{paths.ML_DATASETS_FOLDER}/LGBM_after_New48sectors')\n",
    "en_dataset = MLDataset.MLDataset(f'{paths.ML_DATASETS_FOLDER}/LGBM_New48sectors_Ensembled')\n",
    "lgbm2_dataset = MLDataset.MLDataset(f'{paths.ML_DATASETS_FOLDER}/LGBM_test')"
   ]
  },
  {
   "cell_type": "code",
   "execution_count": 32,
   "metadata": {},
   "outputs": [],
   "source": [
    "import machine_learning\n",
    "en_dataset.pred_result_df['Pred'] = machine_learning.ensemble_by_rank(ml_datasets = [lasso_dataset, lgbm_dataset], \n",
    "                                                            ensemble_rates = [6.1, 1.9])"
   ]
  },
  {
   "cell_type": "code",
   "execution_count": 33,
   "metadata": {},
   "outputs": [
    {
     "name": "stderr",
     "output_type": "stream",
     "text": [
      "c:\\Users\\ryosh\\enrich_me\\.venv\\Lib\\site-packages\\numpy\\core\\fromnumeric.py:86: FutureWarning: The behavior of DataFrame.prod with axis=None is deprecated, in a future version this will reduce over both axes and return a scalar. To retain the old behavior, pass axis=0 (or do not pass axis)\n",
      "  return reduction(axis=axis, out=out, **passkwargs)\n",
      "c:\\Users\\ryosh\\enrich_me\\.venv\\Lib\\site-packages\\numpy\\core\\fromnumeric.py:86: FutureWarning: The behavior of DataFrame.prod with axis=None is deprecated, in a future version this will reduce over both axes and return a scalar. To retain the old behavior, pass axis=0 (or do not pass axis)\n",
      "  return reduction(axis=axis, out=out, **passkwargs)\n"
     ]
    },
    {
     "name": "stdout",
     "output_type": "stream",
     "text": [
      "DJ_residualsの読み込みが完了しました。\n",
      "全期間\n",
      "母集団の推定（99.7%）\n",
      "平均リターン: 0.1441% (worst: 0.0841%, best: 0.2041%)\n",
      "標準偏差: 0.00534 (worst:0.005796, best:0.004946)\n",
      "-----------------------------------------\n",
      "モデルのスペック\n",
      "シャープレシオ: 0.269816 (worst:0.145032, best:0.41272)\n",
      "最大ドローダウン: 4.4533% (worst:8.9922%, best:2.6962%)\n",
      "最大ドローダウン日数: 124日 (worst:428日, best:53日)\n",
      "----------------------------------------------------------------------------------\n",
      "直近1年\n",
      "母集団の推定（99.7%）\n",
      "平均リターン: 0.1472% (worst: 0.0444%, best: 0.25%)\n",
      "標準偏差: 0.005446 (worst:0.006265, best:0.004803)\n",
      "-----------------------------------------\n",
      "モデルのスペック\n",
      "シャープレシオ: 0.270305 (worst:0.070859, best:0.520572)\n",
      "最大ドローダウン: 4.5334% (worst:19.8933%, best:2.076%)\n",
      "最大ドローダウン日数: 123日 (worst:1792日, best:33日)\n",
      "----------------------------------------------------------------------------------\n",
      "直近3ヶ月\n",
      "母集団の推定（99.7%）\n",
      "平均リターン: 0.1539% (worst: -0.0497%, best: 0.3576%)\n",
      "標準偏差: 0.005232 (worst:0.007057, best:0.004114)\n",
      "-----------------------------------------\n",
      "モデルのスペック\n",
      "シャープレシオ: 0.294201 (worst:-0.070462, best:0.86921)\n",
      "最大ドローダウン: 4.0012% (worst:-22.5337%, best:1.0648%)\n",
      "最大ドローダウン日数: 104日 (worst:1813日, best:12日)\n",
      "----------------------------------------------------------------------------------\n",
      "最大ドローダウン (実績)： 3.739%, 38日\n",
      "Spearman順位相関： 0.04372\n",
      "Numerai相関： 0.05146\n",
      "----------------------------------------------------------------------------------\n"
     ]
    },
    {
     "data": {
      "application/vnd.jupyter.widget-view+json": {
       "model_id": "8e6acf75802d4d0b9f2addf1580276cd",
       "version_major": 2,
       "version_minor": 0
      },
      "text/plain": [
       "HBox(children=(Dropdown(description='選択：', options=('分位成績', '分位成績（集計）', '日次成績', '日次成績（集計）', '日次成績（確率分布）', '日次成…"
      ]
     },
     "metadata": {},
     "output_type": "display_data"
    },
    {
     "data": {
      "application/vnd.jupyter.widget-view+json": {
       "model_id": "4695001736154f87aaca4bd52b7bd5d0",
       "version_major": 2,
       "version_minor": 0
      },
      "text/plain": [
       "Output()"
      ]
     },
     "metadata": {},
     "output_type": "display_data"
    }
   ],
   "source": [
    "ml_dataset = en_dataset\n",
    "model_obj = evaluate_model.LongShortModel(model_name = 'DJ_residuals', pred_result_df = ml_dataset.pred_result_df, \n",
    "                                          raw_target_df = ml_dataset.raw_target_df,\n",
    "                                          start_date = datetime(2022, 1, 1), end_date = datetime.today(), \n",
    "                                          bin_num = 5, top_slope=1)\n",
    "model_obj.display_result()"
   ]
  },
  {
   "cell_type": "code",
   "execution_count": 34,
   "metadata": {},
   "outputs": [
    {
     "data": {
      "text/plain": [
       "<MLDataset.MLDataset at 0x2ac06791210>"
      ]
     },
     "execution_count": 34,
     "metadata": {},
     "output_type": "execute_result"
    }
   ],
   "source": [
    "en_dataset"
   ]
  },
  {
   "cell_type": "code",
   "execution_count": 35,
   "metadata": {},
   "outputs": [
    {
     "data": {
      "text/html": [
       "<div>\n",
       "<style scoped>\n",
       "    .dataframe tbody tr th:only-of-type {\n",
       "        vertical-align: middle;\n",
       "    }\n",
       "\n",
       "    .dataframe tbody tr th {\n",
       "        vertical-align: top;\n",
       "    }\n",
       "\n",
       "    .dataframe thead th {\n",
       "        text-align: right;\n",
       "    }\n",
       "</style>\n",
       "<table border=\"1\" class=\"dataframe\">\n",
       "  <thead>\n",
       "    <tr style=\"text-align: right;\">\n",
       "      <th></th>\n",
       "      <th></th>\n",
       "      <th>Target</th>\n",
       "      <th>Pred</th>\n",
       "      <th>Target</th>\n",
       "      <th>Pred</th>\n",
       "    </tr>\n",
       "    <tr>\n",
       "      <th>Date</th>\n",
       "      <th>Sector</th>\n",
       "      <th></th>\n",
       "      <th></th>\n",
       "      <th></th>\n",
       "      <th></th>\n",
       "    </tr>\n",
       "  </thead>\n",
       "  <tbody>\n",
       "    <tr>\n",
       "      <th rowspan=\"5\" valign=\"top\">2014-01-06</th>\n",
       "      <th>ITインフラ</th>\n",
       "      <td>0.000233</td>\n",
       "      <td>0.000434</td>\n",
       "      <td>0.000233</td>\n",
       "      <td>44.0</td>\n",
       "    </tr>\n",
       "    <tr>\n",
       "      <th>OA機器</th>\n",
       "      <td>0.008555</td>\n",
       "      <td>0.000507</td>\n",
       "      <td>0.008555</td>\n",
       "      <td>16.0</td>\n",
       "    </tr>\n",
       "    <tr>\n",
       "      <th>その他工業</th>\n",
       "      <td>0.002350</td>\n",
       "      <td>0.000794</td>\n",
       "      <td>0.002350</td>\n",
       "      <td>34.0</td>\n",
       "    </tr>\n",
       "    <tr>\n",
       "      <th>インフラ</th>\n",
       "      <td>0.001270</td>\n",
       "      <td>-0.000332</td>\n",
       "      <td>0.001270</td>\n",
       "      <td>17.0</td>\n",
       "    </tr>\n",
       "    <tr>\n",
       "      <th>エンタメ</th>\n",
       "      <td>0.004108</td>\n",
       "      <td>0.000110</td>\n",
       "      <td>0.004108</td>\n",
       "      <td>39.0</td>\n",
       "    </tr>\n",
       "    <tr>\n",
       "      <th>...</th>\n",
       "      <th>...</th>\n",
       "      <td>...</td>\n",
       "      <td>...</td>\n",
       "      <td>...</td>\n",
       "      <td>...</td>\n",
       "    </tr>\n",
       "    <tr>\n",
       "      <th rowspan=\"5\" valign=\"top\">2024-11-13</th>\n",
       "      <th>電子部品</th>\n",
       "      <td>NaN</td>\n",
       "      <td>-0.003154</td>\n",
       "      <td>NaN</td>\n",
       "      <td>4.0</td>\n",
       "    </tr>\n",
       "    <tr>\n",
       "      <th>電気機器</th>\n",
       "      <td>NaN</td>\n",
       "      <td>-0.000815</td>\n",
       "      <td>NaN</td>\n",
       "      <td>16.0</td>\n",
       "    </tr>\n",
       "    <tr>\n",
       "      <th>電気機器2</th>\n",
       "      <td>NaN</td>\n",
       "      <td>0.000482</td>\n",
       "      <td>NaN</td>\n",
       "      <td>41.0</td>\n",
       "    </tr>\n",
       "    <tr>\n",
       "      <th>非鉄金属</th>\n",
       "      <td>NaN</td>\n",
       "      <td>-0.003552</td>\n",
       "      <td>NaN</td>\n",
       "      <td>1.0</td>\n",
       "    </tr>\n",
       "    <tr>\n",
       "      <th>食品</th>\n",
       "      <td>NaN</td>\n",
       "      <td>0.001904</td>\n",
       "      <td>NaN</td>\n",
       "      <td>43.0</td>\n",
       "    </tr>\n",
       "  </tbody>\n",
       "</table>\n",
       "<p>127440 rows × 4 columns</p>\n",
       "</div>"
      ],
      "text/plain": [
       "                     Target      Pred    Target  Pred\n",
       "Date       Sector                                    \n",
       "2014-01-06 ITインフラ  0.000233  0.000434  0.000233  44.0\n",
       "           OA機器    0.008555  0.000507  0.008555  16.0\n",
       "           その他工業   0.002350  0.000794  0.002350  34.0\n",
       "           インフラ    0.001270 -0.000332  0.001270  17.0\n",
       "           エンタメ    0.004108  0.000110  0.004108  39.0\n",
       "...                     ...       ...       ...   ...\n",
       "2024-11-13 電子部品         NaN -0.003154       NaN   4.0\n",
       "           電気機器         NaN -0.000815       NaN  16.0\n",
       "           電気機器2        NaN  0.000482       NaN  41.0\n",
       "           非鉄金属         NaN -0.003552       NaN   1.0\n",
       "           食品           NaN  0.001904       NaN  43.0\n",
       "\n",
       "[127440 rows x 4 columns]"
      ]
     },
     "execution_count": 35,
     "metadata": {},
     "output_type": "execute_result"
    }
   ],
   "source": [
    "import pandas as pd\n",
    "pd.concat([lgbm_dataset.pred_result_df, en_dataset.pred_result_df], axis=1)"
   ]
  },
  {
   "cell_type": "code",
   "execution_count": 36,
   "metadata": {},
   "outputs": [
    {
     "name": "stdout",
     "output_type": "stream",
     "text": [
      "インスタンス情報を読み込みました。\n"
     ]
    },
    {
     "ename": "TypeError",
     "evalue": "'NoneType' object is not subscriptable",
     "output_type": "error",
     "traceback": [
      "\u001b[1;31m---------------------------------------------------------------------------\u001b[0m",
      "\u001b[1;31mTypeError\u001b[0m                                 Traceback (most recent call last)",
      "Cell \u001b[1;32mIn[36], line 4\u001b[0m\n\u001b[0;32m      1\u001b[0m ml_dataset2 \u001b[38;5;241m=\u001b[39m MLDataset\u001b[38;5;241m.\u001b[39mMLDataset(\u001b[38;5;124mf\u001b[39m\u001b[38;5;124m'\u001b[39m\u001b[38;5;132;01m{\u001b[39;00mpaths\u001b[38;5;241m.\u001b[39mML_DATASETS_FOLDER\u001b[38;5;132;01m}\u001b[39;00m\u001b[38;5;124m/LGBM_after_New48sectors.pkl.gz\u001b[39m\u001b[38;5;124m'\u001b[39m)\n\u001b[0;32m      3\u001b[0m \u001b[38;5;28;01mimport\u001b[39;00m \u001b[38;5;21;01mpandas\u001b[39;00m \u001b[38;5;28;01mas\u001b[39;00m \u001b[38;5;21;01mpd\u001b[39;00m\n\u001b[1;32m----> 4\u001b[0m model \u001b[38;5;241m=\u001b[39m \u001b[43mml_dataset2\u001b[49m\u001b[38;5;241;43m.\u001b[39;49m\u001b[43mml_models\u001b[49m\u001b[43m[\u001b[49m\u001b[38;5;241;43m0\u001b[39;49m\u001b[43m]\u001b[49m\n\u001b[0;32m      5\u001b[0m \u001b[38;5;66;03m# モデルのトレーニング後に追加\u001b[39;00m\n\u001b[0;32m      6\u001b[0m importance_df \u001b[38;5;241m=\u001b[39m pd\u001b[38;5;241m.\u001b[39mDataFrame({\n\u001b[0;32m      7\u001b[0m     \u001b[38;5;124m'\u001b[39m\u001b[38;5;124mFeature\u001b[39m\u001b[38;5;124m'\u001b[39m: ml_dataset2\u001b[38;5;241m.\u001b[39mfeatures_test_df\u001b[38;5;241m.\u001b[39mcolumns,\n\u001b[0;32m      8\u001b[0m     \u001b[38;5;124m'\u001b[39m\u001b[38;5;124mImportance\u001b[39m\u001b[38;5;124m'\u001b[39m: model\u001b[38;5;241m.\u001b[39mfeature_importance(importance_type\u001b[38;5;241m=\u001b[39m\u001b[38;5;124m'\u001b[39m\u001b[38;5;124mgain\u001b[39m\u001b[38;5;124m'\u001b[39m)\n\u001b[0;32m      9\u001b[0m })\u001b[38;5;241m.\u001b[39msort_values(by\u001b[38;5;241m=\u001b[39m\u001b[38;5;124m'\u001b[39m\u001b[38;5;124mImportance\u001b[39m\u001b[38;5;124m'\u001b[39m, ascending\u001b[38;5;241m=\u001b[39m\u001b[38;5;28;01mFalse\u001b[39;00m)\n",
      "\u001b[1;31mTypeError\u001b[0m: 'NoneType' object is not subscriptable"
     ]
    }
   ],
   "source": [
    "ml_dataset2 = MLDataset.MLDataset(f'{paths.ML_DATASETS_FOLDER}/LGBM_after_New48sectors.pkl.gz')\n",
    "\n",
    "import pandas as pd\n",
    "model = ml_dataset2.ml_models[0]\n",
    "# モデルのトレーニング後に追加\n",
    "importance_df = pd.DataFrame({\n",
    "    'Feature': ml_dataset2.features_test_df.columns,\n",
    "    'Importance': model.feature_importance(importance_type='gain')\n",
    "}).sort_values(by='Importance', ascending=False)\n",
    "\n",
    "pd.set_option('display.max_rows', None)\n",
    "display(importance_df)\n",
    "pd.reset_option('display.max_rows')"
   ]
  }
 ],
 "metadata": {
  "kernelspec": {
   "display_name": "Python 3",
   "language": "python",
   "name": "python3"
  },
  "language_info": {
   "codemirror_mode": {
    "name": "ipython",
    "version": 3
   },
   "file_extension": ".py",
   "mimetype": "text/x-python",
   "name": "python",
   "nbconvert_exporter": "python",
   "pygments_lexer": "ipython3",
   "version": "3.11.10"
  }
 },
 "nbformat": 4,
 "nbformat_minor": 2
}
