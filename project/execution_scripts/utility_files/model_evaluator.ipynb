{
 "cells": [
  {
   "cell_type": "code",
   "execution_count": 1,
   "metadata": {},
   "outputs": [],
   "source": [
    "from models import DatasetLoader\n",
    "from utils.paths import Paths\n",
    "from facades import EvaluationFacade\n",
    "from datetime import datetime\n",
    "\n",
    "lasso48 = DatasetLoader(f'{Paths.ML_DATASETS_FOLDER}/48sectors_LASSO_learned_in_250615').load_datasets()\n",
    "lgbm48 = DatasetLoader(f'{Paths.ML_DATASETS_FOLDER}/48sectors_LightGBMlearned_in_250615').load_datasets()\n",
    "en48 = DatasetLoader(f'{Paths.ML_DATASETS_FOLDER}/48sectors_Ensembled_learned_in_250615').load_datasets()\n",
    "\n",
    "lasso54 = DatasetLoader(f'{Paths.ML_DATASETS_FOLDER}/54sectors_LASSO_learned_in_250623').load_datasets()\n",
    "lgbm54 = DatasetLoader(f'{Paths.ML_DATASETS_FOLDER}/54sectors_LightGBMlearned_in_250623').load_datasets()\n",
    "en54 = DatasetLoader(f'{Paths.ML_DATASETS_FOLDER}/54sectors_Ensembled_learned_in_250623').load_datasets()\n",
    "\n",
    "lasso46 = DatasetLoader(f'{Paths.ML_DATASETS_FOLDER}/46sectors_LASSO_learned_in_250623').load_datasets()\n",
    "lgbm46 = DatasetLoader(f'{Paths.ML_DATASETS_FOLDER}/46sectors_LightGBMlearned_in_250623').load_datasets()\n",
    "en46 = DatasetLoader(f'{Paths.ML_DATASETS_FOLDER}/46sectors_Ensembled_learned_in_250623').load_datasets()\n"
   ]
  },
  {
   "cell_type": "code",
   "execution_count": 2,
   "metadata": {},
   "outputs": [
    {
     "name": "stderr",
     "output_type": "stream",
     "text": [
      "c:\\Users\\ryosh\\enrich_me\\.venv\\Lib\\site-packages\\numpy\\core\\fromnumeric.py:86: FutureWarning: The behavior of DataFrame.prod with axis=None is deprecated, in a future version this will reduce over both axes and return a scalar. To retain the old behavior, pass axis=0 (or do not pass axis)\n",
      "  return reduction(axis=axis, out=out, **passkwargs)\n",
      "c:\\Users\\ryosh\\enrich_me\\.venv\\Lib\\site-packages\\numpy\\core\\fromnumeric.py:86: FutureWarning: The behavior of DataFrame.prod with axis=None is deprecated, in a future version this will reduce over both axes and return a scalar. To retain the old behavior, pass axis=0 (or do not pass axis)\n",
      "  return reduction(axis=axis, out=out, **passkwargs)\n"
     ]
    },
    {
     "name": "stdout",
     "output_type": "stream",
     "text": [
      "読み込みが完了しました。\n",
      "全期間\n",
      "母集団の推定（99.7%）\n",
      "平均リターン: 0.125% (worst: 0.0576%, best: 0.1925%)\n",
      "標準偏差: 0.006595 (worst:0.007104, best:0.006149)\n",
      "-----------------------------------------\n",
      "モデルのスペック\n",
      "シャープレシオ: 0.189549 (worst:0.081027, best:0.313003)\n",
      "最大ドローダウン: 7.8287% (worst:19.7273%, best:4.42%)\n",
      "最大ドローダウン日数: 250日 (worst:1371日, best:92日)\n",
      "----------------------------------------------------------------------------------\n",
      "直近1年\n",
      "母集団の推定（99.7%）\n",
      "平均リターン: 0.0548% (worst: -0.0735%, best: 0.183%)\n",
      "標準偏差: 0.006794 (worst:0.007815, best:0.005992)\n",
      "-----------------------------------------\n",
      "モデルのスペック\n",
      "シャープレシオ: 0.080609 (worst:-0.094045, best:0.305475)\n",
      "最大ドローダウン: 18.9636% (worst:-18.698%, best:4.4132%)\n",
      "最大ドローダウン日数: 1385日 (worst:1018日, best:96日)\n",
      "----------------------------------------------------------------------------------\n",
      "直近3ヶ月\n",
      "母集団の推定（99.7%）\n",
      "平均リターン: 0.0718% (worst: -0.2206%, best: 0.3642%)\n",
      "標準偏差: 0.007512 (worst:0.010133, best:0.005907)\n",
      "-----------------------------------------\n",
      "モデルのスペック\n",
      "シャープレシオ: 0.095572 (worst:-0.217725, best:0.616591)\n",
      "最大ドローダウン: 17.6857% (worst:-10.4711%, best:2.1554%)\n",
      "最大ドローダウン日数: 985日 (worst:190日, best:24日)\n",
      "----------------------------------------------------------------------------------\n",
      "最大ドローダウン (実績)： 6.498%, 49日\n",
      "Spearman順位相関： 0.04533\n",
      "Numerai相関： 0.04737\n",
      "----------------------------------------------------------------------------------\n"
     ]
    },
    {
     "data": {
      "application/vnd.jupyter.widget-view+json": {
       "model_id": "3c390fa84fa5401eb36da0fd33d744ab",
       "version_major": 2,
       "version_minor": 0
      },
      "text/plain": [
       "HBox(children=(Dropdown(description='選択：', options=('分位成績', '分位成績（集計）', '日次成績', '日次成績（集計）', '日次成績（確率分布）', '日次成…"
      ]
     },
     "metadata": {},
     "output_type": "display_data"
    },
    {
     "data": {
      "application/vnd.jupyter.widget-view+json": {
       "model_id": "59ac555de2df481593c5e6c0ddfc1868",
       "version_major": 2,
       "version_minor": 0
      },
      "text/plain": [
       "Output()"
      ]
     },
     "metadata": {},
     "output_type": "display_data"
    }
   ],
   "source": [
    "lasso_dataset = lasso48\n",
    "lgbm_dataset = lgbm48\n",
    "ml_dataset = en48\n",
    "\n",
    "pred_result_df = lasso_dataset.get_pred_result()\n",
    "lgbm_result_df = lgbm_dataset.get_pred_result()\n",
    "pred_result_df['Pred'] = pred_result_df['Pred'] * 6.7 + lgbm_result_df['Pred'] * 1.3\n",
    "\n",
    "#pred_result_df = lasso_dataset.get_pred_result()\n",
    "#pred_result_df = lgbm_dataset.get_pred_result()\n",
    "\n",
    "ef48_en = EvaluationFacade(pred_result_df,\n",
    "                      lgbm_dataset.get_raw_target(), \n",
    "                      start_day = datetime(2022, 1, 1), \n",
    "                      end_day = datetime(2025, 12, 31),\n",
    "                      trade_sector_num=2,\n",
    "                      bin_num=5)\n",
    "ef48_en.display()"
   ]
  },
  {
   "cell_type": "code",
   "execution_count": 3,
   "metadata": {},
   "outputs": [
    {
     "name": "stderr",
     "output_type": "stream",
     "text": [
      "c:\\Users\\ryosh\\enrich_me\\.venv\\Lib\\site-packages\\numpy\\core\\fromnumeric.py:86: FutureWarning: The behavior of DataFrame.prod with axis=None is deprecated, in a future version this will reduce over both axes and return a scalar. To retain the old behavior, pass axis=0 (or do not pass axis)\n",
      "  return reduction(axis=axis, out=out, **passkwargs)\n",
      "c:\\Users\\ryosh\\enrich_me\\.venv\\Lib\\site-packages\\numpy\\core\\fromnumeric.py:86: FutureWarning: The behavior of DataFrame.prod with axis=None is deprecated, in a future version this will reduce over both axes and return a scalar. To retain the old behavior, pass axis=0 (or do not pass axis)\n",
      "  return reduction(axis=axis, out=out, **passkwargs)\n"
     ]
    },
    {
     "name": "stdout",
     "output_type": "stream",
     "text": [
      "読み込みが完了しました。\n",
      "全期間\n",
      "母集団の推定（99.7%）\n",
      "平均リターン: 0.1099% (worst: 0.0451%, best: 0.1747%)\n",
      "標準偏差: 0.006339 (worst:0.006829, best:0.00591)\n",
      "-----------------------------------------\n",
      "モデルのスペック\n",
      "シャープレシオ: 0.173335 (worst:0.065974, best:0.295612)\n",
      "最大ドローダウン: 8.2288% (worst:23.2881%, best:4.4984%)\n",
      "最大ドローダウン日数: 300日 (worst:2068日, best:103日)\n",
      "----------------------------------------------------------------------------------\n",
      "直近1年\n",
      "母集団の推定（99.7%）\n",
      "平均リターン: 0.0459% (worst: -0.0802%, best: 0.1719%)\n",
      "標準偏差: 0.006675 (worst:0.007679, best:0.005887)\n",
      "-----------------------------------------\n",
      "モデルのスペック\n",
      "シャープレシオ: 0.068712 (worst:-0.104387, best:0.291985)\n",
      "最大ドローダウン: 21.8592% (worst:-16.5517%, best:4.5366%)\n",
      "最大ドローダウン日数: 1906日 (worst:826日, best:106日)\n",
      "----------------------------------------------------------------------------------\n",
      "直近3ヶ月\n",
      "母集団の推定（99.7%）\n",
      "平均リターン: 0.0281% (worst: -0.2512%, best: 0.3073%)\n",
      "標準偏差: 0.007175 (worst:0.009677, best:0.005641)\n",
      "-----------------------------------------\n",
      "モデルのスペック\n",
      "シャープレシオ: 0.039102 (worst:-0.259592, best:0.544772)\n",
      "最大ドローダウン: 41.2844% (worst:-8.3877%, best:2.3299%)\n",
      "最大ドローダウン日数: 5886日 (worst:134日, best:30日)\n",
      "----------------------------------------------------------------------------------\n",
      "最大ドローダウン (実績)： 7.194%, 173日\n",
      "Spearman順位相関： 0.03673\n",
      "Numerai相関： 0.04071\n",
      "----------------------------------------------------------------------------------\n"
     ]
    },
    {
     "data": {
      "application/vnd.jupyter.widget-view+json": {
       "model_id": "bb34f4f419064122835583be2c48da24",
       "version_major": 2,
       "version_minor": 0
      },
      "text/plain": [
       "HBox(children=(Dropdown(description='選択：', options=('分位成績', '分位成績（集計）', '日次成績', '日次成績（集計）', '日次成績（確率分布）', '日次成…"
      ]
     },
     "metadata": {},
     "output_type": "display_data"
    },
    {
     "data": {
      "application/vnd.jupyter.widget-view+json": {
       "model_id": "2bf0b472208746dc8132d5f2876179c3",
       "version_major": 2,
       "version_minor": 0
      },
      "text/plain": [
       "Output()"
      ]
     },
     "metadata": {},
     "output_type": "display_data"
    }
   ],
   "source": [
    "lasso_dataset = lasso48\n",
    "\n",
    "pred_result_df = lasso_dataset.get_pred_result()\n",
    "\n",
    "ef48 = EvaluationFacade(pred_result_df,\n",
    "                      lgbm_dataset.get_raw_target(), \n",
    "                      start_day = datetime(2022, 1, 1), \n",
    "                      end_day = datetime(2025, 12, 31),\n",
    "                      trade_sector_num=2,\n",
    "                      bin_num=5)\n",
    "ef48.display()"
   ]
  },
  {
   "cell_type": "code",
   "execution_count": 4,
   "metadata": {},
   "outputs": [
    {
     "name": "stderr",
     "output_type": "stream",
     "text": [
      "c:\\Users\\ryosh\\enrich_me\\.venv\\Lib\\site-packages\\numpy\\core\\fromnumeric.py:86: FutureWarning: The behavior of DataFrame.prod with axis=None is deprecated, in a future version this will reduce over both axes and return a scalar. To retain the old behavior, pass axis=0 (or do not pass axis)\n",
      "  return reduction(axis=axis, out=out, **passkwargs)\n",
      "c:\\Users\\ryosh\\enrich_me\\.venv\\Lib\\site-packages\\numpy\\core\\fromnumeric.py:86: FutureWarning: The behavior of DataFrame.prod with axis=None is deprecated, in a future version this will reduce over both axes and return a scalar. To retain the old behavior, pass axis=0 (or do not pass axis)\n",
      "  return reduction(axis=axis, out=out, **passkwargs)\n"
     ]
    },
    {
     "name": "stdout",
     "output_type": "stream",
     "text": [
      "読み込みが完了しました。\n",
      "全期間\n",
      "母集団の推定（99.7%）\n",
      "平均リターン: 0.1008% (worst: 0.0538%, best: 0.1479%)\n",
      "標準偏差: 0.004606 (worst:0.004961, best:0.004295)\n",
      "-----------------------------------------\n",
      "モデルのスペック\n",
      "シャープレシオ: 0.218884 (worst:0.108382, best:0.34431)\n",
      "最大ドローダウン: 4.7348% (worst:10.2993%, best:2.8065%)\n",
      "最大ドローダウン日数: 188日 (worst:766日, best:76日)\n",
      "----------------------------------------------------------------------------------\n",
      "直近1年\n",
      "母集団の推定（99.7%）\n",
      "平均リターン: 0.0566% (worst: -0.0212%, best: 0.1345%)\n",
      "標準偏差: 0.004124 (worst:0.004743, best:0.003637)\n",
      "-----------------------------------------\n",
      "モデルのスペック\n",
      "シャープレシオ: 0.137303 (worst:-0.04476, best:0.369761)\n",
      "最大ドローダウン: 6.7573% (worst:-23.8444%, best:2.2129%)\n",
      "最大ドローダウン日数: 477日 (worst:4492日, best:66日)\n",
      "----------------------------------------------------------------------------------\n",
      "直近3ヶ月\n",
      "母集団の推定（99.7%）\n",
      "平均リターン: 0.0939% (worst: -0.0595%, best: 0.2473%)\n",
      "標準偏差: 0.003941 (worst:0.005316, best:0.003099)\n",
      "-----------------------------------------\n",
      "モデルのスペック\n",
      "シャープレシオ: 0.238144 (worst:-0.112022, best:0.797917)\n",
      "最大ドローダウン: 3.7236% (worst:-10.677%, best:0.8738%)\n",
      "最大ドローダウン日数: 159日 (worst:717日, best:14日)\n",
      "----------------------------------------------------------------------------------\n",
      "最大ドローダウン (実績)： 3.972%, 69日\n",
      "Spearman順位相関： 0.0278\n",
      "Numerai相関： 0.03297\n",
      "----------------------------------------------------------------------------------\n"
     ]
    },
    {
     "data": {
      "application/vnd.jupyter.widget-view+json": {
       "model_id": "5ffaba5f151340dfbdd5210460686c87",
       "version_major": 2,
       "version_minor": 0
      },
      "text/plain": [
       "HBox(children=(Dropdown(description='選択：', options=('分位成績', '分位成績（集計）', '日次成績', '日次成績（集計）', '日次成績（確率分布）', '日次成…"
      ]
     },
     "metadata": {},
     "output_type": "display_data"
    },
    {
     "data": {
      "application/vnd.jupyter.widget-view+json": {
       "model_id": "5559dfc1b8eb482ebdf2eda18593ae59",
       "version_major": 2,
       "version_minor": 0
      },
      "text/plain": [
       "Output()"
      ]
     },
     "metadata": {},
     "output_type": "display_data"
    }
   ],
   "source": [
    "lasso_dataset = lasso54\n",
    "lgbm_dataset = lgbm54\n",
    "ml_dataset = en54\n",
    "\n",
    "pred_result_df = lasso_dataset.get_pred_result()\n",
    "ef54 = EvaluationFacade(pred_result_df,\n",
    "                      lgbm_dataset.get_raw_target(), \n",
    "                      start_day = datetime(2022, 1, 1), \n",
    "                      end_day = datetime(2025, 12, 31),\n",
    "                      trade_sector_num=2,\n",
    "                      bin_num=5)\n",
    "ef54.display()"
   ]
  },
  {
   "cell_type": "code",
   "execution_count": 20,
   "metadata": {},
   "outputs": [
    {
     "name": "stderr",
     "output_type": "stream",
     "text": [
      "c:\\Users\\ryosh\\enrich_me\\.venv\\Lib\\site-packages\\numpy\\core\\fromnumeric.py:86: FutureWarning: The behavior of DataFrame.prod with axis=None is deprecated, in a future version this will reduce over both axes and return a scalar. To retain the old behavior, pass axis=0 (or do not pass axis)\n",
      "  return reduction(axis=axis, out=out, **passkwargs)\n",
      "c:\\Users\\ryosh\\enrich_me\\.venv\\Lib\\site-packages\\numpy\\core\\fromnumeric.py:86: FutureWarning: The behavior of DataFrame.prod with axis=None is deprecated, in a future version this will reduce over both axes and return a scalar. To retain the old behavior, pass axis=0 (or do not pass axis)\n",
      "  return reduction(axis=axis, out=out, **passkwargs)\n"
     ]
    },
    {
     "name": "stdout",
     "output_type": "stream",
     "text": [
      "読み込みが完了しました。\n",
      "全期間\n",
      "母集団の推定（99.7%）\n",
      "平均リターン: 0.0986% (worst: 0.0295%, best: 0.1677%)\n",
      "標準偏差: 0.006771 (worst:0.007293, best:0.006314)\n",
      "-----------------------------------------\n",
      "モデルのスペック\n",
      "シャープレシオ: 0.145608 (worst:0.040408, best:0.265646)\n",
      "最大ドローダウン: 10.4631% (worst:40.6074%, best:5.3476%)\n",
      "最大ドローダウン日数: 424日 (worst:5512日, best:128日)\n",
      "----------------------------------------------------------------------------------\n",
      "直近1年\n",
      "母集団の推定（99.7%）\n",
      "平均リターン: 0.0893% (worst: -0.0477%, best: 0.2263%)\n",
      "標準偏差: 0.007255 (worst:0.008345, best:0.006398)\n",
      "-----------------------------------------\n",
      "モデルのスペック\n",
      "シャープレシオ: 0.123081 (worst:-0.057124, best:0.353634)\n",
      "最大ドローダウン: 13.262% (worst:-32.8708%, best:4.0707%)\n",
      "最大ドローダウン日数: 594日 (worst:2758日, best:72日)\n",
      "----------------------------------------------------------------------------------\n",
      "直近3ヶ月\n",
      "母集団の推定（99.7%）\n",
      "平均リターン: 0.2705% (worst: 0.0028%, best: 0.5382%)\n",
      "標準偏差: 0.006878 (worst:0.009276, best:0.005408)\n",
      "-----------------------------------------\n",
      "モデルのスペック\n",
      "シャープレシオ: 0.393304 (worst:0.003013, best:0.995251)\n",
      "最大ドローダウン: 3.9345% (worst:692.8098%, best:1.2225%)\n",
      "最大ドローダウン日数: 58日 (worst:991603日, best:9日)\n",
      "----------------------------------------------------------------------------------\n",
      "最大ドローダウン (実績)： 8.532%, 70日\n",
      "Spearman順位相関： 0.03263\n",
      "Numerai相関： 0.03707\n",
      "----------------------------------------------------------------------------------\n"
     ]
    },
    {
     "data": {
      "application/vnd.jupyter.widget-view+json": {
       "model_id": "f3e63330eaa44db99fc0550412e9ab30",
       "version_major": 2,
       "version_minor": 0
      },
      "text/plain": [
       "HBox(children=(Dropdown(description='選択：', options=('分位成績', '分位成績（集計）', '日次成績', '日次成績（集計）', '日次成績（確率分布）', '日次成…"
      ]
     },
     "metadata": {},
     "output_type": "display_data"
    },
    {
     "data": {
      "application/vnd.jupyter.widget-view+json": {
       "model_id": "23c0441053dc4399a7025f01580899f9",
       "version_major": 2,
       "version_minor": 0
      },
      "text/plain": [
       "Output()"
      ]
     },
     "metadata": {},
     "output_type": "display_data"
    }
   ],
   "source": [
    "lasso_dataset = lasso46\n",
    "lgbm_dataset = lgbm46\n",
    "ml_dataset = en46\n",
    "\n",
    "pred_result_df = lasso_dataset.get_pred_result()\n",
    "lgbm_result_df = lgbm_dataset.get_pred_result()\n",
    "#pred_result_df['Pred'] = pred_result_df['Pred'] * 6.7 + lgbm_result_df['Pred'] * 1.3\n",
    "\n",
    "#pred_result_df = lgbm_dataset.get_pred_result()\n",
    "\n",
    "ef46 = EvaluationFacade(pred_result_df,\n",
    "                      lgbm_dataset.get_raw_target(), \n",
    "                      start_day = datetime(2022, 1, 1), \n",
    "                      end_day = datetime(2025, 12, 31),\n",
    "                      bin_num=5,\n",
    "                      trade_sector_num=1)\n",
    "ef46.display()"
   ]
  },
  {
   "cell_type": "code",
   "execution_count": 21,
   "metadata": {},
   "outputs": [
    {
     "data": {
      "text/html": [
       "<div>\n",
       "<style scoped>\n",
       "    .dataframe tbody tr th:only-of-type {\n",
       "        vertical-align: middle;\n",
       "    }\n",
       "\n",
       "    .dataframe tbody tr th {\n",
       "        vertical-align: top;\n",
       "    }\n",
       "\n",
       "    .dataframe thead th {\n",
       "        text-align: right;\n",
       "    }\n",
       "</style>\n",
       "<table border=\"1\" class=\"dataframe\">\n",
       "  <thead>\n",
       "    <tr style=\"text-align: right;\">\n",
       "      <th></th>\n",
       "      <th>48Sector</th>\n",
       "      <th>54Sector</th>\n",
       "      <th>46Sector</th>\n",
       "    </tr>\n",
       "    <tr>\n",
       "      <th>Date</th>\n",
       "      <th></th>\n",
       "      <th></th>\n",
       "      <th></th>\n",
       "    </tr>\n",
       "  </thead>\n",
       "  <tbody>\n",
       "    <tr>\n",
       "      <th>2022-01-04</th>\n",
       "      <td>-0.007459</td>\n",
       "      <td>-0.003341</td>\n",
       "      <td>-0.003039</td>\n",
       "    </tr>\n",
       "    <tr>\n",
       "      <th>2022-01-05</th>\n",
       "      <td>0.019286</td>\n",
       "      <td>0.018703</td>\n",
       "      <td>0.012513</td>\n",
       "    </tr>\n",
       "    <tr>\n",
       "      <th>2022-01-06</th>\n",
       "      <td>0.009948</td>\n",
       "      <td>0.005345</td>\n",
       "      <td>0.007414</td>\n",
       "    </tr>\n",
       "    <tr>\n",
       "      <th>2022-01-07</th>\n",
       "      <td>-0.007367</td>\n",
       "      <td>-0.003334</td>\n",
       "      <td>0.007899</td>\n",
       "    </tr>\n",
       "    <tr>\n",
       "      <th>2022-01-11</th>\n",
       "      <td>0.002016</td>\n",
       "      <td>0.014972</td>\n",
       "      <td>0.018213</td>\n",
       "    </tr>\n",
       "    <tr>\n",
       "      <th>...</th>\n",
       "      <td>...</td>\n",
       "      <td>...</td>\n",
       "      <td>...</td>\n",
       "    </tr>\n",
       "    <tr>\n",
       "      <th>2025-06-12</th>\n",
       "      <td>0.001284</td>\n",
       "      <td>0.000613</td>\n",
       "      <td>0.000718</td>\n",
       "    </tr>\n",
       "    <tr>\n",
       "      <th>2025-06-13</th>\n",
       "      <td>-0.009444</td>\n",
       "      <td>-0.002545</td>\n",
       "      <td>0.003817</td>\n",
       "    </tr>\n",
       "    <tr>\n",
       "      <th>2025-06-16</th>\n",
       "      <td>-0.002401</td>\n",
       "      <td>0.000368</td>\n",
       "      <td>0.003236</td>\n",
       "    </tr>\n",
       "    <tr>\n",
       "      <th>2025-06-17</th>\n",
       "      <td>0.001918</td>\n",
       "      <td>0.000344</td>\n",
       "      <td>0.002742</td>\n",
       "    </tr>\n",
       "    <tr>\n",
       "      <th>2025-06-18</th>\n",
       "      <td>-0.001861</td>\n",
       "      <td>0.001369</td>\n",
       "      <td>0.003736</td>\n",
       "    </tr>\n",
       "  </tbody>\n",
       "</table>\n",
       "<p>846 rows × 3 columns</p>\n",
       "</div>"
      ],
      "text/plain": [
       "            48Sector  54Sector  46Sector\n",
       "Date                                    \n",
       "2022-01-04 -0.007459 -0.003341 -0.003039\n",
       "2022-01-05  0.019286  0.018703  0.012513\n",
       "2022-01-06  0.009948  0.005345  0.007414\n",
       "2022-01-07 -0.007367 -0.003334  0.007899\n",
       "2022-01-11  0.002016  0.014972  0.018213\n",
       "...              ...       ...       ...\n",
       "2025-06-12  0.001284  0.000613  0.000718\n",
       "2025-06-13 -0.009444 -0.002545  0.003817\n",
       "2025-06-16 -0.002401  0.000368  0.003236\n",
       "2025-06-17  0.001918  0.000344  0.002742\n",
       "2025-06-18 -0.001861  0.001369  0.003736\n",
       "\n",
       "[846 rows x 3 columns]"
      ]
     },
     "execution_count": 21,
     "metadata": {},
     "output_type": "execute_result"
    }
   ],
   "source": [
    "import pandas as pd\n",
    "df48_en = ef48_en.met_calc.metrics_dfs['日次成績'][['LS']].rename(columns={'LS': '48Sector'})\n",
    "df54 = ef54.met_calc.metrics_dfs['日次成績'][['LS']].rename(columns={'LS': '54Sector'})\n",
    "df46 = ef46.met_calc.metrics_dfs['日次成績'][['LS']].rename(columns={'LS': '46Sector'})\n",
    "df = pd.concat([df48_en, df54, df46], axis=1).iloc[:-4]\n",
    "df"
   ]
  },
  {
   "cell_type": "code",
   "execution_count": 31,
   "metadata": {},
   "outputs": [
    {
     "data": {
      "text/html": [
       "<div>\n",
       "<style scoped>\n",
       "    .dataframe tbody tr th:only-of-type {\n",
       "        vertical-align: middle;\n",
       "    }\n",
       "\n",
       "    .dataframe tbody tr th {\n",
       "        vertical-align: top;\n",
       "    }\n",
       "\n",
       "    .dataframe thead th {\n",
       "        text-align: right;\n",
       "    }\n",
       "</style>\n",
       "<table border=\"1\" class=\"dataframe\">\n",
       "  <thead>\n",
       "    <tr style=\"text-align: right;\">\n",
       "      <th></th>\n",
       "      <th>48Sector</th>\n",
       "      <th>54Sector</th>\n",
       "      <th>46Sector</th>\n",
       "      <th>Merged</th>\n",
       "    </tr>\n",
       "  </thead>\n",
       "  <tbody>\n",
       "    <tr>\n",
       "      <th>count</th>\n",
       "      <td>846.000000</td>\n",
       "      <td>846.000000</td>\n",
       "      <td>846.000000</td>\n",
       "      <td>846.000000</td>\n",
       "    </tr>\n",
       "    <tr>\n",
       "      <th>mean</th>\n",
       "      <td>0.001250</td>\n",
       "      <td>0.001017</td>\n",
       "      <td>0.000993</td>\n",
       "      <td>0.001094</td>\n",
       "    </tr>\n",
       "    <tr>\n",
       "      <th>std</th>\n",
       "      <td>0.006595</td>\n",
       "      <td>0.004606</td>\n",
       "      <td>0.006778</td>\n",
       "      <td>0.004509</td>\n",
       "    </tr>\n",
       "    <tr>\n",
       "      <th>min</th>\n",
       "      <td>-0.024493</td>\n",
       "      <td>-0.019682</td>\n",
       "      <td>-0.026648</td>\n",
       "      <td>-0.021270</td>\n",
       "    </tr>\n",
       "    <tr>\n",
       "      <th>25%</th>\n",
       "      <td>-0.002601</td>\n",
       "      <td>-0.001724</td>\n",
       "      <td>-0.003142</td>\n",
       "      <td>-0.001435</td>\n",
       "    </tr>\n",
       "    <tr>\n",
       "      <th>50%</th>\n",
       "      <td>0.001412</td>\n",
       "      <td>0.000694</td>\n",
       "      <td>0.000708</td>\n",
       "      <td>0.000950</td>\n",
       "    </tr>\n",
       "    <tr>\n",
       "      <th>75%</th>\n",
       "      <td>0.004883</td>\n",
       "      <td>0.003651</td>\n",
       "      <td>0.004945</td>\n",
       "      <td>0.003561</td>\n",
       "    </tr>\n",
       "    <tr>\n",
       "      <th>max</th>\n",
       "      <td>0.028130</td>\n",
       "      <td>0.022855</td>\n",
       "      <td>0.043198</td>\n",
       "      <td>0.024228</td>\n",
       "    </tr>\n",
       "    <tr>\n",
       "      <th>SR</th>\n",
       "      <td>0.189549</td>\n",
       "      <td>0.220854</td>\n",
       "      <td>0.146441</td>\n",
       "      <td>0.242662</td>\n",
       "    </tr>\n",
       "  </tbody>\n",
       "</table>\n",
       "</div>"
      ],
      "text/plain": [
       "         48Sector    54Sector    46Sector      Merged\n",
       "count  846.000000  846.000000  846.000000  846.000000\n",
       "mean     0.001250    0.001017    0.000993    0.001094\n",
       "std      0.006595    0.004606    0.006778    0.004509\n",
       "min     -0.024493   -0.019682   -0.026648   -0.021270\n",
       "25%     -0.002601   -0.001724   -0.003142   -0.001435\n",
       "50%      0.001412    0.000694    0.000708    0.000950\n",
       "75%      0.004883    0.003651    0.004945    0.003561\n",
       "max      0.028130    0.022855    0.043198    0.024228\n",
       "SR       0.189549    0.220854    0.146441    0.242662"
      ]
     },
     "execution_count": 31,
     "metadata": {},
     "output_type": "execute_result"
    }
   ],
   "source": [
    "df['Merged'] = df['54Sector'] * 0.67 + df['48Sector'] * 0.33 + df['46Sector'] * 0\n",
    "df_agg = df.describe().T\n",
    "df_agg['SR'] = df_agg['mean']/ df_agg['std']\n",
    "df_agg = df_agg.T\n",
    "df_agg"
   ]
  },
  {
   "cell_type": "code",
   "execution_count": 30,
   "metadata": {},
   "outputs": [
    {
     "data": {
      "text/html": [
       "<div>\n",
       "<style scoped>\n",
       "    .dataframe tbody tr th:only-of-type {\n",
       "        vertical-align: middle;\n",
       "    }\n",
       "\n",
       "    .dataframe tbody tr th {\n",
       "        vertical-align: top;\n",
       "    }\n",
       "\n",
       "    .dataframe thead th {\n",
       "        text-align: right;\n",
       "    }\n",
       "</style>\n",
       "<table border=\"1\" class=\"dataframe\">\n",
       "  <thead>\n",
       "    <tr style=\"text-align: right;\">\n",
       "      <th></th>\n",
       "      <th>48Sector</th>\n",
       "      <th>54Sector</th>\n",
       "      <th>46Sector</th>\n",
       "      <th>Merged</th>\n",
       "    </tr>\n",
       "  </thead>\n",
       "  <tbody>\n",
       "    <tr>\n",
       "      <th>48Sector</th>\n",
       "      <td>1.000000</td>\n",
       "      <td>0.451755</td>\n",
       "      <td>0.445279</td>\n",
       "      <td>0.755429</td>\n",
       "    </tr>\n",
       "    <tr>\n",
       "      <th>54Sector</th>\n",
       "      <td>0.451755</td>\n",
       "      <td>1.000000</td>\n",
       "      <td>0.474306</td>\n",
       "      <td>0.899917</td>\n",
       "    </tr>\n",
       "    <tr>\n",
       "      <th>46Sector</th>\n",
       "      <td>0.445279</td>\n",
       "      <td>0.474306</td>\n",
       "      <td>1.000000</td>\n",
       "      <td>0.690420</td>\n",
       "    </tr>\n",
       "    <tr>\n",
       "      <th>Merged</th>\n",
       "      <td>0.755429</td>\n",
       "      <td>0.899917</td>\n",
       "      <td>0.690420</td>\n",
       "      <td>1.000000</td>\n",
       "    </tr>\n",
       "  </tbody>\n",
       "</table>\n",
       "</div>"
      ],
      "text/plain": [
       "          48Sector  54Sector  46Sector    Merged\n",
       "48Sector  1.000000  0.451755  0.445279  0.755429\n",
       "54Sector  0.451755  1.000000  0.474306  0.899917\n",
       "46Sector  0.445279  0.474306  1.000000  0.690420\n",
       "Merged    0.755429  0.899917  0.690420  1.000000"
      ]
     },
     "execution_count": 30,
     "metadata": {},
     "output_type": "execute_result"
    }
   ],
   "source": [
    "df.corr()"
   ]
  },
  {
   "cell_type": "code",
   "execution_count": 9,
   "metadata": {},
   "outputs": [
    {
     "data": {
      "text/plain": [
       "[<matplotlib.lines.Line2D at 0x19b3e3f0a50>,\n",
       " <matplotlib.lines.Line2D at 0x19b3e432190>,\n",
       " <matplotlib.lines.Line2D at 0x19b3e430a50>,\n",
       " <matplotlib.lines.Line2D at 0x19af9038c50>]"
      ]
     },
     "execution_count": 9,
     "metadata": {},
     "output_type": "execute_result"
    },
    {
     "data": {
      "image/png": "[encoded data removed]",
      "text/plain": [
       "<Figure size 640x480 with 1 Axes>"
      ]
     },
     "metadata": {},
     "output_type": "display_data"
    }
   ],
   "source": [
    "import matplotlib.pyplot as plt\n",
    "\n",
    "cumprod_df = (df + 1).cumprod() - 1\n",
    "plt.plot(cumprod_df)"
   ]
  }
 ],
 "metadata": {
  "kernelspec": {
   "display_name": ".venv",
   "language": "python",
   "name": "python3"
  },
  "language_info": {
   "codemirror_mode": {
    "name": "ipython",
    "version": 3
   },
   "file_extension": ".py",
   "mimetype": "text/x-python",
   "name": "python",
   "nbconvert_exporter": "python",
   "pygments_lexer": "ipython3",
   "version": "3.11.10"
  }
 },
 "nbformat": 4,
 "nbformat_minor": 2
}
