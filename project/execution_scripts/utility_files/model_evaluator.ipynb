{
 "cells": [
  {
   "cell_type": "code",
   "execution_count": 9,
   "metadata": {},
   "outputs": [],
   "source": [
    "from models import MLDataset\n",
    "from utils.paths import Paths\n",
    "from facades import EvaluationFacade\n",
    "from datetime import datetime\n",
    "\n",
    "lasso_dataset = MLDataset(f'{Paths.ML_DATASETS_FOLDER}/New48sectors')\n",
    "lgbm_dataset = MLDataset(f'{Paths.ML_DATASETS_FOLDER}/LGBM_after_New48sectors')\n",
    "en_dataset = MLDataset(f'{Paths.ML_DATASETS_FOLDER}/LGBM_New48sectors_Ensembled')"
   ]
  },
  {
   "cell_type": "code",
   "execution_count": 10,
   "metadata": {},
   "outputs": [],
   "source": [
    "import models.ensemble as ensemble\n",
    "en_dataset.pred_result_df['Pred'] = ensemble.by_rank(ml_datasets = [lasso_dataset, lgbm_dataset], \n",
    "                                                            ensemble_rates = [6.7, 1.3])"
   ]
  },
  {
   "cell_type": "code",
   "execution_count": 11,
   "metadata": {},
   "outputs": [
    {
     "name": "stderr",
     "output_type": "stream",
     "text": [
      "c:\\Users\\ryosh\\enrich_me\\.venv\\Lib\\site-packages\\numpy\\core\\fromnumeric.py:86: FutureWarning: The behavior of DataFrame.prod with axis=None is deprecated, in a future version this will reduce over both axes and return a scalar. To retain the old behavior, pass axis=0 (or do not pass axis)\n",
      "  return reduction(axis=axis, out=out, **passkwargs)\n",
      "c:\\Users\\ryosh\\enrich_me\\.venv\\Lib\\site-packages\\numpy\\core\\fromnumeric.py:86: FutureWarning: The behavior of DataFrame.prod with axis=None is deprecated, in a future version this will reduce over both axes and return a scalar. To retain the old behavior, pass axis=0 (or do not pass axis)\n",
      "  return reduction(axis=axis, out=out, **passkwargs)\n"
     ]
    },
    {
     "name": "stdout",
     "output_type": "stream",
     "text": [
      "読み込みが完了しました。\n",
      "全期間\n",
      "母集団の推定（99.7%）\n",
      "平均リターン: 0.1203% (worst: 0.0635%, best: 0.1771%)\n",
      "標準偏差: 0.005204 (worst:0.005634, best:0.004829)\n",
      "-----------------------------------------\n",
      "モデルのスペック\n",
      "シャープレシオ: 0.231195 (worst:0.112707, best:0.366734)\n",
      "最大ドローダウン: 5.0642% (worst:11.2476%, best:2.9629%)\n",
      "最大ドローダウン日数: 168日 (worst:709日, best:67日)\n",
      "----------------------------------------------------------------------------------\n",
      "直近1年\n",
      "母集団の推定（99.7%）\n",
      "平均リターン: 0.1023% (worst: 0.0085%, best: 0.196%)\n",
      "標準偏差: 0.004965 (worst:0.005712, best:0.004379)\n",
      "-----------------------------------------\n",
      "モデルのスペック\n",
      "シャープレシオ: 0.205958 (worst:0.014922, best:0.447609)\n",
      "最大ドローダウン: 5.4245% (worst:86.1274%, best:2.2012%)\n",
      "最大ドローダウン日数: 212日 (worst:40419日, best:45日)\n",
      "----------------------------------------------------------------------------------\n",
      "直近3ヶ月\n",
      "母集団の推定（99.7%）\n",
      "平均リターン: 0.1043% (worst: -0.0617%, best: 0.2702%)\n",
      "標準偏差: 0.004264 (worst:0.005751, best:0.003353)\n",
      "-----------------------------------------\n",
      "モデルのスペック\n",
      "シャープレシオ: 0.244521 (worst:-0.107294, best:0.806027)\n",
      "最大ドローダウン: 3.9236% (worst:-12.0608%, best:0.9359%)\n",
      "最大ドローダウン日数: 151日 (worst:782日, best:14日)\n",
      "----------------------------------------------------------------------------------\n",
      "最大ドローダウン (実績)： 3.648%, 51日\n",
      "Spearman順位相関： 0.04525\n",
      "Numerai相関： 0.05055\n",
      "----------------------------------------------------------------------------------\n"
     ]
    },
    {
     "data": {
      "application/vnd.jupyter.widget-view+json": {
       "model_id": "495fdd9f549141bb86cb690331da1789",
       "version_major": 2,
       "version_minor": 0
      },
      "text/plain": [
       "HBox(children=(Dropdown(description='選択：', options=('分位成績', '分位成績（集計）', '日次成績', '日次成績（集計）', '日次成績（確率分布）', '日次成…"
      ]
     },
     "metadata": {},
     "output_type": "display_data"
    },
    {
     "data": {
      "application/vnd.jupyter.widget-view+json": {
       "model_id": "11354a4696b94e6fae9bcfb07e8e2533",
       "version_major": 2,
       "version_minor": 0
      },
      "text/plain": [
       "Output()"
      ]
     },
     "metadata": {},
     "output_type": "display_data"
    },
    {
     "data": {
      "text/plain": [
       "<facades.evaluation_facade.EvaluationFacade at 0x1e42488c550>"
      ]
     },
     "execution_count": 11,
     "metadata": {},
     "output_type": "execute_result"
    }
   ],
   "source": [
    "ml_dataset = en_dataset\n",
    "\n",
    "EvaluationFacade(ml_dataset, \n",
    "                 start_day = datetime(2022, 1, 1), \n",
    "                 end_day = datetime.today(),\n",
    "                 bin_num=5)"
   ]
  },
  {
   "cell_type": "code",
   "execution_count": 12,
   "metadata": {},
   "outputs": [
    {
     "data": {
      "text/plain": [
       "<models.dataset.MLDataset at 0x1e4247ba250>"
      ]
     },
     "execution_count": 12,
     "metadata": {},
     "output_type": "execute_result"
    }
   ],
   "source": [
    "en_dataset"
   ]
  },
  {
   "cell_type": "code",
   "execution_count": 13,
   "metadata": {},
   "outputs": [
    {
     "data": {
      "text/html": [
       "<div>\n",
       "<style scoped>\n",
       "    .dataframe tbody tr th:only-of-type {\n",
       "        vertical-align: middle;\n",
       "    }\n",
       "\n",
       "    .dataframe tbody tr th {\n",
       "        vertical-align: top;\n",
       "    }\n",
       "\n",
       "    .dataframe thead th {\n",
       "        text-align: right;\n",
       "    }\n",
       "</style>\n",
       "<table border=\"1\" class=\"dataframe\">\n",
       "  <thead>\n",
       "    <tr style=\"text-align: right;\">\n",
       "      <th></th>\n",
       "      <th></th>\n",
       "      <th>Target</th>\n",
       "      <th>Pred</th>\n",
       "      <th>Target</th>\n",
       "      <th>Pred</th>\n",
       "    </tr>\n",
       "    <tr>\n",
       "      <th>Date</th>\n",
       "      <th>Sector</th>\n",
       "      <th></th>\n",
       "      <th></th>\n",
       "      <th></th>\n",
       "      <th></th>\n",
       "    </tr>\n",
       "  </thead>\n",
       "  <tbody>\n",
       "    <tr>\n",
       "      <th rowspan=\"5\" valign=\"top\">2014-01-06</th>\n",
       "      <th>ITインフラ</th>\n",
       "      <td>0.000230</td>\n",
       "      <td>-0.000306</td>\n",
       "      <td>0.000230</td>\n",
       "      <td>44.0</td>\n",
       "    </tr>\n",
       "    <tr>\n",
       "      <th>OA機器</th>\n",
       "      <td>0.008552</td>\n",
       "      <td>-0.000099</td>\n",
       "      <td>0.008552</td>\n",
       "      <td>16.0</td>\n",
       "    </tr>\n",
       "    <tr>\n",
       "      <th>その他工業</th>\n",
       "      <td>0.002347</td>\n",
       "      <td>0.001083</td>\n",
       "      <td>0.002347</td>\n",
       "      <td>36.0</td>\n",
       "    </tr>\n",
       "    <tr>\n",
       "      <th>インフラ</th>\n",
       "      <td>0.001268</td>\n",
       "      <td>0.000176</td>\n",
       "      <td>0.001268</td>\n",
       "      <td>15.0</td>\n",
       "    </tr>\n",
       "    <tr>\n",
       "      <th>エンタメ</th>\n",
       "      <td>0.004106</td>\n",
       "      <td>0.000605</td>\n",
       "      <td>0.004106</td>\n",
       "      <td>41.0</td>\n",
       "    </tr>\n",
       "    <tr>\n",
       "      <th>...</th>\n",
       "      <th>...</th>\n",
       "      <td>...</td>\n",
       "      <td>...</td>\n",
       "      <td>...</td>\n",
       "      <td>...</td>\n",
       "    </tr>\n",
       "    <tr>\n",
       "      <th rowspan=\"5\" valign=\"top\">2025-01-17</th>\n",
       "      <th>電子部品</th>\n",
       "      <td>NaN</td>\n",
       "      <td>0.000746</td>\n",
       "      <td>NaN</td>\n",
       "      <td>39.0</td>\n",
       "    </tr>\n",
       "    <tr>\n",
       "      <th>電気機器</th>\n",
       "      <td>NaN</td>\n",
       "      <td>0.002257</td>\n",
       "      <td>NaN</td>\n",
       "      <td>44.0</td>\n",
       "    </tr>\n",
       "    <tr>\n",
       "      <th>電気機器2</th>\n",
       "      <td>NaN</td>\n",
       "      <td>0.001144</td>\n",
       "      <td>NaN</td>\n",
       "      <td>33.0</td>\n",
       "    </tr>\n",
       "    <tr>\n",
       "      <th>非鉄金属</th>\n",
       "      <td>NaN</td>\n",
       "      <td>0.005073</td>\n",
       "      <td>NaN</td>\n",
       "      <td>46.0</td>\n",
       "    </tr>\n",
       "    <tr>\n",
       "      <th>食品</th>\n",
       "      <td>NaN</td>\n",
       "      <td>0.000727</td>\n",
       "      <td>NaN</td>\n",
       "      <td>25.0</td>\n",
       "    </tr>\n",
       "  </tbody>\n",
       "</table>\n",
       "<p>129456 rows × 4 columns</p>\n",
       "</div>"
      ],
      "text/plain": [
       "                     Target      Pred    Target  Pred\n",
       "Date       Sector                                    \n",
       "2014-01-06 ITインフラ  0.000230 -0.000306  0.000230  44.0\n",
       "           OA機器    0.008552 -0.000099  0.008552  16.0\n",
       "           その他工業   0.002347  0.001083  0.002347  36.0\n",
       "           インフラ    0.001268  0.000176  0.001268  15.0\n",
       "           エンタメ    0.004106  0.000605  0.004106  41.0\n",
       "...                     ...       ...       ...   ...\n",
       "2025-01-17 電子部品         NaN  0.000746       NaN  39.0\n",
       "           電気機器         NaN  0.002257       NaN  44.0\n",
       "           電気機器2        NaN  0.001144       NaN  33.0\n",
       "           非鉄金属         NaN  0.005073       NaN  46.0\n",
       "           食品           NaN  0.000727       NaN  25.0\n",
       "\n",
       "[129456 rows x 4 columns]"
      ]
     },
     "execution_count": 13,
     "metadata": {},
     "output_type": "execute_result"
    }
   ],
   "source": [
    "import pandas as pd\n",
    "pd.concat([lgbm_dataset.pred_result_df, en_dataset.pred_result_df], axis=1)"
   ]
  },
  {
   "cell_type": "code",
   "execution_count": 14,
   "metadata": {},
   "outputs": [
    {
     "ename": "TypeError",
     "evalue": "'NoneType' object is not subscriptable",
     "output_type": "error",
     "traceback": [
      "\u001b[1;31m---------------------------------------------------------------------------\u001b[0m",
      "\u001b[1;31mTypeError\u001b[0m                                 Traceback (most recent call last)",
      "Cell \u001b[1;32mIn[14], line 4\u001b[0m\n\u001b[0;32m      1\u001b[0m ml_dataset2 \u001b[38;5;241m=\u001b[39m MLDataset(\u001b[38;5;124mf\u001b[39m\u001b[38;5;124m'\u001b[39m\u001b[38;5;132;01m{\u001b[39;00mPaths\u001b[38;5;241m.\u001b[39mML_DATASETS_FOLDER\u001b[38;5;132;01m}\u001b[39;00m\u001b[38;5;124m/LGBM_after_New48sectors.pkl.gz\u001b[39m\u001b[38;5;124m'\u001b[39m)\n\u001b[0;32m      3\u001b[0m \u001b[38;5;28;01mimport\u001b[39;00m \u001b[38;5;21;01mpandas\u001b[39;00m \u001b[38;5;28;01mas\u001b[39;00m \u001b[38;5;21;01mpd\u001b[39;00m\n\u001b[1;32m----> 4\u001b[0m model \u001b[38;5;241m=\u001b[39m \u001b[43mml_dataset2\u001b[49m\u001b[38;5;241;43m.\u001b[39;49m\u001b[43mml_models\u001b[49m\u001b[43m[\u001b[49m\u001b[38;5;241;43m0\u001b[39;49m\u001b[43m]\u001b[49m\n\u001b[0;32m      5\u001b[0m \u001b[38;5;66;03m# モデルのトレーニング後に追加\u001b[39;00m\n\u001b[0;32m      6\u001b[0m importance_df \u001b[38;5;241m=\u001b[39m pd\u001b[38;5;241m.\u001b[39mDataFrame({\n\u001b[0;32m      7\u001b[0m     \u001b[38;5;124m'\u001b[39m\u001b[38;5;124mFeature\u001b[39m\u001b[38;5;124m'\u001b[39m: ml_dataset2\u001b[38;5;241m.\u001b[39mfeatures_test_df\u001b[38;5;241m.\u001b[39mcolumns,\n\u001b[0;32m      8\u001b[0m     \u001b[38;5;124m'\u001b[39m\u001b[38;5;124mImportance\u001b[39m\u001b[38;5;124m'\u001b[39m: model\u001b[38;5;241m.\u001b[39mfeature_importance(importance_type\u001b[38;5;241m=\u001b[39m\u001b[38;5;124m'\u001b[39m\u001b[38;5;124mgain\u001b[39m\u001b[38;5;124m'\u001b[39m)\n\u001b[0;32m      9\u001b[0m })\u001b[38;5;241m.\u001b[39msort_values(by\u001b[38;5;241m=\u001b[39m\u001b[38;5;124m'\u001b[39m\u001b[38;5;124mImportance\u001b[39m\u001b[38;5;124m'\u001b[39m, ascending\u001b[38;5;241m=\u001b[39m\u001b[38;5;28;01mFalse\u001b[39;00m)\n",
      "\u001b[1;31mTypeError\u001b[0m: 'NoneType' object is not subscriptable"
     ]
    }
   ],
   "source": [
    "ml_dataset2 = MLDataset(f'{Paths.ML_DATASETS_FOLDER}/LGBM_after_New48sectors.pkl.gz')\n",
    "\n",
    "import pandas as pd\n",
    "model = ml_dataset2.ml_models[0]\n",
    "# モデルのトレーニング後に追加\n",
    "importance_df = pd.DataFrame({\n",
    "    'Feature': ml_dataset2.features_test_df.columns,\n",
    "    'Importance': model.feature_importance(importance_type='gain')\n",
    "}).sort_values(by='Importance', ascending=False)\n",
    "\n",
    "pd.set_option('display.max_rows', None)\n",
    "display(importance_df)\n",
    "pd.reset_option('display.max_rows')"
   ]
  }
 ],
 "metadata": {
  "kernelspec": {
   "display_name": "Python 3",
   "language": "python",
   "name": "python3"
  },
  "language_info": {
   "codemirror_mode": {
    "name": "ipython",
    "version": 3
   },
   "file_extension": ".py",
   "mimetype": "text/x-python",
   "name": "python",
   "nbconvert_exporter": "python",
   "pygments_lexer": "ipython3",
   "version": "3.11.10"
  }
 },
 "nbformat": 4,
 "nbformat_minor": 2
}
