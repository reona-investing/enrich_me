{
 "cells": [
  {
   "cell_type": "code",
   "execution_count": 1,
   "metadata": {},
   "outputs": [],
   "source": [
    "from models import MLDataset\n",
    "from utils.paths import Paths\n",
    "from facades import EvaluationFacade\n",
    "from datetime import datetime\n",
    "\n",
    "lasso_dataset = MLDataset(f'{Paths.ML_DATASETS_FOLDER}/48sectors_LASSO_learned_in_250125')\n",
    "lgbm_dataset = MLDataset(f'{Paths.ML_DATASETS_FOLDER}/48sectors_LGBM_learned_in_250125')\n",
    "en_dataset = MLDataset(f'{Paths.ML_DATASETS_FOLDER}/48sectors_ensembled_learned_in_250125')"
   ]
  },
  {
   "cell_type": "code",
   "execution_count": 2,
   "metadata": {},
   "outputs": [
    {
     "name": "stdout",
     "output_type": "stream",
     "text": [
      "読み込みが完了しました。\n",
      "全期間\n",
      "母集団の推定（99.7%）\n",
      "平均リターン: -0.0252% (worst: -0.287%, best: 0.2366%)\n",
      "標準偏差: 0.004427 (worst:0.007039, best:0.003162)\n",
      "-----------------------------------------\n",
      "モデルのスペック\n",
      "シャープレシオ: -0.056957 (worst:-0.407773, best:0.74829)\n",
      "最大ドローダウン: -17.4886% (worst:-3.8842%, best:0.9508%)\n",
      "最大ドローダウン日数: 2774日 (worst:54日, best:16日)\n",
      "----------------------------------------------------------------------------------\n",
      "直近1年\n",
      "母集団の推定（99.7%）\n",
      "平均リターン: -0.0252% (worst: -0.287%, best: 0.2366%)\n",
      "標準偏差: 0.004427 (worst:0.007039, best:0.003162)\n",
      "-----------------------------------------\n",
      "モデルのスペック\n",
      "シャープレシオ: -0.056957 (worst:-0.407773, best:0.74829)\n",
      "最大ドローダウン: -17.4886% (worst:-3.8842%, best:0.9508%)\n",
      "最大ドローダウン日数: 2774日 (worst:54日, best:16日)\n",
      "----------------------------------------------------------------------------------\n",
      "直近3ヶ月\n",
      "母集団の推定（99.7%）\n",
      "平均リターン: -0.0252% (worst: -0.287%, best: 0.2366%)\n",
      "標準偏差: 0.004427 (worst:0.007039, best:0.003162)\n",
      "-----------------------------------------\n",
      "モデルのスペック\n",
      "シャープレシオ: -0.056957 (worst:-0.407773, best:0.74829)\n",
      "最大ドローダウン: -17.4886% (worst:-3.8842%, best:0.9508%)\n",
      "最大ドローダウン日数: 2774日 (worst:54日, best:16日)\n",
      "----------------------------------------------------------------------------------\n",
      "最大ドローダウン (実績)： 2.667%, 20日\n",
      "Spearman順位相関： 0.02783\n",
      "Numerai相関： 0.00777\n",
      "----------------------------------------------------------------------------------\n"
     ]
    },
    {
     "name": "stderr",
     "output_type": "stream",
     "text": [
      "c:\\Users\\ryosh\\enrich_me\\.venv\\Lib\\site-packages\\numpy\\core\\fromnumeric.py:86: FutureWarning: The behavior of DataFrame.prod with axis=None is deprecated, in a future version this will reduce over both axes and return a scalar. To retain the old behavior, pass axis=0 (or do not pass axis)\n",
      "  return reduction(axis=axis, out=out, **passkwargs)\n",
      "c:\\Users\\ryosh\\enrich_me\\.venv\\Lib\\site-packages\\numpy\\core\\fromnumeric.py:86: FutureWarning: The behavior of DataFrame.prod with axis=None is deprecated, in a future version this will reduce over both axes and return a scalar. To retain the old behavior, pass axis=0 (or do not pass axis)\n",
      "  return reduction(axis=axis, out=out, **passkwargs)\n"
     ]
    },
    {
     "data": {
      "application/vnd.jupyter.widget-view+json": {
       "model_id": "660efa76f522431b8333d3f040e4825c",
       "version_major": 2,
       "version_minor": 0
      },
      "text/plain": [
       "HBox(children=(Dropdown(description='選択：', options=('分位成績', '分位成績（集計）', '日次成績', '日次成績（集計）', '日次成績（確率分布）', '日次成…"
      ]
     },
     "metadata": {},
     "output_type": "display_data"
    },
    {
     "data": {
      "application/vnd.jupyter.widget-view+json": {
       "model_id": "8b13364a6d984f6789bcaef44aa34066",
       "version_major": 2,
       "version_minor": 0
      },
      "text/plain": [
       "Output()"
      ]
     },
     "metadata": {},
     "output_type": "display_data"
    }
   ],
   "source": [
    "ml_dataset = lasso_dataset\n",
    "\n",
    "ef = EvaluationFacade(ml_dataset, \n",
    "                 start_day = datetime(2025, 1, 1), \n",
    "                 end_day = datetime(2025, 12, 31),\n",
    "                 bin_num=5)\n",
    "ef.display()"
   ]
  }
 ],
 "metadata": {
  "kernelspec": {
   "display_name": ".venv",
   "language": "python",
   "name": "python3"
  },
  "language_info": {
   "codemirror_mode": {
    "name": "ipython",
    "version": 3
   },
   "file_extension": ".py",
   "mimetype": "text/x-python",
   "name": "python",
   "nbconvert_exporter": "python",
   "pygments_lexer": "ipython3",
   "version": "3.11.10"
  }
 },
 "nbformat": 4,
 "nbformat_minor": 2
}
