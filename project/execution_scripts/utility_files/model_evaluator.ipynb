{
 "cells": [
  {
   "cell_type": "code",
   "execution_count": 1,
   "metadata": {},
   "outputs": [],
   "source": [
    "from models import MLDataset\n",
    "from utils.paths import Paths\n",
    "from facades import EvaluationFacade\n",
    "from datetime import datetime\n",
    "\n",
    "lasso_dataset = MLDataset(f'{Paths.ML_DATASETS_FOLDER}/48sectors_LASSO_to_2022')\n",
    "lgbm_dataset = MLDataset(f'{Paths.ML_DATASETS_FOLDER}/48sectors_LGBM_to_2022')\n",
    "en_dataset = MLDataset(f'{Paths.ML_DATASETS_FOLDER}/48sectors_ensembled_to_2022')\n",
    "\n",
    "#lasso_dataset = MLDataset(f'{Paths.ML_DATASETS_FOLDER}/48sectors_LASSO_learned_in_250308')\n",
    "#lgbm_dataset = MLDataset(f'{Paths.ML_DATASETS_FOLDER}/48sectors_LGBM_learned_in_250308')\n",
    "#en_dataset = MLDataset(f'{Paths.ML_DATASETS_FOLDER}/48sectors_ensembled_learned_in_250308')"
   ]
  },
  {
   "cell_type": "code",
   "execution_count": null,
   "metadata": {},
   "outputs": [],
   "source": [
    "from models2.factory import ModelFactory\n",
    "'''\n",
    "model_to2021 = ModelFactory.create_ensemble_model().\n",
    "model_to2022 = \n",
    "model_to2023 = \n",
    "model_to2024 = \n",
    "model_to2025 = \n",
    "'''\n",
    "model_dataset = ModelFactory.create_period_switching_model('MySwitchingModel')\n",
    "model_dataset.add_model_period()"
   ]
  },
  {
   "cell_type": "code",
   "execution_count": 20,
   "metadata": {},
   "outputs": [
    {
     "data": {
      "text/html": [
       "<div>\n",
       "<style scoped>\n",
       "    .dataframe tbody tr th:only-of-type {\n",
       "        vertical-align: middle;\n",
       "    }\n",
       "\n",
       "    .dataframe tbody tr th {\n",
       "        vertical-align: top;\n",
       "    }\n",
       "\n",
       "    .dataframe thead th {\n",
       "        text-align: right;\n",
       "    }\n",
       "</style>\n",
       "<table border=\"1\" class=\"dataframe\">\n",
       "  <thead>\n",
       "    <tr style=\"text-align: right;\">\n",
       "      <th></th>\n",
       "      <th></th>\n",
       "      <th>Target</th>\n",
       "      <th>Pred</th>\n",
       "    </tr>\n",
       "    <tr>\n",
       "      <th>Date</th>\n",
       "      <th>Sector</th>\n",
       "      <th></th>\n",
       "      <th></th>\n",
       "    </tr>\n",
       "  </thead>\n",
       "  <tbody>\n",
       "    <tr>\n",
       "      <th rowspan=\"5\" valign=\"top\">2014-01-06</th>\n",
       "      <th>ITインフラ</th>\n",
       "      <td>0.000354</td>\n",
       "      <td>0.000252</td>\n",
       "    </tr>\n",
       "    <tr>\n",
       "      <th>OA機器</th>\n",
       "      <td>0.008308</td>\n",
       "      <td>0.001918</td>\n",
       "    </tr>\n",
       "    <tr>\n",
       "      <th>その他工業</th>\n",
       "      <td>0.002507</td>\n",
       "      <td>0.000958</td>\n",
       "    </tr>\n",
       "    <tr>\n",
       "      <th>インフラ</th>\n",
       "      <td>0.001225</td>\n",
       "      <td>0.009063</td>\n",
       "    </tr>\n",
       "    <tr>\n",
       "      <th>エンタメ</th>\n",
       "      <td>0.004306</td>\n",
       "      <td>0.002097</td>\n",
       "    </tr>\n",
       "    <tr>\n",
       "      <th>...</th>\n",
       "      <th>...</th>\n",
       "      <td>...</td>\n",
       "      <td>...</td>\n",
       "    </tr>\n",
       "    <tr>\n",
       "      <th rowspan=\"5\" valign=\"top\">2025-03-10</th>\n",
       "      <th>電子部品</th>\n",
       "      <td>NaN</td>\n",
       "      <td>-0.008303</td>\n",
       "    </tr>\n",
       "    <tr>\n",
       "      <th>電気機器</th>\n",
       "      <td>NaN</td>\n",
       "      <td>-0.012923</td>\n",
       "    </tr>\n",
       "    <tr>\n",
       "      <th>電気機器2</th>\n",
       "      <td>NaN</td>\n",
       "      <td>-0.014775</td>\n",
       "    </tr>\n",
       "    <tr>\n",
       "      <th>非鉄金属</th>\n",
       "      <td>NaN</td>\n",
       "      <td>0.015752</td>\n",
       "    </tr>\n",
       "    <tr>\n",
       "      <th>食品</th>\n",
       "      <td>NaN</td>\n",
       "      <td>-0.001863</td>\n",
       "    </tr>\n",
       "  </tbody>\n",
       "</table>\n",
       "<p>131040 rows × 2 columns</p>\n",
       "</div>"
      ],
      "text/plain": [
       "                     Target      Pred\n",
       "Date       Sector                    \n",
       "2014-01-06 ITインフラ  0.000354  0.000252\n",
       "           OA機器    0.008308  0.001918\n",
       "           その他工業   0.002507  0.000958\n",
       "           インフラ    0.001225  0.009063\n",
       "           エンタメ    0.004306  0.002097\n",
       "...                     ...       ...\n",
       "2025-03-10 電子部品         NaN -0.008303\n",
       "           電気機器         NaN -0.012923\n",
       "           電気機器2        NaN -0.014775\n",
       "           非鉄金属         NaN  0.015752\n",
       "           食品           NaN -0.001863\n",
       "\n",
       "[131040 rows x 2 columns]"
      ]
     },
     "execution_count": 20,
     "metadata": {},
     "output_type": "execute_result"
    }
   ],
   "source": [
    "en_dataset.evaluation_materials.pred_result_df['Pred'] = \\\n",
    "    lasso_dataset.evaluation_materials.pred_result_df['Pred'] * 1.3 + \\\n",
    "    lgbm_dataset.evaluation_materials.pred_result_df['Pred'] * 11.3\n",
    "en_dataset.evaluation_materials.pred_result_df"
   ]
  },
  {
   "cell_type": "code",
   "execution_count": 21,
   "metadata": {},
   "outputs": [
    {
     "name": "stdout",
     "output_type": "stream",
     "text": [
      "読み込みが完了しました。\n",
      "全期間\n",
      "母集団の推定（99.7%）\n",
      "平均リターン: -0.0809% (worst: -0.294%, best: 0.1321%)\n",
      "標準偏差: 0.004376 (worst:0.00639, best:0.003277)\n",
      "-----------------------------------------\n",
      "モデルのスペック\n",
      "シャープレシオ: -0.18494 (worst:-0.460071, best:0.403226)\n",
      "最大ドローダウン: -5.3241% (worst:-3.1253%, best:1.8286%)\n",
      "最大ドローダウン日数: 263日 (worst:43日, best:55日)\n",
      "----------------------------------------------------------------------------------\n",
      "直近1年\n",
      "母集団の推定（99.7%）\n",
      "平均リターン: -0.0809% (worst: -0.294%, best: 0.1321%)\n",
      "標準偏差: 0.004376 (worst:0.00639, best:0.003277)\n",
      "-----------------------------------------\n",
      "モデルのスペック\n",
      "シャープレシオ: -0.18494 (worst:-0.460071, best:0.403226)\n",
      "最大ドローダウン: -5.3241% (worst:-3.1253%, best:1.8286%)\n",
      "最大ドローダウン日数: 263日 (worst:43日, best:55日)\n",
      "----------------------------------------------------------------------------------\n",
      "直近3ヶ月\n",
      "母集団の推定（99.7%）\n",
      "平均リターン: -0.0809% (worst: -0.294%, best: 0.1321%)\n",
      "標準偏差: 0.004376 (worst:0.00639, best:0.003277)\n",
      "-----------------------------------------\n",
      "モデルのスペック\n",
      "シャープレシオ: -0.18494 (worst:-0.460071, best:0.403226)\n",
      "最大ドローダウン: -5.3241% (worst:-3.1253%, best:1.8286%)\n",
      "最大ドローダウン日数: 263日 (worst:43日, best:55日)\n",
      "----------------------------------------------------------------------------------\n",
      "最大ドローダウン (実績)： 3.717%, 38日\n",
      "Spearman順位相関： -0.00093\n",
      "Numerai相関： -0.01031\n",
      "----------------------------------------------------------------------------------\n"
     ]
    },
    {
     "name": "stderr",
     "output_type": "stream",
     "text": [
      "c:\\Users\\ryosh\\enrich_me\\.venv\\Lib\\site-packages\\numpy\\core\\fromnumeric.py:86: FutureWarning: The behavior of DataFrame.prod with axis=None is deprecated, in a future version this will reduce over both axes and return a scalar. To retain the old behavior, pass axis=0 (or do not pass axis)\n",
      "  return reduction(axis=axis, out=out, **passkwargs)\n",
      "c:\\Users\\ryosh\\enrich_me\\.venv\\Lib\\site-packages\\numpy\\core\\fromnumeric.py:86: FutureWarning: The behavior of DataFrame.prod with axis=None is deprecated, in a future version this will reduce over both axes and return a scalar. To retain the old behavior, pass axis=0 (or do not pass axis)\n",
      "  return reduction(axis=axis, out=out, **passkwargs)\n"
     ]
    },
    {
     "data": {
      "application/vnd.jupyter.widget-view+json": {
       "model_id": "9d3319021910406e9b7f74ad0bf18b81",
       "version_major": 2,
       "version_minor": 0
      },
      "text/plain": [
       "HBox(children=(Dropdown(description='選択：', options=('分位成績', '分位成績（集計）', '日次成績', '日次成績（集計）', '日次成績（確率分布）', '日次成…"
      ]
     },
     "metadata": {},
     "output_type": "display_data"
    },
    {
     "data": {
      "application/vnd.jupyter.widget-view+json": {
       "model_id": "e46c45b3fb8d41ed9cd3dac3198779f4",
       "version_major": 2,
       "version_minor": 0
      },
      "text/plain": [
       "Output()"
      ]
     },
     "metadata": {},
     "output_type": "display_data"
    }
   ],
   "source": [
    "ml_dataset = en_dataset\n",
    "#ml_dataset =MLDataset(f'{Paths.ML_DATASETS_FOLDER}/LGBM_New48sectors_Ensembled_to2021')\n",
    "ef = EvaluationFacade(ml_dataset, \n",
    "                 start_day = datetime(2025, 1, 1), \n",
    "                 end_day = datetime(2025, 12, 31),\n",
    "                 bin_num=5)\n",
    "ef.display()"
   ]
  },
  {
   "cell_type": "code",
   "execution_count": 3,
   "metadata": {},
   "outputs": [],
   "source": [
    "df = ef.visualizer.metrics_dfs['日次成績'][['LS']].rename(columns={'LS': 'Target'})\n",
    "df.to_csv('result_現行.csv')"
   ]
  }
 ],
 "metadata": {
  "kernelspec": {
   "display_name": ".venv",
   "language": "python",
   "name": "python3"
  },
  "language_info": {
   "codemirror_mode": {
    "name": "ipython",
    "version": 3
   },
   "file_extension": ".py",
   "mimetype": "text/x-python",
   "name": "python",
   "nbconvert_exporter": "python",
   "pygments_lexer": "ipython3",
   "version": "3.11.10"
  }
 },
 "nbformat": 4,
 "nbformat_minor": 2
}
