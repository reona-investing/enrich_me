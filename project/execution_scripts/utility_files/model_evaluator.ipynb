{
 "cells": [
  {
   "cell_type": "code",
   "execution_count": 23,
   "metadata": {},
   "outputs": [],
   "source": [
    "from machine_learning.ml_dataset import MLDataset\n",
    "from utils.paths import Paths\n",
    "from facades import EvaluationFacade\n",
    "from datetime import datetime\n",
    "\n",
    "lasso56 = MLDataset.from_files(f'{Paths.ML_DATASETS_FOLDER}/56sectors_LASSO_learned_in_250702')\n",
    "lgbm56 = MLDataset.from_files(f'{Paths.ML_DATASETS_FOLDER}/56sectors_LightGBMlearned_in_250702')\n",
    "lasso48 = MLDataset.from_files(f'{Paths.ML_DATASETS_FOLDER}/48sectors_LASSO_learned_in_250702')\n",
    "lgbm48 = MLDataset.from_files(f'{Paths.ML_DATASETS_FOLDER}/48sectors_LightGBMlearned_in_250702')\n",
    "en48 = MLDataset.from_files(f'{Paths.ML_DATASETS_FOLDER}/48sectors_Ensembled_learned_in_250702')"
   ]
  },
  {
   "cell_type": "code",
   "execution_count": 8,
   "metadata": {},
   "outputs": [
    {
     "name": "stderr",
     "output_type": "stream",
     "text": [
      "c:\\Users\\ryosh\\enrich_me\\.venv\\Lib\\site-packages\\numpy\\core\\fromnumeric.py:86: FutureWarning: The behavior of DataFrame.prod with axis=None is deprecated, in a future version this will reduce over both axes and return a scalar. To retain the old behavior, pass axis=0 (or do not pass axis)\n",
      "  return reduction(axis=axis, out=out, **passkwargs)\n",
      "c:\\Users\\ryosh\\enrich_me\\.venv\\Lib\\site-packages\\numpy\\core\\fromnumeric.py:86: FutureWarning: The behavior of DataFrame.prod with axis=None is deprecated, in a future version this will reduce over both axes and return a scalar. To retain the old behavior, pass axis=0 (or do not pass axis)\n",
      "  return reduction(axis=axis, out=out, **passkwargs)\n"
     ]
    },
    {
     "name": "stdout",
     "output_type": "stream",
     "text": [
      "読み込みが完了しました。\n",
      "全期間\n",
      "母集団の推定（99.7%）\n",
      "平均リターン: 0.1353% (worst: 0.067%, best: 0.2035%)\n",
      "標準偏差: 0.006715 (worst:0.007229, best:0.006263)\n",
      "-----------------------------------------\n",
      "モデルのスペック\n",
      "シャープレシオ: 0.201432 (worst:0.092718, best:0.324897)\n",
      "最大ドローダウン: 7.5002% (worst:17.5434%, best:4.3372%)\n",
      "最大ドローダウン日数: 222日 (worst:1047日, best:85日)\n",
      "----------------------------------------------------------------------------------\n",
      "直近1年\n",
      "母集団の推定（99.7%）\n",
      "平均リターン: 0.1137% (worst: -0.0209%, best: 0.2483%)\n",
      "標準偏差: 0.00713 (worst:0.008202, best:0.006288)\n",
      "-----------------------------------------\n",
      "モデルのスペック\n",
      "シャープレシオ: 0.159512 (worst:-0.025454, best:0.394944)\n",
      "最大ドローダウン: 10.0571% (worst:-72.5009%, best:3.5823%)\n",
      "最大ドローダウン日数: 354日 (worst:13891日, best:58日)\n",
      "----------------------------------------------------------------------------------\n",
      "直近3ヶ月\n",
      "母集団の推定（99.7%）\n",
      "平均リターン: 0.1546% (worst: -0.1394%, best: 0.4486%)\n",
      "標準偏差: 0.007552 (worst:0.010186, best:0.005938)\n",
      "-----------------------------------------\n",
      "モデルのスペック\n",
      "シャープレシオ: 0.204721 (worst:-0.136802, best:0.755409)\n",
      "最大ドローダウン: 8.3002% (worst:-16.7537%, best:1.7687%)\n",
      "最大ドローダウン日数: 215日 (worst:481日, best:16日)\n",
      "----------------------------------------------------------------------------------\n",
      "最大ドローダウン (実績)： 7.41%, 76日\n",
      "Spearman順位相関： 0.04689\n",
      "Numerai相関： 0.04911\n",
      "----------------------------------------------------------------------------------\n"
     ]
    },
    {
     "data": {
      "application/vnd.jupyter.widget-view+json": {
       "model_id": "a87eb4e873d1444bbb1452b9c13319da",
       "version_major": 2,
       "version_minor": 0
      },
      "text/plain": [
       "HBox(children=(Dropdown(description='選択：', options=('分位成績', '分位成績（集計）', '日次成績', '日次成績（集計）', '日次成績（確率分布）', '日次成…"
      ]
     },
     "metadata": {},
     "output_type": "display_data"
    },
    {
     "data": {
      "application/vnd.jupyter.widget-view+json": {
       "model_id": "6cf2390c02d645ecb5792133287fab96",
       "version_major": 2,
       "version_minor": 0
      },
      "text/plain": [
       "Output()"
      ]
     },
     "metadata": {},
     "output_type": "display_data"
    }
   ],
   "source": [
    "ef48 = EvaluationFacade(lgbm48.pred_result_df,\n",
    "                        lgbm48.raw_returns_df, \n",
    "                        start_day = datetime(2022, 1, 1), \n",
    "                        end_day = datetime(2025, 12, 31),\n",
    "                        trade_sector_num=2,\n",
    "                        bin_num=5)\n",
    "ef48.display()"
   ]
  },
  {
   "cell_type": "code",
   "execution_count": 25,
   "metadata": {},
   "outputs": [
    {
     "name": "stderr",
     "output_type": "stream",
     "text": [
      "c:\\Users\\ryosh\\enrich_me\\.venv\\Lib\\site-packages\\numpy\\core\\fromnumeric.py:86: FutureWarning: The behavior of DataFrame.prod with axis=None is deprecated, in a future version this will reduce over both axes and return a scalar. To retain the old behavior, pass axis=0 (or do not pass axis)\n",
      "  return reduction(axis=axis, out=out, **passkwargs)\n",
      "c:\\Users\\ryosh\\enrich_me\\.venv\\Lib\\site-packages\\numpy\\core\\fromnumeric.py:86: FutureWarning: The behavior of DataFrame.prod with axis=None is deprecated, in a future version this will reduce over both axes and return a scalar. To retain the old behavior, pass axis=0 (or do not pass axis)\n",
      "  return reduction(axis=axis, out=out, **passkwargs)\n"
     ]
    },
    {
     "name": "stdout",
     "output_type": "stream",
     "text": [
      "読み込みが完了しました。\n",
      "全期間\n",
      "母集団の推定（99.7%）\n",
      "平均リターン: 0.099% (worst: 0.0515%, best: 0.1466%)\n",
      "標準偏差: 0.004683 (worst:0.005042, best:0.004368)\n",
      "-----------------------------------------\n",
      "モデルのスペック\n",
      "シャープレシオ: 0.211483 (worst:0.102053, best:0.335673)\n",
      "最大ドローダウン: 4.9825% (worst:11.1165%, best:2.9279%)\n",
      "最大ドローダウン日数: 201日 (worst:864日, best:80日)\n",
      "----------------------------------------------------------------------------------\n",
      "直近1年\n",
      "母集団の推定（99.7%）\n",
      "平均リターン: 0.0502% (worst: -0.0311%, best: 0.1315%)\n",
      "標準偏差: 0.004305 (worst:0.004953, best:0.003797)\n",
      "-----------------------------------------\n",
      "モデルのスペック\n",
      "シャープレシオ: 0.116548 (worst:-0.062803, best:0.346226)\n",
      "最大ドローダウン: 8.3115% (worst:-17.7431%, best:2.4675%)\n",
      "最大ドローダウン日数: 663日 (worst:2282日, best:75日)\n",
      "----------------------------------------------------------------------------------\n",
      "直近3ヶ月\n",
      "母集団の推定（99.7%）\n",
      "平均リターン: 0.0388% (worst: -0.1153%, best: 0.1929%)\n",
      "標準偏差: 0.003959 (worst:0.00534, best:0.003113)\n",
      "-----------------------------------------\n",
      "モデルのスペック\n",
      "シャープレシオ: 0.098003 (worst:-0.215923, best:0.619683)\n",
      "最大ドローダウン: 9.0887% (worst:-5.5641%, best:1.1302%)\n",
      "最大ドローダウン日数: 937日 (worst:193日, best:23日)\n",
      "----------------------------------------------------------------------------------\n",
      "最大ドローダウン (実績)： 3.543%, 68日\n",
      "Spearman順位相関： 0.02706\n",
      "Numerai相関： 0.03251\n",
      "----------------------------------------------------------------------------------\n"
     ]
    },
    {
     "data": {
      "application/vnd.jupyter.widget-view+json": {
       "model_id": "b9576ef5af834a5f849d98969e82590b",
       "version_major": 2,
       "version_minor": 0
      },
      "text/plain": [
       "HBox(children=(Dropdown(description='選択：', options=('分位成績', '分位成績（集計）', '日次成績', '日次成績（集計）', '日次成績（確率分布）', '日次成…"
      ]
     },
     "metadata": {},
     "output_type": "display_data"
    },
    {
     "data": {
      "application/vnd.jupyter.widget-view+json": {
       "model_id": "3d647dbc165041babaed8a37e296a8bb",
       "version_major": 2,
       "version_minor": 0
      },
      "text/plain": [
       "Output()"
      ]
     },
     "metadata": {},
     "output_type": "display_data"
    }
   ],
   "source": [
    "ef56 = EvaluationFacade(lasso56.pred_result_df,\n",
    "                        lasso56.raw_returns_df, \n",
    "                        start_day = datetime(2022, 1, 1), \n",
    "                        end_day = datetime(2025, 12, 31),\n",
    "                        trade_sector_num=2,\n",
    "                        bin_num=5)\n",
    "ef56.display()"
   ]
  },
  {
   "cell_type": "code",
   "execution_count": 19,
   "metadata": {},
   "outputs": [
    {
     "data": {
      "text/html": [
       "<div>\n",
       "<style scoped>\n",
       "    .dataframe tbody tr th:only-of-type {\n",
       "        vertical-align: middle;\n",
       "    }\n",
       "\n",
       "    .dataframe tbody tr th {\n",
       "        vertical-align: top;\n",
       "    }\n",
       "\n",
       "    .dataframe thead th {\n",
       "        text-align: right;\n",
       "    }\n",
       "</style>\n",
       "<table border=\"1\" class=\"dataframe\">\n",
       "  <thead>\n",
       "    <tr style=\"text-align: right;\">\n",
       "      <th></th>\n",
       "      <th>Sector48</th>\n",
       "      <th>Sector56</th>\n",
       "      <th>Ensemble</th>\n",
       "    </tr>\n",
       "  </thead>\n",
       "  <tbody>\n",
       "    <tr>\n",
       "      <th>count</th>\n",
       "      <td>857.000000</td>\n",
       "      <td>857.000000</td>\n",
       "      <td>857.000000</td>\n",
       "    </tr>\n",
       "    <tr>\n",
       "      <th>mean</th>\n",
       "      <td>0.001353</td>\n",
       "      <td>0.000990</td>\n",
       "      <td>0.001111</td>\n",
       "    </tr>\n",
       "    <tr>\n",
       "      <th>std</th>\n",
       "      <td>0.006715</td>\n",
       "      <td>0.004683</td>\n",
       "      <td>0.004437</td>\n",
       "    </tr>\n",
       "    <tr>\n",
       "      <th>min</th>\n",
       "      <td>-0.024614</td>\n",
       "      <td>-0.019830</td>\n",
       "      <td>-0.016335</td>\n",
       "    </tr>\n",
       "    <tr>\n",
       "      <th>25%</th>\n",
       "      <td>-0.002685</td>\n",
       "      <td>-0.001803</td>\n",
       "      <td>-0.001523</td>\n",
       "    </tr>\n",
       "    <tr>\n",
       "      <th>50%</th>\n",
       "      <td>0.000979</td>\n",
       "      <td>0.000638</td>\n",
       "      <td>0.000722</td>\n",
       "    </tr>\n",
       "    <tr>\n",
       "      <th>75%</th>\n",
       "      <td>0.005479</td>\n",
       "      <td>0.003512</td>\n",
       "      <td>0.003573</td>\n",
       "    </tr>\n",
       "    <tr>\n",
       "      <th>max</th>\n",
       "      <td>0.035317</td>\n",
       "      <td>0.022203</td>\n",
       "      <td>0.023520</td>\n",
       "    </tr>\n",
       "    <tr>\n",
       "      <th>SR</th>\n",
       "      <td>0.201432</td>\n",
       "      <td>0.211483</td>\n",
       "      <td>0.250439</td>\n",
       "    </tr>\n",
       "  </tbody>\n",
       "</table>\n",
       "</div>"
      ],
      "text/plain": [
       "         Sector48    Sector56    Ensemble\n",
       "count  857.000000  857.000000  857.000000\n",
       "mean     0.001353    0.000990    0.001111\n",
       "std      0.006715    0.004683    0.004437\n",
       "min     -0.024614   -0.019830   -0.016335\n",
       "25%     -0.002685   -0.001803   -0.001523\n",
       "50%      0.000979    0.000638    0.000722\n",
       "75%      0.005479    0.003512    0.003573\n",
       "max      0.035317    0.022203    0.023520\n",
       "SR       0.201432    0.211483    0.250439"
      ]
     },
     "metadata": {},
     "output_type": "display_data"
    }
   ],
   "source": [
    "import pandas as pd\n",
    "df48 = ef48.met_calc.metrics_dfs['日次成績'][['LS']].rename(columns={'LS': 'Sector48'})\n",
    "df56 = ef56.met_calc.metrics_dfs['日次成績'][['LS']].rename(columns={'LS': 'Sector56'})\n",
    "df = pd.concat([df48, df56], axis=1)\n",
    "df['Ensemble'] = (df['Sector48'] + df['Sector56'] * 2) / 3\n",
    "agg_df = df.describe().T\n",
    "agg_df['SR'] = agg_df['mean'] / agg_df['std']\n",
    "agg_df = agg_df.T\n",
    "display(agg_df)"
   ]
  },
  {
   "cell_type": "code",
   "execution_count": null,
   "metadata": {},
   "outputs": [
    {
     "data": {
      "text/html": [
       "<div>\n",
       "<style scoped>\n",
       "    .dataframe tbody tr th:only-of-type {\n",
       "        vertical-align: middle;\n",
       "    }\n",
       "\n",
       "    .dataframe tbody tr th {\n",
       "        vertical-align: top;\n",
       "    }\n",
       "\n",
       "    .dataframe thead th {\n",
       "        text-align: right;\n",
       "    }\n",
       "</style>\n",
       "<table border=\"1\" class=\"dataframe\">\n",
       "  <thead>\n",
       "    <tr style=\"text-align: right;\">\n",
       "      <th></th>\n",
       "      <th>Sector48</th>\n",
       "      <th>Sector56</th>\n",
       "      <th>FeatureCorr</th>\n",
       "      <th>Ensemble1</th>\n",
       "      <th>Ensemble2</th>\n",
       "    </tr>\n",
       "  </thead>\n",
       "  <tbody>\n",
       "    <tr>\n",
       "      <th>count</th>\n",
       "      <td>855.000000</td>\n",
       "      <td>855.000000</td>\n",
       "      <td>855.000000</td>\n",
       "      <td>855.000000</td>\n",
       "      <td>855.000000</td>\n",
       "    </tr>\n",
       "    <tr>\n",
       "      <th>mean</th>\n",
       "      <td>0.001354</td>\n",
       "      <td>0.000993</td>\n",
       "      <td>0.001772</td>\n",
       "      <td>0.001113</td>\n",
       "      <td>0.001278</td>\n",
       "    </tr>\n",
       "    <tr>\n",
       "      <th>std</th>\n",
       "      <td>0.006710</td>\n",
       "      <td>0.004679</td>\n",
       "      <td>0.011329</td>\n",
       "      <td>0.004429</td>\n",
       "      <td>0.004355</td>\n",
       "    </tr>\n",
       "    <tr>\n",
       "      <th>min</th>\n",
       "      <td>-0.024614</td>\n",
       "      <td>-0.019830</td>\n",
       "      <td>-0.101534</td>\n",
       "      <td>-0.016335</td>\n",
       "      <td>-0.017060</td>\n",
       "    </tr>\n",
       "    <tr>\n",
       "      <th>25%</th>\n",
       "      <td>-0.002684</td>\n",
       "      <td>-0.001802</td>\n",
       "      <td>-0.003747</td>\n",
       "      <td>-0.001522</td>\n",
       "      <td>-0.001447</td>\n",
       "    </tr>\n",
       "    <tr>\n",
       "      <th>50%</th>\n",
       "      <td>0.000979</td>\n",
       "      <td>0.000638</td>\n",
       "      <td>0.000962</td>\n",
       "      <td>0.000722</td>\n",
       "      <td>0.000931</td>\n",
       "    </tr>\n",
       "    <tr>\n",
       "      <th>75%</th>\n",
       "      <td>0.005477</td>\n",
       "      <td>0.003512</td>\n",
       "      <td>0.006732</td>\n",
       "      <td>0.003563</td>\n",
       "      <td>0.003609</td>\n",
       "    </tr>\n",
       "    <tr>\n",
       "      <th>max</th>\n",
       "      <td>0.035317</td>\n",
       "      <td>0.022203</td>\n",
       "      <td>0.102743</td>\n",
       "      <td>0.023520</td>\n",
       "      <td>0.025679</td>\n",
       "    </tr>\n",
       "    <tr>\n",
       "      <th>SR</th>\n",
       "      <td>0.201785</td>\n",
       "      <td>0.212153</td>\n",
       "      <td>0.156426</td>\n",
       "      <td>0.251315</td>\n",
       "      <td>0.293399</td>\n",
       "    </tr>\n",
       "  </tbody>\n",
       "</table>\n",
       "</div>"
      ],
      "text/plain": [
       "         Sector48    Sector56  FeatureCorr   Ensemble1   Ensemble2\n",
       "count  855.000000  855.000000   855.000000  855.000000  855.000000\n",
       "mean     0.001354    0.000993     0.001772    0.001113    0.001278\n",
       "std      0.006710    0.004679     0.011329    0.004429    0.004355\n",
       "min     -0.024614   -0.019830    -0.101534   -0.016335   -0.017060\n",
       "25%     -0.002684   -0.001802    -0.003747   -0.001522   -0.001447\n",
       "50%      0.000979    0.000638     0.000962    0.000722    0.000931\n",
       "75%      0.005477    0.003512     0.006732    0.003563    0.003609\n",
       "max      0.035317    0.022203     0.102743    0.023520    0.025679\n",
       "SR       0.201785    0.212153     0.156426    0.251315    0.293399"
      ]
     },
     "metadata": {},
     "output_type": "display_data"
    }
   ],
   "source": [
    "df48 = ef48.met_calc.metrics_dfs['日次成績'][['LS']].rename(columns={'LS': 'Sector48'})\n",
    "df56 = ef56.met_calc.metrics_dfs['日次成績'][['LS']].rename(columns={'LS': 'Sector56'})\n",
    "extracted_result = pd.read_csv(r'C:\\Users\\ryosh\\enrich_me\\project\\execution_scripts\\experimental\\個別銘柄とファクターの比較検討\\extracted_result.csv')\n",
    "extracted_result['Date'] = pd.to_datetime(extracted_result['Date'])\n",
    "extracted_result = extracted_result.rename(columns={'Target':'FeatureCorr'}).set_index('Date')\n",
    "\n",
    "\n",
    "df = pd.concat([df48, df56], axis=1)\n",
    "df = pd.merge(df, extracted_result, how='left', left_index=True, right_index=True).dropna(axis=0)\n",
    "df['Ensemble1'] = (df['Sector48'] * 1 + df['Sector56'] * 2) / 3\n",
    "df['Ensemble2'] = (df['Sector48'] * 1 + df['Sector56'] * 2 + df['FeatureCorr'] * 1) / 4\n",
    "agg_df = df.describe().T\n",
    "agg_df['SR'] = agg_df['mean'] / agg_df['std']\n",
    "agg_df = agg_df.T\n",
    "display(agg_df) #TODO FeatureCorrを取引戦略に追加！"
   ]
  },
  {
   "cell_type": "code",
   "execution_count": 21,
   "metadata": {},
   "outputs": [
    {
     "data": {
      "text/plain": [
       "<Axes: xlabel='Date'>"
      ]
     },
     "execution_count": 21,
     "metadata": {},
     "output_type": "execute_result"
    },
    {
     "data": {
      "image/png": "[encoded data removed]",
      "text/plain": [
       "<Figure size 640x480 with 1 Axes>"
      ]
     },
     "metadata": {},
     "output_type": "display_data"
    }
   ],
   "source": [
    "((df + 1).cumprod() - 1).plot()"
   ]
  },
  {
   "cell_type": "code",
   "execution_count": null,
   "metadata": {},
   "outputs": [
    {
     "name": "stderr",
     "output_type": "stream",
     "text": [
      "c:\\Users\\ryosh\\enrich_me\\.venv\\Lib\\site-packages\\numpy\\core\\fromnumeric.py:86: FutureWarning: The behavior of DataFrame.prod with axis=None is deprecated, in a future version this will reduce over both axes and return a scalar. To retain the old behavior, pass axis=0 (or do not pass axis)\n",
      "  return reduction(axis=axis, out=out, **passkwargs)\n",
      "c:\\Users\\ryosh\\enrich_me\\.venv\\Lib\\site-packages\\numpy\\core\\fromnumeric.py:86: FutureWarning: The behavior of DataFrame.prod with axis=None is deprecated, in a future version this will reduce over both axes and return a scalar. To retain the old behavior, pass axis=0 (or do not pass axis)\n",
      "  return reduction(axis=axis, out=out, **passkwargs)\n"
     ]
    },
    {
     "name": "stdout",
     "output_type": "stream",
     "text": [
      "読み込みが完了しました。\n",
      "全期間\n",
      "母集団の推定（99.7%）\n",
      "平均リターン: 0.0986% (worst: 0.0295%, best: 0.1677%)\n",
      "標準偏差: 0.006771 (worst:0.007293, best:0.006314)\n",
      "-----------------------------------------\n",
      "モデルのスペック\n",
      "シャープレシオ: 0.145608 (worst:0.040408, best:0.265646)\n",
      "最大ドローダウン: 10.4631% (worst:40.6074%, best:5.3476%)\n",
      "最大ドローダウン日数: 424日 (worst:5512日, best:128日)\n",
      "----------------------------------------------------------------------------------\n",
      "直近1年\n",
      "母集団の推定（99.7%）\n",
      "平均リターン: 0.0893% (worst: -0.0477%, best: 0.2263%)\n",
      "標準偏差: 0.007255 (worst:0.008345, best:0.006398)\n",
      "-----------------------------------------\n",
      "モデルのスペック\n",
      "シャープレシオ: 0.123081 (worst:-0.057124, best:0.353634)\n",
      "最大ドローダウン: 13.262% (worst:-32.8708%, best:4.0707%)\n",
      "最大ドローダウン日数: 594日 (worst:2758日, best:72日)\n",
      "----------------------------------------------------------------------------------\n",
      "直近3ヶ月\n",
      "母集団の推定（99.7%）\n",
      "平均リターン: 0.2705% (worst: 0.0028%, best: 0.5382%)\n",
      "標準偏差: 0.006878 (worst:0.009276, best:0.005408)\n",
      "-----------------------------------------\n",
      "モデルのスペック\n",
      "シャープレシオ: 0.393304 (worst:0.003013, best:0.995251)\n",
      "最大ドローダウン: 3.9345% (worst:692.8098%, best:1.2225%)\n",
      "最大ドローダウン日数: 58日 (worst:991603日, best:9日)\n",
      "----------------------------------------------------------------------------------\n",
      "最大ドローダウン (実績)： 8.532%, 70日\n",
      "Spearman順位相関： 0.03263\n",
      "Numerai相関： 0.03707\n",
      "----------------------------------------------------------------------------------\n"
     ]
    },
    {
     "data": {
      "application/vnd.jupyter.widget-view+json": {
       "model_id": "f3e63330eaa44db99fc0550412e9ab30",
       "version_major": 2,
       "version_minor": 0
      },
      "text/plain": [
       "HBox(children=(Dropdown(description='選択：', options=('分位成績', '分位成績（集計）', '日次成績', '日次成績（集計）', '日次成績（確率分布）', '日次成…"
      ]
     },
     "metadata": {},
     "output_type": "display_data"
    },
    {
     "data": {
      "application/vnd.jupyter.widget-view+json": {
       "model_id": "23c0441053dc4399a7025f01580899f9",
       "version_major": 2,
       "version_minor": 0
      },
      "text/plain": [
       "Output()"
      ]
     },
     "metadata": {},
     "output_type": "display_data"
    }
   ],
   "source": [
    "lasso_dataset = lasso46\n",
    "lgbm_dataset = lgbm46\n",
    "ml_dataset = en46\n",
    "\n",
    "pred_result_df = lasso_dataset.get_pred_result()\n",
    "lgbm_result_df = lgbm_dataset.get_pred_result()\n",
    "#pred_result_df['Pred'] = pred_result_df['Pred'] * 6.7 + lgbm_result_df['Pred'] * 1.3\n",
    "\n",
    "#pred_result_df = lgbm_dataset.get_pred_result()\n",
    "\n",
    "ef46 = EvaluationFacade(pred_result_df,\n",
    "                      lgbm_dataset.get_raw_target(), \n",
    "                      start_day = datetime(2022, 1, 1), \n",
    "                      end_day = datetime(2025, 12, 31),\n",
    "                      bin_num=5,\n",
    "                      trade_sector_num=1)\n",
    "ef46.display()"
   ]
  },
  {
   "cell_type": "code",
   "execution_count": null,
   "metadata": {},
   "outputs": [
    {
     "data": {
      "text/html": [
       "<div>\n",
       "<style scoped>\n",
       "    .dataframe tbody tr th:only-of-type {\n",
       "        vertical-align: middle;\n",
       "    }\n",
       "\n",
       "    .dataframe tbody tr th {\n",
       "        vertical-align: top;\n",
       "    }\n",
       "\n",
       "    .dataframe thead th {\n",
       "        text-align: right;\n",
       "    }\n",
       "</style>\n",
       "<table border=\"1\" class=\"dataframe\">\n",
       "  <thead>\n",
       "    <tr style=\"text-align: right;\">\n",
       "      <th></th>\n",
       "      <th>48Sector</th>\n",
       "      <th>54Sector</th>\n",
       "      <th>46Sector</th>\n",
       "    </tr>\n",
       "    <tr>\n",
       "      <th>Date</th>\n",
       "      <th></th>\n",
       "      <th></th>\n",
       "      <th></th>\n",
       "    </tr>\n",
       "  </thead>\n",
       "  <tbody>\n",
       "    <tr>\n",
       "      <th>2022-01-04</th>\n",
       "      <td>-0.007459</td>\n",
       "      <td>-0.003341</td>\n",
       "      <td>-0.003039</td>\n",
       "    </tr>\n",
       "    <tr>\n",
       "      <th>2022-01-05</th>\n",
       "      <td>0.019286</td>\n",
       "      <td>0.018703</td>\n",
       "      <td>0.012513</td>\n",
       "    </tr>\n",
       "    <tr>\n",
       "      <th>2022-01-06</th>\n",
       "      <td>0.009948</td>\n",
       "      <td>0.005345</td>\n",
       "      <td>0.007414</td>\n",
       "    </tr>\n",
       "    <tr>\n",
       "      <th>2022-01-07</th>\n",
       "      <td>-0.007367</td>\n",
       "      <td>-0.003334</td>\n",
       "      <td>0.007899</td>\n",
       "    </tr>\n",
       "    <tr>\n",
       "      <th>2022-01-11</th>\n",
       "      <td>0.002016</td>\n",
       "      <td>0.014972</td>\n",
       "      <td>0.018213</td>\n",
       "    </tr>\n",
       "    <tr>\n",
       "      <th>...</th>\n",
       "      <td>...</td>\n",
       "      <td>...</td>\n",
       "      <td>...</td>\n",
       "    </tr>\n",
       "    <tr>\n",
       "      <th>2025-06-12</th>\n",
       "      <td>0.001284</td>\n",
       "      <td>0.000613</td>\n",
       "      <td>0.000718</td>\n",
       "    </tr>\n",
       "    <tr>\n",
       "      <th>2025-06-13</th>\n",
       "      <td>-0.009444</td>\n",
       "      <td>-0.002545</td>\n",
       "      <td>0.003817</td>\n",
       "    </tr>\n",
       "    <tr>\n",
       "      <th>2025-06-16</th>\n",
       "      <td>-0.002401</td>\n",
       "      <td>0.000368</td>\n",
       "      <td>0.003236</td>\n",
       "    </tr>\n",
       "    <tr>\n",
       "      <th>2025-06-17</th>\n",
       "      <td>0.001918</td>\n",
       "      <td>0.000344</td>\n",
       "      <td>0.002742</td>\n",
       "    </tr>\n",
       "    <tr>\n",
       "      <th>2025-06-18</th>\n",
       "      <td>-0.001861</td>\n",
       "      <td>0.001369</td>\n",
       "      <td>0.003736</td>\n",
       "    </tr>\n",
       "  </tbody>\n",
       "</table>\n",
       "<p>846 rows × 3 columns</p>\n",
       "</div>"
      ],
      "text/plain": [
       "            48Sector  54Sector  46Sector\n",
       "Date                                    \n",
       "2022-01-04 -0.007459 -0.003341 -0.003039\n",
       "2022-01-05  0.019286  0.018703  0.012513\n",
       "2022-01-06  0.009948  0.005345  0.007414\n",
       "2022-01-07 -0.007367 -0.003334  0.007899\n",
       "2022-01-11  0.002016  0.014972  0.018213\n",
       "...              ...       ...       ...\n",
       "2025-06-12  0.001284  0.000613  0.000718\n",
       "2025-06-13 -0.009444 -0.002545  0.003817\n",
       "2025-06-16 -0.002401  0.000368  0.003236\n",
       "2025-06-17  0.001918  0.000344  0.002742\n",
       "2025-06-18 -0.001861  0.001369  0.003736\n",
       "\n",
       "[846 rows x 3 columns]"
      ]
     },
     "execution_count": 21,
     "metadata": {},
     "output_type": "execute_result"
    }
   ],
   "source": [
    "import pandas as pd\n",
    "df48_en = ef48_en.met_calc.metrics_dfs['日次成績'][['LS']].rename(columns={'LS': '48Sector'})\n",
    "df54 = ef54.met_calc.metrics_dfs['日次成績'][['LS']].rename(columns={'LS': '54Sector'})\n",
    "df46 = ef46.met_calc.metrics_dfs['日次成績'][['LS']].rename(columns={'LS': '46Sector'})\n",
    "df = pd.concat([df48_en, df54, df46], axis=1).iloc[:-4]\n",
    "df"
   ]
  },
  {
   "cell_type": "code",
   "execution_count": null,
   "metadata": {},
   "outputs": [
    {
     "data": {
      "text/html": [
       "<div>\n",
       "<style scoped>\n",
       "    .dataframe tbody tr th:only-of-type {\n",
       "        vertical-align: middle;\n",
       "    }\n",
       "\n",
       "    .dataframe tbody tr th {\n",
       "        vertical-align: top;\n",
       "    }\n",
       "\n",
       "    .dataframe thead th {\n",
       "        text-align: right;\n",
       "    }\n",
       "</style>\n",
       "<table border=\"1\" class=\"dataframe\">\n",
       "  <thead>\n",
       "    <tr style=\"text-align: right;\">\n",
       "      <th></th>\n",
       "      <th>48Sector</th>\n",
       "      <th>54Sector</th>\n",
       "      <th>46Sector</th>\n",
       "      <th>Merged</th>\n",
       "    </tr>\n",
       "  </thead>\n",
       "  <tbody>\n",
       "    <tr>\n",
       "      <th>count</th>\n",
       "      <td>846.000000</td>\n",
       "      <td>846.000000</td>\n",
       "      <td>846.000000</td>\n",
       "      <td>846.000000</td>\n",
       "    </tr>\n",
       "    <tr>\n",
       "      <th>mean</th>\n",
       "      <td>0.001250</td>\n",
       "      <td>0.001017</td>\n",
       "      <td>0.000993</td>\n",
       "      <td>0.001094</td>\n",
       "    </tr>\n",
       "    <tr>\n",
       "      <th>std</th>\n",
       "      <td>0.006595</td>\n",
       "      <td>0.004606</td>\n",
       "      <td>0.006778</td>\n",
       "      <td>0.004509</td>\n",
       "    </tr>\n",
       "    <tr>\n",
       "      <th>min</th>\n",
       "      <td>-0.024493</td>\n",
       "      <td>-0.019682</td>\n",
       "      <td>-0.026648</td>\n",
       "      <td>-0.021270</td>\n",
       "    </tr>\n",
       "    <tr>\n",
       "      <th>25%</th>\n",
       "      <td>-0.002601</td>\n",
       "      <td>-0.001724</td>\n",
       "      <td>-0.003142</td>\n",
       "      <td>-0.001435</td>\n",
       "    </tr>\n",
       "    <tr>\n",
       "      <th>50%</th>\n",
       "      <td>0.001412</td>\n",
       "      <td>0.000694</td>\n",
       "      <td>0.000708</td>\n",
       "      <td>0.000950</td>\n",
       "    </tr>\n",
       "    <tr>\n",
       "      <th>75%</th>\n",
       "      <td>0.004883</td>\n",
       "      <td>0.003651</td>\n",
       "      <td>0.004945</td>\n",
       "      <td>0.003561</td>\n",
       "    </tr>\n",
       "    <tr>\n",
       "      <th>max</th>\n",
       "      <td>0.028130</td>\n",
       "      <td>0.022855</td>\n",
       "      <td>0.043198</td>\n",
       "      <td>0.024228</td>\n",
       "    </tr>\n",
       "    <tr>\n",
       "      <th>SR</th>\n",
       "      <td>0.189549</td>\n",
       "      <td>0.220854</td>\n",
       "      <td>0.146441</td>\n",
       "      <td>0.242662</td>\n",
       "    </tr>\n",
       "  </tbody>\n",
       "</table>\n",
       "</div>"
      ],
      "text/plain": [
       "         48Sector    54Sector    46Sector      Merged\n",
       "count  846.000000  846.000000  846.000000  846.000000\n",
       "mean     0.001250    0.001017    0.000993    0.001094\n",
       "std      0.006595    0.004606    0.006778    0.004509\n",
       "min     -0.024493   -0.019682   -0.026648   -0.021270\n",
       "25%     -0.002601   -0.001724   -0.003142   -0.001435\n",
       "50%      0.001412    0.000694    0.000708    0.000950\n",
       "75%      0.004883    0.003651    0.004945    0.003561\n",
       "max      0.028130    0.022855    0.043198    0.024228\n",
       "SR       0.189549    0.220854    0.146441    0.242662"
      ]
     },
     "execution_count": 31,
     "metadata": {},
     "output_type": "execute_result"
    }
   ],
   "source": [
    "df['Merged'] = df['54Sector'] * 0.67 + df['48Sector'] * 0.33 + df['46Sector'] * 0\n",
    "df_agg = df.describe().T\n",
    "df_agg['SR'] = df_agg['mean']/ df_agg['std']\n",
    "df_agg = df_agg.T\n",
    "df_agg"
   ]
  },
  {
   "cell_type": "code",
   "execution_count": null,
   "metadata": {},
   "outputs": [
    {
     "data": {
      "text/html": [
       "<div>\n",
       "<style scoped>\n",
       "    .dataframe tbody tr th:only-of-type {\n",
       "        vertical-align: middle;\n",
       "    }\n",
       "\n",
       "    .dataframe tbody tr th {\n",
       "        vertical-align: top;\n",
       "    }\n",
       "\n",
       "    .dataframe thead th {\n",
       "        text-align: right;\n",
       "    }\n",
       "</style>\n",
       "<table border=\"1\" class=\"dataframe\">\n",
       "  <thead>\n",
       "    <tr style=\"text-align: right;\">\n",
       "      <th></th>\n",
       "      <th>48Sector</th>\n",
       "      <th>54Sector</th>\n",
       "      <th>46Sector</th>\n",
       "      <th>Merged</th>\n",
       "    </tr>\n",
       "  </thead>\n",
       "  <tbody>\n",
       "    <tr>\n",
       "      <th>48Sector</th>\n",
       "      <td>1.000000</td>\n",
       "      <td>0.451755</td>\n",
       "      <td>0.445279</td>\n",
       "      <td>0.755429</td>\n",
       "    </tr>\n",
       "    <tr>\n",
       "      <th>54Sector</th>\n",
       "      <td>0.451755</td>\n",
       "      <td>1.000000</td>\n",
       "      <td>0.474306</td>\n",
       "      <td>0.899917</td>\n",
       "    </tr>\n",
       "    <tr>\n",
       "      <th>46Sector</th>\n",
       "      <td>0.445279</td>\n",
       "      <td>0.474306</td>\n",
       "      <td>1.000000</td>\n",
       "      <td>0.690420</td>\n",
       "    </tr>\n",
       "    <tr>\n",
       "      <th>Merged</th>\n",
       "      <td>0.755429</td>\n",
       "      <td>0.899917</td>\n",
       "      <td>0.690420</td>\n",
       "      <td>1.000000</td>\n",
       "    </tr>\n",
       "  </tbody>\n",
       "</table>\n",
       "</div>"
      ],
      "text/plain": [
       "          48Sector  54Sector  46Sector    Merged\n",
       "48Sector  1.000000  0.451755  0.445279  0.755429\n",
       "54Sector  0.451755  1.000000  0.474306  0.899917\n",
       "46Sector  0.445279  0.474306  1.000000  0.690420\n",
       "Merged    0.755429  0.899917  0.690420  1.000000"
      ]
     },
     "execution_count": 30,
     "metadata": {},
     "output_type": "execute_result"
    }
   ],
   "source": [
    "df.corr()"
   ]
  },
  {
   "cell_type": "code",
   "execution_count": null,
   "metadata": {},
   "outputs": [
    {
     "data": {
      "text/plain": [
       "[<matplotlib.lines.Line2D at 0x19b3e3f0a50>,\n",
       " <matplotlib.lines.Line2D at 0x19b3e432190>,\n",
       " <matplotlib.lines.Line2D at 0x19b3e430a50>,\n",
       " <matplotlib.lines.Line2D at 0x19af9038c50>]"
      ]
     },
     "execution_count": 9,
     "metadata": {},
     "output_type": "execute_result"
    },
    {
     "data": {
      "image/png": "[encoded data removed]",
      "text/plain": [
       "<Figure size 640x480 with 1 Axes>"
      ]
     },
     "metadata": {},
     "output_type": "display_data"
    }
   ],
   "source": [
    "import matplotlib.pyplot as plt\n",
    "\n",
    "cumprod_df = (df + 1).cumprod() - 1\n",
    "plt.plot(cumprod_df)"
   ]
  }
 ],
 "metadata": {
  "kernelspec": {
   "display_name": ".venv",
   "language": "python",
   "name": "python3"
  },
  "language_info": {
   "codemirror_mode": {
    "name": "ipython",
    "version": 3
   },
   "file_extension": ".py",
   "mimetype": "text/x-python",
   "name": "python",
   "nbconvert_exporter": "python",
   "pygments_lexer": "ipython3",
   "version": "3.11.10"
  }
 },
 "nbformat": 4,
 "nbformat_minor": 2
}
