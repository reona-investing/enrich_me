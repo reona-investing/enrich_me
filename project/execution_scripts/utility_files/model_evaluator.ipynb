{
 "cells": [
  {
   "cell_type": "code",
   "execution_count": 1,
   "metadata": {},
   "outputs": [
    {
     "name": "stdout",
     "output_type": "stream",
     "text": [
      "C:\\Users\\ryosh\\enrich_me\\project/ml_datasets/48sectors_ensembled_learned_in_250125/post_processing_data/order_price_df.parquet の読み込みに失敗しました。: Could not open Parquet input source '<Buffer>': Parquet magic bytes not found in footer. Either the file is corrupted or this is not a parquet file.\n"
     ]
    }
   ],
   "source": [
    "from models import MLDataset\n",
    "from utils.paths import Paths\n",
    "from facades import EvaluationFacade\n",
    "from datetime import datetime\n",
    "\n",
    "lasso_dataset = MLDataset(f'{Paths.ML_DATASETS_FOLDER}/48sectors_LASSO_learned_in_250125')\n",
    "lgbm_dataset = MLDataset(f'{Paths.ML_DATASETS_FOLDER}/48sectors_LGBM_learned_in_250125')\n",
    "en_dataset = MLDataset(f'{Paths.ML_DATASETS_FOLDER}/48sectors_ensembled_learned_in_250125')"
   ]
  },
  {
   "cell_type": "code",
   "execution_count": 2,
   "metadata": {},
   "outputs": [
    {
     "name": "stdout",
     "output_type": "stream",
     "text": [
      "読み込みが完了しました。\n",
      "全期間\n",
      "母集団の推定（99.7%）\n",
      "平均リターン: -0.0097% (worst: -0.2934%, best: 0.274%)\n",
      "標準偏差: 0.003731 (worst:0.006796, best:0.002494)\n",
      "-----------------------------------------\n",
      "モデルのスペック\n",
      "シャープレシオ: -0.025956 (worst:-0.431721, best:1.098907)\n",
      "最大ドローダウン: -32.3428% (worst:-3.5419%, best:0.5106%)\n",
      "最大ドローダウン日数: 13359日 (worst:48日, best:7日)\n",
      "----------------------------------------------------------------------------------\n",
      "直近1年\n",
      "母集団の推定（99.7%）\n",
      "平均リターン: -0.0097% (worst: -0.2934%, best: 0.274%)\n",
      "標準偏差: 0.003731 (worst:0.006796, best:0.002494)\n",
      "-----------------------------------------\n",
      "モデルのスペック\n",
      "シャープレシオ: -0.025956 (worst:-0.431721, best:1.098907)\n",
      "最大ドローダウン: -32.3428% (worst:-3.5419%, best:0.5106%)\n",
      "最大ドローダウン日数: 13359日 (worst:48日, best:7日)\n",
      "----------------------------------------------------------------------------------\n",
      "直近3ヶ月\n",
      "母集団の推定（99.7%）\n",
      "平均リターン: -0.0097% (worst: -0.2934%, best: 0.274%)\n",
      "標準偏差: 0.003731 (worst:0.006796, best:0.002494)\n",
      "-----------------------------------------\n",
      "モデルのスペック\n",
      "シャープレシオ: -0.025956 (worst:-0.431721, best:1.098907)\n",
      "最大ドローダウン: -32.3428% (worst:-3.5419%, best:0.5106%)\n",
      "最大ドローダウン日数: 13359日 (worst:48日, best:7日)\n",
      "----------------------------------------------------------------------------------\n",
      "最大ドローダウン (実績)： 2.115%, 10日\n",
      "Spearman順位相関： 0.01436\n",
      "Numerai相関： 0.00057\n",
      "----------------------------------------------------------------------------------\n"
     ]
    },
    {
     "name": "stderr",
     "output_type": "stream",
     "text": [
      "c:\\Users\\ryosh\\enrich_me\\.venv\\Lib\\site-packages\\numpy\\core\\fromnumeric.py:86: FutureWarning: The behavior of DataFrame.prod with axis=None is deprecated, in a future version this will reduce over both axes and return a scalar. To retain the old behavior, pass axis=0 (or do not pass axis)\n",
      "  return reduction(axis=axis, out=out, **passkwargs)\n",
      "c:\\Users\\ryosh\\enrich_me\\.venv\\Lib\\site-packages\\numpy\\core\\fromnumeric.py:86: FutureWarning: The behavior of DataFrame.prod with axis=None is deprecated, in a future version this will reduce over both axes and return a scalar. To retain the old behavior, pass axis=0 (or do not pass axis)\n",
      "  return reduction(axis=axis, out=out, **passkwargs)\n"
     ]
    },
    {
     "data": {
      "application/vnd.jupyter.widget-view+json": {
       "model_id": "bc5798be5d624391b3af1b22ae9283ad",
       "version_major": 2,
       "version_minor": 0
      },
      "text/plain": [
       "HBox(children=(Dropdown(description='選択：', options=('分位成績', '分位成績（集計）', '日次成績', '日次成績（集計）', '日次成績（確率分布）', '日次成…"
      ]
     },
     "metadata": {},
     "output_type": "display_data"
    },
    {
     "data": {
      "application/vnd.jupyter.widget-view+json": {
       "model_id": "ebdc34eac8e340c19f7831ec309af916",
       "version_major": 2,
       "version_minor": 0
      },
      "text/plain": [
       "Output()"
      ]
     },
     "metadata": {},
     "output_type": "display_data"
    }
   ],
   "source": [
    "ml_dataset = lasso_dataset\n",
    "\n",
    "ef = EvaluationFacade(ml_dataset, \n",
    "                 start_day = datetime(2025, 1, 1), \n",
    "                 end_day = datetime(2025, 12, 31),\n",
    "                 bin_num=5)\n",
    "ef.display()"
   ]
  }
 ],
 "metadata": {
  "kernelspec": {
   "display_name": "Python 3",
   "language": "python",
   "name": "python3"
  },
  "language_info": {
   "codemirror_mode": {
    "name": "ipython",
    "version": 3
   },
   "file_extension": ".py",
   "mimetype": "text/x-python",
   "name": "python",
   "nbconvert_exporter": "python",
   "pygments_lexer": "ipython3",
   "version": "3.11.10"
  }
 },
 "nbformat": 4,
 "nbformat_minor": 2
}
