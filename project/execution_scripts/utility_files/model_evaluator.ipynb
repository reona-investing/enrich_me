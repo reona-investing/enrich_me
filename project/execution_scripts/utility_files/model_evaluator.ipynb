{
 "cells": [
  {
   "cell_type": "code",
   "execution_count": 49,
   "metadata": {},
   "outputs": [],
   "source": [
    "from pathlib import Path\n",
    "import sys\n",
    "PROJECT_FOLDER = 'C:/Users/ryosh/enrich_me/project'\n",
    "ORIGINAL_MODULES = PROJECT_FOLDER + '/modules'\n",
    "sys.path.append(ORIGINAL_MODULES)"
   ]
  },
  {
   "cell_type": "code",
   "execution_count": 50,
   "metadata": {},
   "outputs": [
    {
     "name": "stdout",
     "output_type": "stream",
     "text": [
      "インスタンス情報を読み込みました。\n",
      "インスタンス情報を読み込みました。\n",
      "インスタンス情報を読み込みました。\n",
      "インスタンス情報を読み込みました。\n"
     ]
    }
   ],
   "source": [
    "import MLDataset\n",
    "import paths\n",
    "import evaluate_model\n",
    "from datetime import datetime\n",
    "\n",
    "lasso_dataset = MLDataset.MLDataset(f'{paths.ML_DATASETS_FOLDER}/New48sectors')\n",
    "lgbm_dataset = MLDataset.MLDataset(f'{paths.ML_DATASETS_FOLDER}/LGBM_after_New48sectors')\n",
    "en_dataset = MLDataset.MLDataset(f'{paths.ML_DATASETS_FOLDER}/LGBM_New48sectors_Ensembled')\n",
    "lgbm2_dataset = MLDataset.MLDataset(f'{paths.ML_DATASETS_FOLDER}/LGBM_test')"
   ]
  },
  {
   "cell_type": "code",
   "execution_count": 58,
   "metadata": {},
   "outputs": [],
   "source": [
    "import machine_learning\n",
    "en_dataset.pred_result_df['Pred'] = machine_learning.ensemble_by_rank(ml_datasets = [lasso_dataset, lgbm_dataset], \n",
    "                                                            ensemble_rates = [6.7, 1.3])"
   ]
  },
  {
   "cell_type": "code",
   "execution_count": 59,
   "metadata": {},
   "outputs": [
    {
     "name": "stderr",
     "output_type": "stream",
     "text": [
      "c:\\Users\\ryosh\\enrich_me\\.venv\\Lib\\site-packages\\numpy\\core\\fromnumeric.py:86: FutureWarning: The behavior of DataFrame.prod with axis=None is deprecated, in a future version this will reduce over both axes and return a scalar. To retain the old behavior, pass axis=0 (or do not pass axis)\n",
      "  return reduction(axis=axis, out=out, **passkwargs)\n",
      "c:\\Users\\ryosh\\enrich_me\\.venv\\Lib\\site-packages\\numpy\\core\\fromnumeric.py:86: FutureWarning: The behavior of DataFrame.prod with axis=None is deprecated, in a future version this will reduce over both axes and return a scalar. To retain the old behavior, pass axis=0 (or do not pass axis)\n",
      "  return reduction(axis=axis, out=out, **passkwargs)\n"
     ]
    },
    {
     "name": "stdout",
     "output_type": "stream",
     "text": [
      "DJ_residualsの読み込みが完了しました。\n",
      "全期間\n",
      "母集団の推定（99.7%）\n",
      "平均リターン: 0.1299% (worst: 0.0703%, best: 0.1895%)\n",
      "標準偏差: 0.005347 (worst:0.005799, best:0.004955)\n",
      "-----------------------------------------\n",
      "モデルのスペック\n",
      "シャープレシオ: 0.243013 (worst:0.121303, best:0.382505)\n",
      "最大ドローダウン: 4.9503% (worst:10.756%, best:2.9144%)\n",
      "最大ドローダウン日数: 152日 (worst:612日, best:62日)\n",
      "----------------------------------------------------------------------------------\n",
      "直近1年\n",
      "母集団の推定（99.7%）\n",
      "平均リターン: 0.1325% (worst: 0.0372%, best: 0.2278%)\n",
      "標準偏差: 0.005047 (worst:0.005806, best:0.004451)\n",
      "-----------------------------------------\n",
      "モデルのスペック\n",
      "シャープレシオ: 0.262451 (worst:0.064032, best:0.511667)\n",
      "最大ドローダウン: 4.3272% (worst:20.4027%, best:1.9575%)\n",
      "最大ドローダウン日数: 131日 (worst:2195日, best:34日)\n",
      "----------------------------------------------------------------------------------\n",
      "直近3ヶ月\n",
      "母集団の推定（99.7%）\n",
      "平均リターン: 0.1583% (worst: -0.0421%, best: 0.3588%)\n",
      "標準偏差: 0.00515 (worst:0.006946, best:0.004049)\n",
      "-----------------------------------------\n",
      "モデルのスペック\n",
      "シャープレシオ: 0.307428 (worst:-0.060655, best:0.886033)\n",
      "最大ドローダウン: 3.769% (worst:-25.7662%, best:1.0282%)\n",
      "最大ドローダウン日数: 95日 (worst:2446日, best:11日)\n",
      "----------------------------------------------------------------------------------\n",
      "最大ドローダウン (実績)： 4.121%, 51日\n",
      "Spearman順位相関： 0.04373\n",
      "Numerai相関： 0.05015\n",
      "----------------------------------------------------------------------------------\n"
     ]
    },
    {
     "data": {
      "application/vnd.jupyter.widget-view+json": {
       "model_id": "746658fe60104c8bbcc7c7b09d083f6d",
       "version_major": 2,
       "version_minor": 0
      },
      "text/plain": [
       "HBox(children=(Dropdown(description='選択：', options=('分位成績', '分位成績（集計）', '日次成績', '日次成績（集計）', '日次成績（確率分布）', '日次成…"
      ]
     },
     "metadata": {},
     "output_type": "display_data"
    },
    {
     "data": {
      "application/vnd.jupyter.widget-view+json": {
       "model_id": "9c9e46a6fed74851b3267b731a9fd9c2",
       "version_major": 2,
       "version_minor": 0
      },
      "text/plain": [
       "Output()"
      ]
     },
     "metadata": {},
     "output_type": "display_data"
    }
   ],
   "source": [
    "ml_dataset = en_dataset\n",
    "model_obj = evaluate_model.LongShortModel(model_name = 'DJ_residuals', pred_result_df = ml_dataset.pred_result_df, \n",
    "                                          raw_target_df = ml_dataset.raw_target_df,\n",
    "                                          start_date = datetime(2022, 1, 1), end_date = datetime.today(), \n",
    "                                          bin_num = 5, top_slope=1)\n",
    "model_obj.display_result()"
   ]
  },
  {
   "cell_type": "code",
   "execution_count": 53,
   "metadata": {},
   "outputs": [
    {
     "data": {
      "text/plain": [
       "<MLDataset.MLDataset at 0x1b16a057110>"
      ]
     },
     "execution_count": 53,
     "metadata": {},
     "output_type": "execute_result"
    }
   ],
   "source": [
    "en_dataset"
   ]
  },
  {
   "cell_type": "code",
   "execution_count": 54,
   "metadata": {},
   "outputs": [
    {
     "data": {
      "text/html": [
       "<div>\n",
       "<style scoped>\n",
       "    .dataframe tbody tr th:only-of-type {\n",
       "        vertical-align: middle;\n",
       "    }\n",
       "\n",
       "    .dataframe tbody tr th {\n",
       "        vertical-align: top;\n",
       "    }\n",
       "\n",
       "    .dataframe thead th {\n",
       "        text-align: right;\n",
       "    }\n",
       "</style>\n",
       "<table border=\"1\" class=\"dataframe\">\n",
       "  <thead>\n",
       "    <tr style=\"text-align: right;\">\n",
       "      <th></th>\n",
       "      <th></th>\n",
       "      <th>Target</th>\n",
       "      <th>Pred</th>\n",
       "      <th>Target</th>\n",
       "      <th>Pred</th>\n",
       "    </tr>\n",
       "    <tr>\n",
       "      <th>Date</th>\n",
       "      <th>Sector</th>\n",
       "      <th></th>\n",
       "      <th></th>\n",
       "      <th></th>\n",
       "      <th></th>\n",
       "    </tr>\n",
       "  </thead>\n",
       "  <tbody>\n",
       "    <tr>\n",
       "      <th rowspan=\"5\" valign=\"top\">2014-01-06</th>\n",
       "      <th>ITインフラ</th>\n",
       "      <td>0.000218</td>\n",
       "      <td>-0.000165</td>\n",
       "      <td>0.000218</td>\n",
       "      <td>44.0</td>\n",
       "    </tr>\n",
       "    <tr>\n",
       "      <th>OA機器</th>\n",
       "      <td>0.008540</td>\n",
       "      <td>-0.000228</td>\n",
       "      <td>0.008540</td>\n",
       "      <td>17.0</td>\n",
       "    </tr>\n",
       "    <tr>\n",
       "      <th>その他工業</th>\n",
       "      <td>0.002335</td>\n",
       "      <td>0.000914</td>\n",
       "      <td>0.002335</td>\n",
       "      <td>36.0</td>\n",
       "    </tr>\n",
       "    <tr>\n",
       "      <th>インフラ</th>\n",
       "      <td>0.001257</td>\n",
       "      <td>-0.000170</td>\n",
       "      <td>0.001257</td>\n",
       "      <td>16.0</td>\n",
       "    </tr>\n",
       "    <tr>\n",
       "      <th>エンタメ</th>\n",
       "      <td>0.004096</td>\n",
       "      <td>0.000310</td>\n",
       "      <td>0.004096</td>\n",
       "      <td>40.0</td>\n",
       "    </tr>\n",
       "    <tr>\n",
       "      <th>...</th>\n",
       "      <th>...</th>\n",
       "      <td>...</td>\n",
       "      <td>...</td>\n",
       "      <td>...</td>\n",
       "      <td>...</td>\n",
       "    </tr>\n",
       "    <tr>\n",
       "      <th rowspan=\"5\" valign=\"top\">2024-11-29</th>\n",
       "      <th>電子部品</th>\n",
       "      <td>NaN</td>\n",
       "      <td>-0.000843</td>\n",
       "      <td>NaN</td>\n",
       "      <td>16.0</td>\n",
       "    </tr>\n",
       "    <tr>\n",
       "      <th>電気機器</th>\n",
       "      <td>NaN</td>\n",
       "      <td>-0.002358</td>\n",
       "      <td>NaN</td>\n",
       "      <td>6.0</td>\n",
       "    </tr>\n",
       "    <tr>\n",
       "      <th>電気機器2</th>\n",
       "      <td>NaN</td>\n",
       "      <td>0.000159</td>\n",
       "      <td>NaN</td>\n",
       "      <td>26.0</td>\n",
       "    </tr>\n",
       "    <tr>\n",
       "      <th>非鉄金属</th>\n",
       "      <td>NaN</td>\n",
       "      <td>0.001155</td>\n",
       "      <td>NaN</td>\n",
       "      <td>15.0</td>\n",
       "    </tr>\n",
       "    <tr>\n",
       "      <th>食品</th>\n",
       "      <td>NaN</td>\n",
       "      <td>0.000795</td>\n",
       "      <td>NaN</td>\n",
       "      <td>35.0</td>\n",
       "    </tr>\n",
       "  </tbody>\n",
       "</table>\n",
       "<p>128016 rows × 4 columns</p>\n",
       "</div>"
      ],
      "text/plain": [
       "                     Target      Pred    Target  Pred\n",
       "Date       Sector                                    \n",
       "2014-01-06 ITインフラ  0.000218 -0.000165  0.000218  44.0\n",
       "           OA機器    0.008540 -0.000228  0.008540  17.0\n",
       "           その他工業   0.002335  0.000914  0.002335  36.0\n",
       "           インフラ    0.001257 -0.000170  0.001257  16.0\n",
       "           エンタメ    0.004096  0.000310  0.004096  40.0\n",
       "...                     ...       ...       ...   ...\n",
       "2024-11-29 電子部品         NaN -0.000843       NaN  16.0\n",
       "           電気機器         NaN -0.002358       NaN   6.0\n",
       "           電気機器2        NaN  0.000159       NaN  26.0\n",
       "           非鉄金属         NaN  0.001155       NaN  15.0\n",
       "           食品           NaN  0.000795       NaN  35.0\n",
       "\n",
       "[128016 rows x 4 columns]"
      ]
     },
     "execution_count": 54,
     "metadata": {},
     "output_type": "execute_result"
    }
   ],
   "source": [
    "import pandas as pd\n",
    "pd.concat([lgbm_dataset.pred_result_df, en_dataset.pred_result_df], axis=1)"
   ]
  },
  {
   "cell_type": "code",
   "execution_count": 55,
   "metadata": {},
   "outputs": [
    {
     "name": "stdout",
     "output_type": "stream",
     "text": [
      "インスタンス情報を読み込みました。\n"
     ]
    },
    {
     "ename": "TypeError",
     "evalue": "'NoneType' object is not subscriptable",
     "output_type": "error",
     "traceback": [
      "\u001b[1;31m---------------------------------------------------------------------------\u001b[0m",
      "\u001b[1;31mTypeError\u001b[0m                                 Traceback (most recent call last)",
      "Cell \u001b[1;32mIn[55], line 4\u001b[0m\n\u001b[0;32m      1\u001b[0m ml_dataset2 \u001b[38;5;241m=\u001b[39m MLDataset\u001b[38;5;241m.\u001b[39mMLDataset(\u001b[38;5;124mf\u001b[39m\u001b[38;5;124m'\u001b[39m\u001b[38;5;132;01m{\u001b[39;00mpaths\u001b[38;5;241m.\u001b[39mML_DATASETS_FOLDER\u001b[38;5;132;01m}\u001b[39;00m\u001b[38;5;124m/LGBM_after_New48sectors.pkl.gz\u001b[39m\u001b[38;5;124m'\u001b[39m)\n\u001b[0;32m      3\u001b[0m \u001b[38;5;28;01mimport\u001b[39;00m \u001b[38;5;21;01mpandas\u001b[39;00m \u001b[38;5;28;01mas\u001b[39;00m \u001b[38;5;21;01mpd\u001b[39;00m\n\u001b[1;32m----> 4\u001b[0m model \u001b[38;5;241m=\u001b[39m \u001b[43mml_dataset2\u001b[49m\u001b[38;5;241;43m.\u001b[39;49m\u001b[43mml_models\u001b[49m\u001b[43m[\u001b[49m\u001b[38;5;241;43m0\u001b[39;49m\u001b[43m]\u001b[49m\n\u001b[0;32m      5\u001b[0m \u001b[38;5;66;03m# モデルのトレーニング後に追加\u001b[39;00m\n\u001b[0;32m      6\u001b[0m importance_df \u001b[38;5;241m=\u001b[39m pd\u001b[38;5;241m.\u001b[39mDataFrame({\n\u001b[0;32m      7\u001b[0m     \u001b[38;5;124m'\u001b[39m\u001b[38;5;124mFeature\u001b[39m\u001b[38;5;124m'\u001b[39m: ml_dataset2\u001b[38;5;241m.\u001b[39mfeatures_test_df\u001b[38;5;241m.\u001b[39mcolumns,\n\u001b[0;32m      8\u001b[0m     \u001b[38;5;124m'\u001b[39m\u001b[38;5;124mImportance\u001b[39m\u001b[38;5;124m'\u001b[39m: model\u001b[38;5;241m.\u001b[39mfeature_importance(importance_type\u001b[38;5;241m=\u001b[39m\u001b[38;5;124m'\u001b[39m\u001b[38;5;124mgain\u001b[39m\u001b[38;5;124m'\u001b[39m)\n\u001b[0;32m      9\u001b[0m })\u001b[38;5;241m.\u001b[39msort_values(by\u001b[38;5;241m=\u001b[39m\u001b[38;5;124m'\u001b[39m\u001b[38;5;124mImportance\u001b[39m\u001b[38;5;124m'\u001b[39m, ascending\u001b[38;5;241m=\u001b[39m\u001b[38;5;28;01mFalse\u001b[39;00m)\n",
      "\u001b[1;31mTypeError\u001b[0m: 'NoneType' object is not subscriptable"
     ]
    }
   ],
   "source": [
    "ml_dataset2 = MLDataset.MLDataset(f'{paths.ML_DATASETS_FOLDER}/LGBM_after_New48sectors.pkl.gz')\n",
    "\n",
    "import pandas as pd\n",
    "model = ml_dataset2.ml_models[0]\n",
    "# モデルのトレーニング後に追加\n",
    "importance_df = pd.DataFrame({\n",
    "    'Feature': ml_dataset2.features_test_df.columns,\n",
    "    'Importance': model.feature_importance(importance_type='gain')\n",
    "}).sort_values(by='Importance', ascending=False)\n",
    "\n",
    "pd.set_option('display.max_rows', None)\n",
    "display(importance_df)\n",
    "pd.reset_option('display.max_rows')"
   ]
  }
 ],
 "metadata": {
  "kernelspec": {
   "display_name": "Python 3",
   "language": "python",
   "name": "python3"
  },
  "language_info": {
   "codemirror_mode": {
    "name": "ipython",
    "version": 3
   },
   "file_extension": ".py",
   "mimetype": "text/x-python",
   "name": "python",
   "nbconvert_exporter": "python",
   "pygments_lexer": "ipython3",
   "version": "3.11.10"
  }
 },
 "nbformat": 4,
 "nbformat_minor": 2
}
