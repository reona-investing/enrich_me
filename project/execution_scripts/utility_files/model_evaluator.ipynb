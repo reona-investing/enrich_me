{
 "cells": [
  {
   "cell_type": "code",
   "execution_count": 10,
   "metadata": {},
   "outputs": [],
   "source": [
    "from models import MLDataset\n",
    "from utils.paths import Paths\n",
    "from facades import EvaluationFacade\n",
    "from datetime import datetime\n",
    "\n",
    "lasso_dataset = MLDataset(f'{Paths.ML_DATASETS_FOLDER}/48sectors_LASSO_to_2021')\n",
    "lgbm_dataset = MLDataset(f'{Paths.ML_DATASETS_FOLDER}/48sectors_LGBM_to_2021')\n",
    "en_dataset = MLDataset(f'{Paths.ML_DATASETS_FOLDER}/48sectors_ensembled_to_2021')\n",
    "\n",
    "#lasso_dataset = MLDataset(f'{Paths.ML_DATASETS_FOLDER}/48sectors_LASSO_learned_in_250408')\n",
    "#lgbm_dataset = MLDataset(f'{Paths.ML_DATASETS_FOLDER}/48sectors_LGBM_learned_in_250408')\n",
    "#en_dataset = MLDataset(f'{Paths.ML_DATASETS_FOLDER}/48sectors_Ensembled_learned_in_250408')"
   ]
  },
  {
   "cell_type": "code",
   "execution_count": 11,
   "metadata": {},
   "outputs": [
    {
     "data": {
      "text/html": [
       "<div>\n",
       "<style scoped>\n",
       "    .dataframe tbody tr th:only-of-type {\n",
       "        vertical-align: middle;\n",
       "    }\n",
       "\n",
       "    .dataframe tbody tr th {\n",
       "        vertical-align: top;\n",
       "    }\n",
       "\n",
       "    .dataframe thead th {\n",
       "        text-align: right;\n",
       "    }\n",
       "</style>\n",
       "<table border=\"1\" class=\"dataframe\">\n",
       "  <thead>\n",
       "    <tr style=\"text-align: right;\">\n",
       "      <th></th>\n",
       "      <th></th>\n",
       "      <th>Target</th>\n",
       "      <th>Pred</th>\n",
       "    </tr>\n",
       "    <tr>\n",
       "      <th>Date</th>\n",
       "      <th>Sector</th>\n",
       "      <th></th>\n",
       "      <th></th>\n",
       "    </tr>\n",
       "  </thead>\n",
       "  <tbody>\n",
       "    <tr>\n",
       "      <th>2014-01-06</th>\n",
       "      <th>ITインフラ</th>\n",
       "      <td>0.000203</td>\n",
       "      <td>47.0</td>\n",
       "    </tr>\n",
       "    <tr>\n",
       "      <th>2014-01-07</th>\n",
       "      <th>ITインフラ</th>\n",
       "      <td>-0.008966</td>\n",
       "      <td>48.0</td>\n",
       "    </tr>\n",
       "    <tr>\n",
       "      <th>2014-01-08</th>\n",
       "      <th>ITインフラ</th>\n",
       "      <td>-0.005443</td>\n",
       "      <td>16.0</td>\n",
       "    </tr>\n",
       "    <tr>\n",
       "      <th>2014-01-09</th>\n",
       "      <th>ITインフラ</th>\n",
       "      <td>-0.002799</td>\n",
       "      <td>2.0</td>\n",
       "    </tr>\n",
       "    <tr>\n",
       "      <th>2014-01-10</th>\n",
       "      <th>ITインフラ</th>\n",
       "      <td>-0.000299</td>\n",
       "      <td>46.0</td>\n",
       "    </tr>\n",
       "    <tr>\n",
       "      <th>...</th>\n",
       "      <th>...</th>\n",
       "      <td>...</td>\n",
       "      <td>...</td>\n",
       "    </tr>\n",
       "    <tr>\n",
       "      <th>2025-04-02</th>\n",
       "      <th>食品</th>\n",
       "      <td>-0.005437</td>\n",
       "      <td>37.0</td>\n",
       "    </tr>\n",
       "    <tr>\n",
       "      <th>2025-04-03</th>\n",
       "      <th>食品</th>\n",
       "      <td>0.008438</td>\n",
       "      <td>31.0</td>\n",
       "    </tr>\n",
       "    <tr>\n",
       "      <th>2025-04-04</th>\n",
       "      <th>食品</th>\n",
       "      <td>0.018110</td>\n",
       "      <td>39.0</td>\n",
       "    </tr>\n",
       "    <tr>\n",
       "      <th>2025-04-07</th>\n",
       "      <th>食品</th>\n",
       "      <td>-0.003120</td>\n",
       "      <td>28.0</td>\n",
       "    </tr>\n",
       "    <tr>\n",
       "      <th>2025-04-09</th>\n",
       "      <th>食品</th>\n",
       "      <td>NaN</td>\n",
       "      <td>15.0</td>\n",
       "    </tr>\n",
       "  </tbody>\n",
       "</table>\n",
       "<p>132048 rows × 2 columns</p>\n",
       "</div>"
      ],
      "text/plain": [
       "                     Target  Pred\n",
       "Date       Sector                \n",
       "2014-01-06 ITインフラ  0.000203  47.0\n",
       "2014-01-07 ITインフラ -0.008966  48.0\n",
       "2014-01-08 ITインフラ -0.005443  16.0\n",
       "2014-01-09 ITインフラ -0.002799   2.0\n",
       "2014-01-10 ITインフラ -0.000299  46.0\n",
       "...                     ...   ...\n",
       "2025-04-02 食品     -0.005437  37.0\n",
       "2025-04-03 食品      0.008438  31.0\n",
       "2025-04-04 食品      0.018110  39.0\n",
       "2025-04-07 食品     -0.003120  28.0\n",
       "2025-04-09 食品           NaN  15.0\n",
       "\n",
       "[132048 rows x 2 columns]"
      ]
     },
     "execution_count": 11,
     "metadata": {},
     "output_type": "execute_result"
    }
   ],
   "source": [
    "#en_dataset.evaluation_materials.pred_result_df['Pred'] = \\\n",
    "#    lasso_dataset.evaluation_materials.pred_result_df['Pred'] * 1.3 + \\\n",
    "#    lgbm_dataset.evaluation_materials.pred_result_df['Pred'] * 11.3\n",
    "en_dataset.evaluation_materials.pred_result_df"
   ]
  },
  {
   "cell_type": "code",
   "execution_count": 14,
   "metadata": {},
   "outputs": [
    {
     "name": "stderr",
     "output_type": "stream",
     "text": [
      "c:\\Users\\ryosh\\enrich_me\\.venv\\Lib\\site-packages\\numpy\\core\\fromnumeric.py:86: FutureWarning: The behavior of DataFrame.prod with axis=None is deprecated, in a future version this will reduce over both axes and return a scalar. To retain the old behavior, pass axis=0 (or do not pass axis)\n",
      "  return reduction(axis=axis, out=out, **passkwargs)\n",
      "c:\\Users\\ryosh\\enrich_me\\.venv\\Lib\\site-packages\\numpy\\core\\fromnumeric.py:86: FutureWarning: The behavior of DataFrame.prod with axis=None is deprecated, in a future version this will reduce over both axes and return a scalar. To retain the old behavior, pass axis=0 (or do not pass axis)\n",
      "  return reduction(axis=axis, out=out, **passkwargs)\n"
     ]
    },
    {
     "name": "stdout",
     "output_type": "stream",
     "text": [
      "読み込みが完了しました。\n",
      "全期間\n",
      "母集団の推定（99.7%）\n",
      "平均リターン: 0.0903% (worst: 0.0312%, best: 0.1494%)\n",
      "標準偏差: 0.005613 (worst:0.00606, best:0.005222)\n",
      "-----------------------------------------\n",
      "モデルのスペック\n",
      "シャープレシオ: 0.160885 (worst:0.051408, best:0.286185)\n",
      "最大ドローダウン: 7.8494% (worst:26.5226%, best:4.1056%)\n",
      "最大ドローダウン日数: 348日 (worst:3405日, best:110日)\n",
      "----------------------------------------------------------------------------------\n",
      "直近1年\n",
      "母集団の推定（99.7%）\n",
      "平均リターン: 0.0624% (worst: -0.0394%, best: 0.1642%)\n",
      "標準偏差: 0.005393 (worst:0.006204, best:0.004756)\n",
      "-----------------------------------------\n",
      "モデルのスペック\n",
      "シャープレシオ: 0.115748 (worst:-0.063499, best:0.345319)\n",
      "最大ドローダウン: 10.4831% (worst:-21.982%, best:3.0989%)\n",
      "最大ドローダウン日数: 672日 (worst:2232日, best:75日)\n",
      "----------------------------------------------------------------------------------\n",
      "直近3ヶ月\n",
      "母集団の推定（99.7%）\n",
      "平均リターン: -0.0083% (worst: -0.2348%, best: 0.2183%)\n",
      "標準偏差: 0.005821 (worst:0.007851, best:0.004577)\n",
      "-----------------------------------------\n",
      "モデルのスペック\n",
      "シャープレシオ: -0.01418 (worst:-0.299094, best:0.477007)\n",
      "最大ドローダウン: -92.3618% (worst:-5.9061%, best:2.1588%)\n",
      "最大ドローダウン日数: 44762日 (worst:101日, best:40日)\n",
      "----------------------------------------------------------------------------------\n",
      "最大ドローダウン (実績)： 6.07%, 76日\n",
      "Spearman順位相関： 0.02921\n",
      "Numerai相関： 0.03389\n",
      "----------------------------------------------------------------------------------\n"
     ]
    },
    {
     "data": {
      "application/vnd.jupyter.widget-view+json": {
       "model_id": "d06161e708984b1da0125c2207224c7f",
       "version_major": 2,
       "version_minor": 0
      },
      "text/plain": [
       "HBox(children=(Dropdown(description='選択：', options=('分位成績', '分位成績（集計）', '日次成績', '日次成績（集計）', '日次成績（確率分布）', '日次成…"
      ]
     },
     "metadata": {},
     "output_type": "display_data"
    },
    {
     "data": {
      "application/vnd.jupyter.widget-view+json": {
       "model_id": "6b43488efd3441fc90bafdda30d31a84",
       "version_major": 2,
       "version_minor": 0
      },
      "text/plain": [
       "Output()"
      ]
     },
     "metadata": {},
     "output_type": "display_data"
    }
   ],
   "source": [
    "ml_dataset = lgbm_dataset\n",
    "#ml_dataset =MLDataset(f'{Paths.ML_DATASETS_FOLDER}/LGBM_New48sectors_Ensembled_to2021')\n",
    "ef = EvaluationFacade(ml_dataset, \n",
    "                 start_day = datetime(2022, 1, 1), \n",
    "                 end_day = datetime(2025, 12, 31),\n",
    "                 bin_num=5)\n",
    "ef.display()"
   ]
  },
  {
   "cell_type": "code",
   "execution_count": 3,
   "metadata": {},
   "outputs": [],
   "source": [
    "df = ef.visualizer.metrics_dfs['日次成績'][['LS']].rename(columns={'LS': 'Target'})\n",
    "df.to_csv('result_現行.csv')"
   ]
  }
 ],
 "metadata": {
  "kernelspec": {
   "display_name": ".venv",
   "language": "python",
   "name": "python3"
  },
  "language_info": {
   "codemirror_mode": {
    "name": "ipython",
    "version": 3
   },
   "file_extension": ".py",
   "mimetype": "text/x-python",
   "name": "python",
   "nbconvert_exporter": "python",
   "pygments_lexer": "ipython3",
   "version": "3.11.10"
  }
 },
 "nbformat": 4,
 "nbformat_minor": 2
}
