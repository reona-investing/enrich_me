{
 "cells": [
  {
   "cell_type": "code",
   "execution_count": 1,
   "id": "d987ca90",
   "metadata": {
    "colab": {
     "base_uri": "https://localhost:8080/",
     "height": 371
    },
    "executionInfo": {
     "elapsed": 3288,
     "status": "error",
     "timestamp": 1751814263007,
     "user": {
      "displayName": "吉泉玲央奈",
      "userId": "04058825081634133314"
     },
     "user_tz": -540
    },
    "id": "d987ca90",
    "outputId": "6c8d416c-c8b7-441a-f565-86c73f489437"
   },
   "outputs": [],
   "source": [
    "import pandas as pd\n",
    "from datetime import datetime\n",
    "from utils.paths import Paths\n",
    "\n",
    "from performance.tools import (\n",
    "    DailyReturnGenerator,\n",
    "    ReturnMetricsRunner,\n",
    "    MetricsInteractiveViewer,\n",
    "    ReturnDataFrameBuilder,\n",
    ")\n",
    "from machine_learning.ml_dataset import MLDataset"
   ]
  },
  {
   "cell_type": "markdown",
   "id": "05929416",
   "metadata": {
    "id": "05929416"
   },
   "source": [
    "## 実際のトレード履歴をリターン化"
   ]
  },
  {
   "cell_type": "code",
   "execution_count": 2,
   "id": "6e7d9642",
   "metadata": {
    "executionInfo": {
     "elapsed": 26,
     "status": "aborted",
     "timestamp": 1751814263028,
     "user": {
      "displayName": "吉泉玲央奈",
      "userId": "04058825081634133314"
     },
     "user_tz": -540
    },
    "id": "6e7d9642"
   },
   "outputs": [
    {
     "data": {
      "text/html": [
       "<div>\n",
       "<style scoped>\n",
       "    .dataframe tbody tr th:only-of-type {\n",
       "        vertical-align: middle;\n",
       "    }\n",
       "\n",
       "    .dataframe tbody tr th {\n",
       "        vertical-align: top;\n",
       "    }\n",
       "\n",
       "    .dataframe thead th {\n",
       "        text-align: right;\n",
       "    }\n",
       "</style>\n",
       "<table border=\"1\" class=\"dataframe\">\n",
       "  <thead>\n",
       "    <tr style=\"text-align: right;\">\n",
       "      <th></th>\n",
       "      <th>Return</th>\n",
       "    </tr>\n",
       "    <tr>\n",
       "      <th>Date</th>\n",
       "      <th></th>\n",
       "    </tr>\n",
       "  </thead>\n",
       "  <tbody>\n",
       "    <tr>\n",
       "      <th>2025-07-03</th>\n",
       "      <td>0.002200</td>\n",
       "    </tr>\n",
       "    <tr>\n",
       "      <th>2025-07-04</th>\n",
       "      <td>-0.003571</td>\n",
       "    </tr>\n",
       "  </tbody>\n",
       "</table>\n",
       "</div>"
      ],
      "text/plain": [
       "              Return\n",
       "Date                \n",
       "2025-07-03  0.002200\n",
       "2025-07-04 -0.003571"
      ]
     },
     "execution_count": 2,
     "metadata": {},
     "output_type": "execute_result"
    }
   ],
   "source": [
    "trade_history = pd.read_csv(Paths.TRADE_HISTORY_CSV)\n",
    "drg = DailyReturnGenerator(date_series=trade_history[\"日付\"],\n",
    "                     acquisition_price_series=trade_history[\"取得価格\"],\n",
    "                     settlement_price_series=trade_history[\"決済価格\"],\n",
    "                     long_or_short_series=trade_history[\"売or買\"],\n",
    "                     short_keyphrase=\"売\")\n",
    "daily_return_df = drg.get()\n",
    "daily_return_df.tail(2)"
   ]
  },
  {
   "cell_type": "code",
   "execution_count": 3,
   "id": "4037f5f4",
   "metadata": {
    "executionInfo": {
     "elapsed": 33,
     "status": "aborted",
     "timestamp": 1751814263036,
     "user": {
      "displayName": "吉泉玲央奈",
      "userId": "04058825081634133314"
     },
     "user_tz": -540
    },
    "id": "4037f5f4"
   },
   "outputs": [
    {
     "data": {
      "application/vnd.jupyter.widget-view+json": {
       "model_id": "e31dddeb9b734e68b8273290c0a6b614",
       "version_major": 2,
       "version_minor": 0
      },
      "text/plain": [
       "VBox(children=(Dropdown(description='パターン:', options=('税引前・レバレッジ無', '税引前・レバレッジ有', '税引後・レバレッジ有'), value='税引前・レバ…"
      ]
     },
     "metadata": {},
     "output_type": "display_data"
    }
   ],
   "source": [
    "rmr = ReturnMetricsRunner(date_series=daily_return_df.index,\n",
    "                          return_series=daily_return_df['Return'])\n",
    "df_dict = rmr.calculate()\n",
    "miv = MetricsInteractiveViewer(df_dict)\n",
    "miv.display()"
   ]
  },
  {
   "cell_type": "markdown",
   "id": "e52c2044",
   "metadata": {
    "id": "e52c2044"
   },
   "source": [
    "## モデルのリターンデータ読み込み"
   ]
  },
  {
   "cell_type": "code",
   "execution_count": 12,
   "id": "5badbdce",
   "metadata": {},
   "outputs": [],
   "source": [
    "#TODO ここをクラス化する\n",
    "\n",
    "def get_return_df(pred_df: pd.DataFrame, trade_secor_numbers: int, top_slope: float) -> pd.DataFrame:\n",
    "    pred_df['TargetRank'] = pred_df.groupby('Date')['Target'].rank(ascending=False)\n",
    "    pred_df['PredRank'] = pred_df.groupby('Date')['Pred'].rank(ascending=False)\n",
    "\n",
    "    sector_numbers = len(pred_df.index.get_level_values('Sector').unique())\n",
    "    long_df = pred_df[pred_df['PredRank'] <= trade_secor_numbers]\n",
    "    short_df = pred_df[pred_df['PredRank'] > sector_numbers - trade_secor_numbers]\n",
    "\n",
    "    if trade_secor_numbers > 1:\n",
    "        long_df.loc[long_df['PredRank'] == 1, 'Target'] *= top_slope\n",
    "        long_df.loc[long_df['PredRank'] != 1, 'Target'] *= 1 - (top_slope - 1) / (trade_secor_numbers - 1)\n",
    "        short_df.loc[short_df['PredRank'] == sector_numbers, 'Target'] *= top_slope\n",
    "        short_df.loc[short_df['PredRank'] != sector_numbers, 'Target'] *= 1 - (top_slope - 1) / (trade_secor_numbers - 1)\n",
    "    long_df = long_df.groupby('Date')[['Target']].mean()\n",
    "    short_df = - short_df.groupby('Date')[['Target']].mean()\n",
    "    timeseries_return = (long_df + short_df) / 2\n",
    "    timeseries_return = timeseries_return.rename(columns={'Target': 'Return'})\n",
    "\n",
    "    return timeseries_return"
   ]
  },
  {
   "cell_type": "code",
   "execution_count": 13,
   "id": "c2f44f43",
   "metadata": {
    "executionInfo": {
     "elapsed": 11526,
     "status": "aborted",
     "timestamp": 1751814263043,
     "user": {
      "displayName": "吉泉玲央奈",
      "userId": "04058825081634133314"
     },
     "user_tz": -540
    },
    "id": "c2f44f43"
   },
   "outputs": [],
   "source": [
    "eval_start_date = datetime(2022, 1, 1)\n",
    "eval_end_date = datetime.today()\n",
    "trade_sector_numbers = 2\n",
    "top_slope = 1\n",
    "\n",
    "lgbm48 = f'{Paths.ML_DATASETS_FOLDER}/48sectors_LightGBMlearned_in_250702'\n",
    "lgbm48_pred_df = ReturnDataFrameBuilder(dataset_root=lgbm48, start_date=eval_start_date, end_date=eval_end_date).build()\n",
    "lgbm48_return_df = get_return_df(lgbm48_pred_df, trade_sector_numbers, top_slope)\n",
    "\n",
    "lasso56 = f'{Paths.ML_DATASETS_FOLDER}/56sectors_LASSO_learned_in_250702'\n",
    "lasso56_pred_df = ReturnDataFrameBuilder(dataset_root=lasso56, start_date=eval_start_date, end_date=eval_end_date).build()\n",
    "lasso56_return_df = get_return_df(lasso56_pred_df, trade_sector_numbers, top_slope)"
   ]
  },
  {
   "cell_type": "code",
   "execution_count": 18,
   "id": "e0e1da6a",
   "metadata": {
    "executionInfo": {
     "elapsed": 11526,
     "status": "aborted",
     "timestamp": 1751814263044,
     "user": {
      "displayName": "吉泉玲央奈",
      "userId": "04058825081634133314"
     },
     "user_tz": -540
    },
    "id": "e0e1da6a"
   },
   "outputs": [
    {
     "data": {
      "application/vnd.jupyter.widget-view+json": {
       "model_id": "4215b14d06234ad58f0edb2aca5cbf3f",
       "version_major": 2,
       "version_minor": 0
      },
      "text/plain": [
       "VBox(children=(Dropdown(description='パターン:', options=('税引前・レバレッジ無', '税引前・レバレッジ有', '税引後・レバレッジ有'), value='税引前・レバ…"
      ]
     },
     "metadata": {},
     "output_type": "display_data"
    }
   ],
   "source": [
    "rmr = ReturnMetricsRunner(date_series=lasso56_return_df.index,\n",
    "                          return_series=lasso56_return_df['Return'],\n",
    "                          is_tax_excluded=False,\n",
    "                          is_leverage_applied=False)\n",
    "df_dict = rmr.calculate()\n",
    "miv = MetricsInteractiveViewer(df_dict)\n",
    "miv.display()"
   ]
  },
  {
   "cell_type": "code",
   "execution_count": 19,
   "id": "382502bf",
   "metadata": {
    "executionInfo": {
     "elapsed": 11527,
     "status": "aborted",
     "timestamp": 1751814263045,
     "user": {
      "displayName": "吉泉玲央奈",
      "userId": "04058825081634133314"
     },
     "user_tz": -540
    },
    "id": "382502bf"
   },
   "outputs": [
    {
     "data": {
      "application/vnd.jupyter.widget-view+json": {
       "model_id": "ad3afd4fd75c4720b8e54c3e490c88d1",
       "version_major": 2,
       "version_minor": 0
      },
      "text/plain": [
       "VBox(children=(Dropdown(description='パターン:', options=('税引前・レバレッジ無', '税引前・レバレッジ有', '税引後・レバレッジ有'), value='税引前・レバ…"
      ]
     },
     "metadata": {},
     "output_type": "display_data"
    }
   ],
   "source": [
    "ensembled_return_df = (lgbm48_return_df + lasso56_return_df * 2) / 3\n",
    "\n",
    "rmr = ReturnMetricsRunner(date_series=ensembled_return_df.index,\n",
    "                          return_series=ensembled_return_df['Return'],\n",
    "                          is_tax_excluded=False,\n",
    "                          is_leverage_applied=False)\n",
    "df_dict = rmr.calculate()\n",
    "miv = MetricsInteractiveViewer(df_dict)\n",
    "miv.display()"
   ]
  }
 ],
 "metadata": {
  "colab": {
   "provenance": []
  },
  "kernelspec": {
   "display_name": ".venv",
   "language": "python",
   "name": "python3"
  },
  "language_info": {
   "codemirror_mode": {
    "name": "ipython",
    "version": 3
   },
   "file_extension": ".py",
   "mimetype": "text/x-python",
   "name": "python",
   "nbconvert_exporter": "python",
   "pygments_lexer": "ipython3",
   "version": "3.11.10"
  }
 },
 "nbformat": 4,
 "nbformat_minor": 5
}
