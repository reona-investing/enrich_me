{
 "cells": [
  {
   "cell_type": "markdown",
   "metadata": {},
   "source": [
    "# リターン分析ユーティリティの利用例"
   ]
  },
  {
   "cell_type": "code",
   "execution_count": null,
   "metadata": {},
   "outputs": [],
   "source": [
    "import pandas as pd\n",
    "from project.modules.evaluation import (\n",
    "    ReturnDataHandler,\n",
    "    ReturnMetricsCalculator,\n",
    "    ReturnVisualizer,\n",
    ")\n"
   ]
  },
  {
   "cell_type": "code",
   "execution_count": null,
   "metadata": {},
   "outputs": [],
   "source": [
    "# サンプルリターンデータの読み込み\n",
    "returns = pd.read_csv('project/execution_scripts/utility_files/ReturnTimeSeries.csv')\n",
    "returns.head()"
   ]
  },
  {
   "cell_type": "code",
   "execution_count": null,
   "metadata": {},
   "outputs": [],
   "source": [
    "# 新しいクラスで統計量を計算\n",
    "handler = ReturnDataHandler(returns, date_col='Date', return_col='Merged')\n",
    "calculator = ReturnMetricsCalculator(handler)\n",
    "calculator.metrics['日次成績（集計）']"
   ]
  },
  {
   "cell_type": "code",
   "execution_count": null,
   "metadata": {},
   "outputs": [],
   "source": [
    "# インタラクティブに表示\n",
    "visualizer = ReturnVisualizer(calculator)\n",
    "visualizer.display_result()"
   ]
  }
 ],
 "metadata": {
  "kernelspec": {
   "display_name": "Python 3",
   "language": "python",
   "name": "python3"
  },
  "language_info": {
   "name": "python",
   "version": "3.11"
  }
 },
 "nbformat": 4,
 "nbformat_minor": 5
}
