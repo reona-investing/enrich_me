{
 "cells": [
  {
   "cell_type": "code",
   "execution_count": 1,
   "metadata": {},
   "outputs": [],
   "source": [
    "from pathlib import Path\n",
    "import sys\n",
    "ORIGINAL_MODULES = 'C:/Users/ryosh/enrich_me/project/modules'\n",
    "sys.path.append(ORIGINAL_MODULES)"
   ]
  },
  {
   "cell_type": "code",
   "execution_count": 2,
   "metadata": {},
   "outputs": [
    {
     "name": "stdout",
     "output_type": "stream",
     "text": [
      "インスタンス情報を読み込みました。\n",
      "インスタンス情報を読み込みました。\n"
     ]
    }
   ],
   "source": [
    "from models import MLDataset\n",
    "import paths\n",
    "import evaluate_model\n",
    "from datetime import datetime\n",
    "\n",
    "lasso_dataset = MLDataset(f'{paths.ML_DATASETS_FOLDER}/New48sectors')\n",
    "en_dataset = MLDataset(f'{paths.ML_DATASETS_FOLDER}/LGBM_New48sectors_Ensembled')"
   ]
  },
  {
   "cell_type": "code",
   "execution_count": 3,
   "metadata": {},
   "outputs": [
    {
     "name": "stderr",
     "output_type": "stream",
     "text": [
      "c:\\Users\\ryosh\\enrich_me\\.venv\\Lib\\site-packages\\numpy\\core\\fromnumeric.py:86: FutureWarning: The behavior of DataFrame.prod with axis=None is deprecated, in a future version this will reduce over both axes and return a scalar. To retain the old behavior, pass axis=0 (or do not pass axis)\n",
      "  return reduction(axis=axis, out=out, **passkwargs)\n",
      "c:\\Users\\ryosh\\enrich_me\\.venv\\Lib\\site-packages\\numpy\\core\\fromnumeric.py:86: FutureWarning: The behavior of DataFrame.prod with axis=None is deprecated, in a future version this will reduce over both axes and return a scalar. To retain the old behavior, pass axis=0 (or do not pass axis)\n",
      "  return reduction(axis=axis, out=out, **passkwargs)\n"
     ]
    },
    {
     "name": "stdout",
     "output_type": "stream",
     "text": [
      "DJ_residualsの読み込みが完了しました。\n",
      "全期間\n",
      "母集団の推定（99.7%）\n",
      "平均リターン: 0.1393% (worst: 0.0782%, best: 0.2003%)\n",
      "標準偏差: 0.005441 (worst:0.005904, best:0.00504)\n",
      "-----------------------------------------\n",
      "モデルのスペック\n",
      "シャープレシオ: 0.255944 (worst:0.132497, best:0.397418)\n",
      "最大ドローダウン: 4.7832% (worst:10.0266%, best:2.8533%)\n",
      "最大ドローダウン日数: 137日 (worst:513日, best:57日)\n",
      "----------------------------------------------------------------------------------\n",
      "直近1年\n",
      "母集団の推定（99.7%）\n",
      "平均リターン: 0.14% (worst: 0.032%, best: 0.248%)\n",
      "標準偏差: 0.005721 (worst:0.006582, best:0.005046)\n",
      "-----------------------------------------\n",
      "モデルのスペック\n",
      "シャープレシオ: 0.244657 (worst:0.048563, best:0.491489)\n",
      "最大ドローダウン: 5.2618% (worst:30.4937%, best:2.3099%)\n",
      "最大ドローダウン日数: 150日 (worst:3816日, best:37日)\n",
      "----------------------------------------------------------------------------------\n",
      "直近3ヶ月\n",
      "母集団の推定（99.7%）\n",
      "平均リターン: 0.1344% (worst: -0.0713%, best: 0.3402%)\n",
      "標準偏差: 0.005286 (worst:0.007129, best:0.004156)\n",
      "-----------------------------------------\n",
      "モデルのスペック\n",
      "シャープレシオ: 0.254314 (worst:-0.100034, best:0.818481)\n",
      "最大ドローダウン: 4.6763% (worst:-16.0352%, best:1.1425%)\n",
      "最大ドローダウン日数: 139日 (worst:899日, best:13日)\n",
      "----------------------------------------------------------------------------------\n",
      "最大ドローダウン (実績)： 4.586%, 30日\n",
      "Spearman順位相関： 0.0405\n",
      "Numerai相関： 0.04914\n",
      "----------------------------------------------------------------------------------\n"
     ]
    },
    {
     "name": "stderr",
     "output_type": "stream",
     "text": [
      "c:\\Users\\ryosh\\enrich_me\\.venv\\Lib\\site-packages\\numpy\\core\\fromnumeric.py:86: FutureWarning: The behavior of DataFrame.prod with axis=None is deprecated, in a future version this will reduce over both axes and return a scalar. To retain the old behavior, pass axis=0 (or do not pass axis)\n",
      "  return reduction(axis=axis, out=out, **passkwargs)\n",
      "c:\\Users\\ryosh\\enrich_me\\.venv\\Lib\\site-packages\\numpy\\core\\fromnumeric.py:86: FutureWarning: The behavior of DataFrame.prod with axis=None is deprecated, in a future version this will reduce over both axes and return a scalar. To retain the old behavior, pass axis=0 (or do not pass axis)\n",
      "  return reduction(axis=axis, out=out, **passkwargs)\n"
     ]
    },
    {
     "name": "stdout",
     "output_type": "stream",
     "text": [
      "DJ_residualsの読み込みが完了しました。\n",
      "全期間\n",
      "母集団の推定（99.7%）\n",
      "平均リターン: 0.1479% (worst: 0.0877%, best: 0.2082%)\n",
      "標準偏差: 0.00537 (worst:0.005828, best:0.004974)\n",
      "-----------------------------------------\n",
      "モデルのスペック\n",
      "シャープレシオ: 0.27544 (worst:0.150463, best:0.418465)\n",
      "最大ドローダウン: 4.387% (worst:8.7149%, best:2.6746%)\n",
      "最大ドローダウン日数: 119日 (worst:398日, best:51日)\n",
      "----------------------------------------------------------------------------------\n",
      "直近1年\n",
      "母集団の推定（99.7%）\n",
      "平均リターン: 0.1545% (worst: 0.0484%, best: 0.2605%)\n",
      "標準偏差: 0.005616 (worst:0.006461, best:0.004953)\n",
      "-----------------------------------------\n",
      "モデルのスペック\n",
      "シャープレシオ: 0.275045 (worst:0.07498, best:0.525947)\n",
      "最大ドローダウン: 4.5943% (worst:19.3869%, best:2.1189%)\n",
      "最大ドローダウン日数: 119日 (worst:1601日, best:33日)\n",
      "----------------------------------------------------------------------------------\n",
      "直近3ヶ月\n",
      "母集団の推定（99.7%）\n",
      "平均リターン: 0.2107% (worst: -0.0178%, best: 0.4392%)\n",
      "標準偏差: 0.005871 (worst:0.007918, best:0.004616)\n",
      "-----------------------------------------\n",
      "モデルのスペック\n",
      "シャープレシオ: 0.358961 (worst:-0.022449, best:0.951573)\n",
      "最大ドローダウン: 3.6797% (worst:-79.3632%, best:1.0914%)\n",
      "最大ドローダウン日数: 70日 (worst:17859日, best:10日)\n",
      "----------------------------------------------------------------------------------\n",
      "最大ドローダウン (実績)： 3.735%, 39日\n",
      "Spearman順位相関： 0.04407\n",
      "Numerai相関： 0.05146\n",
      "----------------------------------------------------------------------------------\n"
     ]
    }
   ],
   "source": [
    "lasso_obj = evaluate_model.LongShortModel(model_name = 'DJ_residuals', pred_result_df = lasso_dataset.pred_result_df, \n",
    "                                          raw_target_df = lasso_dataset.raw_target_df,\n",
    "                                          start_date = datetime(2022, 1, 1), end_date = datetime.today(), \n",
    "                                          bin_num = 5, top_slope=1)\n",
    "en_obj = evaluate_model.LongShortModel(model_name = 'DJ_residuals', pred_result_df = en_dataset.pred_result_df, \n",
    "                                          raw_target_df = en_dataset.raw_target_df,\n",
    "                                          start_date = datetime(2022, 1, 1), end_date = datetime.today(), \n",
    "                                          bin_num = 5, top_slope=1)"
   ]
  },
  {
   "cell_type": "code",
   "execution_count": 4,
   "metadata": {},
   "outputs": [
    {
     "name": "stderr",
     "output_type": "stream",
     "text": [
      "PandasGUI INFO — pandasgui.gui — Opening PandasGUI\n",
      "C:\\Users\\ryosh\\AppData\\Local\\Temp\\ipykernel_44076\\3064515774.py:9: FutureWarning: Series.__getitem__ treating keys as positions is deprecated. In a future version, integer keys will always be treated as labels (consistent with DataFrame behavior). To access a value by position, use `ser.iloc[pos]`\n",
      "  show(df)\n",
      "C:\\Users\\ryosh\\AppData\\Local\\Temp\\ipykernel_44076\\3064515774.py:9: FutureWarning: Series.__getitem__ treating keys as positions is deprecated. In a future version, integer keys will always be treated as labels (consistent with DataFrame behavior). To access a value by position, use `ser.iloc[pos]`\n",
      "  show(df)\n",
      "C:\\Users\\ryosh\\AppData\\Local\\Temp\\ipykernel_44076\\3064515774.py:9: FutureWarning:\n",
      "\n",
      "Series.__getitem__ treating keys as positions is deprecated. In a future version, integer keys will always be treated as labels (consistent with DataFrame behavior). To access a value by position, use `ser.iloc[pos]`\n",
      "\n",
      "C:\\Users\\ryosh\\AppData\\Local\\Temp\\ipykernel_44076\\3064515774.py:9: FutureWarning:\n",
      "\n",
      "Series.__getitem__ treating keys as positions is deprecated. In a future version, integer keys will always be treated as labels (consistent with DataFrame behavior). To access a value by position, use `ser.iloc[pos]`\n",
      "\n",
      "C:\\Users\\ryosh\\AppData\\Local\\Temp\\ipykernel_44076\\3064515774.py:9: FutureWarning:\n",
      "\n",
      "Series.__getitem__ treating keys as positions is deprecated. In a future version, integer keys will always be treated as labels (consistent with DataFrame behavior). To access a value by position, use `ser.iloc[pos]`\n",
      "\n",
      "C:\\Users\\ryosh\\AppData\\Local\\Temp\\ipykernel_44076\\3064515774.py:9: FutureWarning:\n",
      "\n",
      "Series.__getitem__ treating keys as positions is deprecated. In a future version, integer keys will always be treated as labels (consistent with DataFrame behavior). To access a value by position, use `ser.iloc[pos]`\n",
      "\n"
     ]
    },
    {
     "data": {
      "text/plain": [
       "<pandasgui.gui.PandasGui at 0x24138522d40>"
      ]
     },
     "execution_count": 4,
     "metadata": {},
     "output_type": "execute_result"
    }
   ],
   "source": [
    "lasso_df = lasso_obj.dataframes_dict['日次成績'][['LS']]\n",
    "lasso_df.columns = ['LASSO']\n",
    "en_df = en_obj.dataframes_dict['日次成績'][['LS']]\n",
    "en_df.columns = ['Ensemble']\n",
    "\n",
    "import pandas as pd\n",
    "from pandasgui import show\n",
    "df = pd.concat([lasso_df, en_df], axis=1)\n",
    "show(df)"
   ]
  }
 ],
 "metadata": {
  "kernelspec": {
   "display_name": ".venv",
   "language": "python",
   "name": "python3"
  },
  "language_info": {
   "codemirror_mode": {
    "name": "ipython",
    "version": 3
   },
   "file_extension": ".py",
   "mimetype": "text/x-python",
   "name": "python",
   "nbconvert_exporter": "python",
   "pygments_lexer": "ipython3",
   "version": "3.11.10"
  }
 },
 "nbformat": 4,
 "nbformat_minor": 2
}
