{
 "cells": [
  {
   "cell_type": "markdown",
   "metadata": {},
   "source": [
    "## 事前準備"
   ]
  },
  {
   "cell_type": "markdown",
   "metadata": {},
   "source": [
    "### moduleフォルダのパスを通す"
   ]
  },
  {
   "cell_type": "code",
   "execution_count": 1,
   "metadata": {},
   "outputs": [],
   "source": [
    "from pathlib import Path\n",
    "import sys\n",
    "import os\n",
    "PROJECT_FOLDER = str(Path(os.getcwd()).parents[1])\n",
    "ORIGINAL_MODULES = PROJECT_FOLDER + '/modules'\n",
    "sys.path.append(ORIGINAL_MODULES)"
   ]
  },
  {
   "cell_type": "markdown",
   "metadata": {},
   "source": [
    "### 環境変数.envを読み込み"
   ]
  },
  {
   "cell_type": "code",
   "execution_count": 2,
   "metadata": {},
   "outputs": [
    {
     "data": {
      "text/plain": [
       "True"
      ]
     },
     "execution_count": 2,
     "metadata": {},
     "output_type": "execute_result"
    }
   ],
   "source": [
    "from pathlib import Path\n",
    "from dotenv import load_dotenv\n",
    "import os\n",
    "env_path = f'{ORIGINAL_MODULES}\\.env'\n",
    "load_dotenv(dotenv_path=env_path)"
   ]
  },
  {
   "cell_type": "markdown",
   "metadata": {},
   "source": [
    "### モジュールのインポート"
   ]
  },
  {
   "cell_type": "code",
   "execution_count": 3,
   "metadata": {},
   "outputs": [],
   "source": [
    "# 自作モジュール\n",
    "from acquisition.jquants_api_operations import run_jquants_api_operations\n",
    "# 基本モジュール\n",
    "from datetime import datetime\n",
    "import pandas as pd\n",
    "import numpy as np\n",
    "# クラスタリングで使用\n",
    "import umap\n",
    "from pyclustering.cluster.xmeans import xmeans\n",
    "from pyclustering.cluster.center_initializer import kmeans_plusplus_initializer\n",
    "from sklearn.cluster import KMeans\n",
    "from scipy.spatial.distance import cdist"
   ]
  },
  {
   "cell_type": "markdown",
   "metadata": {},
   "source": [
    "## 実行"
   ]
  },
  {
   "cell_type": "markdown",
   "metadata": {},
   "source": [
    "### パラメータ"
   ]
  },
  {
   "cell_type": "code",
   "execution_count": 4,
   "metadata": {},
   "outputs": [],
   "source": [
    "SECTOR_REDIM_FOLDER = f'{PROJECT_FOLDER}\\sector_redefinitions'\n",
    "\n",
    "start_date = datetime(2014, 1, 1)\n",
    "end_date = datetime(2021, 12, 31)\n",
    "INPUT_CSV = f'{SECTOR_REDIM_FOLDER}\\DetermineSector_NewTickers2024.csv'\n",
    "OUTPUT_CSV = f'{SECTOR_REDIM_FOLDER}DetermineSector_NewTickers2024.csv'"
   ]
  },
  {
   "cell_type": "markdown",
   "metadata": {},
   "source": [
    "### 銘柄情報の取得\n",
    "* stock_lists: 2014年10月からの銘柄一覧\n",
    "* history_list: 銘柄ごとのScaleCategoryの遍歴"
   ]
  },
  {
   "cell_type": "code",
   "execution_count": 5,
   "metadata": {},
   "outputs": [
    {
     "name": "stdout",
     "output_type": "stream",
     "text": [
      "stock_dfデータ群の読み込みを開始します。\n",
      "銘柄一覧の読み込みが完了しました。\n",
      "価格情報の読み込みが完了しました。\n",
      "財務情報の読み込みが完了しました。\n",
      "stock_dfデータ群の読み込みが完了しました。\n",
      "----------------------------------------------\n"
     ]
    },
    {
     "data": {
      "text/html": [
       "<div>\n",
       "<style scoped>\n",
       "    .dataframe tbody tr th:only-of-type {\n",
       "        vertical-align: middle;\n",
       "    }\n",
       "\n",
       "    .dataframe tbody tr th {\n",
       "        vertical-align: top;\n",
       "    }\n",
       "\n",
       "    .dataframe thead th {\n",
       "        text-align: right;\n",
       "    }\n",
       "</style>\n",
       "<table border=\"1\" class=\"dataframe\">\n",
       "  <thead>\n",
       "    <tr style=\"text-align: right;\">\n",
       "      <th></th>\n",
       "      <th>Code</th>\n",
       "      <th>CompanyName</th>\n",
       "      <th>MarketCodeName</th>\n",
       "      <th>Sector33CodeName</th>\n",
       "      <th>Sector17CodeName</th>\n",
       "      <th>ScaleCategory</th>\n",
       "      <th>Listing</th>\n",
       "    </tr>\n",
       "  </thead>\n",
       "  <tbody>\n",
       "    <tr>\n",
       "      <th>19</th>\n",
       "      <td>1332</td>\n",
       "      <td>ニッスイ</td>\n",
       "      <td>プライム</td>\n",
       "      <td>水産・農林業</td>\n",
       "      <td>食品</td>\n",
       "      <td>TOPIX Mid400</td>\n",
       "      <td>1</td>\n",
       "    </tr>\n",
       "    <tr>\n",
       "      <th>20</th>\n",
       "      <td>1333</td>\n",
       "      <td>マルハニチロ</td>\n",
       "      <td>プライム</td>\n",
       "      <td>水産・農林業</td>\n",
       "      <td>食品</td>\n",
       "      <td>TOPIX Mid400</td>\n",
       "      <td>1</td>\n",
       "    </tr>\n",
       "    <tr>\n",
       "      <th>58</th>\n",
       "      <td>1414</td>\n",
       "      <td>ショーボンドホールディングス</td>\n",
       "      <td>プライム</td>\n",
       "      <td>建設業</td>\n",
       "      <td>建設・資材</td>\n",
       "      <td>TOPIX Mid400</td>\n",
       "      <td>1</td>\n",
       "    </tr>\n",
       "    <tr>\n",
       "      <th>59</th>\n",
       "      <td>1417</td>\n",
       "      <td>ミライト・ワン</td>\n",
       "      <td>プライム</td>\n",
       "      <td>建設業</td>\n",
       "      <td>建設・資材</td>\n",
       "      <td>TOPIX Mid400</td>\n",
       "      <td>1</td>\n",
       "    </tr>\n",
       "    <tr>\n",
       "      <th>173</th>\n",
       "      <td>1605</td>\n",
       "      <td>ＩＮＰＥＸ</td>\n",
       "      <td>プライム</td>\n",
       "      <td>鉱業</td>\n",
       "      <td>エネルギー資源</td>\n",
       "      <td>TOPIX Mid400</td>\n",
       "      <td>1</td>\n",
       "    </tr>\n",
       "    <tr>\n",
       "      <th>...</th>\n",
       "      <td>...</td>\n",
       "      <td>...</td>\n",
       "      <td>...</td>\n",
       "      <td>...</td>\n",
       "      <td>...</td>\n",
       "      <td>...</td>\n",
       "      <td>...</td>\n",
       "    </tr>\n",
       "    <tr>\n",
       "      <th>4437</th>\n",
       "      <td>2427</td>\n",
       "      <td>アウトソーシング</td>\n",
       "      <td>プライム</td>\n",
       "      <td>サービス業</td>\n",
       "      <td>情報通信・サービスその他</td>\n",
       "      <td>-</td>\n",
       "      <td>0</td>\n",
       "    </tr>\n",
       "    <tr>\n",
       "      <th>4442</th>\n",
       "      <td>2412</td>\n",
       "      <td>ベネフィット・ワン</td>\n",
       "      <td>プライム</td>\n",
       "      <td>サービス業</td>\n",
       "      <td>情報通信・サービスその他</td>\n",
       "      <td>-</td>\n",
       "      <td>0</td>\n",
       "    </tr>\n",
       "    <tr>\n",
       "      <th>4443</th>\n",
       "      <td>9783</td>\n",
       "      <td>ベネッセホールディングス</td>\n",
       "      <td>プライム</td>\n",
       "      <td>サービス業</td>\n",
       "      <td>情報通信・サービスその他</td>\n",
       "      <td>-</td>\n",
       "      <td>0</td>\n",
       "    </tr>\n",
       "    <tr>\n",
       "      <th>5539</th>\n",
       "      <td>4739</td>\n",
       "      <td>伊藤忠テクノソリューションズ</td>\n",
       "      <td>プライム</td>\n",
       "      <td>情報･通信業</td>\n",
       "      <td>情報通信・サービスその他</td>\n",
       "      <td>-</td>\n",
       "      <td>0</td>\n",
       "    </tr>\n",
       "    <tr>\n",
       "      <th>7342</th>\n",
       "      <td>4739</td>\n",
       "      <td>伊藤忠テクノソリューションズ</td>\n",
       "      <td>プライム</td>\n",
       "      <td>情報･通信業</td>\n",
       "      <td>情報通信・サービスその他</td>\n",
       "      <td>TOPIX Mid400</td>\n",
       "      <td>0</td>\n",
       "    </tr>\n",
       "  </tbody>\n",
       "</table>\n",
       "<p>509 rows × 7 columns</p>\n",
       "</div>"
      ],
      "text/plain": [
       "      Code     CompanyName MarketCodeName Sector33CodeName Sector17CodeName  \\\n",
       "19    1332            ニッスイ           プライム           水産・農林業               食品   \n",
       "20    1333          マルハニチロ           プライム           水産・農林業               食品   \n",
       "58    1414  ショーボンドホールディングス           プライム              建設業            建設・資材   \n",
       "59    1417         ミライト・ワン           プライム              建設業            建設・資材   \n",
       "173   1605           ＩＮＰＥＸ           プライム               鉱業          エネルギー資源   \n",
       "...    ...             ...            ...              ...              ...   \n",
       "4437  2427        アウトソーシング           プライム            サービス業     情報通信・サービスその他   \n",
       "4442  2412       ベネフィット・ワン           プライム            サービス業     情報通信・サービスその他   \n",
       "4443  9783    ベネッセホールディングス           プライム            サービス業     情報通信・サービスその他   \n",
       "5539  4739  伊藤忠テクノソリューションズ           プライム           情報･通信業     情報通信・サービスその他   \n",
       "7342  4739  伊藤忠テクノソリューションズ           プライム           情報･通信業     情報通信・サービスその他   \n",
       "\n",
       "     ScaleCategory  Listing  \n",
       "19    TOPIX Mid400        1  \n",
       "20    TOPIX Mid400        1  \n",
       "58    TOPIX Mid400        1  \n",
       "59    TOPIX Mid400        1  \n",
       "173   TOPIX Mid400        1  \n",
       "...            ...      ...  \n",
       "4437             -        0  \n",
       "4442             -        0  \n",
       "4443             -        0  \n",
       "5539             -        0  \n",
       "7342  TOPIX Mid400        0  \n",
       "\n",
       "[509 rows x 7 columns]"
      ]
     },
     "execution_count": 5,
     "metadata": {},
     "output_type": "execute_result"
    }
   ],
   "source": [
    "# 対象銘柄を絞り込んでデータを読み込み\n",
    "tickers_df = pd.read_csv(INPUT_CSV, dtype='str')\n",
    "tickers_code_list = tickers_df['Code'].to_list()\n",
    "universe_filter = f\"Code in {tickers_code_list}\" #現行のTOPIX500\n",
    "list_df, fin_df, price_df = run_jquants_api_operations(filter=universe_filter)\n",
    "stock_dfs = {'stock_list': list_df, 'stock_fin': fin_df, 'stock_price': price_df}\n",
    "stock_dfs['stock_list']"
   ]
  },
  {
   "cell_type": "code",
   "execution_count": 6,
   "metadata": {},
   "outputs": [
    {
     "name": "stdout",
     "output_type": "stream",
     "text": [
      "セクターのインデックス値の算出が完了しました。\n",
      "特徴量（日中リターン）の算出が完了しました。\n"
     ]
    }
   ],
   "source": [
    "new_sector_price_df, order_price_df = \\\n",
    "    calculation.SectorIndexCalculator.calc_new_sector_price(stock_dfs, INPUT_CSV, None)\n",
    "sectors = new_sector_price_df.index.get_level_values('Sector').unique()\n",
    "raw_target_df = calculation.TargetCalculator.daytime_return(new_sector_price_df)"
   ]
  },
  {
   "cell_type": "code",
   "execution_count": 15,
   "metadata": {},
   "outputs": [
    {
     "data": {
      "text/html": [
       "<div>\n",
       "<style scoped>\n",
       "    .dataframe tbody tr th:only-of-type {\n",
       "        vertical-align: middle;\n",
       "    }\n",
       "\n",
       "    .dataframe tbody tr th {\n",
       "        vertical-align: top;\n",
       "    }\n",
       "\n",
       "    .dataframe thead th {\n",
       "        text-align: right;\n",
       "    }\n",
       "</style>\n",
       "<table border=\"1\" class=\"dataframe\">\n",
       "  <thead>\n",
       "    <tr style=\"text-align: right;\">\n",
       "      <th></th>\n",
       "      <th>Sector</th>\n",
       "      <th>NSD</th>\n",
       "    </tr>\n",
       "    <tr>\n",
       "      <th></th>\n",
       "      <th>Sector</th>\n",
       "      <th></th>\n",
       "    </tr>\n",
       "  </thead>\n",
       "  <tbody>\n",
       "    <tr>\n",
       "      <th rowspan=\"57\" valign=\"top\">Target</th>\n",
       "      <th>NSD</th>\n",
       "      <td>1.000000</td>\n",
       "    </tr>\n",
       "    <tr>\n",
       "      <th>インフラ</th>\n",
       "      <td>0.542634</td>\n",
       "    </tr>\n",
       "    <tr>\n",
       "      <th>医療機器等</th>\n",
       "      <td>0.495824</td>\n",
       "    </tr>\n",
       "    <tr>\n",
       "      <th>ITインフラ</th>\n",
       "      <td>0.487170</td>\n",
       "    </tr>\n",
       "    <tr>\n",
       "      <th>素材</th>\n",
       "      <td>0.481660</td>\n",
       "    </tr>\n",
       "    <tr>\n",
       "      <th>その他工業</th>\n",
       "      <td>0.480792</td>\n",
       "    </tr>\n",
       "    <tr>\n",
       "      <th>文具・物流</th>\n",
       "      <td>0.456252</td>\n",
       "    </tr>\n",
       "    <tr>\n",
       "      <th>小売・サービス</th>\n",
       "      <td>0.455624</td>\n",
       "    </tr>\n",
       "    <tr>\n",
       "      <th>メディア</th>\n",
       "      <td>0.447899</td>\n",
       "    </tr>\n",
       "    <tr>\n",
       "      <th>住宅</th>\n",
       "      <td>0.447681</td>\n",
       "    </tr>\n",
       "    <tr>\n",
       "      <th>光学</th>\n",
       "      <td>0.441038</td>\n",
       "    </tr>\n",
       "    <tr>\n",
       "      <th>食品</th>\n",
       "      <td>0.438714</td>\n",
       "    </tr>\n",
       "    <tr>\n",
       "      <th>中堅医薬品</th>\n",
       "      <td>0.432773</td>\n",
       "    </tr>\n",
       "    <tr>\n",
       "      <th>大手医薬品</th>\n",
       "      <td>0.423443</td>\n",
       "    </tr>\n",
       "    <tr>\n",
       "      <th>富士ソフト</th>\n",
       "      <td>0.422694</td>\n",
       "    </tr>\n",
       "    <tr>\n",
       "      <th>ビジネス</th>\n",
       "      <td>0.422349</td>\n",
       "    </tr>\n",
       "    <tr>\n",
       "      <th>電気機器</th>\n",
       "      <td>0.409231</td>\n",
       "    </tr>\n",
       "    <tr>\n",
       "      <th>化粧・衛生</th>\n",
       "      <td>0.406956</td>\n",
       "    </tr>\n",
       "    <tr>\n",
       "      <th>私鉄</th>\n",
       "      <td>0.396354</td>\n",
       "    </tr>\n",
       "    <tr>\n",
       "      <th>医薬品卸</th>\n",
       "      <td>0.395616</td>\n",
       "    </tr>\n",
       "    <tr>\n",
       "      <th>化学</th>\n",
       "      <td>0.395028</td>\n",
       "    </tr>\n",
       "    <tr>\n",
       "      <th>日鉄ソリューションズ</th>\n",
       "      <td>0.391924</td>\n",
       "    </tr>\n",
       "    <tr>\n",
       "      <th>トヨタ他</th>\n",
       "      <td>0.387284</td>\n",
       "    </tr>\n",
       "    <tr>\n",
       "      <th>電気機器2</th>\n",
       "      <td>0.383848</td>\n",
       "    </tr>\n",
       "    <tr>\n",
       "      <th>証券・金融</th>\n",
       "      <td>0.378043</td>\n",
       "    </tr>\n",
       "    <tr>\n",
       "      <th>医療機器販売</th>\n",
       "      <td>0.375710</td>\n",
       "    </tr>\n",
       "    <tr>\n",
       "      <th>ガラス・機械</th>\n",
       "      <td>0.375474</td>\n",
       "    </tr>\n",
       "    <tr>\n",
       "      <th>自動車</th>\n",
       "      <td>0.374997</td>\n",
       "    </tr>\n",
       "    <tr>\n",
       "      <th>ゼネコン</th>\n",
       "      <td>0.361244</td>\n",
       "    </tr>\n",
       "    <tr>\n",
       "      <th>ロボ・産機</th>\n",
       "      <td>0.359490</td>\n",
       "    </tr>\n",
       "    <tr>\n",
       "      <th>エンタメ</th>\n",
       "      <td>0.359199</td>\n",
       "    </tr>\n",
       "    <tr>\n",
       "      <th>OA機器</th>\n",
       "      <td>0.355258</td>\n",
       "    </tr>\n",
       "    <tr>\n",
       "      <th>ドラッグストア</th>\n",
       "      <td>0.350703</td>\n",
       "    </tr>\n",
       "    <tr>\n",
       "      <th>半導体</th>\n",
       "      <td>0.345882</td>\n",
       "    </tr>\n",
       "    <tr>\n",
       "      <th>ニチアス</th>\n",
       "      <td>0.345041</td>\n",
       "    </tr>\n",
       "    <tr>\n",
       "      <th>電子部品</th>\n",
       "      <td>0.343177</td>\n",
       "    </tr>\n",
       "    <tr>\n",
       "      <th>スーパー・コンビニ</th>\n",
       "      <td>0.341331</td>\n",
       "    </tr>\n",
       "    <tr>\n",
       "      <th>旅客</th>\n",
       "      <td>0.338035</td>\n",
       "    </tr>\n",
       "    <tr>\n",
       "      <th>商社</th>\n",
       "      <td>0.337153</td>\n",
       "    </tr>\n",
       "    <tr>\n",
       "      <th>外食</th>\n",
       "      <td>0.336994</td>\n",
       "    </tr>\n",
       "    <tr>\n",
       "      <th>タイヤ</th>\n",
       "      <td>0.333945</td>\n",
       "    </tr>\n",
       "    <tr>\n",
       "      <th>ディベロッパー</th>\n",
       "      <td>0.321951</td>\n",
       "    </tr>\n",
       "    <tr>\n",
       "      <th>地銀</th>\n",
       "      <td>0.307649</td>\n",
       "    </tr>\n",
       "    <tr>\n",
       "      <th>非鉄金属</th>\n",
       "      <td>0.301482</td>\n",
       "    </tr>\n",
       "    <tr>\n",
       "      <th>ガス</th>\n",
       "      <td>0.290656</td>\n",
       "    </tr>\n",
       "    <tr>\n",
       "      <th>百貨店</th>\n",
       "      <td>0.289294</td>\n",
       "    </tr>\n",
       "    <tr>\n",
       "      <th>都銀・保険</th>\n",
       "      <td>0.279709</td>\n",
       "    </tr>\n",
       "    <tr>\n",
       "      <th>ビックカメラ</th>\n",
       "      <td>0.265733</td>\n",
       "    </tr>\n",
       "    <tr>\n",
       "      <th>電力</th>\n",
       "      <td>0.262763</td>\n",
       "    </tr>\n",
       "    <tr>\n",
       "      <th>鉄鋼</th>\n",
       "      <td>0.259774</td>\n",
       "    </tr>\n",
       "    <tr>\n",
       "      <th>MARUWA</th>\n",
       "      <td>0.257083</td>\n",
       "    </tr>\n",
       "    <tr>\n",
       "      <th>重工業</th>\n",
       "      <td>0.251242</td>\n",
       "    </tr>\n",
       "    <tr>\n",
       "      <th>JVCケンウッド</th>\n",
       "      <td>0.246975</td>\n",
       "    </tr>\n",
       "    <tr>\n",
       "      <th>石油・資源</th>\n",
       "      <td>0.244749</td>\n",
       "    </tr>\n",
       "    <tr>\n",
       "      <th>ビジョナル</th>\n",
       "      <td>0.210118</td>\n",
       "    </tr>\n",
       "    <tr>\n",
       "      <th>海運</th>\n",
       "      <td>0.199899</td>\n",
       "    </tr>\n",
       "    <tr>\n",
       "      <th>楽天銀行</th>\n",
       "      <td>0.156459</td>\n",
       "    </tr>\n",
       "  </tbody>\n",
       "</table>\n",
       "</div>"
      ],
      "text/plain": [
       "Sector                  NSD\n",
       "       Sector              \n",
       "Target NSD         1.000000\n",
       "       インフラ        0.542634\n",
       "       医療機器等       0.495824\n",
       "       ITインフラ      0.487170\n",
       "       素材          0.481660\n",
       "       その他工業       0.480792\n",
       "       文具・物流       0.456252\n",
       "       小売・サービス     0.455624\n",
       "       メディア        0.447899\n",
       "       住宅          0.447681\n",
       "       光学          0.441038\n",
       "       食品          0.438714\n",
       "       中堅医薬品       0.432773\n",
       "       大手医薬品       0.423443\n",
       "       富士ソフト       0.422694\n",
       "       ビジネス        0.422349\n",
       "       電気機器        0.409231\n",
       "       化粧・衛生       0.406956\n",
       "       私鉄          0.396354\n",
       "       医薬品卸        0.395616\n",
       "       化学          0.395028\n",
       "       日鉄ソリューションズ  0.391924\n",
       "       トヨタ他        0.387284\n",
       "       電気機器2       0.383848\n",
       "       証券・金融       0.378043\n",
       "       医療機器販売      0.375710\n",
       "       ガラス・機械      0.375474\n",
       "       自動車         0.374997\n",
       "       ゼネコン        0.361244\n",
       "       ロボ・産機       0.359490\n",
       "       エンタメ        0.359199\n",
       "       OA機器        0.355258\n",
       "       ドラッグストア     0.350703\n",
       "       半導体         0.345882\n",
       "       ニチアス        0.345041\n",
       "       電子部品        0.343177\n",
       "       スーパー・コンビニ   0.341331\n",
       "       旅客          0.338035\n",
       "       商社          0.337153\n",
       "       外食          0.336994\n",
       "       タイヤ         0.333945\n",
       "       ディベロッパー     0.321951\n",
       "       地銀          0.307649\n",
       "       非鉄金属        0.301482\n",
       "       ガス          0.290656\n",
       "       百貨店         0.289294\n",
       "       都銀・保険       0.279709\n",
       "       ビックカメラ      0.265733\n",
       "       電力          0.262763\n",
       "       鉄鋼          0.259774\n",
       "       MARUWA      0.257083\n",
       "       重工業         0.251242\n",
       "       JVCケンウッド    0.246975\n",
       "       石油・資源       0.244749\n",
       "       ビジョナル       0.210118\n",
       "       海運          0.199899\n",
       "       楽天銀行        0.156459"
      ]
     },
     "execution_count": 15,
     "metadata": {},
     "output_type": "execute_result"
    }
   ],
   "source": [
    "ticker = 'NSD'\n",
    "\n",
    "corr_df = raw_target_df.unstack().corr().droplevel(0, axis=1)\n",
    "corr_df.iloc[:, corr_df.index.get_level_values(1) == ticker].sort_values(ticker, ascending=False)"
   ]
  },
  {
   "cell_type": "code",
   "execution_count": 8,
   "metadata": {},
   "outputs": [
    {
     "data": {
      "text/html": [
       "<div>\n",
       "<style scoped>\n",
       "    .dataframe tbody tr th:only-of-type {\n",
       "        vertical-align: middle;\n",
       "    }\n",
       "\n",
       "    .dataframe tbody tr th {\n",
       "        vertical-align: top;\n",
       "    }\n",
       "\n",
       "    .dataframe thead th {\n",
       "        text-align: right;\n",
       "    }\n",
       "</style>\n",
       "<table border=\"1\" class=\"dataframe\">\n",
       "  <thead>\n",
       "    <tr style=\"text-align: right;\">\n",
       "      <th></th>\n",
       "      <th></th>\n",
       "      <th>Target</th>\n",
       "    </tr>\n",
       "    <tr>\n",
       "      <th>Date</th>\n",
       "      <th>Sector</th>\n",
       "      <th></th>\n",
       "    </tr>\n",
       "  </thead>\n",
       "  <tbody>\n",
       "    <tr>\n",
       "      <th rowspan=\"5\" valign=\"top\">2014-01-06</th>\n",
       "      <th>ITインフラ</th>\n",
       "      <td>0.001003</td>\n",
       "    </tr>\n",
       "    <tr>\n",
       "      <th>JVCケンウッド</th>\n",
       "      <td>-0.012326</td>\n",
       "    </tr>\n",
       "    <tr>\n",
       "      <th>MARUWA</th>\n",
       "      <td>-0.000651</td>\n",
       "    </tr>\n",
       "    <tr>\n",
       "      <th>NSD</th>\n",
       "      <td>0.033605</td>\n",
       "    </tr>\n",
       "    <tr>\n",
       "      <th>OA機器</th>\n",
       "      <td>0.007149</td>\n",
       "    </tr>\n",
       "    <tr>\n",
       "      <th>...</th>\n",
       "      <th>...</th>\n",
       "      <td>...</td>\n",
       "    </tr>\n",
       "    <tr>\n",
       "      <th rowspan=\"5\" valign=\"top\">2024-11-07</th>\n",
       "      <th>電気機器</th>\n",
       "      <td>-0.001623</td>\n",
       "    </tr>\n",
       "    <tr>\n",
       "      <th>電気機器2</th>\n",
       "      <td>-0.021228</td>\n",
       "    </tr>\n",
       "    <tr>\n",
       "      <th>非鉄金属</th>\n",
       "      <td>0.002468</td>\n",
       "    </tr>\n",
       "    <tr>\n",
       "      <th>食品</th>\n",
       "      <td>0.000429</td>\n",
       "    </tr>\n",
       "    <tr>\n",
       "      <th>高砂熱学工業</th>\n",
       "      <td>0.023661</td>\n",
       "    </tr>\n",
       "  </tbody>\n",
       "</table>\n",
       "<p>161711 rows × 1 columns</p>\n",
       "</div>"
      ],
      "text/plain": [
       "                       Target\n",
       "Date       Sector            \n",
       "2014-01-06 ITインフラ    0.001003\n",
       "           JVCケンウッド -0.012326\n",
       "           MARUWA   -0.000651\n",
       "           NSD       0.033605\n",
       "           OA機器      0.007149\n",
       "...                       ...\n",
       "2024-11-07 電気機器     -0.001623\n",
       "           電気機器2    -0.021228\n",
       "           非鉄金属      0.002468\n",
       "           食品        0.000429\n",
       "           高砂熱学工業    0.023661\n",
       "\n",
       "[161711 rows x 1 columns]"
      ]
     },
     "execution_count": 8,
     "metadata": {},
     "output_type": "execute_result"
    }
   ],
   "source": [
    "target_df"
   ]
  },
  {
   "cell_type": "markdown",
   "metadata": {},
   "source": [
    "### クラスタリングの関数"
   ]
  },
  {
   "cell_type": "code",
   "execution_count": 21,
   "metadata": {},
   "outputs": [],
   "source": [
    "# UMAPを適用する関数\n",
    "def apply_UMAP(df:pd.DataFrame, n_components:int=15, n_neighbors:int=5, min_dist:float=0.1):\n",
    "    UMAP_model = umap.UMAP(n_components=n_components, n_neighbors=n_neighbors, min_dist=min_dist)\n",
    "    UMAP_result = UMAP_model.fit_transform(df)\n",
    "    reduced_df = pd.DataFrame(UMAP_result, index=df.index, columns=['Feature '+ str(i) for i in range(0, n_components)])\n",
    "    reduced_df = reduced_df.sort_index(ascending=True)\n",
    "    return reduced_df\n",
    "\n",
    "# xmeansのクラスタ中心を算出するサブ関数\n",
    "def _calculate_xmeans_cluster_center(df, kmax):\n",
    "    xm_c = kmeans_plusplus_initializer(data=df, amount_centers=2).initialize()\n",
    "    xm_i = xmeans(data=df, initial_centers=xm_c, kmax=kmax, tolerrance=0.005, ccore=True)\n",
    "    xm_i.process()\n",
    "\n",
    "    for cluster_num, cluster in enumerate(xm_i._xmeans__clusters):\n",
    "        for index_num in cluster:\n",
    "            df.loc[df.index[index_num]] = np.array(xm_i._xmeans__centers, dtype=np.float32)[cluster_num, :]\n",
    "\n",
    "    df = df.reset_index()\n",
    "    return df\n",
    "\n",
    "# データフレームにxmeansを適用\n",
    "def apply_xmeans(df:pd.DataFrame, n_iteration:int=30, kmax=10):\n",
    "    dfs_xmeans = []\n",
    "    for i in range(0, n_iteration):\n",
    "        df_xmeans_cluster_center = _calculate_xmeans_cluster_center(df, kmax=kmax)\n",
    "        dfs_xmeans.append(df_xmeans_cluster_center)\n",
    "    dfs_xmeans = pd.concat(dfs_xmeans, axis=0)\n",
    "    dfs_xmeans = dfs_xmeans.reset_index().drop('index', axis=1)\n",
    "    df = dfs_xmeans.groupby('Code').mean()\n",
    "    return df\n",
    "\n",
    "# 銘柄間のユークリッド距離を算出するサブ関数\n",
    "def _calculate_euclidean(df:pd.DataFrame):\n",
    "    np_euclidean = cdist(df.values, df.values, metric='euclidean')\n",
    "    df_euclidean = pd.DataFrame(np_euclidean, index=df.index, columns=df.index)\n",
    "    return df_euclidean\n",
    "\n",
    "# ユークリッド距離からクラスタを決定するサブ関数\n",
    "def _determine_cluster(df:pd.DataFrame, theshold_column:str, cluster_theshold:float):\n",
    "    df_unstacked = pd.DataFrame(df.unstack(), columns=[theshold_column])\n",
    "    in_theshold = df_unstacked[theshold_column]<=cluster_theshold\n",
    "    df_in_theshold = df_unstacked[in_theshold].sort_values(theshold_column, ascending=True)\n",
    "    df_in_theshold['Cluster'] = np.nan\n",
    "\n",
    "    cluster_num = 0\n",
    "    for i in df_in_theshold.index.get_level_values(0).unique():\n",
    "\n",
    "        clustering_completed = df_in_theshold['Cluster'].isnull().any() == False\n",
    "        if clustering_completed:\n",
    "            break\n",
    "        cluster_is_undetermined = \\\n",
    "          df_in_theshold.loc[df_in_theshold.index.get_level_values(0)==i, 'Cluster'].isnull().all()\n",
    "        if cluster_is_undetermined:\n",
    "            df_in_theshold.loc[df_in_theshold.index.get_level_values(0)==i, 'Cluster'] = cluster_num\n",
    "            df_in_theshold.loc[df_in_theshold.index.get_level_values(1)==i, 'Cluster'] = cluster_num\n",
    "            cluster_num += 1\n",
    "        else:\n",
    "            df_in_theshold.loc[df_in_theshold.index.get_level_values(0)==i, 'Cluster'] = \\\n",
    "                int(df_in_theshold.loc[df_in_theshold.index.get_level_values(0)==i, 'Cluster'].mean())\n",
    "            df_in_theshold.loc[df_in_theshold.index.get_level_values(1)==i, 'Cluster'] = \\\n",
    "                int(df_in_theshold.loc[df_in_theshold.index.get_level_values(0)==i, 'Cluster'].mean())\n",
    "\n",
    "    df_in_theshold = df_in_theshold[['Cluster']].astype(int).reset_index(level=0, drop=True)\n",
    "    df_in_theshold = df_in_theshold.loc[~df_in_theshold.index.duplicated(keep='first')]\n",
    "\n",
    "    df_clustered = pd.merge(\n",
    "                            df_in_theshold, tickers_df[['Code', 'CompanyName', 'Sector33CodeName', 'ScaleCategory']],\n",
    "                            how='left', on='Code',\n",
    "                            ).sort_values(by=['Cluster', 'Code'], ascending=True).set_index('Code', drop=True)\n",
    "    return df_clustered\n",
    "\n",
    "# ユークリッド距離からクラスタを決定する関数\n",
    "def determine_cluster_from_euclidean(df:pd.DataFrame, theshold_column='Distance', cluster_theshold=0.03):\n",
    "    df_euclidean = _calculate_euclidean(df=df)\n",
    "    df_clustered = _determine_cluster(df=df_euclidean, theshold_column=theshold_column, cluster_theshold=cluster_theshold)\n",
    "    return df_clustered"
   ]
  },
  {
   "cell_type": "markdown",
   "metadata": {},
   "source": [
    "### クラスタリング"
   ]
  },
  {
   "cell_type": "code",
   "execution_count": 10,
   "metadata": {},
   "outputs": [],
   "source": [
    "#UMAP設定\n",
    "start_date = datetime(2014,1,1) #UMAPの範囲（自）\n",
    "end_date = datetime(2021,12,31) #UMAPの範囲（至）\n",
    "n_components = 100 #何次元まで削減するか\n",
    "\n",
    "#xmeans設定\n",
    "n_iteration = 30\n",
    "kmax = 2"
   ]
  },
  {
   "cell_type": "code",
   "execution_count": 11,
   "metadata": {},
   "outputs": [
    {
     "data": {
      "text/html": [
       "<div>\n",
       "<style scoped>\n",
       "    .dataframe tbody tr th:only-of-type {\n",
       "        vertical-align: middle;\n",
       "    }\n",
       "\n",
       "    .dataframe tbody tr th {\n",
       "        vertical-align: top;\n",
       "    }\n",
       "\n",
       "    .dataframe thead th {\n",
       "        text-align: right;\n",
       "    }\n",
       "</style>\n",
       "<table border=\"1\" class=\"dataframe\">\n",
       "  <thead>\n",
       "    <tr style=\"text-align: right;\">\n",
       "      <th></th>\n",
       "      <th>Feature 0</th>\n",
       "      <th>Feature 1</th>\n",
       "      <th>Feature 2</th>\n",
       "      <th>Feature 3</th>\n",
       "      <th>Feature 4</th>\n",
       "      <th>Feature 5</th>\n",
       "      <th>Feature 6</th>\n",
       "      <th>Feature 7</th>\n",
       "      <th>Feature 8</th>\n",
       "      <th>Feature 9</th>\n",
       "      <th>Feature 10</th>\n",
       "      <th>Feature 11</th>\n",
       "      <th>Feature 12</th>\n",
       "      <th>Feature 13</th>\n",
       "      <th>Feature 14</th>\n",
       "      <th>Feature 15</th>\n",
       "      <th>Feature 16</th>\n",
       "      <th>Feature 17</th>\n",
       "      <th>Feature 18</th>\n",
       "      <th>Feature 19</th>\n",
       "    </tr>\n",
       "    <tr>\n",
       "      <th>Code</th>\n",
       "      <th></th>\n",
       "      <th></th>\n",
       "      <th></th>\n",
       "      <th></th>\n",
       "      <th></th>\n",
       "      <th></th>\n",
       "      <th></th>\n",
       "      <th></th>\n",
       "      <th></th>\n",
       "      <th></th>\n",
       "      <th></th>\n",
       "      <th></th>\n",
       "      <th></th>\n",
       "      <th></th>\n",
       "      <th></th>\n",
       "      <th></th>\n",
       "      <th></th>\n",
       "      <th></th>\n",
       "      <th></th>\n",
       "      <th></th>\n",
       "    </tr>\n",
       "  </thead>\n",
       "  <tbody>\n",
       "    <tr>\n",
       "      <th>ITインフラ</th>\n",
       "      <td>7.324204</td>\n",
       "      <td>2.982087</td>\n",
       "      <td>3.925066</td>\n",
       "      <td>6.582467</td>\n",
       "      <td>6.434377</td>\n",
       "      <td>6.848620</td>\n",
       "      <td>4.793181</td>\n",
       "      <td>7.619975</td>\n",
       "      <td>3.581341</td>\n",
       "      <td>3.434576</td>\n",
       "      <td>6.505476</td>\n",
       "      <td>3.960529</td>\n",
       "      <td>7.034010</td>\n",
       "      <td>4.005229</td>\n",
       "      <td>6.134737</td>\n",
       "      <td>4.905088</td>\n",
       "      <td>1.364661</td>\n",
       "      <td>4.324255</td>\n",
       "      <td>4.652064</td>\n",
       "      <td>3.854821</td>\n",
       "    </tr>\n",
       "    <tr>\n",
       "      <th>JVCケンウッド</th>\n",
       "      <td>6.916071</td>\n",
       "      <td>3.436974</td>\n",
       "      <td>4.041061</td>\n",
       "      <td>5.964068</td>\n",
       "      <td>6.646266</td>\n",
       "      <td>7.546284</td>\n",
       "      <td>4.811968</td>\n",
       "      <td>8.314470</td>\n",
       "      <td>3.172635</td>\n",
       "      <td>4.246459</td>\n",
       "      <td>7.338310</td>\n",
       "      <td>2.925046</td>\n",
       "      <td>6.656809</td>\n",
       "      <td>3.003574</td>\n",
       "      <td>7.312142</td>\n",
       "      <td>5.298223</td>\n",
       "      <td>2.642885</td>\n",
       "      <td>3.932862</td>\n",
       "      <td>7.157615</td>\n",
       "      <td>5.613846</td>\n",
       "    </tr>\n",
       "  </tbody>\n",
       "</table>\n",
       "</div>"
      ],
      "text/plain": [
       "          Feature 0  Feature 1  Feature 2  Feature 3  Feature 4  Feature 5  \\\n",
       "Code                                                                         \n",
       "ITインフラ     7.324204   2.982087   3.925066   6.582467   6.434377   6.848620   \n",
       "JVCケンウッド   6.916071   3.436974   4.041061   5.964068   6.646266   7.546284   \n",
       "\n",
       "          Feature 6  Feature 7  Feature 8  Feature 9  Feature 10  Feature 11  \\\n",
       "Code                                                                           \n",
       "ITインフラ     4.793181   7.619975   3.581341   3.434576    6.505476    3.960529   \n",
       "JVCケンウッド   4.811968   8.314470   3.172635   4.246459    7.338310    2.925046   \n",
       "\n",
       "          Feature 12  Feature 13  Feature 14  Feature 15  Feature 16  \\\n",
       "Code                                                                   \n",
       "ITインフラ      7.034010    4.005229    6.134737    4.905088    1.364661   \n",
       "JVCケンウッド    6.656809    3.003574    7.312142    5.298223    2.642885   \n",
       "\n",
       "          Feature 17  Feature 18  Feature 19  \n",
       "Code                                          \n",
       "ITインフラ      4.324255    4.652064    3.854821  \n",
       "JVCケンウッド    3.932862    7.157615    5.613846  "
      ]
     },
     "execution_count": 11,
     "metadata": {},
     "output_type": "execute_result"
    }
   ],
   "source": [
    "# UMAPの適用\n",
    "umaped_df = apply_UMAP(target_df.unstack(0),\n",
    "                       n_components = 20,\n",
    "                       n_neighbors = 5,\n",
    "                       min_dist = 0.1)\n",
    "umaped_df.index.name = 'Code'\n",
    "umaped_df.head(2)"
   ]
  },
  {
   "cell_type": "code",
   "execution_count": 24,
   "metadata": {},
   "outputs": [
    {
     "name": "stdout",
     "output_type": "stream",
     "text": [
      "0\n"
     ]
    },
    {
     "name": "stderr",
     "output_type": "stream",
     "text": [
      "c:\\Users\\ryosh\\enrich_me\\.venv\\Lib\\site-packages\\umap\\umap_.py:2462: UserWarning: n_neighbors is larger than the dataset size; truncating to X.shape[0] - 1\n",
      "  warn(\n",
      "c:\\Users\\ryosh\\enrich_me\\.venv\\Lib\\site-packages\\umap\\spectral.py:519: RuntimeWarning: k >= N for N * N square matrix. Attempting to use scipy.linalg.eigh instead.\n",
      "  eigenvalues, eigenvectors = scipy.sparse.linalg.eigsh(\n",
      "c:\\Users\\ryosh\\enrich_me\\.venv\\Lib\\site-packages\\umap\\spectral.py:519: RuntimeWarning: k >= N for N * N square matrix. Attempting to use scipy.linalg.eigh instead.\n",
      "  eigenvalues, eigenvectors = scipy.sparse.linalg.eigsh(\n",
      "c:\\Users\\ryosh\\enrich_me\\.venv\\Lib\\site-packages\\umap\\spectral.py:519: RuntimeWarning: k >= N for N * N square matrix. Attempting to use scipy.linalg.eigh instead.\n",
      "  eigenvalues, eigenvectors = scipy.sparse.linalg.eigsh(\n",
      "c:\\Users\\ryosh\\enrich_me\\.venv\\Lib\\site-packages\\umap\\spectral.py:519: RuntimeWarning: k >= N for N * N square matrix. Attempting to use scipy.linalg.eigh instead.\n",
      "  eigenvalues, eigenvectors = scipy.sparse.linalg.eigsh(\n",
      "c:\\Users\\ryosh\\enrich_me\\.venv\\Lib\\site-packages\\umap\\spectral.py:519: RuntimeWarning: k >= N for N * N square matrix. Attempting to use scipy.linalg.eigh instead.\n",
      "  eigenvalues, eigenvectors = scipy.sparse.linalg.eigsh(\n",
      "c:\\Users\\ryosh\\enrich_me\\.venv\\Lib\\site-packages\\umap\\spectral.py:519: RuntimeWarning: k >= N for N * N square matrix. Attempting to use scipy.linalg.eigh instead.\n",
      "  eigenvalues, eigenvectors = scipy.sparse.linalg.eigsh(\n"
     ]
    },
    {
     "name": "stdout",
     "output_type": "stream",
     "text": [
      "Cannot use scipy.linalg.eigh for sparse A with k >= N. Use scipy.linalg.eigh(A.toarray()) or reduce k.\n",
      "Cannot use scipy.linalg.eigh for sparse A with k >= N. Use scipy.linalg.eigh(A.toarray()) or reduce k.\n",
      "Cannot use scipy.linalg.eigh for sparse A with k >= N. Use scipy.linalg.eigh(A.toarray()) or reduce k.\n",
      "Cannot use scipy.linalg.eigh for sparse A with k >= N. Use scipy.linalg.eigh(A.toarray()) or reduce k.\n",
      "Cannot use scipy.linalg.eigh for sparse A with k >= N. Use scipy.linalg.eigh(A.toarray()) or reduce k.\n",
      "Cannot use scipy.linalg.eigh for sparse A with k >= N. Use scipy.linalg.eigh(A.toarray()) or reduce k.\n",
      "1\n"
     ]
    },
    {
     "name": "stderr",
     "output_type": "stream",
     "text": [
      "c:\\Users\\ryosh\\enrich_me\\.venv\\Lib\\site-packages\\umap\\spectral.py:519: RuntimeWarning: k >= N for N * N square matrix. Attempting to use scipy.linalg.eigh instead.\n",
      "  eigenvalues, eigenvectors = scipy.sparse.linalg.eigsh(\n",
      "c:\\Users\\ryosh\\enrich_me\\.venv\\Lib\\site-packages\\umap\\spectral.py:519: RuntimeWarning: k >= N for N * N square matrix. Attempting to use scipy.linalg.eigh instead.\n",
      "  eigenvalues, eigenvectors = scipy.sparse.linalg.eigsh(\n",
      "c:\\Users\\ryosh\\enrich_me\\.venv\\Lib\\site-packages\\umap\\spectral.py:519: RuntimeWarning: k >= N for N * N square matrix. Attempting to use scipy.linalg.eigh instead.\n",
      "  eigenvalues, eigenvectors = scipy.sparse.linalg.eigsh(\n",
      "c:\\Users\\ryosh\\enrich_me\\.venv\\Lib\\site-packages\\umap\\spectral.py:519: RuntimeWarning: k >= N for N * N square matrix. Attempting to use scipy.linalg.eigh instead.\n",
      "  eigenvalues, eigenvectors = scipy.sparse.linalg.eigsh(\n"
     ]
    },
    {
     "name": "stdout",
     "output_type": "stream",
     "text": [
      "Cannot use scipy.linalg.eigh for sparse A with k >= N. Use scipy.linalg.eigh(A.toarray()) or reduce k.\n",
      "Cannot use scipy.linalg.eigh for sparse A with k >= N. Use scipy.linalg.eigh(A.toarray()) or reduce k.\n",
      "Cannot use scipy.linalg.eigh for sparse A with k >= N. Use scipy.linalg.eigh(A.toarray()) or reduce k.\n",
      "Cannot use scipy.linalg.eigh for sparse A with k >= N. Use scipy.linalg.eigh(A.toarray()) or reduce k.\n"
     ]
    },
    {
     "name": "stderr",
     "output_type": "stream",
     "text": [
      "c:\\Users\\ryosh\\enrich_me\\.venv\\Lib\\site-packages\\umap\\spectral.py:519: RuntimeWarning: k >= N for N * N square matrix. Attempting to use scipy.linalg.eigh instead.\n",
      "  eigenvalues, eigenvectors = scipy.sparse.linalg.eigsh(\n",
      "c:\\Users\\ryosh\\enrich_me\\.venv\\Lib\\site-packages\\umap\\spectral.py:519: RuntimeWarning: k >= N for N * N square matrix. Attempting to use scipy.linalg.eigh instead.\n",
      "  eigenvalues, eigenvectors = scipy.sparse.linalg.eigsh(\n"
     ]
    },
    {
     "name": "stdout",
     "output_type": "stream",
     "text": [
      "Cannot use scipy.linalg.eigh for sparse A with k >= N. Use scipy.linalg.eigh(A.toarray()) or reduce k.\n",
      "Cannot use scipy.linalg.eigh for sparse A with k >= N. Use scipy.linalg.eigh(A.toarray()) or reduce k.\n",
      "2\n"
     ]
    },
    {
     "name": "stderr",
     "output_type": "stream",
     "text": [
      "c:\\Users\\ryosh\\enrich_me\\.venv\\Lib\\site-packages\\umap\\umap_.py:2462: UserWarning: n_neighbors is larger than the dataset size; truncating to X.shape[0] - 1\n",
      "  warn(\n",
      "c:\\Users\\ryosh\\enrich_me\\.venv\\Lib\\site-packages\\umap\\spectral.py:519: RuntimeWarning: k >= N for N * N square matrix. Attempting to use scipy.linalg.eigh instead.\n",
      "  eigenvalues, eigenvectors = scipy.sparse.linalg.eigsh(\n",
      "c:\\Users\\ryosh\\enrich_me\\.venv\\Lib\\site-packages\\umap\\spectral.py:519: RuntimeWarning: k >= N for N * N square matrix. Attempting to use scipy.linalg.eigh instead.\n",
      "  eigenvalues, eigenvectors = scipy.sparse.linalg.eigsh(\n",
      "c:\\Users\\ryosh\\enrich_me\\.venv\\Lib\\site-packages\\umap\\spectral.py:519: RuntimeWarning: k >= N for N * N square matrix. Attempting to use scipy.linalg.eigh instead.\n",
      "  eigenvalues, eigenvectors = scipy.sparse.linalg.eigsh(\n",
      "c:\\Users\\ryosh\\enrich_me\\.venv\\Lib\\site-packages\\umap\\spectral.py:519: RuntimeWarning: k >= N for N * N square matrix. Attempting to use scipy.linalg.eigh instead.\n",
      "  eigenvalues, eigenvectors = scipy.sparse.linalg.eigsh(\n",
      "c:\\Users\\ryosh\\enrich_me\\.venv\\Lib\\site-packages\\umap\\spectral.py:519: RuntimeWarning: k >= N for N * N square matrix. Attempting to use scipy.linalg.eigh instead.\n",
      "  eigenvalues, eigenvectors = scipy.sparse.linalg.eigsh(\n",
      "c:\\Users\\ryosh\\enrich_me\\.venv\\Lib\\site-packages\\umap\\spectral.py:519: RuntimeWarning: k >= N for N * N square matrix. Attempting to use scipy.linalg.eigh instead.\n",
      "  eigenvalues, eigenvectors = scipy.sparse.linalg.eigsh(\n"
     ]
    },
    {
     "name": "stdout",
     "output_type": "stream",
     "text": [
      "Cannot use scipy.linalg.eigh for sparse A with k >= N. Use scipy.linalg.eigh(A.toarray()) or reduce k.\n",
      "Cannot use scipy.linalg.eigh for sparse A with k >= N. Use scipy.linalg.eigh(A.toarray()) or reduce k.\n",
      "Cannot use scipy.linalg.eigh for sparse A with k >= N. Use scipy.linalg.eigh(A.toarray()) or reduce k.\n",
      "Cannot use scipy.linalg.eigh for sparse A with k >= N. Use scipy.linalg.eigh(A.toarray()) or reduce k.\n",
      "Cannot use scipy.linalg.eigh for sparse A with k >= N. Use scipy.linalg.eigh(A.toarray()) or reduce k.\n",
      "Cannot use scipy.linalg.eigh for sparse A with k >= N. Use scipy.linalg.eigh(A.toarray()) or reduce k.\n",
      "3\n"
     ]
    },
    {
     "name": "stderr",
     "output_type": "stream",
     "text": [
      "c:\\Users\\ryosh\\enrich_me\\.venv\\Lib\\site-packages\\umap\\umap_.py:2462: UserWarning: n_neighbors is larger than the dataset size; truncating to X.shape[0] - 1\n",
      "  warn(\n",
      "c:\\Users\\ryosh\\enrich_me\\.venv\\Lib\\site-packages\\umap\\spectral.py:519: RuntimeWarning: k >= N for N * N square matrix. Attempting to use scipy.linalg.eigh instead.\n",
      "  eigenvalues, eigenvectors = scipy.sparse.linalg.eigsh(\n",
      "c:\\Users\\ryosh\\enrich_me\\.venv\\Lib\\site-packages\\umap\\spectral.py:519: RuntimeWarning: k >= N for N * N square matrix. Attempting to use scipy.linalg.eigh instead.\n",
      "  eigenvalues, eigenvectors = scipy.sparse.linalg.eigsh(\n",
      "c:\\Users\\ryosh\\enrich_me\\.venv\\Lib\\site-packages\\umap\\spectral.py:519: RuntimeWarning: k >= N for N * N square matrix. Attempting to use scipy.linalg.eigh instead.\n",
      "  eigenvalues, eigenvectors = scipy.sparse.linalg.eigsh(\n",
      "c:\\Users\\ryosh\\enrich_me\\.venv\\Lib\\site-packages\\umap\\spectral.py:519: RuntimeWarning: k >= N for N * N square matrix. Attempting to use scipy.linalg.eigh instead.\n",
      "  eigenvalues, eigenvectors = scipy.sparse.linalg.eigsh(\n",
      "c:\\Users\\ryosh\\enrich_me\\.venv\\Lib\\site-packages\\umap\\spectral.py:519: RuntimeWarning: k >= N for N * N square matrix. Attempting to use scipy.linalg.eigh instead.\n",
      "  eigenvalues, eigenvectors = scipy.sparse.linalg.eigsh(\n",
      "c:\\Users\\ryosh\\enrich_me\\.venv\\Lib\\site-packages\\umap\\spectral.py:519: RuntimeWarning: k >= N for N * N square matrix. Attempting to use scipy.linalg.eigh instead.\n",
      "  eigenvalues, eigenvectors = scipy.sparse.linalg.eigsh(\n"
     ]
    },
    {
     "name": "stdout",
     "output_type": "stream",
     "text": [
      "Cannot use scipy.linalg.eigh for sparse A with k >= N. Use scipy.linalg.eigh(A.toarray()) or reduce k.\n",
      "Cannot use scipy.linalg.eigh for sparse A with k >= N. Use scipy.linalg.eigh(A.toarray()) or reduce k.\n",
      "Cannot use scipy.linalg.eigh for sparse A with k >= N. Use scipy.linalg.eigh(A.toarray()) or reduce k.\n",
      "Cannot use scipy.linalg.eigh for sparse A with k >= N. Use scipy.linalg.eigh(A.toarray()) or reduce k.\n",
      "Cannot use scipy.linalg.eigh for sparse A with k >= N. Use scipy.linalg.eigh(A.toarray()) or reduce k.\n",
      "Cannot use scipy.linalg.eigh for sparse A with k >= N. Use scipy.linalg.eigh(A.toarray()) or reduce k.\n",
      "4\n"
     ]
    },
    {
     "name": "stderr",
     "output_type": "stream",
     "text": [
      "c:\\Users\\ryosh\\enrich_me\\.venv\\Lib\\site-packages\\umap\\spectral.py:519: RuntimeWarning: k >= N for N * N square matrix. Attempting to use scipy.linalg.eigh instead.\n",
      "  eigenvalues, eigenvectors = scipy.sparse.linalg.eigsh(\n",
      "c:\\Users\\ryosh\\enrich_me\\.venv\\Lib\\site-packages\\umap\\umap_.py:2462: UserWarning: n_neighbors is larger than the dataset size; truncating to X.shape[0] - 1\n",
      "  warn(\n",
      "c:\\Users\\ryosh\\enrich_me\\.venv\\Lib\\site-packages\\umap\\spectral.py:519: RuntimeWarning: k >= N for N * N square matrix. Attempting to use scipy.linalg.eigh instead.\n",
      "  eigenvalues, eigenvectors = scipy.sparse.linalg.eigsh(\n"
     ]
    },
    {
     "name": "stdout",
     "output_type": "stream",
     "text": [
      "Cannot use scipy.linalg.eigh for sparse A with k >= N. Use scipy.linalg.eigh(A.toarray()) or reduce k.\n",
      "Cannot use scipy.linalg.eigh for sparse A with k >= N. Use scipy.linalg.eigh(A.toarray()) or reduce k.\n"
     ]
    },
    {
     "name": "stderr",
     "output_type": "stream",
     "text": [
      "c:\\Users\\ryosh\\enrich_me\\.venv\\Lib\\site-packages\\umap\\spectral.py:519: RuntimeWarning: k >= N for N * N square matrix. Attempting to use scipy.linalg.eigh instead.\n",
      "  eigenvalues, eigenvectors = scipy.sparse.linalg.eigsh(\n",
      "c:\\Users\\ryosh\\enrich_me\\.venv\\Lib\\site-packages\\umap\\spectral.py:519: RuntimeWarning: k >= N for N * N square matrix. Attempting to use scipy.linalg.eigh instead.\n",
      "  eigenvalues, eigenvectors = scipy.sparse.linalg.eigsh(\n",
      "c:\\Users\\ryosh\\enrich_me\\.venv\\Lib\\site-packages\\umap\\spectral.py:519: RuntimeWarning: k >= N for N * N square matrix. Attempting to use scipy.linalg.eigh instead.\n",
      "  eigenvalues, eigenvectors = scipy.sparse.linalg.eigsh(\n",
      "c:\\Users\\ryosh\\enrich_me\\.venv\\Lib\\site-packages\\umap\\spectral.py:519: RuntimeWarning: k >= N for N * N square matrix. Attempting to use scipy.linalg.eigh instead.\n",
      "  eigenvalues, eigenvectors = scipy.sparse.linalg.eigsh(\n"
     ]
    },
    {
     "name": "stdout",
     "output_type": "stream",
     "text": [
      "Cannot use scipy.linalg.eigh for sparse A with k >= N. Use scipy.linalg.eigh(A.toarray()) or reduce k.\n",
      "Cannot use scipy.linalg.eigh for sparse A with k >= N. Use scipy.linalg.eigh(A.toarray()) or reduce k.\n",
      "Cannot use scipy.linalg.eigh for sparse A with k >= N. Use scipy.linalg.eigh(A.toarray()) or reduce k.\n",
      "Cannot use scipy.linalg.eigh for sparse A with k >= N. Use scipy.linalg.eigh(A.toarray()) or reduce k.\n",
      "5\n"
     ]
    },
    {
     "name": "stderr",
     "output_type": "stream",
     "text": [
      "c:\\Users\\ryosh\\enrich_me\\.venv\\Lib\\site-packages\\umap\\spectral.py:519: RuntimeWarning: k >= N for N * N square matrix. Attempting to use scipy.linalg.eigh instead.\n",
      "  eigenvalues, eigenvectors = scipy.sparse.linalg.eigsh(\n",
      "c:\\Users\\ryosh\\enrich_me\\.venv\\Lib\\site-packages\\umap\\spectral.py:519: RuntimeWarning: k >= N for N * N square matrix. Attempting to use scipy.linalg.eigh instead.\n",
      "  eigenvalues, eigenvectors = scipy.sparse.linalg.eigsh(\n",
      "c:\\Users\\ryosh\\enrich_me\\.venv\\Lib\\site-packages\\umap\\spectral.py:519: RuntimeWarning: k >= N for N * N square matrix. Attempting to use scipy.linalg.eigh instead.\n",
      "  eigenvalues, eigenvectors = scipy.sparse.linalg.eigsh(\n",
      "c:\\Users\\ryosh\\enrich_me\\.venv\\Lib\\site-packages\\umap\\spectral.py:519: RuntimeWarning: k >= N for N * N square matrix. Attempting to use scipy.linalg.eigh instead.\n",
      "  eigenvalues, eigenvectors = scipy.sparse.linalg.eigsh(\n",
      "c:\\Users\\ryosh\\enrich_me\\.venv\\Lib\\site-packages\\umap\\spectral.py:519: RuntimeWarning: k >= N for N * N square matrix. Attempting to use scipy.linalg.eigh instead.\n",
      "  eigenvalues, eigenvectors = scipy.sparse.linalg.eigsh(\n"
     ]
    },
    {
     "name": "stdout",
     "output_type": "stream",
     "text": [
      "Cannot use scipy.linalg.eigh for sparse A with k >= N. Use scipy.linalg.eigh(A.toarray()) or reduce k.\n",
      "Cannot use scipy.linalg.eigh for sparse A with k >= N. Use scipy.linalg.eigh(A.toarray()) or reduce k.\n",
      "Cannot use scipy.linalg.eigh for sparse A with k >= N. Use scipy.linalg.eigh(A.toarray()) or reduce k.\n",
      "Cannot use scipy.linalg.eigh for sparse A with k >= N. Use scipy.linalg.eigh(A.toarray()) or reduce k.\n",
      "Cannot use scipy.linalg.eigh for sparse A with k >= N. Use scipy.linalg.eigh(A.toarray()) or reduce k.\n",
      "6\n"
     ]
    },
    {
     "name": "stderr",
     "output_type": "stream",
     "text": [
      "c:\\Users\\ryosh\\enrich_me\\.venv\\Lib\\site-packages\\umap\\spectral.py:519: RuntimeWarning: k >= N for N * N square matrix. Attempting to use scipy.linalg.eigh instead.\n",
      "  eigenvalues, eigenvectors = scipy.sparse.linalg.eigsh(\n",
      "c:\\Users\\ryosh\\enrich_me\\.venv\\Lib\\site-packages\\umap\\spectral.py:519: RuntimeWarning: k >= N for N * N square matrix. Attempting to use scipy.linalg.eigh instead.\n",
      "  eigenvalues, eigenvectors = scipy.sparse.linalg.eigsh(\n",
      "c:\\Users\\ryosh\\enrich_me\\.venv\\Lib\\site-packages\\umap\\umap_.py:2462: UserWarning: n_neighbors is larger than the dataset size; truncating to X.shape[0] - 1\n",
      "  warn(\n",
      "c:\\Users\\ryosh\\enrich_me\\.venv\\Lib\\site-packages\\umap\\spectral.py:519: RuntimeWarning: k >= N for N * N square matrix. Attempting to use scipy.linalg.eigh instead.\n",
      "  eigenvalues, eigenvectors = scipy.sparse.linalg.eigsh(\n",
      "c:\\Users\\ryosh\\enrich_me\\.venv\\Lib\\site-packages\\umap\\spectral.py:519: RuntimeWarning: k >= N for N * N square matrix. Attempting to use scipy.linalg.eigh instead.\n",
      "  eigenvalues, eigenvectors = scipy.sparse.linalg.eigsh(\n"
     ]
    },
    {
     "name": "stdout",
     "output_type": "stream",
     "text": [
      "Cannot use scipy.linalg.eigh for sparse A with k >= N. Use scipy.linalg.eigh(A.toarray()) or reduce k.\n",
      "Cannot use scipy.linalg.eigh for sparse A with k >= N. Use scipy.linalg.eigh(A.toarray()) or reduce k.\n",
      "Cannot use scipy.linalg.eigh for sparse A with k >= N. Use scipy.linalg.eigh(A.toarray()) or reduce k.\n",
      "Cannot use scipy.linalg.eigh for sparse A with k >= N. Use scipy.linalg.eigh(A.toarray()) or reduce k.\n"
     ]
    },
    {
     "name": "stderr",
     "output_type": "stream",
     "text": [
      "c:\\Users\\ryosh\\enrich_me\\.venv\\Lib\\site-packages\\umap\\spectral.py:519: RuntimeWarning: k >= N for N * N square matrix. Attempting to use scipy.linalg.eigh instead.\n",
      "  eigenvalues, eigenvectors = scipy.sparse.linalg.eigsh(\n",
      "c:\\Users\\ryosh\\enrich_me\\.venv\\Lib\\site-packages\\umap\\spectral.py:519: RuntimeWarning: k >= N for N * N square matrix. Attempting to use scipy.linalg.eigh instead.\n",
      "  eigenvalues, eigenvectors = scipy.sparse.linalg.eigsh(\n"
     ]
    },
    {
     "name": "stdout",
     "output_type": "stream",
     "text": [
      "Cannot use scipy.linalg.eigh for sparse A with k >= N. Use scipy.linalg.eigh(A.toarray()) or reduce k.\n",
      "Cannot use scipy.linalg.eigh for sparse A with k >= N. Use scipy.linalg.eigh(A.toarray()) or reduce k.\n",
      "7\n"
     ]
    },
    {
     "name": "stderr",
     "output_type": "stream",
     "text": [
      "c:\\Users\\ryosh\\enrich_me\\.venv\\Lib\\site-packages\\umap\\spectral.py:519: RuntimeWarning: k >= N for N * N square matrix. Attempting to use scipy.linalg.eigh instead.\n",
      "  eigenvalues, eigenvectors = scipy.sparse.linalg.eigsh(\n",
      "c:\\Users\\ryosh\\enrich_me\\.venv\\Lib\\site-packages\\umap\\spectral.py:519: RuntimeWarning: k >= N for N * N square matrix. Attempting to use scipy.linalg.eigh instead.\n",
      "  eigenvalues, eigenvectors = scipy.sparse.linalg.eigsh(\n",
      "c:\\Users\\ryosh\\enrich_me\\.venv\\Lib\\site-packages\\umap\\spectral.py:519: RuntimeWarning: k >= N for N * N square matrix. Attempting to use scipy.linalg.eigh instead.\n",
      "  eigenvalues, eigenvectors = scipy.sparse.linalg.eigsh(\n",
      "c:\\Users\\ryosh\\enrich_me\\.venv\\Lib\\site-packages\\umap\\spectral.py:519: RuntimeWarning: k >= N for N * N square matrix. Attempting to use scipy.linalg.eigh instead.\n",
      "  eigenvalues, eigenvectors = scipy.sparse.linalg.eigsh(\n"
     ]
    },
    {
     "name": "stdout",
     "output_type": "stream",
     "text": [
      "Cannot use scipy.linalg.eigh for sparse A with k >= N. Use scipy.linalg.eigh(A.toarray()) or reduce k.\n",
      "Cannot use scipy.linalg.eigh for sparse A with k >= N. Use scipy.linalg.eigh(A.toarray()) or reduce k.\n",
      "Cannot use scipy.linalg.eigh for sparse A with k >= N. Use scipy.linalg.eigh(A.toarray()) or reduce k.\n",
      "Cannot use scipy.linalg.eigh for sparse A with k >= N. Use scipy.linalg.eigh(A.toarray()) or reduce k.\n"
     ]
    },
    {
     "name": "stderr",
     "output_type": "stream",
     "text": [
      "c:\\Users\\ryosh\\enrich_me\\.venv\\Lib\\site-packages\\umap\\umap_.py:2462: UserWarning: n_neighbors is larger than the dataset size; truncating to X.shape[0] - 1\n",
      "  warn(\n",
      "c:\\Users\\ryosh\\enrich_me\\.venv\\Lib\\site-packages\\umap\\spectral.py:519: RuntimeWarning: k >= N for N * N square matrix. Attempting to use scipy.linalg.eigh instead.\n",
      "  eigenvalues, eigenvectors = scipy.sparse.linalg.eigsh(\n",
      "c:\\Users\\ryosh\\enrich_me\\.venv\\Lib\\site-packages\\umap\\spectral.py:519: RuntimeWarning: k >= N for N * N square matrix. Attempting to use scipy.linalg.eigh instead.\n",
      "  eigenvalues, eigenvectors = scipy.sparse.linalg.eigsh(\n",
      "c:\\Users\\ryosh\\enrich_me\\.venv\\Lib\\site-packages\\umap\\spectral.py:519: RuntimeWarning: k >= N for N * N square matrix. Attempting to use scipy.linalg.eigh instead.\n",
      "  eigenvalues, eigenvectors = scipy.sparse.linalg.eigsh(\n"
     ]
    },
    {
     "name": "stdout",
     "output_type": "stream",
     "text": [
      "Cannot use scipy.linalg.eigh for sparse A with k >= N. Use scipy.linalg.eigh(A.toarray()) or reduce k.\n",
      "Cannot use scipy.linalg.eigh for sparse A with k >= N. Use scipy.linalg.eigh(A.toarray()) or reduce k.\n",
      "Cannot use scipy.linalg.eigh for sparse A with k >= N. Use scipy.linalg.eigh(A.toarray()) or reduce k.\n",
      "8\n"
     ]
    },
    {
     "name": "stderr",
     "output_type": "stream",
     "text": [
      "c:\\Users\\ryosh\\enrich_me\\.venv\\Lib\\site-packages\\umap\\spectral.py:519: RuntimeWarning: k >= N for N * N square matrix. Attempting to use scipy.linalg.eigh instead.\n",
      "  eigenvalues, eigenvectors = scipy.sparse.linalg.eigsh(\n",
      "c:\\Users\\ryosh\\enrich_me\\.venv\\Lib\\site-packages\\umap\\spectral.py:519: RuntimeWarning: k >= N for N * N square matrix. Attempting to use scipy.linalg.eigh instead.\n",
      "  eigenvalues, eigenvectors = scipy.sparse.linalg.eigsh(\n",
      "c:\\Users\\ryosh\\enrich_me\\.venv\\Lib\\site-packages\\umap\\spectral.py:519: RuntimeWarning: k >= N for N * N square matrix. Attempting to use scipy.linalg.eigh instead.\n",
      "  eigenvalues, eigenvectors = scipy.sparse.linalg.eigsh(\n",
      "c:\\Users\\ryosh\\enrich_me\\.venv\\Lib\\site-packages\\umap\\spectral.py:519: RuntimeWarning: k >= N for N * N square matrix. Attempting to use scipy.linalg.eigh instead.\n",
      "  eigenvalues, eigenvectors = scipy.sparse.linalg.eigsh(\n",
      "c:\\Users\\ryosh\\enrich_me\\.venv\\Lib\\site-packages\\umap\\spectral.py:519: RuntimeWarning: k >= N for N * N square matrix. Attempting to use scipy.linalg.eigh instead.\n",
      "  eigenvalues, eigenvectors = scipy.sparse.linalg.eigsh(\n",
      "c:\\Users\\ryosh\\enrich_me\\.venv\\Lib\\site-packages\\umap\\spectral.py:519: RuntimeWarning: k >= N for N * N square matrix. Attempting to use scipy.linalg.eigh instead.\n",
      "  eigenvalues, eigenvectors = scipy.sparse.linalg.eigsh(\n",
      "c:\\Users\\ryosh\\enrich_me\\.venv\\Lib\\site-packages\\umap\\umap_.py:2462: UserWarning: n_neighbors is larger than the dataset size; truncating to X.shape[0] - 1\n",
      "  warn(\n",
      "c:\\Users\\ryosh\\enrich_me\\.venv\\Lib\\site-packages\\umap\\spectral.py:519: RuntimeWarning: k >= N for N * N square matrix. Attempting to use scipy.linalg.eigh instead.\n",
      "  eigenvalues, eigenvectors = scipy.sparse.linalg.eigsh(\n"
     ]
    },
    {
     "name": "stdout",
     "output_type": "stream",
     "text": [
      "Cannot use scipy.linalg.eigh for sparse A with k >= N. Use scipy.linalg.eigh(A.toarray()) or reduce k.\n",
      "Cannot use scipy.linalg.eigh for sparse A with k >= N. Use scipy.linalg.eigh(A.toarray()) or reduce k.\n",
      "Cannot use scipy.linalg.eigh for sparse A with k >= N. Use scipy.linalg.eigh(A.toarray()) or reduce k.\n",
      "Cannot use scipy.linalg.eigh for sparse A with k >= N. Use scipy.linalg.eigh(A.toarray()) or reduce k.\n",
      "Cannot use scipy.linalg.eigh for sparse A with k >= N. Use scipy.linalg.eigh(A.toarray()) or reduce k.\n",
      "Cannot use scipy.linalg.eigh for sparse A with k >= N. Use scipy.linalg.eigh(A.toarray()) or reduce k.\n",
      "Cannot use scipy.linalg.eigh for sparse A with k >= N. Use scipy.linalg.eigh(A.toarray()) or reduce k.\n",
      "9\n"
     ]
    },
    {
     "name": "stderr",
     "output_type": "stream",
     "text": [
      "c:\\Users\\ryosh\\enrich_me\\.venv\\Lib\\site-packages\\umap\\spectral.py:519: RuntimeWarning: k >= N for N * N square matrix. Attempting to use scipy.linalg.eigh instead.\n",
      "  eigenvalues, eigenvectors = scipy.sparse.linalg.eigsh(\n",
      "c:\\Users\\ryosh\\enrich_me\\.venv\\Lib\\site-packages\\umap\\umap_.py:2462: UserWarning: n_neighbors is larger than the dataset size; truncating to X.shape[0] - 1\n",
      "  warn(\n",
      "c:\\Users\\ryosh\\enrich_me\\.venv\\Lib\\site-packages\\umap\\spectral.py:519: RuntimeWarning: k >= N for N * N square matrix. Attempting to use scipy.linalg.eigh instead.\n",
      "  eigenvalues, eigenvectors = scipy.sparse.linalg.eigsh(\n"
     ]
    },
    {
     "name": "stdout",
     "output_type": "stream",
     "text": [
      "Cannot use scipy.linalg.eigh for sparse A with k >= N. Use scipy.linalg.eigh(A.toarray()) or reduce k.\n",
      "Cannot use scipy.linalg.eigh for sparse A with k >= N. Use scipy.linalg.eigh(A.toarray()) or reduce k.\n"
     ]
    },
    {
     "name": "stderr",
     "output_type": "stream",
     "text": [
      "c:\\Users\\ryosh\\enrich_me\\.venv\\Lib\\site-packages\\umap\\spectral.py:519: RuntimeWarning: k >= N for N * N square matrix. Attempting to use scipy.linalg.eigh instead.\n",
      "  eigenvalues, eigenvectors = scipy.sparse.linalg.eigsh(\n",
      "c:\\Users\\ryosh\\enrich_me\\.venv\\Lib\\site-packages\\umap\\spectral.py:519: RuntimeWarning: k >= N for N * N square matrix. Attempting to use scipy.linalg.eigh instead.\n",
      "  eigenvalues, eigenvectors = scipy.sparse.linalg.eigsh(\n",
      "c:\\Users\\ryosh\\enrich_me\\.venv\\Lib\\site-packages\\umap\\spectral.py:519: RuntimeWarning: k >= N for N * N square matrix. Attempting to use scipy.linalg.eigh instead.\n",
      "  eigenvalues, eigenvectors = scipy.sparse.linalg.eigsh(\n",
      "c:\\Users\\ryosh\\enrich_me\\.venv\\Lib\\site-packages\\umap\\spectral.py:519: RuntimeWarning: k >= N for N * N square matrix. Attempting to use scipy.linalg.eigh instead.\n",
      "  eigenvalues, eigenvectors = scipy.sparse.linalg.eigsh(\n",
      "c:\\Users\\ryosh\\enrich_me\\.venv\\Lib\\site-packages\\umap\\spectral.py:519: RuntimeWarning: k >= N for N * N square matrix. Attempting to use scipy.linalg.eigh instead.\n",
      "  eigenvalues, eigenvectors = scipy.sparse.linalg.eigsh(\n"
     ]
    },
    {
     "name": "stdout",
     "output_type": "stream",
     "text": [
      "Cannot use scipy.linalg.eigh for sparse A with k >= N. Use scipy.linalg.eigh(A.toarray()) or reduce k.\n",
      "Cannot use scipy.linalg.eigh for sparse A with k >= N. Use scipy.linalg.eigh(A.toarray()) or reduce k.\n",
      "Cannot use scipy.linalg.eigh for sparse A with k >= N. Use scipy.linalg.eigh(A.toarray()) or reduce k.\n",
      "Cannot use scipy.linalg.eigh for sparse A with k >= N. Use scipy.linalg.eigh(A.toarray()) or reduce k.\n",
      "Cannot use scipy.linalg.eigh for sparse A with k >= N. Use scipy.linalg.eigh(A.toarray()) or reduce k.\n",
      "10\n"
     ]
    },
    {
     "name": "stderr",
     "output_type": "stream",
     "text": [
      "c:\\Users\\ryosh\\enrich_me\\.venv\\Lib\\site-packages\\umap\\spectral.py:519: RuntimeWarning: k >= N for N * N square matrix. Attempting to use scipy.linalg.eigh instead.\n",
      "  eigenvalues, eigenvectors = scipy.sparse.linalg.eigsh(\n",
      "c:\\Users\\ryosh\\enrich_me\\.venv\\Lib\\site-packages\\umap\\umap_.py:2462: UserWarning: n_neighbors is larger than the dataset size; truncating to X.shape[0] - 1\n",
      "  warn(\n",
      "c:\\Users\\ryosh\\enrich_me\\.venv\\Lib\\site-packages\\umap\\spectral.py:519: RuntimeWarning: k >= N for N * N square matrix. Attempting to use scipy.linalg.eigh instead.\n",
      "  eigenvalues, eigenvectors = scipy.sparse.linalg.eigsh(\n",
      "c:\\Users\\ryosh\\enrich_me\\.venv\\Lib\\site-packages\\umap\\spectral.py:519: RuntimeWarning: k >= N for N * N square matrix. Attempting to use scipy.linalg.eigh instead.\n",
      "  eigenvalues, eigenvectors = scipy.sparse.linalg.eigsh(\n",
      "c:\\Users\\ryosh\\enrich_me\\.venv\\Lib\\site-packages\\umap\\umap_.py:2462: UserWarning: n_neighbors is larger than the dataset size; truncating to X.shape[0] - 1\n",
      "  warn(\n",
      "c:\\Users\\ryosh\\enrich_me\\.venv\\Lib\\site-packages\\umap\\spectral.py:519: RuntimeWarning: k >= N for N * N square matrix. Attempting to use scipy.linalg.eigh instead.\n",
      "  eigenvalues, eigenvectors = scipy.sparse.linalg.eigsh(\n",
      "c:\\Users\\ryosh\\enrich_me\\.venv\\Lib\\site-packages\\umap\\spectral.py:519: RuntimeWarning: k >= N for N * N square matrix. Attempting to use scipy.linalg.eigh instead.\n",
      "  eigenvalues, eigenvectors = scipy.sparse.linalg.eigsh(\n",
      "c:\\Users\\ryosh\\enrich_me\\.venv\\Lib\\site-packages\\umap\\spectral.py:519: RuntimeWarning: k >= N for N * N square matrix. Attempting to use scipy.linalg.eigh instead.\n",
      "  eigenvalues, eigenvectors = scipy.sparse.linalg.eigsh(\n"
     ]
    },
    {
     "name": "stdout",
     "output_type": "stream",
     "text": [
      "Cannot use scipy.linalg.eigh for sparse A with k >= N. Use scipy.linalg.eigh(A.toarray()) or reduce k.\n",
      "Cannot use scipy.linalg.eigh for sparse A with k >= N. Use scipy.linalg.eigh(A.toarray()) or reduce k.\n",
      "Cannot use scipy.linalg.eigh for sparse A with k >= N. Use scipy.linalg.eigh(A.toarray()) or reduce k.\n",
      "Cannot use scipy.linalg.eigh for sparse A with k >= N. Use scipy.linalg.eigh(A.toarray()) or reduce k.\n",
      "Cannot use scipy.linalg.eigh for sparse A with k >= N. Use scipy.linalg.eigh(A.toarray()) or reduce k.\n",
      "Cannot use scipy.linalg.eigh for sparse A with k >= N. Use scipy.linalg.eigh(A.toarray()) or reduce k.\n",
      "11\n"
     ]
    },
    {
     "name": "stderr",
     "output_type": "stream",
     "text": [
      "c:\\Users\\ryosh\\enrich_me\\.venv\\Lib\\site-packages\\umap\\umap_.py:2462: UserWarning: n_neighbors is larger than the dataset size; truncating to X.shape[0] - 1\n",
      "  warn(\n",
      "c:\\Users\\ryosh\\enrich_me\\.venv\\Lib\\site-packages\\umap\\spectral.py:519: RuntimeWarning: k >= N for N * N square matrix. Attempting to use scipy.linalg.eigh instead.\n",
      "  eigenvalues, eigenvectors = scipy.sparse.linalg.eigsh(\n",
      "c:\\Users\\ryosh\\enrich_me\\.venv\\Lib\\site-packages\\umap\\spectral.py:519: RuntimeWarning: k >= N for N * N square matrix. Attempting to use scipy.linalg.eigh instead.\n",
      "  eigenvalues, eigenvectors = scipy.sparse.linalg.eigsh(\n",
      "c:\\Users\\ryosh\\enrich_me\\.venv\\Lib\\site-packages\\umap\\spectral.py:519: RuntimeWarning: k >= N for N * N square matrix. Attempting to use scipy.linalg.eigh instead.\n",
      "  eigenvalues, eigenvectors = scipy.sparse.linalg.eigsh(\n",
      "c:\\Users\\ryosh\\enrich_me\\.venv\\Lib\\site-packages\\umap\\spectral.py:519: RuntimeWarning: k >= N for N * N square matrix. Attempting to use scipy.linalg.eigh instead.\n",
      "  eigenvalues, eigenvectors = scipy.sparse.linalg.eigsh(\n"
     ]
    },
    {
     "name": "stdout",
     "output_type": "stream",
     "text": [
      "Cannot use scipy.linalg.eigh for sparse A with k >= N. Use scipy.linalg.eigh(A.toarray()) or reduce k.\n",
      "Cannot use scipy.linalg.eigh for sparse A with k >= N. Use scipy.linalg.eigh(A.toarray()) or reduce k.\n",
      "Cannot use scipy.linalg.eigh for sparse A with k >= N. Use scipy.linalg.eigh(A.toarray()) or reduce k.\n",
      "Cannot use scipy.linalg.eigh for sparse A with k >= N. Use scipy.linalg.eigh(A.toarray()) or reduce k.\n"
     ]
    },
    {
     "name": "stderr",
     "output_type": "stream",
     "text": [
      "c:\\Users\\ryosh\\enrich_me\\.venv\\Lib\\site-packages\\umap\\umap_.py:2462: UserWarning: n_neighbors is larger than the dataset size; truncating to X.shape[0] - 1\n",
      "  warn(\n",
      "c:\\Users\\ryosh\\enrich_me\\.venv\\Lib\\site-packages\\umap\\umap_.py:134: UserWarning: A large number of your vertices were disconnected from the manifold.\n",
      "Disconnection_distance = inf has removed 0 edges.\n",
      "It has fully disconnected 2 vertices.\n",
      "You might consider using find_disconnected_points() to find and remove these points from your data.\n",
      "Use umap.utils.disconnected_vertices() to identify them.\n",
      "  warn(\n",
      "c:\\Users\\ryosh\\enrich_me\\.venv\\Lib\\site-packages\\umap\\spectral.py:519: RuntimeWarning: k >= N for N * N square matrix. Attempting to use scipy.linalg.eigh instead.\n",
      "  eigenvalues, eigenvectors = scipy.sparse.linalg.eigsh(\n",
      "c:\\Users\\ryosh\\enrich_me\\.venv\\Lib\\site-packages\\umap\\umap_.py:2462: UserWarning: n_neighbors is larger than the dataset size; truncating to X.shape[0] - 1\n",
      "  warn(\n",
      "c:\\Users\\ryosh\\enrich_me\\.venv\\Lib\\site-packages\\umap\\spectral.py:519: RuntimeWarning: k >= N for N * N square matrix. Attempting to use scipy.linalg.eigh instead.\n",
      "  eigenvalues, eigenvectors = scipy.sparse.linalg.eigsh(\n"
     ]
    },
    {
     "name": "stdout",
     "output_type": "stream",
     "text": [
      "zero-size array to reduction operation maximum which has no identity\n",
      "Cannot use scipy.linalg.eigh for sparse A with k >= N. Use scipy.linalg.eigh(A.toarray()) or reduce k.\n",
      "Cannot use scipy.linalg.eigh for sparse A with k >= N. Use scipy.linalg.eigh(A.toarray()) or reduce k.\n",
      "12\n"
     ]
    },
    {
     "name": "stderr",
     "output_type": "stream",
     "text": [
      "c:\\Users\\ryosh\\enrich_me\\.venv\\Lib\\site-packages\\umap\\umap_.py:2462: UserWarning: n_neighbors is larger than the dataset size; truncating to X.shape[0] - 1\n",
      "  warn(\n",
      "c:\\Users\\ryosh\\enrich_me\\.venv\\Lib\\site-packages\\umap\\spectral.py:519: RuntimeWarning: k >= N for N * N square matrix. Attempting to use scipy.linalg.eigh instead.\n",
      "  eigenvalues, eigenvectors = scipy.sparse.linalg.eigsh(\n",
      "c:\\Users\\ryosh\\enrich_me\\.venv\\Lib\\site-packages\\umap\\spectral.py:519: RuntimeWarning: k >= N for N * N square matrix. Attempting to use scipy.linalg.eigh instead.\n",
      "  eigenvalues, eigenvectors = scipy.sparse.linalg.eigsh(\n",
      "c:\\Users\\ryosh\\enrich_me\\.venv\\Lib\\site-packages\\umap\\spectral.py:519: RuntimeWarning: k >= N for N * N square matrix. Attempting to use scipy.linalg.eigh instead.\n",
      "  eigenvalues, eigenvectors = scipy.sparse.linalg.eigsh(\n",
      "c:\\Users\\ryosh\\enrich_me\\.venv\\Lib\\site-packages\\umap\\spectral.py:519: RuntimeWarning: k >= N for N * N square matrix. Attempting to use scipy.linalg.eigh instead.\n",
      "  eigenvalues, eigenvectors = scipy.sparse.linalg.eigsh(\n",
      "c:\\Users\\ryosh\\enrich_me\\.venv\\Lib\\site-packages\\umap\\spectral.py:519: RuntimeWarning: k >= N for N * N square matrix. Attempting to use scipy.linalg.eigh instead.\n",
      "  eigenvalues, eigenvectors = scipy.sparse.linalg.eigsh(\n",
      "c:\\Users\\ryosh\\enrich_me\\.venv\\Lib\\site-packages\\umap\\spectral.py:519: RuntimeWarning: k >= N for N * N square matrix. Attempting to use scipy.linalg.eigh instead.\n",
      "  eigenvalues, eigenvectors = scipy.sparse.linalg.eigsh(\n",
      "c:\\Users\\ryosh\\enrich_me\\.venv\\Lib\\site-packages\\umap\\spectral.py:519: RuntimeWarning: k >= N for N * N square matrix. Attempting to use scipy.linalg.eigh instead.\n",
      "  eigenvalues, eigenvectors = scipy.sparse.linalg.eigsh(\n"
     ]
    },
    {
     "name": "stdout",
     "output_type": "stream",
     "text": [
      "Cannot use scipy.linalg.eigh for sparse A with k >= N. Use scipy.linalg.eigh(A.toarray()) or reduce k.\n",
      "Cannot use scipy.linalg.eigh for sparse A with k >= N. Use scipy.linalg.eigh(A.toarray()) or reduce k.\n",
      "Cannot use scipy.linalg.eigh for sparse A with k >= N. Use scipy.linalg.eigh(A.toarray()) or reduce k.\n",
      "Cannot use scipy.linalg.eigh for sparse A with k >= N. Use scipy.linalg.eigh(A.toarray()) or reduce k.\n",
      "Cannot use scipy.linalg.eigh for sparse A with k >= N. Use scipy.linalg.eigh(A.toarray()) or reduce k.\n",
      "Cannot use scipy.linalg.eigh for sparse A with k >= N. Use scipy.linalg.eigh(A.toarray()) or reduce k.\n",
      "Cannot use scipy.linalg.eigh for sparse A with k >= N. Use scipy.linalg.eigh(A.toarray()) or reduce k.\n",
      "13\n"
     ]
    },
    {
     "name": "stderr",
     "output_type": "stream",
     "text": [
      "c:\\Users\\ryosh\\enrich_me\\.venv\\Lib\\site-packages\\umap\\spectral.py:519: RuntimeWarning: k >= N for N * N square matrix. Attempting to use scipy.linalg.eigh instead.\n",
      "  eigenvalues, eigenvectors = scipy.sparse.linalg.eigsh(\n",
      "c:\\Users\\ryosh\\enrich_me\\.venv\\Lib\\site-packages\\umap\\spectral.py:519: RuntimeWarning: k >= N for N * N square matrix. Attempting to use scipy.linalg.eigh instead.\n",
      "  eigenvalues, eigenvectors = scipy.sparse.linalg.eigsh(\n",
      "c:\\Users\\ryosh\\enrich_me\\.venv\\Lib\\site-packages\\umap\\umap_.py:2462: UserWarning: n_neighbors is larger than the dataset size; truncating to X.shape[0] - 1\n",
      "  warn(\n",
      "c:\\Users\\ryosh\\enrich_me\\.venv\\Lib\\site-packages\\umap\\spectral.py:519: RuntimeWarning: k >= N for N * N square matrix. Attempting to use scipy.linalg.eigh instead.\n",
      "  eigenvalues, eigenvectors = scipy.sparse.linalg.eigsh(\n",
      "c:\\Users\\ryosh\\enrich_me\\.venv\\Lib\\site-packages\\umap\\spectral.py:519: RuntimeWarning: k >= N for N * N square matrix. Attempting to use scipy.linalg.eigh instead.\n",
      "  eigenvalues, eigenvectors = scipy.sparse.linalg.eigsh(\n",
      "c:\\Users\\ryosh\\enrich_me\\.venv\\Lib\\site-packages\\umap\\spectral.py:519: RuntimeWarning: k >= N for N * N square matrix. Attempting to use scipy.linalg.eigh instead.\n",
      "  eigenvalues, eigenvectors = scipy.sparse.linalg.eigsh(\n",
      "c:\\Users\\ryosh\\enrich_me\\.venv\\Lib\\site-packages\\umap\\spectral.py:519: RuntimeWarning: k >= N for N * N square matrix. Attempting to use scipy.linalg.eigh instead.\n",
      "  eigenvalues, eigenvectors = scipy.sparse.linalg.eigsh(\n",
      "c:\\Users\\ryosh\\enrich_me\\.venv\\Lib\\site-packages\\umap\\spectral.py:519: RuntimeWarning: k >= N for N * N square matrix. Attempting to use scipy.linalg.eigh instead.\n",
      "  eigenvalues, eigenvectors = scipy.sparse.linalg.eigsh(\n"
     ]
    },
    {
     "name": "stdout",
     "output_type": "stream",
     "text": [
      "Cannot use scipy.linalg.eigh for sparse A with k >= N. Use scipy.linalg.eigh(A.toarray()) or reduce k.\n",
      "Cannot use scipy.linalg.eigh for sparse A with k >= N. Use scipy.linalg.eigh(A.toarray()) or reduce k.\n",
      "Cannot use scipy.linalg.eigh for sparse A with k >= N. Use scipy.linalg.eigh(A.toarray()) or reduce k.\n",
      "Cannot use scipy.linalg.eigh for sparse A with k >= N. Use scipy.linalg.eigh(A.toarray()) or reduce k.\n",
      "Cannot use scipy.linalg.eigh for sparse A with k >= N. Use scipy.linalg.eigh(A.toarray()) or reduce k.\n",
      "Cannot use scipy.linalg.eigh for sparse A with k >= N. Use scipy.linalg.eigh(A.toarray()) or reduce k.\n",
      "Cannot use scipy.linalg.eigh for sparse A with k >= N. Use scipy.linalg.eigh(A.toarray()) or reduce k.\n",
      "14\n"
     ]
    },
    {
     "name": "stderr",
     "output_type": "stream",
     "text": [
      "c:\\Users\\ryosh\\enrich_me\\.venv\\Lib\\site-packages\\umap\\spectral.py:519: RuntimeWarning: k >= N for N * N square matrix. Attempting to use scipy.linalg.eigh instead.\n",
      "  eigenvalues, eigenvectors = scipy.sparse.linalg.eigsh(\n",
      "c:\\Users\\ryosh\\enrich_me\\.venv\\Lib\\site-packages\\umap\\spectral.py:519: RuntimeWarning: k >= N for N * N square matrix. Attempting to use scipy.linalg.eigh instead.\n",
      "  eigenvalues, eigenvectors = scipy.sparse.linalg.eigsh(\n",
      "c:\\Users\\ryosh\\enrich_me\\.venv\\Lib\\site-packages\\umap\\spectral.py:519: RuntimeWarning: k >= N for N * N square matrix. Attempting to use scipy.linalg.eigh instead.\n",
      "  eigenvalues, eigenvectors = scipy.sparse.linalg.eigsh(\n",
      "c:\\Users\\ryosh\\enrich_me\\.venv\\Lib\\site-packages\\umap\\spectral.py:519: RuntimeWarning: k >= N for N * N square matrix. Attempting to use scipy.linalg.eigh instead.\n",
      "  eigenvalues, eigenvectors = scipy.sparse.linalg.eigsh(\n",
      "c:\\Users\\ryosh\\enrich_me\\.venv\\Lib\\site-packages\\umap\\spectral.py:519: RuntimeWarning: k >= N for N * N square matrix. Attempting to use scipy.linalg.eigh instead.\n",
      "  eigenvalues, eigenvectors = scipy.sparse.linalg.eigsh(\n"
     ]
    },
    {
     "name": "stdout",
     "output_type": "stream",
     "text": [
      "Cannot use scipy.linalg.eigh for sparse A with k >= N. Use scipy.linalg.eigh(A.toarray()) or reduce k.\n",
      "Cannot use scipy.linalg.eigh for sparse A with k >= N. Use scipy.linalg.eigh(A.toarray()) or reduce k.\n",
      "Cannot use scipy.linalg.eigh for sparse A with k >= N. Use scipy.linalg.eigh(A.toarray()) or reduce k.\n",
      "Cannot use scipy.linalg.eigh for sparse A with k >= N. Use scipy.linalg.eigh(A.toarray()) or reduce k.\n",
      "Cannot use scipy.linalg.eigh for sparse A with k >= N. Use scipy.linalg.eigh(A.toarray()) or reduce k.\n",
      "15\n"
     ]
    },
    {
     "name": "stderr",
     "output_type": "stream",
     "text": [
      "c:\\Users\\ryosh\\enrich_me\\.venv\\Lib\\site-packages\\umap\\spectral.py:519: RuntimeWarning: k >= N for N * N square matrix. Attempting to use scipy.linalg.eigh instead.\n",
      "  eigenvalues, eigenvectors = scipy.sparse.linalg.eigsh(\n",
      "c:\\Users\\ryosh\\enrich_me\\.venv\\Lib\\site-packages\\umap\\umap_.py:2462: UserWarning: n_neighbors is larger than the dataset size; truncating to X.shape[0] - 1\n",
      "  warn(\n",
      "c:\\Users\\ryosh\\enrich_me\\.venv\\Lib\\site-packages\\umap\\spectral.py:519: RuntimeWarning: k >= N for N * N square matrix. Attempting to use scipy.linalg.eigh instead.\n",
      "  eigenvalues, eigenvectors = scipy.sparse.linalg.eigsh(\n"
     ]
    },
    {
     "name": "stdout",
     "output_type": "stream",
     "text": [
      "Cannot use scipy.linalg.eigh for sparse A with k >= N. Use scipy.linalg.eigh(A.toarray()) or reduce k.\n",
      "Cannot use scipy.linalg.eigh for sparse A with k >= N. Use scipy.linalg.eigh(A.toarray()) or reduce k.\n"
     ]
    },
    {
     "name": "stderr",
     "output_type": "stream",
     "text": [
      "c:\\Users\\ryosh\\enrich_me\\.venv\\Lib\\site-packages\\umap\\spectral.py:519: RuntimeWarning: k >= N for N * N square matrix. Attempting to use scipy.linalg.eigh instead.\n",
      "  eigenvalues, eigenvectors = scipy.sparse.linalg.eigsh(\n",
      "c:\\Users\\ryosh\\enrich_me\\.venv\\Lib\\site-packages\\umap\\spectral.py:519: RuntimeWarning: k >= N for N * N square matrix. Attempting to use scipy.linalg.eigh instead.\n",
      "  eigenvalues, eigenvectors = scipy.sparse.linalg.eigsh(\n",
      "c:\\Users\\ryosh\\enrich_me\\.venv\\Lib\\site-packages\\umap\\spectral.py:519: RuntimeWarning: k >= N for N * N square matrix. Attempting to use scipy.linalg.eigh instead.\n",
      "  eigenvalues, eigenvectors = scipy.sparse.linalg.eigsh(\n",
      "c:\\Users\\ryosh\\enrich_me\\.venv\\Lib\\site-packages\\umap\\spectral.py:519: RuntimeWarning: k >= N for N * N square matrix. Attempting to use scipy.linalg.eigh instead.\n",
      "  eigenvalues, eigenvectors = scipy.sparse.linalg.eigsh(\n"
     ]
    },
    {
     "name": "stdout",
     "output_type": "stream",
     "text": [
      "Cannot use scipy.linalg.eigh for sparse A with k >= N. Use scipy.linalg.eigh(A.toarray()) or reduce k.\n",
      "Cannot use scipy.linalg.eigh for sparse A with k >= N. Use scipy.linalg.eigh(A.toarray()) or reduce k.\n",
      "Cannot use scipy.linalg.eigh for sparse A with k >= N. Use scipy.linalg.eigh(A.toarray()) or reduce k.\n",
      "Cannot use scipy.linalg.eigh for sparse A with k >= N. Use scipy.linalg.eigh(A.toarray()) or reduce k.\n",
      "16\n"
     ]
    },
    {
     "name": "stderr",
     "output_type": "stream",
     "text": [
      "c:\\Users\\ryosh\\enrich_me\\.venv\\Lib\\site-packages\\umap\\spectral.py:519: RuntimeWarning: k >= N for N * N square matrix. Attempting to use scipy.linalg.eigh instead.\n",
      "  eigenvalues, eigenvectors = scipy.sparse.linalg.eigsh(\n",
      "c:\\Users\\ryosh\\enrich_me\\.venv\\Lib\\site-packages\\umap\\spectral.py:519: RuntimeWarning: k >= N for N * N square matrix. Attempting to use scipy.linalg.eigh instead.\n",
      "  eigenvalues, eigenvectors = scipy.sparse.linalg.eigsh(\n",
      "c:\\Users\\ryosh\\enrich_me\\.venv\\Lib\\site-packages\\umap\\spectral.py:519: RuntimeWarning: k >= N for N * N square matrix. Attempting to use scipy.linalg.eigh instead.\n",
      "  eigenvalues, eigenvectors = scipy.sparse.linalg.eigsh(\n",
      "c:\\Users\\ryosh\\enrich_me\\.venv\\Lib\\site-packages\\umap\\umap_.py:2462: UserWarning: n_neighbors is larger than the dataset size; truncating to X.shape[0] - 1\n",
      "  warn(\n",
      "c:\\Users\\ryosh\\enrich_me\\.venv\\Lib\\site-packages\\umap\\spectral.py:519: RuntimeWarning: k >= N for N * N square matrix. Attempting to use scipy.linalg.eigh instead.\n",
      "  eigenvalues, eigenvectors = scipy.sparse.linalg.eigsh(\n"
     ]
    },
    {
     "name": "stdout",
     "output_type": "stream",
     "text": [
      "Cannot use scipy.linalg.eigh for sparse A with k >= N. Use scipy.linalg.eigh(A.toarray()) or reduce k.\n",
      "Cannot use scipy.linalg.eigh for sparse A with k >= N. Use scipy.linalg.eigh(A.toarray()) or reduce k.\n",
      "Cannot use scipy.linalg.eigh for sparse A with k >= N. Use scipy.linalg.eigh(A.toarray()) or reduce k.\n",
      "Cannot use scipy.linalg.eigh for sparse A with k >= N. Use scipy.linalg.eigh(A.toarray()) or reduce k.\n"
     ]
    },
    {
     "name": "stderr",
     "output_type": "stream",
     "text": [
      "c:\\Users\\ryosh\\enrich_me\\.venv\\Lib\\site-packages\\umap\\spectral.py:519: RuntimeWarning: k >= N for N * N square matrix. Attempting to use scipy.linalg.eigh instead.\n",
      "  eigenvalues, eigenvectors = scipy.sparse.linalg.eigsh(\n",
      "c:\\Users\\ryosh\\enrich_me\\.venv\\Lib\\site-packages\\umap\\spectral.py:519: RuntimeWarning: k >= N for N * N square matrix. Attempting to use scipy.linalg.eigh instead.\n",
      "  eigenvalues, eigenvectors = scipy.sparse.linalg.eigsh(\n",
      "c:\\Users\\ryosh\\enrich_me\\.venv\\Lib\\site-packages\\umap\\spectral.py:519: RuntimeWarning: k >= N for N * N square matrix. Attempting to use scipy.linalg.eigh instead.\n",
      "  eigenvalues, eigenvectors = scipy.sparse.linalg.eigsh(\n"
     ]
    },
    {
     "name": "stdout",
     "output_type": "stream",
     "text": [
      "Cannot use scipy.linalg.eigh for sparse A with k >= N. Use scipy.linalg.eigh(A.toarray()) or reduce k.\n",
      "Cannot use scipy.linalg.eigh for sparse A with k >= N. Use scipy.linalg.eigh(A.toarray()) or reduce k.\n",
      "Cannot use scipy.linalg.eigh for sparse A with k >= N. Use scipy.linalg.eigh(A.toarray()) or reduce k.\n",
      "17\n"
     ]
    },
    {
     "name": "stderr",
     "output_type": "stream",
     "text": [
      "c:\\Users\\ryosh\\enrich_me\\.venv\\Lib\\site-packages\\umap\\spectral.py:519: RuntimeWarning: k >= N for N * N square matrix. Attempting to use scipy.linalg.eigh instead.\n",
      "  eigenvalues, eigenvectors = scipy.sparse.linalg.eigsh(\n",
      "c:\\Users\\ryosh\\enrich_me\\.venv\\Lib\\site-packages\\umap\\umap_.py:2462: UserWarning: n_neighbors is larger than the dataset size; truncating to X.shape[0] - 1\n",
      "  warn(\n",
      "c:\\Users\\ryosh\\enrich_me\\.venv\\Lib\\site-packages\\umap\\spectral.py:519: RuntimeWarning: k >= N for N * N square matrix. Attempting to use scipy.linalg.eigh instead.\n",
      "  eigenvalues, eigenvectors = scipy.sparse.linalg.eigsh(\n",
      "c:\\Users\\ryosh\\enrich_me\\.venv\\Lib\\site-packages\\umap\\spectral.py:519: RuntimeWarning: k >= N for N * N square matrix. Attempting to use scipy.linalg.eigh instead.\n",
      "  eigenvalues, eigenvectors = scipy.sparse.linalg.eigsh(\n"
     ]
    },
    {
     "name": "stdout",
     "output_type": "stream",
     "text": [
      "Cannot use scipy.linalg.eigh for sparse A with k >= N. Use scipy.linalg.eigh(A.toarray()) or reduce k.\n",
      "Cannot use scipy.linalg.eigh for sparse A with k >= N. Use scipy.linalg.eigh(A.toarray()) or reduce k.\n",
      "Cannot use scipy.linalg.eigh for sparse A with k >= N. Use scipy.linalg.eigh(A.toarray()) or reduce k.\n"
     ]
    },
    {
     "name": "stderr",
     "output_type": "stream",
     "text": [
      "c:\\Users\\ryosh\\enrich_me\\.venv\\Lib\\site-packages\\umap\\spectral.py:519: RuntimeWarning: k >= N for N * N square matrix. Attempting to use scipy.linalg.eigh instead.\n",
      "  eigenvalues, eigenvectors = scipy.sparse.linalg.eigsh(\n",
      "c:\\Users\\ryosh\\enrich_me\\.venv\\Lib\\site-packages\\umap\\spectral.py:519: RuntimeWarning: k >= N for N * N square matrix. Attempting to use scipy.linalg.eigh instead.\n",
      "  eigenvalues, eigenvectors = scipy.sparse.linalg.eigsh(\n",
      "c:\\Users\\ryosh\\enrich_me\\.venv\\Lib\\site-packages\\umap\\spectral.py:519: RuntimeWarning: k >= N for N * N square matrix. Attempting to use scipy.linalg.eigh instead.\n",
      "  eigenvalues, eigenvectors = scipy.sparse.linalg.eigsh(\n",
      "c:\\Users\\ryosh\\enrich_me\\.venv\\Lib\\site-packages\\umap\\spectral.py:519: RuntimeWarning: k >= N for N * N square matrix. Attempting to use scipy.linalg.eigh instead.\n",
      "  eigenvalues, eigenvectors = scipy.sparse.linalg.eigsh(\n"
     ]
    },
    {
     "name": "stdout",
     "output_type": "stream",
     "text": [
      "Cannot use scipy.linalg.eigh for sparse A with k >= N. Use scipy.linalg.eigh(A.toarray()) or reduce k.\n",
      "Cannot use scipy.linalg.eigh for sparse A with k >= N. Use scipy.linalg.eigh(A.toarray()) or reduce k.\n",
      "Cannot use scipy.linalg.eigh for sparse A with k >= N. Use scipy.linalg.eigh(A.toarray()) or reduce k.\n",
      "Cannot use scipy.linalg.eigh for sparse A with k >= N. Use scipy.linalg.eigh(A.toarray()) or reduce k.\n",
      "18\n"
     ]
    },
    {
     "name": "stderr",
     "output_type": "stream",
     "text": [
      "c:\\Users\\ryosh\\enrich_me\\.venv\\Lib\\site-packages\\umap\\spectral.py:519: RuntimeWarning: k >= N for N * N square matrix. Attempting to use scipy.linalg.eigh instead.\n",
      "  eigenvalues, eigenvectors = scipy.sparse.linalg.eigsh(\n",
      "c:\\Users\\ryosh\\enrich_me\\.venv\\Lib\\site-packages\\umap\\umap_.py:2462: UserWarning: n_neighbors is larger than the dataset size; truncating to X.shape[0] - 1\n",
      "  warn(\n",
      "c:\\Users\\ryosh\\enrich_me\\.venv\\Lib\\site-packages\\umap\\spectral.py:519: RuntimeWarning: k >= N for N * N square matrix. Attempting to use scipy.linalg.eigh instead.\n",
      "  eigenvalues, eigenvectors = scipy.sparse.linalg.eigsh(\n",
      "c:\\Users\\ryosh\\enrich_me\\.venv\\Lib\\site-packages\\umap\\spectral.py:519: RuntimeWarning: k >= N for N * N square matrix. Attempting to use scipy.linalg.eigh instead.\n",
      "  eigenvalues, eigenvectors = scipy.sparse.linalg.eigsh(\n"
     ]
    },
    {
     "name": "stdout",
     "output_type": "stream",
     "text": [
      "Cannot use scipy.linalg.eigh for sparse A with k >= N. Use scipy.linalg.eigh(A.toarray()) or reduce k.\n",
      "Cannot use scipy.linalg.eigh for sparse A with k >= N. Use scipy.linalg.eigh(A.toarray()) or reduce k.\n",
      "Cannot use scipy.linalg.eigh for sparse A with k >= N. Use scipy.linalg.eigh(A.toarray()) or reduce k.\n"
     ]
    },
    {
     "name": "stderr",
     "output_type": "stream",
     "text": [
      "c:\\Users\\ryosh\\enrich_me\\.venv\\Lib\\site-packages\\umap\\spectral.py:519: RuntimeWarning: k >= N for N * N square matrix. Attempting to use scipy.linalg.eigh instead.\n",
      "  eigenvalues, eigenvectors = scipy.sparse.linalg.eigsh(\n",
      "c:\\Users\\ryosh\\enrich_me\\.venv\\Lib\\site-packages\\umap\\spectral.py:519: RuntimeWarning: k >= N for N * N square matrix. Attempting to use scipy.linalg.eigh instead.\n",
      "  eigenvalues, eigenvectors = scipy.sparse.linalg.eigsh(\n",
      "c:\\Users\\ryosh\\enrich_me\\.venv\\Lib\\site-packages\\umap\\spectral.py:519: RuntimeWarning: k >= N for N * N square matrix. Attempting to use scipy.linalg.eigh instead.\n",
      "  eigenvalues, eigenvectors = scipy.sparse.linalg.eigsh(\n",
      "c:\\Users\\ryosh\\enrich_me\\.venv\\Lib\\site-packages\\umap\\spectral.py:519: RuntimeWarning: k >= N for N * N square matrix. Attempting to use scipy.linalg.eigh instead.\n",
      "  eigenvalues, eigenvectors = scipy.sparse.linalg.eigsh(\n"
     ]
    },
    {
     "name": "stdout",
     "output_type": "stream",
     "text": [
      "Cannot use scipy.linalg.eigh for sparse A with k >= N. Use scipy.linalg.eigh(A.toarray()) or reduce k.\n",
      "Cannot use scipy.linalg.eigh for sparse A with k >= N. Use scipy.linalg.eigh(A.toarray()) or reduce k.\n",
      "Cannot use scipy.linalg.eigh for sparse A with k >= N. Use scipy.linalg.eigh(A.toarray()) or reduce k.\n",
      "Cannot use scipy.linalg.eigh for sparse A with k >= N. Use scipy.linalg.eigh(A.toarray()) or reduce k.\n",
      "19\n"
     ]
    },
    {
     "name": "stderr",
     "output_type": "stream",
     "text": [
      "c:\\Users\\ryosh\\enrich_me\\.venv\\Lib\\site-packages\\umap\\spectral.py:519: RuntimeWarning: k >= N for N * N square matrix. Attempting to use scipy.linalg.eigh instead.\n",
      "  eigenvalues, eigenvectors = scipy.sparse.linalg.eigsh(\n",
      "c:\\Users\\ryosh\\enrich_me\\.venv\\Lib\\site-packages\\umap\\spectral.py:519: RuntimeWarning: k >= N for N * N square matrix. Attempting to use scipy.linalg.eigh instead.\n",
      "  eigenvalues, eigenvectors = scipy.sparse.linalg.eigsh(\n",
      "c:\\Users\\ryosh\\enrich_me\\.venv\\Lib\\site-packages\\umap\\spectral.py:519: RuntimeWarning: k >= N for N * N square matrix. Attempting to use scipy.linalg.eigh instead.\n",
      "  eigenvalues, eigenvectors = scipy.sparse.linalg.eigsh(\n"
     ]
    },
    {
     "name": "stdout",
     "output_type": "stream",
     "text": [
      "Cannot use scipy.linalg.eigh for sparse A with k >= N. Use scipy.linalg.eigh(A.toarray()) or reduce k.\n",
      "Cannot use scipy.linalg.eigh for sparse A with k >= N. Use scipy.linalg.eigh(A.toarray()) or reduce k.\n",
      "Cannot use scipy.linalg.eigh for sparse A with k >= N. Use scipy.linalg.eigh(A.toarray()) or reduce k.\n"
     ]
    },
    {
     "name": "stderr",
     "output_type": "stream",
     "text": [
      "c:\\Users\\ryosh\\enrich_me\\.venv\\Lib\\site-packages\\umap\\spectral.py:519: RuntimeWarning: k >= N for N * N square matrix. Attempting to use scipy.linalg.eigh instead.\n",
      "  eigenvalues, eigenvectors = scipy.sparse.linalg.eigsh(\n",
      "c:\\Users\\ryosh\\enrich_me\\.venv\\Lib\\site-packages\\umap\\spectral.py:519: RuntimeWarning: k >= N for N * N square matrix. Attempting to use scipy.linalg.eigh instead.\n",
      "  eigenvalues, eigenvectors = scipy.sparse.linalg.eigsh(\n",
      "c:\\Users\\ryosh\\enrich_me\\.venv\\Lib\\site-packages\\umap\\spectral.py:519: RuntimeWarning: k >= N for N * N square matrix. Attempting to use scipy.linalg.eigh instead.\n",
      "  eigenvalues, eigenvectors = scipy.sparse.linalg.eigsh(\n"
     ]
    },
    {
     "name": "stdout",
     "output_type": "stream",
     "text": [
      "Cannot use scipy.linalg.eigh for sparse A with k >= N. Use scipy.linalg.eigh(A.toarray()) or reduce k.\n",
      "Cannot use scipy.linalg.eigh for sparse A with k >= N. Use scipy.linalg.eigh(A.toarray()) or reduce k.\n",
      "Cannot use scipy.linalg.eigh for sparse A with k >= N. Use scipy.linalg.eigh(A.toarray()) or reduce k.\n",
      "20\n"
     ]
    },
    {
     "name": "stderr",
     "output_type": "stream",
     "text": [
      "c:\\Users\\ryosh\\enrich_me\\.venv\\Lib\\site-packages\\umap\\spectral.py:519: RuntimeWarning: k >= N for N * N square matrix. Attempting to use scipy.linalg.eigh instead.\n",
      "  eigenvalues, eigenvectors = scipy.sparse.linalg.eigsh(\n",
      "c:\\Users\\ryosh\\enrich_me\\.venv\\Lib\\site-packages\\umap\\spectral.py:519: RuntimeWarning: k >= N for N * N square matrix. Attempting to use scipy.linalg.eigh instead.\n",
      "  eigenvalues, eigenvectors = scipy.sparse.linalg.eigsh(\n",
      "c:\\Users\\ryosh\\enrich_me\\.venv\\Lib\\site-packages\\umap\\spectral.py:519: RuntimeWarning: k >= N for N * N square matrix. Attempting to use scipy.linalg.eigh instead.\n",
      "  eigenvalues, eigenvectors = scipy.sparse.linalg.eigsh(\n"
     ]
    },
    {
     "name": "stdout",
     "output_type": "stream",
     "text": [
      "Cannot use scipy.linalg.eigh for sparse A with k >= N. Use scipy.linalg.eigh(A.toarray()) or reduce k.\n",
      "Cannot use scipy.linalg.eigh for sparse A with k >= N. Use scipy.linalg.eigh(A.toarray()) or reduce k.\n",
      "Cannot use scipy.linalg.eigh for sparse A with k >= N. Use scipy.linalg.eigh(A.toarray()) or reduce k.\n"
     ]
    },
    {
     "name": "stderr",
     "output_type": "stream",
     "text": [
      "c:\\Users\\ryosh\\enrich_me\\.venv\\Lib\\site-packages\\umap\\spectral.py:519: RuntimeWarning: k >= N for N * N square matrix. Attempting to use scipy.linalg.eigh instead.\n",
      "  eigenvalues, eigenvectors = scipy.sparse.linalg.eigsh(\n",
      "c:\\Users\\ryosh\\enrich_me\\.venv\\Lib\\site-packages\\umap\\spectral.py:519: RuntimeWarning: k >= N for N * N square matrix. Attempting to use scipy.linalg.eigh instead.\n",
      "  eigenvalues, eigenvectors = scipy.sparse.linalg.eigsh(\n",
      "c:\\Users\\ryosh\\enrich_me\\.venv\\Lib\\site-packages\\umap\\spectral.py:519: RuntimeWarning: k >= N for N * N square matrix. Attempting to use scipy.linalg.eigh instead.\n",
      "  eigenvalues, eigenvectors = scipy.sparse.linalg.eigsh(\n"
     ]
    },
    {
     "name": "stdout",
     "output_type": "stream",
     "text": [
      "Cannot use scipy.linalg.eigh for sparse A with k >= N. Use scipy.linalg.eigh(A.toarray()) or reduce k.\n",
      "Cannot use scipy.linalg.eigh for sparse A with k >= N. Use scipy.linalg.eigh(A.toarray()) or reduce k.\n",
      "Cannot use scipy.linalg.eigh for sparse A with k >= N. Use scipy.linalg.eigh(A.toarray()) or reduce k.\n",
      "21\n"
     ]
    },
    {
     "name": "stderr",
     "output_type": "stream",
     "text": [
      "c:\\Users\\ryosh\\enrich_me\\.venv\\Lib\\site-packages\\umap\\umap_.py:2462: UserWarning: n_neighbors is larger than the dataset size; truncating to X.shape[0] - 1\n",
      "  warn(\n",
      "c:\\Users\\ryosh\\enrich_me\\.venv\\Lib\\site-packages\\umap\\spectral.py:519: RuntimeWarning: k >= N for N * N square matrix. Attempting to use scipy.linalg.eigh instead.\n",
      "  eigenvalues, eigenvectors = scipy.sparse.linalg.eigsh(\n",
      "c:\\Users\\ryosh\\enrich_me\\.venv\\Lib\\site-packages\\umap\\spectral.py:519: RuntimeWarning: k >= N for N * N square matrix. Attempting to use scipy.linalg.eigh instead.\n",
      "  eigenvalues, eigenvectors = scipy.sparse.linalg.eigsh(\n",
      "c:\\Users\\ryosh\\enrich_me\\.venv\\Lib\\site-packages\\umap\\spectral.py:519: RuntimeWarning: k >= N for N * N square matrix. Attempting to use scipy.linalg.eigh instead.\n",
      "  eigenvalues, eigenvectors = scipy.sparse.linalg.eigsh(\n",
      "c:\\Users\\ryosh\\enrich_me\\.venv\\Lib\\site-packages\\umap\\spectral.py:519: RuntimeWarning: k >= N for N * N square matrix. Attempting to use scipy.linalg.eigh instead.\n",
      "  eigenvalues, eigenvectors = scipy.sparse.linalg.eigsh(\n"
     ]
    },
    {
     "name": "stdout",
     "output_type": "stream",
     "text": [
      "Cannot use scipy.linalg.eigh for sparse A with k >= N. Use scipy.linalg.eigh(A.toarray()) or reduce k.\n",
      "Cannot use scipy.linalg.eigh for sparse A with k >= N. Use scipy.linalg.eigh(A.toarray()) or reduce k.\n",
      "Cannot use scipy.linalg.eigh for sparse A with k >= N. Use scipy.linalg.eigh(A.toarray()) or reduce k.\n",
      "Cannot use scipy.linalg.eigh for sparse A with k >= N. Use scipy.linalg.eigh(A.toarray()) or reduce k.\n"
     ]
    },
    {
     "name": "stderr",
     "output_type": "stream",
     "text": [
      "c:\\Users\\ryosh\\enrich_me\\.venv\\Lib\\site-packages\\umap\\spectral.py:519: RuntimeWarning: k >= N for N * N square matrix. Attempting to use scipy.linalg.eigh instead.\n",
      "  eigenvalues, eigenvectors = scipy.sparse.linalg.eigsh(\n",
      "c:\\Users\\ryosh\\enrich_me\\.venv\\Lib\\site-packages\\umap\\spectral.py:519: RuntimeWarning: k >= N for N * N square matrix. Attempting to use scipy.linalg.eigh instead.\n",
      "  eigenvalues, eigenvectors = scipy.sparse.linalg.eigsh(\n",
      "c:\\Users\\ryosh\\enrich_me\\.venv\\Lib\\site-packages\\umap\\umap_.py:2462: UserWarning: n_neighbors is larger than the dataset size; truncating to X.shape[0] - 1\n",
      "  warn(\n",
      "c:\\Users\\ryosh\\enrich_me\\.venv\\Lib\\site-packages\\umap\\spectral.py:519: RuntimeWarning: k >= N for N * N square matrix. Attempting to use scipy.linalg.eigh instead.\n",
      "  eigenvalues, eigenvectors = scipy.sparse.linalg.eigsh(\n"
     ]
    },
    {
     "name": "stdout",
     "output_type": "stream",
     "text": [
      "Cannot use scipy.linalg.eigh for sparse A with k >= N. Use scipy.linalg.eigh(A.toarray()) or reduce k.\n",
      "Cannot use scipy.linalg.eigh for sparse A with k >= N. Use scipy.linalg.eigh(A.toarray()) or reduce k.\n",
      "Cannot use scipy.linalg.eigh for sparse A with k >= N. Use scipy.linalg.eigh(A.toarray()) or reduce k.\n",
      "22\n"
     ]
    },
    {
     "name": "stderr",
     "output_type": "stream",
     "text": [
      "c:\\Users\\ryosh\\enrich_me\\.venv\\Lib\\site-packages\\umap\\spectral.py:519: RuntimeWarning: k >= N for N * N square matrix. Attempting to use scipy.linalg.eigh instead.\n",
      "  eigenvalues, eigenvectors = scipy.sparse.linalg.eigsh(\n",
      "c:\\Users\\ryosh\\enrich_me\\.venv\\Lib\\site-packages\\umap\\umap_.py:2462: UserWarning: n_neighbors is larger than the dataset size; truncating to X.shape[0] - 1\n",
      "  warn(\n",
      "c:\\Users\\ryosh\\enrich_me\\.venv\\Lib\\site-packages\\umap\\spectral.py:519: RuntimeWarning: k >= N for N * N square matrix. Attempting to use scipy.linalg.eigh instead.\n",
      "  eigenvalues, eigenvectors = scipy.sparse.linalg.eigsh(\n",
      "c:\\Users\\ryosh\\enrich_me\\.venv\\Lib\\site-packages\\umap\\spectral.py:519: RuntimeWarning: k >= N for N * N square matrix. Attempting to use scipy.linalg.eigh instead.\n",
      "  eigenvalues, eigenvectors = scipy.sparse.linalg.eigsh(\n"
     ]
    },
    {
     "name": "stdout",
     "output_type": "stream",
     "text": [
      "Cannot use scipy.linalg.eigh for sparse A with k >= N. Use scipy.linalg.eigh(A.toarray()) or reduce k.\n",
      "Cannot use scipy.linalg.eigh for sparse A with k >= N. Use scipy.linalg.eigh(A.toarray()) or reduce k.\n",
      "Cannot use scipy.linalg.eigh for sparse A with k >= N. Use scipy.linalg.eigh(A.toarray()) or reduce k.\n"
     ]
    },
    {
     "name": "stderr",
     "output_type": "stream",
     "text": [
      "c:\\Users\\ryosh\\enrich_me\\.venv\\Lib\\site-packages\\umap\\spectral.py:519: RuntimeWarning: k >= N for N * N square matrix. Attempting to use scipy.linalg.eigh instead.\n",
      "  eigenvalues, eigenvectors = scipy.sparse.linalg.eigsh(\n",
      "c:\\Users\\ryosh\\enrich_me\\.venv\\Lib\\site-packages\\umap\\spectral.py:519: RuntimeWarning: k >= N for N * N square matrix. Attempting to use scipy.linalg.eigh instead.\n",
      "  eigenvalues, eigenvectors = scipy.sparse.linalg.eigsh(\n",
      "c:\\Users\\ryosh\\enrich_me\\.venv\\Lib\\site-packages\\umap\\spectral.py:519: RuntimeWarning: k >= N for N * N square matrix. Attempting to use scipy.linalg.eigh instead.\n",
      "  eigenvalues, eigenvectors = scipy.sparse.linalg.eigsh(\n",
      "c:\\Users\\ryosh\\enrich_me\\.venv\\Lib\\site-packages\\umap\\spectral.py:519: RuntimeWarning: k >= N for N * N square matrix. Attempting to use scipy.linalg.eigh instead.\n",
      "  eigenvalues, eigenvectors = scipy.sparse.linalg.eigsh(\n"
     ]
    },
    {
     "name": "stdout",
     "output_type": "stream",
     "text": [
      "Cannot use scipy.linalg.eigh for sparse A with k >= N. Use scipy.linalg.eigh(A.toarray()) or reduce k.\n",
      "Cannot use scipy.linalg.eigh for sparse A with k >= N. Use scipy.linalg.eigh(A.toarray()) or reduce k.\n",
      "Cannot use scipy.linalg.eigh for sparse A with k >= N. Use scipy.linalg.eigh(A.toarray()) or reduce k.\n",
      "Cannot use scipy.linalg.eigh for sparse A with k >= N. Use scipy.linalg.eigh(A.toarray()) or reduce k.\n",
      "23\n"
     ]
    },
    {
     "name": "stderr",
     "output_type": "stream",
     "text": [
      "c:\\Users\\ryosh\\enrich_me\\.venv\\Lib\\site-packages\\umap\\umap_.py:2462: UserWarning: n_neighbors is larger than the dataset size; truncating to X.shape[0] - 1\n",
      "  warn(\n",
      "c:\\Users\\ryosh\\enrich_me\\.venv\\Lib\\site-packages\\umap\\spectral.py:519: RuntimeWarning: k >= N for N * N square matrix. Attempting to use scipy.linalg.eigh instead.\n",
      "  eigenvalues, eigenvectors = scipy.sparse.linalg.eigsh(\n",
      "c:\\Users\\ryosh\\enrich_me\\.venv\\Lib\\site-packages\\umap\\spectral.py:519: RuntimeWarning: k >= N for N * N square matrix. Attempting to use scipy.linalg.eigh instead.\n",
      "  eigenvalues, eigenvectors = scipy.sparse.linalg.eigsh(\n",
      "c:\\Users\\ryosh\\enrich_me\\.venv\\Lib\\site-packages\\umap\\spectral.py:519: RuntimeWarning: k >= N for N * N square matrix. Attempting to use scipy.linalg.eigh instead.\n",
      "  eigenvalues, eigenvectors = scipy.sparse.linalg.eigsh(\n"
     ]
    },
    {
     "name": "stdout",
     "output_type": "stream",
     "text": [
      "Cannot use scipy.linalg.eigh for sparse A with k >= N. Use scipy.linalg.eigh(A.toarray()) or reduce k.\n",
      "Cannot use scipy.linalg.eigh for sparse A with k >= N. Use scipy.linalg.eigh(A.toarray()) or reduce k.\n",
      "Cannot use scipy.linalg.eigh for sparse A with k >= N. Use scipy.linalg.eigh(A.toarray()) or reduce k.\n"
     ]
    },
    {
     "name": "stderr",
     "output_type": "stream",
     "text": [
      "c:\\Users\\ryosh\\enrich_me\\.venv\\Lib\\site-packages\\umap\\spectral.py:519: RuntimeWarning: k >= N for N * N square matrix. Attempting to use scipy.linalg.eigh instead.\n",
      "  eigenvalues, eigenvectors = scipy.sparse.linalg.eigsh(\n",
      "c:\\Users\\ryosh\\enrich_me\\.venv\\Lib\\site-packages\\umap\\spectral.py:519: RuntimeWarning: k >= N for N * N square matrix. Attempting to use scipy.linalg.eigh instead.\n",
      "  eigenvalues, eigenvectors = scipy.sparse.linalg.eigsh(\n",
      "c:\\Users\\ryosh\\enrich_me\\.venv\\Lib\\site-packages\\umap\\spectral.py:519: RuntimeWarning: k >= N for N * N square matrix. Attempting to use scipy.linalg.eigh instead.\n",
      "  eigenvalues, eigenvectors = scipy.sparse.linalg.eigsh(\n",
      "c:\\Users\\ryosh\\enrich_me\\.venv\\Lib\\site-packages\\umap\\spectral.py:519: RuntimeWarning: k >= N for N * N square matrix. Attempting to use scipy.linalg.eigh instead.\n",
      "  eigenvalues, eigenvectors = scipy.sparse.linalg.eigsh(\n"
     ]
    },
    {
     "name": "stdout",
     "output_type": "stream",
     "text": [
      "Cannot use scipy.linalg.eigh for sparse A with k >= N. Use scipy.linalg.eigh(A.toarray()) or reduce k.\n",
      "Cannot use scipy.linalg.eigh for sparse A with k >= N. Use scipy.linalg.eigh(A.toarray()) or reduce k.\n",
      "Cannot use scipy.linalg.eigh for sparse A with k >= N. Use scipy.linalg.eigh(A.toarray()) or reduce k.\n",
      "Cannot use scipy.linalg.eigh for sparse A with k >= N. Use scipy.linalg.eigh(A.toarray()) or reduce k.\n",
      "24\n"
     ]
    },
    {
     "name": "stderr",
     "output_type": "stream",
     "text": [
      "c:\\Users\\ryosh\\enrich_me\\.venv\\Lib\\site-packages\\umap\\spectral.py:519: RuntimeWarning: k >= N for N * N square matrix. Attempting to use scipy.linalg.eigh instead.\n",
      "  eigenvalues, eigenvectors = scipy.sparse.linalg.eigsh(\n",
      "c:\\Users\\ryosh\\enrich_me\\.venv\\Lib\\site-packages\\umap\\umap_.py:2462: UserWarning: n_neighbors is larger than the dataset size; truncating to X.shape[0] - 1\n",
      "  warn(\n",
      "c:\\Users\\ryosh\\enrich_me\\.venv\\Lib\\site-packages\\umap\\spectral.py:519: RuntimeWarning: k >= N for N * N square matrix. Attempting to use scipy.linalg.eigh instead.\n",
      "  eigenvalues, eigenvectors = scipy.sparse.linalg.eigsh(\n"
     ]
    },
    {
     "name": "stdout",
     "output_type": "stream",
     "text": [
      "Cannot use scipy.linalg.eigh for sparse A with k >= N. Use scipy.linalg.eigh(A.toarray()) or reduce k.\n",
      "Cannot use scipy.linalg.eigh for sparse A with k >= N. Use scipy.linalg.eigh(A.toarray()) or reduce k.\n"
     ]
    },
    {
     "name": "stderr",
     "output_type": "stream",
     "text": [
      "c:\\Users\\ryosh\\enrich_me\\.venv\\Lib\\site-packages\\umap\\spectral.py:519: RuntimeWarning: k >= N for N * N square matrix. Attempting to use scipy.linalg.eigh instead.\n",
      "  eigenvalues, eigenvectors = scipy.sparse.linalg.eigsh(\n",
      "c:\\Users\\ryosh\\enrich_me\\.venv\\Lib\\site-packages\\umap\\spectral.py:519: RuntimeWarning: k >= N for N * N square matrix. Attempting to use scipy.linalg.eigh instead.\n",
      "  eigenvalues, eigenvectors = scipy.sparse.linalg.eigsh(\n",
      "c:\\Users\\ryosh\\enrich_me\\.venv\\Lib\\site-packages\\umap\\spectral.py:519: RuntimeWarning: k >= N for N * N square matrix. Attempting to use scipy.linalg.eigh instead.\n",
      "  eigenvalues, eigenvectors = scipy.sparse.linalg.eigsh(\n",
      "c:\\Users\\ryosh\\enrich_me\\.venv\\Lib\\site-packages\\umap\\spectral.py:519: RuntimeWarning: k >= N for N * N square matrix. Attempting to use scipy.linalg.eigh instead.\n",
      "  eigenvalues, eigenvectors = scipy.sparse.linalg.eigsh(\n",
      "c:\\Users\\ryosh\\enrich_me\\.venv\\Lib\\site-packages\\umap\\spectral.py:519: RuntimeWarning: k >= N for N * N square matrix. Attempting to use scipy.linalg.eigh instead.\n",
      "  eigenvalues, eigenvectors = scipy.sparse.linalg.eigsh(\n"
     ]
    },
    {
     "name": "stdout",
     "output_type": "stream",
     "text": [
      "Cannot use scipy.linalg.eigh for sparse A with k >= N. Use scipy.linalg.eigh(A.toarray()) or reduce k.\n",
      "Cannot use scipy.linalg.eigh for sparse A with k >= N. Use scipy.linalg.eigh(A.toarray()) or reduce k.\n",
      "Cannot use scipy.linalg.eigh for sparse A with k >= N. Use scipy.linalg.eigh(A.toarray()) or reduce k.\n",
      "Cannot use scipy.linalg.eigh for sparse A with k >= N. Use scipy.linalg.eigh(A.toarray()) or reduce k.\n",
      "Cannot use scipy.linalg.eigh for sparse A with k >= N. Use scipy.linalg.eigh(A.toarray()) or reduce k.\n",
      "25\n"
     ]
    },
    {
     "name": "stderr",
     "output_type": "stream",
     "text": [
      "c:\\Users\\ryosh\\enrich_me\\.venv\\Lib\\site-packages\\umap\\umap_.py:2462: UserWarning: n_neighbors is larger than the dataset size; truncating to X.shape[0] - 1\n",
      "  warn(\n",
      "c:\\Users\\ryosh\\enrich_me\\.venv\\Lib\\site-packages\\umap\\spectral.py:519: RuntimeWarning: k >= N for N * N square matrix. Attempting to use scipy.linalg.eigh instead.\n",
      "  eigenvalues, eigenvectors = scipy.sparse.linalg.eigsh(\n",
      "c:\\Users\\ryosh\\enrich_me\\.venv\\Lib\\site-packages\\umap\\spectral.py:519: RuntimeWarning: k >= N for N * N square matrix. Attempting to use scipy.linalg.eigh instead.\n",
      "  eigenvalues, eigenvectors = scipy.sparse.linalg.eigsh(\n",
      "c:\\Users\\ryosh\\enrich_me\\.venv\\Lib\\site-packages\\umap\\spectral.py:519: RuntimeWarning: k >= N for N * N square matrix. Attempting to use scipy.linalg.eigh instead.\n",
      "  eigenvalues, eigenvectors = scipy.sparse.linalg.eigsh(\n",
      "c:\\Users\\ryosh\\enrich_me\\.venv\\Lib\\site-packages\\umap\\spectral.py:519: RuntimeWarning: k >= N for N * N square matrix. Attempting to use scipy.linalg.eigh instead.\n",
      "  eigenvalues, eigenvectors = scipy.sparse.linalg.eigsh(\n"
     ]
    },
    {
     "name": "stdout",
     "output_type": "stream",
     "text": [
      "Cannot use scipy.linalg.eigh for sparse A with k >= N. Use scipy.linalg.eigh(A.toarray()) or reduce k.\n",
      "Cannot use scipy.linalg.eigh for sparse A with k >= N. Use scipy.linalg.eigh(A.toarray()) or reduce k.\n",
      "Cannot use scipy.linalg.eigh for sparse A with k >= N. Use scipy.linalg.eigh(A.toarray()) or reduce k.\n",
      "Cannot use scipy.linalg.eigh for sparse A with k >= N. Use scipy.linalg.eigh(A.toarray()) or reduce k.\n"
     ]
    },
    {
     "name": "stderr",
     "output_type": "stream",
     "text": [
      "c:\\Users\\ryosh\\enrich_me\\.venv\\Lib\\site-packages\\umap\\spectral.py:519: RuntimeWarning: k >= N for N * N square matrix. Attempting to use scipy.linalg.eigh instead.\n",
      "  eigenvalues, eigenvectors = scipy.sparse.linalg.eigsh(\n",
      "c:\\Users\\ryosh\\enrich_me\\.venv\\Lib\\site-packages\\umap\\spectral.py:519: RuntimeWarning: k >= N for N * N square matrix. Attempting to use scipy.linalg.eigh instead.\n",
      "  eigenvalues, eigenvectors = scipy.sparse.linalg.eigsh(\n",
      "c:\\Users\\ryosh\\enrich_me\\.venv\\Lib\\site-packages\\umap\\spectral.py:519: RuntimeWarning: k >= N for N * N square matrix. Attempting to use scipy.linalg.eigh instead.\n",
      "  eigenvalues, eigenvectors = scipy.sparse.linalg.eigsh(\n"
     ]
    },
    {
     "name": "stdout",
     "output_type": "stream",
     "text": [
      "Cannot use scipy.linalg.eigh for sparse A with k >= N. Use scipy.linalg.eigh(A.toarray()) or reduce k.\n",
      "Cannot use scipy.linalg.eigh for sparse A with k >= N. Use scipy.linalg.eigh(A.toarray()) or reduce k.\n",
      "Cannot use scipy.linalg.eigh for sparse A with k >= N. Use scipy.linalg.eigh(A.toarray()) or reduce k.\n",
      "26\n"
     ]
    },
    {
     "name": "stderr",
     "output_type": "stream",
     "text": [
      "c:\\Users\\ryosh\\enrich_me\\.venv\\Lib\\site-packages\\umap\\spectral.py:519: RuntimeWarning: k >= N for N * N square matrix. Attempting to use scipy.linalg.eigh instead.\n",
      "  eigenvalues, eigenvectors = scipy.sparse.linalg.eigsh(\n",
      "c:\\Users\\ryosh\\enrich_me\\.venv\\Lib\\site-packages\\umap\\spectral.py:519: RuntimeWarning: k >= N for N * N square matrix. Attempting to use scipy.linalg.eigh instead.\n",
      "  eigenvalues, eigenvectors = scipy.sparse.linalg.eigsh(\n",
      "c:\\Users\\ryosh\\enrich_me\\.venv\\Lib\\site-packages\\umap\\spectral.py:519: RuntimeWarning: k >= N for N * N square matrix. Attempting to use scipy.linalg.eigh instead.\n",
      "  eigenvalues, eigenvectors = scipy.sparse.linalg.eigsh(\n",
      "c:\\Users\\ryosh\\enrich_me\\.venv\\Lib\\site-packages\\umap\\spectral.py:519: RuntimeWarning: k >= N for N * N square matrix. Attempting to use scipy.linalg.eigh instead.\n",
      "  eigenvalues, eigenvectors = scipy.sparse.linalg.eigsh(\n",
      "c:\\Users\\ryosh\\enrich_me\\.venv\\Lib\\site-packages\\umap\\spectral.py:519: RuntimeWarning: k >= N for N * N square matrix. Attempting to use scipy.linalg.eigh instead.\n",
      "  eigenvalues, eigenvectors = scipy.sparse.linalg.eigsh(\n",
      "c:\\Users\\ryosh\\enrich_me\\.venv\\Lib\\site-packages\\umap\\spectral.py:519: RuntimeWarning: k >= N for N * N square matrix. Attempting to use scipy.linalg.eigh instead.\n",
      "  eigenvalues, eigenvectors = scipy.sparse.linalg.eigsh(\n",
      "c:\\Users\\ryosh\\enrich_me\\.venv\\Lib\\site-packages\\umap\\spectral.py:519: RuntimeWarning: k >= N for N * N square matrix. Attempting to use scipy.linalg.eigh instead.\n",
      "  eigenvalues, eigenvectors = scipy.sparse.linalg.eigsh(\n"
     ]
    },
    {
     "name": "stdout",
     "output_type": "stream",
     "text": [
      "Cannot use scipy.linalg.eigh for sparse A with k >= N. Use scipy.linalg.eigh(A.toarray()) or reduce k.\n",
      "Cannot use scipy.linalg.eigh for sparse A with k >= N. Use scipy.linalg.eigh(A.toarray()) or reduce k.\n",
      "Cannot use scipy.linalg.eigh for sparse A with k >= N. Use scipy.linalg.eigh(A.toarray()) or reduce k.\n",
      "Cannot use scipy.linalg.eigh for sparse A with k >= N. Use scipy.linalg.eigh(A.toarray()) or reduce k.\n",
      "Cannot use scipy.linalg.eigh for sparse A with k >= N. Use scipy.linalg.eigh(A.toarray()) or reduce k.\n",
      "Cannot use scipy.linalg.eigh for sparse A with k >= N. Use scipy.linalg.eigh(A.toarray()) or reduce k.\n",
      "Cannot use scipy.linalg.eigh for sparse A with k >= N. Use scipy.linalg.eigh(A.toarray()) or reduce k.\n",
      "27\n"
     ]
    },
    {
     "name": "stderr",
     "output_type": "stream",
     "text": [
      "c:\\Users\\ryosh\\enrich_me\\.venv\\Lib\\site-packages\\umap\\spectral.py:519: RuntimeWarning: k >= N for N * N square matrix. Attempting to use scipy.linalg.eigh instead.\n",
      "  eigenvalues, eigenvectors = scipy.sparse.linalg.eigsh(\n",
      "c:\\Users\\ryosh\\enrich_me\\.venv\\Lib\\site-packages\\umap\\spectral.py:519: RuntimeWarning: k >= N for N * N square matrix. Attempting to use scipy.linalg.eigh instead.\n",
      "  eigenvalues, eigenvectors = scipy.sparse.linalg.eigsh(\n",
      "c:\\Users\\ryosh\\enrich_me\\.venv\\Lib\\site-packages\\umap\\spectral.py:519: RuntimeWarning: k >= N for N * N square matrix. Attempting to use scipy.linalg.eigh instead.\n",
      "  eigenvalues, eigenvectors = scipy.sparse.linalg.eigsh(\n",
      "c:\\Users\\ryosh\\enrich_me\\.venv\\Lib\\site-packages\\umap\\umap_.py:2462: UserWarning: n_neighbors is larger than the dataset size; truncating to X.shape[0] - 1\n",
      "  warn(\n",
      "c:\\Users\\ryosh\\enrich_me\\.venv\\Lib\\site-packages\\umap\\spectral.py:519: RuntimeWarning: k >= N for N * N square matrix. Attempting to use scipy.linalg.eigh instead.\n",
      "  eigenvalues, eigenvectors = scipy.sparse.linalg.eigsh(\n"
     ]
    },
    {
     "name": "stdout",
     "output_type": "stream",
     "text": [
      "Cannot use scipy.linalg.eigh for sparse A with k >= N. Use scipy.linalg.eigh(A.toarray()) or reduce k.\n",
      "Cannot use scipy.linalg.eigh for sparse A with k >= N. Use scipy.linalg.eigh(A.toarray()) or reduce k.\n",
      "Cannot use scipy.linalg.eigh for sparse A with k >= N. Use scipy.linalg.eigh(A.toarray()) or reduce k.\n",
      "Cannot use scipy.linalg.eigh for sparse A with k >= N. Use scipy.linalg.eigh(A.toarray()) or reduce k.\n"
     ]
    },
    {
     "name": "stderr",
     "output_type": "stream",
     "text": [
      "c:\\Users\\ryosh\\enrich_me\\.venv\\Lib\\site-packages\\umap\\spectral.py:519: RuntimeWarning: k >= N for N * N square matrix. Attempting to use scipy.linalg.eigh instead.\n",
      "  eigenvalues, eigenvectors = scipy.sparse.linalg.eigsh(\n",
      "c:\\Users\\ryosh\\enrich_me\\.venv\\Lib\\site-packages\\umap\\spectral.py:519: RuntimeWarning: k >= N for N * N square matrix. Attempting to use scipy.linalg.eigh instead.\n",
      "  eigenvalues, eigenvectors = scipy.sparse.linalg.eigsh(\n",
      "c:\\Users\\ryosh\\enrich_me\\.venv\\Lib\\site-packages\\umap\\spectral.py:519: RuntimeWarning: k >= N for N * N square matrix. Attempting to use scipy.linalg.eigh instead.\n",
      "  eigenvalues, eigenvectors = scipy.sparse.linalg.eigsh(\n"
     ]
    },
    {
     "name": "stdout",
     "output_type": "stream",
     "text": [
      "Cannot use scipy.linalg.eigh for sparse A with k >= N. Use scipy.linalg.eigh(A.toarray()) or reduce k.\n",
      "Cannot use scipy.linalg.eigh for sparse A with k >= N. Use scipy.linalg.eigh(A.toarray()) or reduce k.\n",
      "Cannot use scipy.linalg.eigh for sparse A with k >= N. Use scipy.linalg.eigh(A.toarray()) or reduce k.\n",
      "28\n"
     ]
    },
    {
     "name": "stderr",
     "output_type": "stream",
     "text": [
      "c:\\Users\\ryosh\\enrich_me\\.venv\\Lib\\site-packages\\umap\\umap_.py:2462: UserWarning: n_neighbors is larger than the dataset size; truncating to X.shape[0] - 1\n",
      "  warn(\n",
      "c:\\Users\\ryosh\\enrich_me\\.venv\\Lib\\site-packages\\umap\\spectral.py:519: RuntimeWarning: k >= N for N * N square matrix. Attempting to use scipy.linalg.eigh instead.\n",
      "  eigenvalues, eigenvectors = scipy.sparse.linalg.eigsh(\n",
      "c:\\Users\\ryosh\\enrich_me\\.venv\\Lib\\site-packages\\umap\\spectral.py:519: RuntimeWarning: k >= N for N * N square matrix. Attempting to use scipy.linalg.eigh instead.\n",
      "  eigenvalues, eigenvectors = scipy.sparse.linalg.eigsh(\n",
      "c:\\Users\\ryosh\\enrich_me\\.venv\\Lib\\site-packages\\umap\\spectral.py:519: RuntimeWarning: k >= N for N * N square matrix. Attempting to use scipy.linalg.eigh instead.\n",
      "  eigenvalues, eigenvectors = scipy.sparse.linalg.eigsh(\n"
     ]
    },
    {
     "name": "stdout",
     "output_type": "stream",
     "text": [
      "Cannot use scipy.linalg.eigh for sparse A with k >= N. Use scipy.linalg.eigh(A.toarray()) or reduce k.\n",
      "Cannot use scipy.linalg.eigh for sparse A with k >= N. Use scipy.linalg.eigh(A.toarray()) or reduce k.\n",
      "Cannot use scipy.linalg.eigh for sparse A with k >= N. Use scipy.linalg.eigh(A.toarray()) or reduce k.\n"
     ]
    },
    {
     "name": "stderr",
     "output_type": "stream",
     "text": [
      "c:\\Users\\ryosh\\enrich_me\\.venv\\Lib\\site-packages\\umap\\spectral.py:519: RuntimeWarning: k >= N for N * N square matrix. Attempting to use scipy.linalg.eigh instead.\n",
      "  eigenvalues, eigenvectors = scipy.sparse.linalg.eigsh(\n",
      "c:\\Users\\ryosh\\enrich_me\\.venv\\Lib\\site-packages\\umap\\spectral.py:519: RuntimeWarning: k >= N for N * N square matrix. Attempting to use scipy.linalg.eigh instead.\n",
      "  eigenvalues, eigenvectors = scipy.sparse.linalg.eigsh(\n",
      "c:\\Users\\ryosh\\enrich_me\\.venv\\Lib\\site-packages\\umap\\spectral.py:519: RuntimeWarning: k >= N for N * N square matrix. Attempting to use scipy.linalg.eigh instead.\n",
      "  eigenvalues, eigenvectors = scipy.sparse.linalg.eigsh(\n",
      "c:\\Users\\ryosh\\enrich_me\\.venv\\Lib\\site-packages\\umap\\spectral.py:519: RuntimeWarning: k >= N for N * N square matrix. Attempting to use scipy.linalg.eigh instead.\n",
      "  eigenvalues, eigenvectors = scipy.sparse.linalg.eigsh(\n"
     ]
    },
    {
     "name": "stdout",
     "output_type": "stream",
     "text": [
      "Cannot use scipy.linalg.eigh for sparse A with k >= N. Use scipy.linalg.eigh(A.toarray()) or reduce k.\n",
      "Cannot use scipy.linalg.eigh for sparse A with k >= N. Use scipy.linalg.eigh(A.toarray()) or reduce k.\n",
      "Cannot use scipy.linalg.eigh for sparse A with k >= N. Use scipy.linalg.eigh(A.toarray()) or reduce k.\n",
      "Cannot use scipy.linalg.eigh for sparse A with k >= N. Use scipy.linalg.eigh(A.toarray()) or reduce k.\n",
      "29\n"
     ]
    },
    {
     "name": "stderr",
     "output_type": "stream",
     "text": [
      "c:\\Users\\ryosh\\enrich_me\\.venv\\Lib\\site-packages\\umap\\spectral.py:519: RuntimeWarning: k >= N for N * N square matrix. Attempting to use scipy.linalg.eigh instead.\n",
      "  eigenvalues, eigenvectors = scipy.sparse.linalg.eigsh(\n",
      "c:\\Users\\ryosh\\enrich_me\\.venv\\Lib\\site-packages\\umap\\spectral.py:519: RuntimeWarning: k >= N for N * N square matrix. Attempting to use scipy.linalg.eigh instead.\n",
      "  eigenvalues, eigenvectors = scipy.sparse.linalg.eigsh(\n",
      "c:\\Users\\ryosh\\enrich_me\\.venv\\Lib\\site-packages\\umap\\spectral.py:519: RuntimeWarning: k >= N for N * N square matrix. Attempting to use scipy.linalg.eigh instead.\n",
      "  eigenvalues, eigenvectors = scipy.sparse.linalg.eigsh(\n",
      "c:\\Users\\ryosh\\enrich_me\\.venv\\Lib\\site-packages\\umap\\spectral.py:519: RuntimeWarning: k >= N for N * N square matrix. Attempting to use scipy.linalg.eigh instead.\n",
      "  eigenvalues, eigenvectors = scipy.sparse.linalg.eigsh(\n",
      "c:\\Users\\ryosh\\enrich_me\\.venv\\Lib\\site-packages\\umap\\spectral.py:519: RuntimeWarning: k >= N for N * N square matrix. Attempting to use scipy.linalg.eigh instead.\n",
      "  eigenvalues, eigenvectors = scipy.sparse.linalg.eigsh(\n"
     ]
    },
    {
     "name": "stdout",
     "output_type": "stream",
     "text": [
      "Cannot use scipy.linalg.eigh for sparse A with k >= N. Use scipy.linalg.eigh(A.toarray()) or reduce k.\n",
      "Cannot use scipy.linalg.eigh for sparse A with k >= N. Use scipy.linalg.eigh(A.toarray()) or reduce k.\n",
      "Cannot use scipy.linalg.eigh for sparse A with k >= N. Use scipy.linalg.eigh(A.toarray()) or reduce k.\n",
      "Cannot use scipy.linalg.eigh for sparse A with k >= N. Use scipy.linalg.eigh(A.toarray()) or reduce k.\n",
      "Cannot use scipy.linalg.eigh for sparse A with k >= N. Use scipy.linalg.eigh(A.toarray()) or reduce k.\n",
      "30\n"
     ]
    },
    {
     "name": "stderr",
     "output_type": "stream",
     "text": [
      "c:\\Users\\ryosh\\enrich_me\\.venv\\Lib\\site-packages\\umap\\spectral.py:519: RuntimeWarning: k >= N for N * N square matrix. Attempting to use scipy.linalg.eigh instead.\n",
      "  eigenvalues, eigenvectors = scipy.sparse.linalg.eigsh(\n",
      "c:\\Users\\ryosh\\enrich_me\\.venv\\Lib\\site-packages\\umap\\spectral.py:519: RuntimeWarning: k >= N for N * N square matrix. Attempting to use scipy.linalg.eigh instead.\n",
      "  eigenvalues, eigenvectors = scipy.sparse.linalg.eigsh(\n",
      "c:\\Users\\ryosh\\enrich_me\\.venv\\Lib\\site-packages\\umap\\spectral.py:519: RuntimeWarning: k >= N for N * N square matrix. Attempting to use scipy.linalg.eigh instead.\n",
      "  eigenvalues, eigenvectors = scipy.sparse.linalg.eigsh(\n",
      "c:\\Users\\ryosh\\enrich_me\\.venv\\Lib\\site-packages\\umap\\umap_.py:2462: UserWarning: n_neighbors is larger than the dataset size; truncating to X.shape[0] - 1\n",
      "  warn(\n",
      "c:\\Users\\ryosh\\enrich_me\\.venv\\Lib\\site-packages\\umap\\spectral.py:519: RuntimeWarning: k >= N for N * N square matrix. Attempting to use scipy.linalg.eigh instead.\n",
      "  eigenvalues, eigenvectors = scipy.sparse.linalg.eigsh(\n"
     ]
    },
    {
     "name": "stdout",
     "output_type": "stream",
     "text": [
      "Cannot use scipy.linalg.eigh for sparse A with k >= N. Use scipy.linalg.eigh(A.toarray()) or reduce k.\n",
      "Cannot use scipy.linalg.eigh for sparse A with k >= N. Use scipy.linalg.eigh(A.toarray()) or reduce k.\n",
      "Cannot use scipy.linalg.eigh for sparse A with k >= N. Use scipy.linalg.eigh(A.toarray()) or reduce k.\n",
      "Cannot use scipy.linalg.eigh for sparse A with k >= N. Use scipy.linalg.eigh(A.toarray()) or reduce k.\n"
     ]
    },
    {
     "name": "stderr",
     "output_type": "stream",
     "text": [
      "c:\\Users\\ryosh\\enrich_me\\.venv\\Lib\\site-packages\\umap\\spectral.py:519: RuntimeWarning: k >= N for N * N square matrix. Attempting to use scipy.linalg.eigh instead.\n",
      "  eigenvalues, eigenvectors = scipy.sparse.linalg.eigsh(\n",
      "c:\\Users\\ryosh\\enrich_me\\.venv\\Lib\\site-packages\\umap\\spectral.py:519: RuntimeWarning: k >= N for N * N square matrix. Attempting to use scipy.linalg.eigh instead.\n",
      "  eigenvalues, eigenvectors = scipy.sparse.linalg.eigsh(\n",
      "c:\\Users\\ryosh\\enrich_me\\.venv\\Lib\\site-packages\\umap\\spectral.py:519: RuntimeWarning: k >= N for N * N square matrix. Attempting to use scipy.linalg.eigh instead.\n",
      "  eigenvalues, eigenvectors = scipy.sparse.linalg.eigsh(\n"
     ]
    },
    {
     "name": "stdout",
     "output_type": "stream",
     "text": [
      "Cannot use scipy.linalg.eigh for sparse A with k >= N. Use scipy.linalg.eigh(A.toarray()) or reduce k.\n",
      "Cannot use scipy.linalg.eigh for sparse A with k >= N. Use scipy.linalg.eigh(A.toarray()) or reduce k.\n",
      "Cannot use scipy.linalg.eigh for sparse A with k >= N. Use scipy.linalg.eigh(A.toarray()) or reduce k.\n",
      "31\n"
     ]
    },
    {
     "name": "stderr",
     "output_type": "stream",
     "text": [
      "c:\\Users\\ryosh\\enrich_me\\.venv\\Lib\\site-packages\\umap\\spectral.py:519: RuntimeWarning: k >= N for N * N square matrix. Attempting to use scipy.linalg.eigh instead.\n",
      "  eigenvalues, eigenvectors = scipy.sparse.linalg.eigsh(\n",
      "c:\\Users\\ryosh\\enrich_me\\.venv\\Lib\\site-packages\\umap\\umap_.py:2462: UserWarning: n_neighbors is larger than the dataset size; truncating to X.shape[0] - 1\n",
      "  warn(\n",
      "c:\\Users\\ryosh\\enrich_me\\.venv\\Lib\\site-packages\\umap\\spectral.py:519: RuntimeWarning: k >= N for N * N square matrix. Attempting to use scipy.linalg.eigh instead.\n",
      "  eigenvalues, eigenvectors = scipy.sparse.linalg.eigsh(\n",
      "c:\\Users\\ryosh\\enrich_me\\.venv\\Lib\\site-packages\\umap\\umap_.py:2462: UserWarning: n_neighbors is larger than the dataset size; truncating to X.shape[0] - 1\n",
      "  warn(\n",
      "c:\\Users\\ryosh\\enrich_me\\.venv\\Lib\\site-packages\\umap\\spectral.py:519: RuntimeWarning: k >= N for N * N square matrix. Attempting to use scipy.linalg.eigh instead.\n",
      "  eigenvalues, eigenvectors = scipy.sparse.linalg.eigsh(\n",
      "c:\\Users\\ryosh\\enrich_me\\.venv\\Lib\\site-packages\\umap\\spectral.py:519: RuntimeWarning: k >= N for N * N square matrix. Attempting to use scipy.linalg.eigh instead.\n",
      "  eigenvalues, eigenvectors = scipy.sparse.linalg.eigsh(\n"
     ]
    },
    {
     "name": "stdout",
     "output_type": "stream",
     "text": [
      "Cannot use scipy.linalg.eigh for sparse A with k >= N. Use scipy.linalg.eigh(A.toarray()) or reduce k.\n",
      "Cannot use scipy.linalg.eigh for sparse A with k >= N. Use scipy.linalg.eigh(A.toarray()) or reduce k.\n",
      "Cannot use scipy.linalg.eigh for sparse A with k >= N. Use scipy.linalg.eigh(A.toarray()) or reduce k.\n",
      "Cannot use scipy.linalg.eigh for sparse A with k >= N. Use scipy.linalg.eigh(A.toarray()) or reduce k.\n"
     ]
    },
    {
     "name": "stderr",
     "output_type": "stream",
     "text": [
      "c:\\Users\\ryosh\\enrich_me\\.venv\\Lib\\site-packages\\umap\\spectral.py:519: RuntimeWarning: k >= N for N * N square matrix. Attempting to use scipy.linalg.eigh instead.\n",
      "  eigenvalues, eigenvectors = scipy.sparse.linalg.eigsh(\n",
      "c:\\Users\\ryosh\\enrich_me\\.venv\\Lib\\site-packages\\umap\\spectral.py:519: RuntimeWarning: k >= N for N * N square matrix. Attempting to use scipy.linalg.eigh instead.\n",
      "  eigenvalues, eigenvectors = scipy.sparse.linalg.eigsh(\n",
      "c:\\Users\\ryosh\\enrich_me\\.venv\\Lib\\site-packages\\umap\\spectral.py:519: RuntimeWarning: k >= N for N * N square matrix. Attempting to use scipy.linalg.eigh instead.\n",
      "  eigenvalues, eigenvectors = scipy.sparse.linalg.eigsh(\n"
     ]
    },
    {
     "name": "stdout",
     "output_type": "stream",
     "text": [
      "Cannot use scipy.linalg.eigh for sparse A with k >= N. Use scipy.linalg.eigh(A.toarray()) or reduce k.\n",
      "Cannot use scipy.linalg.eigh for sparse A with k >= N. Use scipy.linalg.eigh(A.toarray()) or reduce k.\n",
      "Cannot use scipy.linalg.eigh for sparse A with k >= N. Use scipy.linalg.eigh(A.toarray()) or reduce k.\n",
      "32\n"
     ]
    },
    {
     "name": "stderr",
     "output_type": "stream",
     "text": [
      "c:\\Users\\ryosh\\enrich_me\\.venv\\Lib\\site-packages\\umap\\spectral.py:519: RuntimeWarning: k >= N for N * N square matrix. Attempting to use scipy.linalg.eigh instead.\n",
      "  eigenvalues, eigenvectors = scipy.sparse.linalg.eigsh(\n",
      "c:\\Users\\ryosh\\enrich_me\\.venv\\Lib\\site-packages\\umap\\umap_.py:2462: UserWarning: n_neighbors is larger than the dataset size; truncating to X.shape[0] - 1\n",
      "  warn(\n",
      "c:\\Users\\ryosh\\enrich_me\\.venv\\Lib\\site-packages\\umap\\spectral.py:519: RuntimeWarning: k >= N for N * N square matrix. Attempting to use scipy.linalg.eigh instead.\n",
      "  eigenvalues, eigenvectors = scipy.sparse.linalg.eigsh(\n",
      "c:\\Users\\ryosh\\enrich_me\\.venv\\Lib\\site-packages\\umap\\spectral.py:519: RuntimeWarning: k >= N for N * N square matrix. Attempting to use scipy.linalg.eigh instead.\n",
      "  eigenvalues, eigenvectors = scipy.sparse.linalg.eigsh(\n"
     ]
    },
    {
     "name": "stdout",
     "output_type": "stream",
     "text": [
      "Cannot use scipy.linalg.eigh for sparse A with k >= N. Use scipy.linalg.eigh(A.toarray()) or reduce k.\n",
      "Cannot use scipy.linalg.eigh for sparse A with k >= N. Use scipy.linalg.eigh(A.toarray()) or reduce k.\n",
      "Cannot use scipy.linalg.eigh for sparse A with k >= N. Use scipy.linalg.eigh(A.toarray()) or reduce k.\n"
     ]
    },
    {
     "name": "stderr",
     "output_type": "stream",
     "text": [
      "c:\\Users\\ryosh\\enrich_me\\.venv\\Lib\\site-packages\\umap\\spectral.py:519: RuntimeWarning: k >= N for N * N square matrix. Attempting to use scipy.linalg.eigh instead.\n",
      "  eigenvalues, eigenvectors = scipy.sparse.linalg.eigsh(\n",
      "c:\\Users\\ryosh\\enrich_me\\.venv\\Lib\\site-packages\\umap\\spectral.py:519: RuntimeWarning: k >= N for N * N square matrix. Attempting to use scipy.linalg.eigh instead.\n",
      "  eigenvalues, eigenvectors = scipy.sparse.linalg.eigsh(\n",
      "c:\\Users\\ryosh\\enrich_me\\.venv\\Lib\\site-packages\\umap\\spectral.py:519: RuntimeWarning: k >= N for N * N square matrix. Attempting to use scipy.linalg.eigh instead.\n",
      "  eigenvalues, eigenvectors = scipy.sparse.linalg.eigsh(\n",
      "c:\\Users\\ryosh\\enrich_me\\.venv\\Lib\\site-packages\\umap\\spectral.py:519: RuntimeWarning: k >= N for N * N square matrix. Attempting to use scipy.linalg.eigh instead.\n",
      "  eigenvalues, eigenvectors = scipy.sparse.linalg.eigsh(\n"
     ]
    },
    {
     "name": "stdout",
     "output_type": "stream",
     "text": [
      "Cannot use scipy.linalg.eigh for sparse A with k >= N. Use scipy.linalg.eigh(A.toarray()) or reduce k.\n",
      "Cannot use scipy.linalg.eigh for sparse A with k >= N. Use scipy.linalg.eigh(A.toarray()) or reduce k.\n",
      "Cannot use scipy.linalg.eigh for sparse A with k >= N. Use scipy.linalg.eigh(A.toarray()) or reduce k.\n",
      "Cannot use scipy.linalg.eigh for sparse A with k >= N. Use scipy.linalg.eigh(A.toarray()) or reduce k.\n",
      "33\n"
     ]
    },
    {
     "name": "stderr",
     "output_type": "stream",
     "text": [
      "c:\\Users\\ryosh\\enrich_me\\.venv\\Lib\\site-packages\\umap\\spectral.py:519: RuntimeWarning: k >= N for N * N square matrix. Attempting to use scipy.linalg.eigh instead.\n",
      "  eigenvalues, eigenvectors = scipy.sparse.linalg.eigsh(\n",
      "c:\\Users\\ryosh\\enrich_me\\.venv\\Lib\\site-packages\\umap\\umap_.py:2462: UserWarning: n_neighbors is larger than the dataset size; truncating to X.shape[0] - 1\n",
      "  warn(\n",
      "c:\\Users\\ryosh\\enrich_me\\.venv\\Lib\\site-packages\\umap\\spectral.py:519: RuntimeWarning: k >= N for N * N square matrix. Attempting to use scipy.linalg.eigh instead.\n",
      "  eigenvalues, eigenvectors = scipy.sparse.linalg.eigsh(\n"
     ]
    },
    {
     "name": "stdout",
     "output_type": "stream",
     "text": [
      "Cannot use scipy.linalg.eigh for sparse A with k >= N. Use scipy.linalg.eigh(A.toarray()) or reduce k.\n",
      "Cannot use scipy.linalg.eigh for sparse A with k >= N. Use scipy.linalg.eigh(A.toarray()) or reduce k.\n"
     ]
    },
    {
     "name": "stderr",
     "output_type": "stream",
     "text": [
      "c:\\Users\\ryosh\\enrich_me\\.venv\\Lib\\site-packages\\umap\\spectral.py:519: RuntimeWarning: k >= N for N * N square matrix. Attempting to use scipy.linalg.eigh instead.\n",
      "  eigenvalues, eigenvectors = scipy.sparse.linalg.eigsh(\n",
      "c:\\Users\\ryosh\\enrich_me\\.venv\\Lib\\site-packages\\umap\\spectral.py:519: RuntimeWarning: k >= N for N * N square matrix. Attempting to use scipy.linalg.eigh instead.\n",
      "  eigenvalues, eigenvectors = scipy.sparse.linalg.eigsh(\n",
      "c:\\Users\\ryosh\\enrich_me\\.venv\\Lib\\site-packages\\umap\\spectral.py:519: RuntimeWarning: k >= N for N * N square matrix. Attempting to use scipy.linalg.eigh instead.\n",
      "  eigenvalues, eigenvectors = scipy.sparse.linalg.eigsh(\n",
      "c:\\Users\\ryosh\\enrich_me\\.venv\\Lib\\site-packages\\umap\\spectral.py:519: RuntimeWarning: k >= N for N * N square matrix. Attempting to use scipy.linalg.eigh instead.\n",
      "  eigenvalues, eigenvectors = scipy.sparse.linalg.eigsh(\n",
      "c:\\Users\\ryosh\\enrich_me\\.venv\\Lib\\site-packages\\umap\\spectral.py:519: RuntimeWarning: k >= N for N * N square matrix. Attempting to use scipy.linalg.eigh instead.\n",
      "  eigenvalues, eigenvectors = scipy.sparse.linalg.eigsh(\n"
     ]
    },
    {
     "name": "stdout",
     "output_type": "stream",
     "text": [
      "Cannot use scipy.linalg.eigh for sparse A with k >= N. Use scipy.linalg.eigh(A.toarray()) or reduce k.\n",
      "Cannot use scipy.linalg.eigh for sparse A with k >= N. Use scipy.linalg.eigh(A.toarray()) or reduce k.\n",
      "Cannot use scipy.linalg.eigh for sparse A with k >= N. Use scipy.linalg.eigh(A.toarray()) or reduce k.\n",
      "Cannot use scipy.linalg.eigh for sparse A with k >= N. Use scipy.linalg.eigh(A.toarray()) or reduce k.\n",
      "Cannot use scipy.linalg.eigh for sparse A with k >= N. Use scipy.linalg.eigh(A.toarray()) or reduce k.\n",
      "34\n"
     ]
    },
    {
     "name": "stderr",
     "output_type": "stream",
     "text": [
      "c:\\Users\\ryosh\\enrich_me\\.venv\\Lib\\site-packages\\umap\\spectral.py:519: RuntimeWarning: k >= N for N * N square matrix. Attempting to use scipy.linalg.eigh instead.\n",
      "  eigenvalues, eigenvectors = scipy.sparse.linalg.eigsh(\n",
      "c:\\Users\\ryosh\\enrich_me\\.venv\\Lib\\site-packages\\umap\\spectral.py:519: RuntimeWarning: k >= N for N * N square matrix. Attempting to use scipy.linalg.eigh instead.\n",
      "  eigenvalues, eigenvectors = scipy.sparse.linalg.eigsh(\n",
      "c:\\Users\\ryosh\\enrich_me\\.venv\\Lib\\site-packages\\umap\\spectral.py:519: RuntimeWarning: k >= N for N * N square matrix. Attempting to use scipy.linalg.eigh instead.\n",
      "  eigenvalues, eigenvectors = scipy.sparse.linalg.eigsh(\n",
      "c:\\Users\\ryosh\\enrich_me\\.venv\\Lib\\site-packages\\umap\\umap_.py:2462: UserWarning: n_neighbors is larger than the dataset size; truncating to X.shape[0] - 1\n",
      "  warn(\n",
      "c:\\Users\\ryosh\\enrich_me\\.venv\\Lib\\site-packages\\umap\\spectral.py:519: RuntimeWarning: k >= N for N * N square matrix. Attempting to use scipy.linalg.eigh instead.\n",
      "  eigenvalues, eigenvectors = scipy.sparse.linalg.eigsh(\n",
      "c:\\Users\\ryosh\\enrich_me\\.venv\\Lib\\site-packages\\umap\\spectral.py:519: RuntimeWarning: k >= N for N * N square matrix. Attempting to use scipy.linalg.eigh instead.\n",
      "  eigenvalues, eigenvectors = scipy.sparse.linalg.eigsh(\n",
      "c:\\Users\\ryosh\\enrich_me\\.venv\\Lib\\site-packages\\umap\\spectral.py:519: RuntimeWarning: k >= N for N * N square matrix. Attempting to use scipy.linalg.eigh instead.\n",
      "  eigenvalues, eigenvectors = scipy.sparse.linalg.eigsh(\n"
     ]
    },
    {
     "name": "stdout",
     "output_type": "stream",
     "text": [
      "Cannot use scipy.linalg.eigh for sparse A with k >= N. Use scipy.linalg.eigh(A.toarray()) or reduce k.\n",
      "Cannot use scipy.linalg.eigh for sparse A with k >= N. Use scipy.linalg.eigh(A.toarray()) or reduce k.\n",
      "Cannot use scipy.linalg.eigh for sparse A with k >= N. Use scipy.linalg.eigh(A.toarray()) or reduce k.\n",
      "Cannot use scipy.linalg.eigh for sparse A with k >= N. Use scipy.linalg.eigh(A.toarray()) or reduce k.\n",
      "Cannot use scipy.linalg.eigh for sparse A with k >= N. Use scipy.linalg.eigh(A.toarray()) or reduce k.\n",
      "Cannot use scipy.linalg.eigh for sparse A with k >= N. Use scipy.linalg.eigh(A.toarray()) or reduce k.\n",
      "35\n"
     ]
    },
    {
     "name": "stderr",
     "output_type": "stream",
     "text": [
      "c:\\Users\\ryosh\\enrich_me\\.venv\\Lib\\site-packages\\umap\\spectral.py:519: RuntimeWarning: k >= N for N * N square matrix. Attempting to use scipy.linalg.eigh instead.\n",
      "  eigenvalues, eigenvectors = scipy.sparse.linalg.eigsh(\n",
      "c:\\Users\\ryosh\\enrich_me\\.venv\\Lib\\site-packages\\umap\\umap_.py:2462: UserWarning: n_neighbors is larger than the dataset size; truncating to X.shape[0] - 1\n",
      "  warn(\n",
      "c:\\Users\\ryosh\\enrich_me\\.venv\\Lib\\site-packages\\umap\\spectral.py:519: RuntimeWarning: k >= N for N * N square matrix. Attempting to use scipy.linalg.eigh instead.\n",
      "  eigenvalues, eigenvectors = scipy.sparse.linalg.eigsh(\n",
      "c:\\Users\\ryosh\\enrich_me\\.venv\\Lib\\site-packages\\umap\\spectral.py:519: RuntimeWarning: k >= N for N * N square matrix. Attempting to use scipy.linalg.eigh instead.\n",
      "  eigenvalues, eigenvectors = scipy.sparse.linalg.eigsh(\n"
     ]
    },
    {
     "name": "stdout",
     "output_type": "stream",
     "text": [
      "Cannot use scipy.linalg.eigh for sparse A with k >= N. Use scipy.linalg.eigh(A.toarray()) or reduce k.\n",
      "Cannot use scipy.linalg.eigh for sparse A with k >= N. Use scipy.linalg.eigh(A.toarray()) or reduce k.\n",
      "Cannot use scipy.linalg.eigh for sparse A with k >= N. Use scipy.linalg.eigh(A.toarray()) or reduce k.\n"
     ]
    },
    {
     "name": "stderr",
     "output_type": "stream",
     "text": [
      "c:\\Users\\ryosh\\enrich_me\\.venv\\Lib\\site-packages\\umap\\spectral.py:519: RuntimeWarning: k >= N for N * N square matrix. Attempting to use scipy.linalg.eigh instead.\n",
      "  eigenvalues, eigenvectors = scipy.sparse.linalg.eigsh(\n",
      "c:\\Users\\ryosh\\enrich_me\\.venv\\Lib\\site-packages\\umap\\spectral.py:519: RuntimeWarning: k >= N for N * N square matrix. Attempting to use scipy.linalg.eigh instead.\n",
      "  eigenvalues, eigenvectors = scipy.sparse.linalg.eigsh(\n",
      "c:\\Users\\ryosh\\enrich_me\\.venv\\Lib\\site-packages\\umap\\spectral.py:519: RuntimeWarning: k >= N for N * N square matrix. Attempting to use scipy.linalg.eigh instead.\n",
      "  eigenvalues, eigenvectors = scipy.sparse.linalg.eigsh(\n"
     ]
    },
    {
     "name": "stdout",
     "output_type": "stream",
     "text": [
      "Cannot use scipy.linalg.eigh for sparse A with k >= N. Use scipy.linalg.eigh(A.toarray()) or reduce k.\n",
      "Cannot use scipy.linalg.eigh for sparse A with k >= N. Use scipy.linalg.eigh(A.toarray()) or reduce k.\n",
      "Cannot use scipy.linalg.eigh for sparse A with k >= N. Use scipy.linalg.eigh(A.toarray()) or reduce k.\n",
      "36\n"
     ]
    },
    {
     "name": "stderr",
     "output_type": "stream",
     "text": [
      "c:\\Users\\ryosh\\enrich_me\\.venv\\Lib\\site-packages\\umap\\spectral.py:519: RuntimeWarning: k >= N for N * N square matrix. Attempting to use scipy.linalg.eigh instead.\n",
      "  eigenvalues, eigenvectors = scipy.sparse.linalg.eigsh(\n",
      "c:\\Users\\ryosh\\enrich_me\\.venv\\Lib\\site-packages\\umap\\spectral.py:519: RuntimeWarning: k >= N for N * N square matrix. Attempting to use scipy.linalg.eigh instead.\n",
      "  eigenvalues, eigenvectors = scipy.sparse.linalg.eigsh(\n",
      "c:\\Users\\ryosh\\enrich_me\\.venv\\Lib\\site-packages\\umap\\umap_.py:2462: UserWarning: n_neighbors is larger than the dataset size; truncating to X.shape[0] - 1\n",
      "  warn(\n",
      "c:\\Users\\ryosh\\enrich_me\\.venv\\Lib\\site-packages\\umap\\spectral.py:519: RuntimeWarning: k >= N for N * N square matrix. Attempting to use scipy.linalg.eigh instead.\n",
      "  eigenvalues, eigenvectors = scipy.sparse.linalg.eigsh(\n"
     ]
    },
    {
     "name": "stdout",
     "output_type": "stream",
     "text": [
      "Cannot use scipy.linalg.eigh for sparse A with k >= N. Use scipy.linalg.eigh(A.toarray()) or reduce k.\n",
      "Cannot use scipy.linalg.eigh for sparse A with k >= N. Use scipy.linalg.eigh(A.toarray()) or reduce k.\n",
      "Cannot use scipy.linalg.eigh for sparse A with k >= N. Use scipy.linalg.eigh(A.toarray()) or reduce k.\n"
     ]
    },
    {
     "name": "stderr",
     "output_type": "stream",
     "text": [
      "c:\\Users\\ryosh\\enrich_me\\.venv\\Lib\\site-packages\\umap\\spectral.py:519: RuntimeWarning: k >= N for N * N square matrix. Attempting to use scipy.linalg.eigh instead.\n",
      "  eigenvalues, eigenvectors = scipy.sparse.linalg.eigsh(\n",
      "c:\\Users\\ryosh\\enrich_me\\.venv\\Lib\\site-packages\\umap\\umap_.py:2462: UserWarning: n_neighbors is larger than the dataset size; truncating to X.shape[0] - 1\n",
      "  warn(\n",
      "c:\\Users\\ryosh\\enrich_me\\.venv\\Lib\\site-packages\\umap\\spectral.py:519: RuntimeWarning: k >= N for N * N square matrix. Attempting to use scipy.linalg.eigh instead.\n",
      "  eigenvalues, eigenvectors = scipy.sparse.linalg.eigsh(\n",
      "c:\\Users\\ryosh\\enrich_me\\.venv\\Lib\\site-packages\\umap\\spectral.py:519: RuntimeWarning: k >= N for N * N square matrix. Attempting to use scipy.linalg.eigh instead.\n",
      "  eigenvalues, eigenvectors = scipy.sparse.linalg.eigsh(\n",
      "c:\\Users\\ryosh\\enrich_me\\.venv\\Lib\\site-packages\\umap\\spectral.py:519: RuntimeWarning: k >= N for N * N square matrix. Attempting to use scipy.linalg.eigh instead.\n",
      "  eigenvalues, eigenvectors = scipy.sparse.linalg.eigsh(\n"
     ]
    },
    {
     "name": "stdout",
     "output_type": "stream",
     "text": [
      "Cannot use scipy.linalg.eigh for sparse A with k >= N. Use scipy.linalg.eigh(A.toarray()) or reduce k.\n",
      "Cannot use scipy.linalg.eigh for sparse A with k >= N. Use scipy.linalg.eigh(A.toarray()) or reduce k.\n",
      "Cannot use scipy.linalg.eigh for sparse A with k >= N. Use scipy.linalg.eigh(A.toarray()) or reduce k.\n",
      "Cannot use scipy.linalg.eigh for sparse A with k >= N. Use scipy.linalg.eigh(A.toarray()) or reduce k.\n",
      "37\n"
     ]
    },
    {
     "name": "stderr",
     "output_type": "stream",
     "text": [
      "c:\\Users\\ryosh\\enrich_me\\.venv\\Lib\\site-packages\\umap\\spectral.py:519: RuntimeWarning: k >= N for N * N square matrix. Attempting to use scipy.linalg.eigh instead.\n",
      "  eigenvalues, eigenvectors = scipy.sparse.linalg.eigsh(\n",
      "c:\\Users\\ryosh\\enrich_me\\.venv\\Lib\\site-packages\\umap\\umap_.py:2462: UserWarning: n_neighbors is larger than the dataset size; truncating to X.shape[0] - 1\n",
      "  warn(\n",
      "c:\\Users\\ryosh\\enrich_me\\.venv\\Lib\\site-packages\\umap\\spectral.py:519: RuntimeWarning: k >= N for N * N square matrix. Attempting to use scipy.linalg.eigh instead.\n",
      "  eigenvalues, eigenvectors = scipy.sparse.linalg.eigsh(\n"
     ]
    },
    {
     "name": "stdout",
     "output_type": "stream",
     "text": [
      "Cannot use scipy.linalg.eigh for sparse A with k >= N. Use scipy.linalg.eigh(A.toarray()) or reduce k.\n",
      "Cannot use scipy.linalg.eigh for sparse A with k >= N. Use scipy.linalg.eigh(A.toarray()) or reduce k.\n"
     ]
    },
    {
     "name": "stderr",
     "output_type": "stream",
     "text": [
      "c:\\Users\\ryosh\\enrich_me\\.venv\\Lib\\site-packages\\umap\\spectral.py:519: RuntimeWarning: k >= N for N * N square matrix. Attempting to use scipy.linalg.eigh instead.\n",
      "  eigenvalues, eigenvectors = scipy.sparse.linalg.eigsh(\n",
      "c:\\Users\\ryosh\\enrich_me\\.venv\\Lib\\site-packages\\umap\\spectral.py:519: RuntimeWarning: k >= N for N * N square matrix. Attempting to use scipy.linalg.eigh instead.\n",
      "  eigenvalues, eigenvectors = scipy.sparse.linalg.eigsh(\n",
      "c:\\Users\\ryosh\\enrich_me\\.venv\\Lib\\site-packages\\umap\\spectral.py:519: RuntimeWarning: k >= N for N * N square matrix. Attempting to use scipy.linalg.eigh instead.\n",
      "  eigenvalues, eigenvectors = scipy.sparse.linalg.eigsh(\n",
      "c:\\Users\\ryosh\\enrich_me\\.venv\\Lib\\site-packages\\umap\\spectral.py:519: RuntimeWarning: k >= N for N * N square matrix. Attempting to use scipy.linalg.eigh instead.\n",
      "  eigenvalues, eigenvectors = scipy.sparse.linalg.eigsh(\n"
     ]
    },
    {
     "name": "stdout",
     "output_type": "stream",
     "text": [
      "Cannot use scipy.linalg.eigh for sparse A with k >= N. Use scipy.linalg.eigh(A.toarray()) or reduce k.\n",
      "Cannot use scipy.linalg.eigh for sparse A with k >= N. Use scipy.linalg.eigh(A.toarray()) or reduce k.\n",
      "Cannot use scipy.linalg.eigh for sparse A with k >= N. Use scipy.linalg.eigh(A.toarray()) or reduce k.\n",
      "Cannot use scipy.linalg.eigh for sparse A with k >= N. Use scipy.linalg.eigh(A.toarray()) or reduce k.\n",
      "38\n"
     ]
    },
    {
     "name": "stderr",
     "output_type": "stream",
     "text": [
      "c:\\Users\\ryosh\\enrich_me\\.venv\\Lib\\site-packages\\umap\\umap_.py:2462: UserWarning: n_neighbors is larger than the dataset size; truncating to X.shape[0] - 1\n",
      "  warn(\n",
      "c:\\Users\\ryosh\\enrich_me\\.venv\\Lib\\site-packages\\umap\\spectral.py:519: RuntimeWarning: k >= N for N * N square matrix. Attempting to use scipy.linalg.eigh instead.\n",
      "  eigenvalues, eigenvectors = scipy.sparse.linalg.eigsh(\n",
      "c:\\Users\\ryosh\\enrich_me\\.venv\\Lib\\site-packages\\umap\\spectral.py:519: RuntimeWarning: k >= N for N * N square matrix. Attempting to use scipy.linalg.eigh instead.\n",
      "  eigenvalues, eigenvectors = scipy.sparse.linalg.eigsh(\n",
      "c:\\Users\\ryosh\\enrich_me\\.venv\\Lib\\site-packages\\umap\\spectral.py:519: RuntimeWarning: k >= N for N * N square matrix. Attempting to use scipy.linalg.eigh instead.\n",
      "  eigenvalues, eigenvectors = scipy.sparse.linalg.eigsh(\n",
      "c:\\Users\\ryosh\\enrich_me\\.venv\\Lib\\site-packages\\umap\\spectral.py:519: RuntimeWarning: k >= N for N * N square matrix. Attempting to use scipy.linalg.eigh instead.\n",
      "  eigenvalues, eigenvectors = scipy.sparse.linalg.eigsh(\n",
      "c:\\Users\\ryosh\\enrich_me\\.venv\\Lib\\site-packages\\umap\\spectral.py:519: RuntimeWarning: k >= N for N * N square matrix. Attempting to use scipy.linalg.eigh instead.\n",
      "  eigenvalues, eigenvectors = scipy.sparse.linalg.eigsh(\n"
     ]
    },
    {
     "name": "stdout",
     "output_type": "stream",
     "text": [
      "Cannot use scipy.linalg.eigh for sparse A with k >= N. Use scipy.linalg.eigh(A.toarray()) or reduce k.\n",
      "Cannot use scipy.linalg.eigh for sparse A with k >= N. Use scipy.linalg.eigh(A.toarray()) or reduce k.\n",
      "Cannot use scipy.linalg.eigh for sparse A with k >= N. Use scipy.linalg.eigh(A.toarray()) or reduce k.\n",
      "Cannot use scipy.linalg.eigh for sparse A with k >= N. Use scipy.linalg.eigh(A.toarray()) or reduce k.\n",
      "Cannot use scipy.linalg.eigh for sparse A with k >= N. Use scipy.linalg.eigh(A.toarray()) or reduce k.\n"
     ]
    },
    {
     "name": "stderr",
     "output_type": "stream",
     "text": [
      "c:\\Users\\ryosh\\enrich_me\\.venv\\Lib\\site-packages\\umap\\spectral.py:519: RuntimeWarning: k >= N for N * N square matrix. Attempting to use scipy.linalg.eigh instead.\n",
      "  eigenvalues, eigenvectors = scipy.sparse.linalg.eigsh(\n",
      "c:\\Users\\ryosh\\enrich_me\\.venv\\Lib\\site-packages\\umap\\spectral.py:519: RuntimeWarning: k >= N for N * N square matrix. Attempting to use scipy.linalg.eigh instead.\n",
      "  eigenvalues, eigenvectors = scipy.sparse.linalg.eigsh(\n"
     ]
    },
    {
     "name": "stdout",
     "output_type": "stream",
     "text": [
      "Cannot use scipy.linalg.eigh for sparse A with k >= N. Use scipy.linalg.eigh(A.toarray()) or reduce k.\n",
      "Cannot use scipy.linalg.eigh for sparse A with k >= N. Use scipy.linalg.eigh(A.toarray()) or reduce k.\n",
      "39\n"
     ]
    },
    {
     "name": "stderr",
     "output_type": "stream",
     "text": [
      "c:\\Users\\ryosh\\enrich_me\\.venv\\Lib\\site-packages\\umap\\spectral.py:519: RuntimeWarning: k >= N for N * N square matrix. Attempting to use scipy.linalg.eigh instead.\n",
      "  eigenvalues, eigenvectors = scipy.sparse.linalg.eigsh(\n",
      "c:\\Users\\ryosh\\enrich_me\\.venv\\Lib\\site-packages\\umap\\spectral.py:519: RuntimeWarning: k >= N for N * N square matrix. Attempting to use scipy.linalg.eigh instead.\n",
      "  eigenvalues, eigenvectors = scipy.sparse.linalg.eigsh(\n",
      "c:\\Users\\ryosh\\enrich_me\\.venv\\Lib\\site-packages\\umap\\spectral.py:519: RuntimeWarning: k >= N for N * N square matrix. Attempting to use scipy.linalg.eigh instead.\n",
      "  eigenvalues, eigenvectors = scipy.sparse.linalg.eigsh(\n",
      "c:\\Users\\ryosh\\enrich_me\\.venv\\Lib\\site-packages\\umap\\spectral.py:519: RuntimeWarning: k >= N for N * N square matrix. Attempting to use scipy.linalg.eigh instead.\n",
      "  eigenvalues, eigenvectors = scipy.sparse.linalg.eigsh(\n",
      "c:\\Users\\ryosh\\enrich_me\\.venv\\Lib\\site-packages\\umap\\spectral.py:519: RuntimeWarning: k >= N for N * N square matrix. Attempting to use scipy.linalg.eigh instead.\n",
      "  eigenvalues, eigenvectors = scipy.sparse.linalg.eigsh(\n"
     ]
    },
    {
     "name": "stdout",
     "output_type": "stream",
     "text": [
      "Cannot use scipy.linalg.eigh for sparse A with k >= N. Use scipy.linalg.eigh(A.toarray()) or reduce k.\n",
      "Cannot use scipy.linalg.eigh for sparse A with k >= N. Use scipy.linalg.eigh(A.toarray()) or reduce k.\n",
      "Cannot use scipy.linalg.eigh for sparse A with k >= N. Use scipy.linalg.eigh(A.toarray()) or reduce k.\n",
      "Cannot use scipy.linalg.eigh for sparse A with k >= N. Use scipy.linalg.eigh(A.toarray()) or reduce k.\n",
      "Cannot use scipy.linalg.eigh for sparse A with k >= N. Use scipy.linalg.eigh(A.toarray()) or reduce k.\n",
      "40\n"
     ]
    },
    {
     "name": "stderr",
     "output_type": "stream",
     "text": [
      "c:\\Users\\ryosh\\enrich_me\\.venv\\Lib\\site-packages\\umap\\spectral.py:519: RuntimeWarning: k >= N for N * N square matrix. Attempting to use scipy.linalg.eigh instead.\n",
      "  eigenvalues, eigenvectors = scipy.sparse.linalg.eigsh(\n",
      "c:\\Users\\ryosh\\enrich_me\\.venv\\Lib\\site-packages\\umap\\spectral.py:519: RuntimeWarning: k >= N for N * N square matrix. Attempting to use scipy.linalg.eigh instead.\n",
      "  eigenvalues, eigenvectors = scipy.sparse.linalg.eigsh(\n",
      "c:\\Users\\ryosh\\enrich_me\\.venv\\Lib\\site-packages\\umap\\spectral.py:519: RuntimeWarning: k >= N for N * N square matrix. Attempting to use scipy.linalg.eigh instead.\n",
      "  eigenvalues, eigenvectors = scipy.sparse.linalg.eigsh(\n"
     ]
    },
    {
     "name": "stdout",
     "output_type": "stream",
     "text": [
      "Cannot use scipy.linalg.eigh for sparse A with k >= N. Use scipy.linalg.eigh(A.toarray()) or reduce k.\n",
      "Cannot use scipy.linalg.eigh for sparse A with k >= N. Use scipy.linalg.eigh(A.toarray()) or reduce k.\n",
      "Cannot use scipy.linalg.eigh for sparse A with k >= N. Use scipy.linalg.eigh(A.toarray()) or reduce k.\n"
     ]
    },
    {
     "name": "stderr",
     "output_type": "stream",
     "text": [
      "c:\\Users\\ryosh\\enrich_me\\.venv\\Lib\\site-packages\\umap\\umap_.py:2462: UserWarning: n_neighbors is larger than the dataset size; truncating to X.shape[0] - 1\n",
      "  warn(\n",
      "c:\\Users\\ryosh\\enrich_me\\.venv\\Lib\\site-packages\\umap\\spectral.py:519: RuntimeWarning: k >= N for N * N square matrix. Attempting to use scipy.linalg.eigh instead.\n",
      "  eigenvalues, eigenvectors = scipy.sparse.linalg.eigsh(\n",
      "c:\\Users\\ryosh\\enrich_me\\.venv\\Lib\\site-packages\\umap\\spectral.py:519: RuntimeWarning: k >= N for N * N square matrix. Attempting to use scipy.linalg.eigh instead.\n",
      "  eigenvalues, eigenvectors = scipy.sparse.linalg.eigsh(\n",
      "c:\\Users\\ryosh\\enrich_me\\.venv\\Lib\\site-packages\\umap\\spectral.py:519: RuntimeWarning: k >= N for N * N square matrix. Attempting to use scipy.linalg.eigh instead.\n",
      "  eigenvalues, eigenvectors = scipy.sparse.linalg.eigsh(\n"
     ]
    },
    {
     "name": "stdout",
     "output_type": "stream",
     "text": [
      "Cannot use scipy.linalg.eigh for sparse A with k >= N. Use scipy.linalg.eigh(A.toarray()) or reduce k.\n",
      "Cannot use scipy.linalg.eigh for sparse A with k >= N. Use scipy.linalg.eigh(A.toarray()) or reduce k.\n",
      "Cannot use scipy.linalg.eigh for sparse A with k >= N. Use scipy.linalg.eigh(A.toarray()) or reduce k.\n",
      "41\n"
     ]
    },
    {
     "name": "stderr",
     "output_type": "stream",
     "text": [
      "c:\\Users\\ryosh\\enrich_me\\.venv\\Lib\\site-packages\\umap\\umap_.py:2462: UserWarning: n_neighbors is larger than the dataset size; truncating to X.shape[0] - 1\n",
      "  warn(\n",
      "c:\\Users\\ryosh\\enrich_me\\.venv\\Lib\\site-packages\\umap\\spectral.py:519: RuntimeWarning: k >= N for N * N square matrix. Attempting to use scipy.linalg.eigh instead.\n",
      "  eigenvalues, eigenvectors = scipy.sparse.linalg.eigsh(\n",
      "c:\\Users\\ryosh\\enrich_me\\.venv\\Lib\\site-packages\\umap\\spectral.py:519: RuntimeWarning: k >= N for N * N square matrix. Attempting to use scipy.linalg.eigh instead.\n",
      "  eigenvalues, eigenvectors = scipy.sparse.linalg.eigsh(\n",
      "c:\\Users\\ryosh\\enrich_me\\.venv\\Lib\\site-packages\\umap\\spectral.py:519: RuntimeWarning: k >= N for N * N square matrix. Attempting to use scipy.linalg.eigh instead.\n",
      "  eigenvalues, eigenvectors = scipy.sparse.linalg.eigsh(\n",
      "c:\\Users\\ryosh\\enrich_me\\.venv\\Lib\\site-packages\\umap\\spectral.py:519: RuntimeWarning: k >= N for N * N square matrix. Attempting to use scipy.linalg.eigh instead.\n",
      "  eigenvalues, eigenvectors = scipy.sparse.linalg.eigsh(\n"
     ]
    },
    {
     "name": "stdout",
     "output_type": "stream",
     "text": [
      "Cannot use scipy.linalg.eigh for sparse A with k >= N. Use scipy.linalg.eigh(A.toarray()) or reduce k.\n",
      "Cannot use scipy.linalg.eigh for sparse A with k >= N. Use scipy.linalg.eigh(A.toarray()) or reduce k.\n",
      "Cannot use scipy.linalg.eigh for sparse A with k >= N. Use scipy.linalg.eigh(A.toarray()) or reduce k.\n",
      "Cannot use scipy.linalg.eigh for sparse A with k >= N. Use scipy.linalg.eigh(A.toarray()) or reduce k.\n"
     ]
    },
    {
     "name": "stderr",
     "output_type": "stream",
     "text": [
      "c:\\Users\\ryosh\\enrich_me\\.venv\\Lib\\site-packages\\umap\\spectral.py:519: RuntimeWarning: k >= N for N * N square matrix. Attempting to use scipy.linalg.eigh instead.\n",
      "  eigenvalues, eigenvectors = scipy.sparse.linalg.eigsh(\n",
      "c:\\Users\\ryosh\\enrich_me\\.venv\\Lib\\site-packages\\umap\\spectral.py:519: RuntimeWarning: k >= N for N * N square matrix. Attempting to use scipy.linalg.eigh instead.\n",
      "  eigenvalues, eigenvectors = scipy.sparse.linalg.eigsh(\n",
      "c:\\Users\\ryosh\\enrich_me\\.venv\\Lib\\site-packages\\umap\\spectral.py:519: RuntimeWarning: k >= N for N * N square matrix. Attempting to use scipy.linalg.eigh instead.\n",
      "  eigenvalues, eigenvectors = scipy.sparse.linalg.eigsh(\n"
     ]
    },
    {
     "name": "stdout",
     "output_type": "stream",
     "text": [
      "Cannot use scipy.linalg.eigh for sparse A with k >= N. Use scipy.linalg.eigh(A.toarray()) or reduce k.\n",
      "Cannot use scipy.linalg.eigh for sparse A with k >= N. Use scipy.linalg.eigh(A.toarray()) or reduce k.\n",
      "Cannot use scipy.linalg.eigh for sparse A with k >= N. Use scipy.linalg.eigh(A.toarray()) or reduce k.\n",
      "42\n"
     ]
    },
    {
     "name": "stderr",
     "output_type": "stream",
     "text": [
      "c:\\Users\\ryosh\\enrich_me\\.venv\\Lib\\site-packages\\umap\\spectral.py:519: RuntimeWarning: k >= N for N * N square matrix. Attempting to use scipy.linalg.eigh instead.\n",
      "  eigenvalues, eigenvectors = scipy.sparse.linalg.eigsh(\n",
      "c:\\Users\\ryosh\\enrich_me\\.venv\\Lib\\site-packages\\umap\\spectral.py:519: RuntimeWarning: k >= N for N * N square matrix. Attempting to use scipy.linalg.eigh instead.\n",
      "  eigenvalues, eigenvectors = scipy.sparse.linalg.eigsh(\n",
      "c:\\Users\\ryosh\\enrich_me\\.venv\\Lib\\site-packages\\umap\\spectral.py:519: RuntimeWarning: k >= N for N * N square matrix. Attempting to use scipy.linalg.eigh instead.\n",
      "  eigenvalues, eigenvectors = scipy.sparse.linalg.eigsh(\n",
      "c:\\Users\\ryosh\\enrich_me\\.venv\\Lib\\site-packages\\umap\\umap_.py:2462: UserWarning: n_neighbors is larger than the dataset size; truncating to X.shape[0] - 1\n",
      "  warn(\n",
      "c:\\Users\\ryosh\\enrich_me\\.venv\\Lib\\site-packages\\umap\\spectral.py:519: RuntimeWarning: k >= N for N * N square matrix. Attempting to use scipy.linalg.eigh instead.\n",
      "  eigenvalues, eigenvectors = scipy.sparse.linalg.eigsh(\n",
      "c:\\Users\\ryosh\\enrich_me\\.venv\\Lib\\site-packages\\umap\\umap_.py:2462: UserWarning: n_neighbors is larger than the dataset size; truncating to X.shape[0] - 1\n",
      "  warn(\n",
      "c:\\Users\\ryosh\\enrich_me\\.venv\\Lib\\site-packages\\umap\\spectral.py:519: RuntimeWarning: k >= N for N * N square matrix. Attempting to use scipy.linalg.eigh instead.\n",
      "  eigenvalues, eigenvectors = scipy.sparse.linalg.eigsh(\n",
      "c:\\Users\\ryosh\\enrich_me\\.venv\\Lib\\site-packages\\umap\\spectral.py:519: RuntimeWarning: k >= N for N * N square matrix. Attempting to use scipy.linalg.eigh instead.\n",
      "  eigenvalues, eigenvectors = scipy.sparse.linalg.eigsh(\n"
     ]
    },
    {
     "name": "stdout",
     "output_type": "stream",
     "text": [
      "Cannot use scipy.linalg.eigh for sparse A with k >= N. Use scipy.linalg.eigh(A.toarray()) or reduce k.\n",
      "Cannot use scipy.linalg.eigh for sparse A with k >= N. Use scipy.linalg.eigh(A.toarray()) or reduce k.\n",
      "Cannot use scipy.linalg.eigh for sparse A with k >= N. Use scipy.linalg.eigh(A.toarray()) or reduce k.\n",
      "Cannot use scipy.linalg.eigh for sparse A with k >= N. Use scipy.linalg.eigh(A.toarray()) or reduce k.\n",
      "Cannot use scipy.linalg.eigh for sparse A with k >= N. Use scipy.linalg.eigh(A.toarray()) or reduce k.\n",
      "Cannot use scipy.linalg.eigh for sparse A with k >= N. Use scipy.linalg.eigh(A.toarray()) or reduce k.\n",
      "43\n"
     ]
    },
    {
     "name": "stderr",
     "output_type": "stream",
     "text": [
      "c:\\Users\\ryosh\\enrich_me\\.venv\\Lib\\site-packages\\umap\\spectral.py:519: RuntimeWarning: k >= N for N * N square matrix. Attempting to use scipy.linalg.eigh instead.\n",
      "  eigenvalues, eigenvectors = scipy.sparse.linalg.eigsh(\n",
      "c:\\Users\\ryosh\\enrich_me\\.venv\\Lib\\site-packages\\umap\\spectral.py:519: RuntimeWarning: k >= N for N * N square matrix. Attempting to use scipy.linalg.eigh instead.\n",
      "  eigenvalues, eigenvectors = scipy.sparse.linalg.eigsh(\n",
      "c:\\Users\\ryosh\\enrich_me\\.venv\\Lib\\site-packages\\umap\\spectral.py:519: RuntimeWarning: k >= N for N * N square matrix. Attempting to use scipy.linalg.eigh instead.\n",
      "  eigenvalues, eigenvectors = scipy.sparse.linalg.eigsh(\n",
      "c:\\Users\\ryosh\\enrich_me\\.venv\\Lib\\site-packages\\umap\\spectral.py:519: RuntimeWarning: k >= N for N * N square matrix. Attempting to use scipy.linalg.eigh instead.\n",
      "  eigenvalues, eigenvectors = scipy.sparse.linalg.eigsh(\n",
      "c:\\Users\\ryosh\\enrich_me\\.venv\\Lib\\site-packages\\umap\\spectral.py:519: RuntimeWarning: k >= N for N * N square matrix. Attempting to use scipy.linalg.eigh instead.\n",
      "  eigenvalues, eigenvectors = scipy.sparse.linalg.eigsh(\n"
     ]
    },
    {
     "name": "stdout",
     "output_type": "stream",
     "text": [
      "Cannot use scipy.linalg.eigh for sparse A with k >= N. Use scipy.linalg.eigh(A.toarray()) or reduce k.\n",
      "Cannot use scipy.linalg.eigh for sparse A with k >= N. Use scipy.linalg.eigh(A.toarray()) or reduce k.\n",
      "Cannot use scipy.linalg.eigh for sparse A with k >= N. Use scipy.linalg.eigh(A.toarray()) or reduce k.\n",
      "Cannot use scipy.linalg.eigh for sparse A with k >= N. Use scipy.linalg.eigh(A.toarray()) or reduce k.\n",
      "Cannot use scipy.linalg.eigh for sparse A with k >= N. Use scipy.linalg.eigh(A.toarray()) or reduce k.\n",
      "44\n"
     ]
    },
    {
     "name": "stderr",
     "output_type": "stream",
     "text": [
      "c:\\Users\\ryosh\\enrich_me\\.venv\\Lib\\site-packages\\umap\\umap_.py:2462: UserWarning: n_neighbors is larger than the dataset size; truncating to X.shape[0] - 1\n",
      "  warn(\n",
      "c:\\Users\\ryosh\\enrich_me\\.venv\\Lib\\site-packages\\umap\\spectral.py:519: RuntimeWarning: k >= N for N * N square matrix. Attempting to use scipy.linalg.eigh instead.\n",
      "  eigenvalues, eigenvectors = scipy.sparse.linalg.eigsh(\n",
      "c:\\Users\\ryosh\\enrich_me\\.venv\\Lib\\site-packages\\umap\\spectral.py:519: RuntimeWarning: k >= N for N * N square matrix. Attempting to use scipy.linalg.eigh instead.\n",
      "  eigenvalues, eigenvectors = scipy.sparse.linalg.eigsh(\n",
      "c:\\Users\\ryosh\\enrich_me\\.venv\\Lib\\site-packages\\umap\\spectral.py:519: RuntimeWarning: k >= N for N * N square matrix. Attempting to use scipy.linalg.eigh instead.\n",
      "  eigenvalues, eigenvectors = scipy.sparse.linalg.eigsh(\n"
     ]
    },
    {
     "name": "stdout",
     "output_type": "stream",
     "text": [
      "Cannot use scipy.linalg.eigh for sparse A with k >= N. Use scipy.linalg.eigh(A.toarray()) or reduce k.\n",
      "Cannot use scipy.linalg.eigh for sparse A with k >= N. Use scipy.linalg.eigh(A.toarray()) or reduce k.\n",
      "Cannot use scipy.linalg.eigh for sparse A with k >= N. Use scipy.linalg.eigh(A.toarray()) or reduce k.\n"
     ]
    },
    {
     "name": "stderr",
     "output_type": "stream",
     "text": [
      "c:\\Users\\ryosh\\enrich_me\\.venv\\Lib\\site-packages\\umap\\umap_.py:2462: UserWarning: n_neighbors is larger than the dataset size; truncating to X.shape[0] - 1\n",
      "  warn(\n",
      "c:\\Users\\ryosh\\enrich_me\\.venv\\Lib\\site-packages\\umap\\spectral.py:519: RuntimeWarning: k >= N for N * N square matrix. Attempting to use scipy.linalg.eigh instead.\n",
      "  eigenvalues, eigenvectors = scipy.sparse.linalg.eigsh(\n",
      "c:\\Users\\ryosh\\enrich_me\\.venv\\Lib\\site-packages\\umap\\spectral.py:519: RuntimeWarning: k >= N for N * N square matrix. Attempting to use scipy.linalg.eigh instead.\n",
      "  eigenvalues, eigenvectors = scipy.sparse.linalg.eigsh(\n",
      "c:\\Users\\ryosh\\enrich_me\\.venv\\Lib\\site-packages\\umap\\spectral.py:519: RuntimeWarning: k >= N for N * N square matrix. Attempting to use scipy.linalg.eigh instead.\n",
      "  eigenvalues, eigenvectors = scipy.sparse.linalg.eigsh(\n",
      "c:\\Users\\ryosh\\enrich_me\\.venv\\Lib\\site-packages\\umap\\spectral.py:519: RuntimeWarning: k >= N for N * N square matrix. Attempting to use scipy.linalg.eigh instead.\n",
      "  eigenvalues, eigenvectors = scipy.sparse.linalg.eigsh(\n"
     ]
    },
    {
     "name": "stdout",
     "output_type": "stream",
     "text": [
      "Cannot use scipy.linalg.eigh for sparse A with k >= N. Use scipy.linalg.eigh(A.toarray()) or reduce k.\n",
      "Cannot use scipy.linalg.eigh for sparse A with k >= N. Use scipy.linalg.eigh(A.toarray()) or reduce k.\n",
      "Cannot use scipy.linalg.eigh for sparse A with k >= N. Use scipy.linalg.eigh(A.toarray()) or reduce k.\n",
      "Cannot use scipy.linalg.eigh for sparse A with k >= N. Use scipy.linalg.eigh(A.toarray()) or reduce k.\n",
      "45\n"
     ]
    },
    {
     "name": "stderr",
     "output_type": "stream",
     "text": [
      "c:\\Users\\ryosh\\enrich_me\\.venv\\Lib\\site-packages\\umap\\spectral.py:519: RuntimeWarning: k >= N for N * N square matrix. Attempting to use scipy.linalg.eigh instead.\n",
      "  eigenvalues, eigenvectors = scipy.sparse.linalg.eigsh(\n"
     ]
    },
    {
     "name": "stdout",
     "output_type": "stream",
     "text": [
      "Cannot use scipy.linalg.eigh for sparse A with k >= N. Use scipy.linalg.eigh(A.toarray()) or reduce k.\n"
     ]
    },
    {
     "name": "stderr",
     "output_type": "stream",
     "text": [
      "c:\\Users\\ryosh\\enrich_me\\.venv\\Lib\\site-packages\\umap\\spectral.py:519: RuntimeWarning: k >= N for N * N square matrix. Attempting to use scipy.linalg.eigh instead.\n",
      "  eigenvalues, eigenvectors = scipy.sparse.linalg.eigsh(\n",
      "c:\\Users\\ryosh\\enrich_me\\.venv\\Lib\\site-packages\\umap\\umap_.py:2462: UserWarning: n_neighbors is larger than the dataset size; truncating to X.shape[0] - 1\n",
      "  warn(\n",
      "c:\\Users\\ryosh\\enrich_me\\.venv\\Lib\\site-packages\\umap\\spectral.py:519: RuntimeWarning: k >= N for N * N square matrix. Attempting to use scipy.linalg.eigh instead.\n",
      "  eigenvalues, eigenvectors = scipy.sparse.linalg.eigsh(\n",
      "c:\\Users\\ryosh\\enrich_me\\.venv\\Lib\\site-packages\\umap\\spectral.py:519: RuntimeWarning: k >= N for N * N square matrix. Attempting to use scipy.linalg.eigh instead.\n",
      "  eigenvalues, eigenvectors = scipy.sparse.linalg.eigsh(\n",
      "c:\\Users\\ryosh\\enrich_me\\.venv\\Lib\\site-packages\\umap\\spectral.py:519: RuntimeWarning: k >= N for N * N square matrix. Attempting to use scipy.linalg.eigh instead.\n",
      "  eigenvalues, eigenvectors = scipy.sparse.linalg.eigsh(\n",
      "c:\\Users\\ryosh\\enrich_me\\.venv\\Lib\\site-packages\\umap\\spectral.py:519: RuntimeWarning: k >= N for N * N square matrix. Attempting to use scipy.linalg.eigh instead.\n",
      "  eigenvalues, eigenvectors = scipy.sparse.linalg.eigsh(\n",
      "c:\\Users\\ryosh\\enrich_me\\.venv\\Lib\\site-packages\\umap\\spectral.py:519: RuntimeWarning: k >= N for N * N square matrix. Attempting to use scipy.linalg.eigh instead.\n",
      "  eigenvalues, eigenvectors = scipy.sparse.linalg.eigsh(\n"
     ]
    },
    {
     "name": "stdout",
     "output_type": "stream",
     "text": [
      "Cannot use scipy.linalg.eigh for sparse A with k >= N. Use scipy.linalg.eigh(A.toarray()) or reduce k.\n",
      "Cannot use scipy.linalg.eigh for sparse A with k >= N. Use scipy.linalg.eigh(A.toarray()) or reduce k.\n",
      "Cannot use scipy.linalg.eigh for sparse A with k >= N. Use scipy.linalg.eigh(A.toarray()) or reduce k.\n",
      "Cannot use scipy.linalg.eigh for sparse A with k >= N. Use scipy.linalg.eigh(A.toarray()) or reduce k.\n",
      "Cannot use scipy.linalg.eigh for sparse A with k >= N. Use scipy.linalg.eigh(A.toarray()) or reduce k.\n",
      "Cannot use scipy.linalg.eigh for sparse A with k >= N. Use scipy.linalg.eigh(A.toarray()) or reduce k.\n",
      "46\n"
     ]
    },
    {
     "name": "stderr",
     "output_type": "stream",
     "text": [
      "c:\\Users\\ryosh\\enrich_me\\.venv\\Lib\\site-packages\\umap\\umap_.py:2462: UserWarning: n_neighbors is larger than the dataset size; truncating to X.shape[0] - 1\n",
      "  warn(\n",
      "c:\\Users\\ryosh\\enrich_me\\.venv\\Lib\\site-packages\\umap\\spectral.py:519: RuntimeWarning: k >= N for N * N square matrix. Attempting to use scipy.linalg.eigh instead.\n",
      "  eigenvalues, eigenvectors = scipy.sparse.linalg.eigsh(\n",
      "c:\\Users\\ryosh\\enrich_me\\.venv\\Lib\\site-packages\\umap\\spectral.py:519: RuntimeWarning: k >= N for N * N square matrix. Attempting to use scipy.linalg.eigh instead.\n",
      "  eigenvalues, eigenvectors = scipy.sparse.linalg.eigsh(\n",
      "c:\\Users\\ryosh\\enrich_me\\.venv\\Lib\\site-packages\\umap\\spectral.py:519: RuntimeWarning: k >= N for N * N square matrix. Attempting to use scipy.linalg.eigh instead.\n",
      "  eigenvalues, eigenvectors = scipy.sparse.linalg.eigsh(\n",
      "c:\\Users\\ryosh\\enrich_me\\.venv\\Lib\\site-packages\\umap\\spectral.py:519: RuntimeWarning: k >= N for N * N square matrix. Attempting to use scipy.linalg.eigh instead.\n",
      "  eigenvalues, eigenvectors = scipy.sparse.linalg.eigsh(\n",
      "c:\\Users\\ryosh\\enrich_me\\.venv\\Lib\\site-packages\\umap\\spectral.py:519: RuntimeWarning: k >= N for N * N square matrix. Attempting to use scipy.linalg.eigh instead.\n",
      "  eigenvalues, eigenvectors = scipy.sparse.linalg.eigsh(\n",
      "c:\\Users\\ryosh\\enrich_me\\.venv\\Lib\\site-packages\\umap\\spectral.py:519: RuntimeWarning: k >= N for N * N square matrix. Attempting to use scipy.linalg.eigh instead.\n",
      "  eigenvalues, eigenvectors = scipy.sparse.linalg.eigsh(\n",
      "c:\\Users\\ryosh\\enrich_me\\.venv\\Lib\\site-packages\\umap\\spectral.py:519: RuntimeWarning: k >= N for N * N square matrix. Attempting to use scipy.linalg.eigh instead.\n",
      "  eigenvalues, eigenvectors = scipy.sparse.linalg.eigsh(\n"
     ]
    },
    {
     "name": "stdout",
     "output_type": "stream",
     "text": [
      "Cannot use scipy.linalg.eigh for sparse A with k >= N. Use scipy.linalg.eigh(A.toarray()) or reduce k.\n",
      "Cannot use scipy.linalg.eigh for sparse A with k >= N. Use scipy.linalg.eigh(A.toarray()) or reduce k.\n",
      "Cannot use scipy.linalg.eigh for sparse A with k >= N. Use scipy.linalg.eigh(A.toarray()) or reduce k.\n",
      "Cannot use scipy.linalg.eigh for sparse A with k >= N. Use scipy.linalg.eigh(A.toarray()) or reduce k.\n",
      "Cannot use scipy.linalg.eigh for sparse A with k >= N. Use scipy.linalg.eigh(A.toarray()) or reduce k.\n",
      "Cannot use scipy.linalg.eigh for sparse A with k >= N. Use scipy.linalg.eigh(A.toarray()) or reduce k.\n",
      "Cannot use scipy.linalg.eigh for sparse A with k >= N. Use scipy.linalg.eigh(A.toarray()) or reduce k.\n",
      "47\n"
     ]
    },
    {
     "name": "stderr",
     "output_type": "stream",
     "text": [
      "c:\\Users\\ryosh\\enrich_me\\.venv\\Lib\\site-packages\\umap\\spectral.py:519: RuntimeWarning: k >= N for N * N square matrix. Attempting to use scipy.linalg.eigh instead.\n",
      "  eigenvalues, eigenvectors = scipy.sparse.linalg.eigsh(\n",
      "c:\\Users\\ryosh\\enrich_me\\.venv\\Lib\\site-packages\\umap\\umap_.py:2462: UserWarning: n_neighbors is larger than the dataset size; truncating to X.shape[0] - 1\n",
      "  warn(\n",
      "c:\\Users\\ryosh\\enrich_me\\.venv\\Lib\\site-packages\\umap\\spectral.py:519: RuntimeWarning: k >= N for N * N square matrix. Attempting to use scipy.linalg.eigh instead.\n",
      "  eigenvalues, eigenvectors = scipy.sparse.linalg.eigsh(\n",
      "c:\\Users\\ryosh\\enrich_me\\.venv\\Lib\\site-packages\\umap\\spectral.py:519: RuntimeWarning: k >= N for N * N square matrix. Attempting to use scipy.linalg.eigh instead.\n",
      "  eigenvalues, eigenvectors = scipy.sparse.linalg.eigsh(\n",
      "c:\\Users\\ryosh\\enrich_me\\.venv\\Lib\\site-packages\\umap\\spectral.py:519: RuntimeWarning: k >= N for N * N square matrix. Attempting to use scipy.linalg.eigh instead.\n",
      "  eigenvalues, eigenvectors = scipy.sparse.linalg.eigsh(\n"
     ]
    },
    {
     "name": "stdout",
     "output_type": "stream",
     "text": [
      "Cannot use scipy.linalg.eigh for sparse A with k >= N. Use scipy.linalg.eigh(A.toarray()) or reduce k.\n",
      "Cannot use scipy.linalg.eigh for sparse A with k >= N. Use scipy.linalg.eigh(A.toarray()) or reduce k.\n",
      "Cannot use scipy.linalg.eigh for sparse A with k >= N. Use scipy.linalg.eigh(A.toarray()) or reduce k.\n",
      "Cannot use scipy.linalg.eigh for sparse A with k >= N. Use scipy.linalg.eigh(A.toarray()) or reduce k.\n"
     ]
    },
    {
     "name": "stderr",
     "output_type": "stream",
     "text": [
      "c:\\Users\\ryosh\\enrich_me\\.venv\\Lib\\site-packages\\umap\\spectral.py:519: RuntimeWarning: k >= N for N * N square matrix. Attempting to use scipy.linalg.eigh instead.\n",
      "  eigenvalues, eigenvectors = scipy.sparse.linalg.eigsh(\n",
      "c:\\Users\\ryosh\\enrich_me\\.venv\\Lib\\site-packages\\umap\\spectral.py:519: RuntimeWarning: k >= N for N * N square matrix. Attempting to use scipy.linalg.eigh instead.\n",
      "  eigenvalues, eigenvectors = scipy.sparse.linalg.eigsh(\n",
      "c:\\Users\\ryosh\\enrich_me\\.venv\\Lib\\site-packages\\umap\\spectral.py:519: RuntimeWarning: k >= N for N * N square matrix. Attempting to use scipy.linalg.eigh instead.\n",
      "  eigenvalues, eigenvectors = scipy.sparse.linalg.eigsh(\n"
     ]
    },
    {
     "name": "stdout",
     "output_type": "stream",
     "text": [
      "Cannot use scipy.linalg.eigh for sparse A with k >= N. Use scipy.linalg.eigh(A.toarray()) or reduce k.\n",
      "Cannot use scipy.linalg.eigh for sparse A with k >= N. Use scipy.linalg.eigh(A.toarray()) or reduce k.\n",
      "Cannot use scipy.linalg.eigh for sparse A with k >= N. Use scipy.linalg.eigh(A.toarray()) or reduce k.\n",
      "48\n"
     ]
    },
    {
     "name": "stderr",
     "output_type": "stream",
     "text": [
      "c:\\Users\\ryosh\\enrich_me\\.venv\\Lib\\site-packages\\umap\\spectral.py:519: RuntimeWarning: k >= N for N * N square matrix. Attempting to use scipy.linalg.eigh instead.\n",
      "  eigenvalues, eigenvectors = scipy.sparse.linalg.eigsh(\n",
      "c:\\Users\\ryosh\\enrich_me\\.venv\\Lib\\site-packages\\umap\\spectral.py:519: RuntimeWarning: k >= N for N * N square matrix. Attempting to use scipy.linalg.eigh instead.\n",
      "  eigenvalues, eigenvectors = scipy.sparse.linalg.eigsh(\n",
      "c:\\Users\\ryosh\\enrich_me\\.venv\\Lib\\site-packages\\umap\\umap_.py:2462: UserWarning: n_neighbors is larger than the dataset size; truncating to X.shape[0] - 1\n",
      "  warn(\n",
      "c:\\Users\\ryosh\\enrich_me\\.venv\\Lib\\site-packages\\umap\\spectral.py:519: RuntimeWarning: k >= N for N * N square matrix. Attempting to use scipy.linalg.eigh instead.\n",
      "  eigenvalues, eigenvectors = scipy.sparse.linalg.eigsh(\n"
     ]
    },
    {
     "name": "stdout",
     "output_type": "stream",
     "text": [
      "Cannot use scipy.linalg.eigh for sparse A with k >= N. Use scipy.linalg.eigh(A.toarray()) or reduce k.\n",
      "Cannot use scipy.linalg.eigh for sparse A with k >= N. Use scipy.linalg.eigh(A.toarray()) or reduce k.\n",
      "Cannot use scipy.linalg.eigh for sparse A with k >= N. Use scipy.linalg.eigh(A.toarray()) or reduce k.\n"
     ]
    },
    {
     "name": "stderr",
     "output_type": "stream",
     "text": [
      "c:\\Users\\ryosh\\enrich_me\\.venv\\Lib\\site-packages\\umap\\spectral.py:519: RuntimeWarning: k >= N for N * N square matrix. Attempting to use scipy.linalg.eigh instead.\n",
      "  eigenvalues, eigenvectors = scipy.sparse.linalg.eigsh(\n",
      "c:\\Users\\ryosh\\enrich_me\\.venv\\Lib\\site-packages\\umap\\umap_.py:2462: UserWarning: n_neighbors is larger than the dataset size; truncating to X.shape[0] - 1\n",
      "  warn(\n",
      "c:\\Users\\ryosh\\enrich_me\\.venv\\Lib\\site-packages\\umap\\spectral.py:519: RuntimeWarning: k >= N for N * N square matrix. Attempting to use scipy.linalg.eigh instead.\n",
      "  eigenvalues, eigenvectors = scipy.sparse.linalg.eigsh(\n",
      "c:\\Users\\ryosh\\enrich_me\\.venv\\Lib\\site-packages\\umap\\spectral.py:519: RuntimeWarning: k >= N for N * N square matrix. Attempting to use scipy.linalg.eigh instead.\n",
      "  eigenvalues, eigenvectors = scipy.sparse.linalg.eigsh(\n",
      "c:\\Users\\ryosh\\enrich_me\\.venv\\Lib\\site-packages\\umap\\spectral.py:519: RuntimeWarning: k >= N for N * N square matrix. Attempting to use scipy.linalg.eigh instead.\n",
      "  eigenvalues, eigenvectors = scipy.sparse.linalg.eigsh(\n"
     ]
    },
    {
     "name": "stdout",
     "output_type": "stream",
     "text": [
      "Cannot use scipy.linalg.eigh for sparse A with k >= N. Use scipy.linalg.eigh(A.toarray()) or reduce k.\n",
      "Cannot use scipy.linalg.eigh for sparse A with k >= N. Use scipy.linalg.eigh(A.toarray()) or reduce k.\n",
      "Cannot use scipy.linalg.eigh for sparse A with k >= N. Use scipy.linalg.eigh(A.toarray()) or reduce k.\n",
      "Cannot use scipy.linalg.eigh for sparse A with k >= N. Use scipy.linalg.eigh(A.toarray()) or reduce k.\n",
      "49\n"
     ]
    },
    {
     "name": "stderr",
     "output_type": "stream",
     "text": [
      "c:\\Users\\ryosh\\enrich_me\\.venv\\Lib\\site-packages\\umap\\spectral.py:519: RuntimeWarning: k >= N for N * N square matrix. Attempting to use scipy.linalg.eigh instead.\n",
      "  eigenvalues, eigenvectors = scipy.sparse.linalg.eigsh(\n",
      "c:\\Users\\ryosh\\enrich_me\\.venv\\Lib\\site-packages\\umap\\umap_.py:2462: UserWarning: n_neighbors is larger than the dataset size; truncating to X.shape[0] - 1\n",
      "  warn(\n",
      "c:\\Users\\ryosh\\enrich_me\\.venv\\Lib\\site-packages\\umap\\spectral.py:519: RuntimeWarning: k >= N for N * N square matrix. Attempting to use scipy.linalg.eigh instead.\n",
      "  eigenvalues, eigenvectors = scipy.sparse.linalg.eigsh(\n",
      "c:\\Users\\ryosh\\enrich_me\\.venv\\Lib\\site-packages\\umap\\spectral.py:519: RuntimeWarning: k >= N for N * N square matrix. Attempting to use scipy.linalg.eigh instead.\n",
      "  eigenvalues, eigenvectors = scipy.sparse.linalg.eigsh(\n",
      "c:\\Users\\ryosh\\enrich_me\\.venv\\Lib\\site-packages\\umap\\spectral.py:519: RuntimeWarning: k >= N for N * N square matrix. Attempting to use scipy.linalg.eigh instead.\n",
      "  eigenvalues, eigenvectors = scipy.sparse.linalg.eigsh(\n"
     ]
    },
    {
     "name": "stdout",
     "output_type": "stream",
     "text": [
      "Cannot use scipy.linalg.eigh for sparse A with k >= N. Use scipy.linalg.eigh(A.toarray()) or reduce k.\n",
      "Cannot use scipy.linalg.eigh for sparse A with k >= N. Use scipy.linalg.eigh(A.toarray()) or reduce k.\n",
      "Cannot use scipy.linalg.eigh for sparse A with k >= N. Use scipy.linalg.eigh(A.toarray()) or reduce k.\n",
      "Cannot use scipy.linalg.eigh for sparse A with k >= N. Use scipy.linalg.eigh(A.toarray()) or reduce k.\n"
     ]
    },
    {
     "name": "stderr",
     "output_type": "stream",
     "text": [
      "c:\\Users\\ryosh\\enrich_me\\.venv\\Lib\\site-packages\\umap\\spectral.py:519: RuntimeWarning: k >= N for N * N square matrix. Attempting to use scipy.linalg.eigh instead.\n",
      "  eigenvalues, eigenvectors = scipy.sparse.linalg.eigsh(\n",
      "c:\\Users\\ryosh\\enrich_me\\.venv\\Lib\\site-packages\\umap\\spectral.py:519: RuntimeWarning: k >= N for N * N square matrix. Attempting to use scipy.linalg.eigh instead.\n",
      "  eigenvalues, eigenvectors = scipy.sparse.linalg.eigsh(\n"
     ]
    },
    {
     "name": "stdout",
     "output_type": "stream",
     "text": [
      "Cannot use scipy.linalg.eigh for sparse A with k >= N. Use scipy.linalg.eigh(A.toarray()) or reduce k.\n",
      "Cannot use scipy.linalg.eigh for sparse A with k >= N. Use scipy.linalg.eigh(A.toarray()) or reduce k.\n",
      "50\n"
     ]
    },
    {
     "name": "stderr",
     "output_type": "stream",
     "text": [
      "c:\\Users\\ryosh\\enrich_me\\.venv\\Lib\\site-packages\\umap\\umap_.py:2462: UserWarning: n_neighbors is larger than the dataset size; truncating to X.shape[0] - 1\n",
      "  warn(\n",
      "c:\\Users\\ryosh\\enrich_me\\.venv\\Lib\\site-packages\\umap\\spectral.py:519: RuntimeWarning: k >= N for N * N square matrix. Attempting to use scipy.linalg.eigh instead.\n",
      "  eigenvalues, eigenvectors = scipy.sparse.linalg.eigsh(\n",
      "c:\\Users\\ryosh\\enrich_me\\.venv\\Lib\\site-packages\\umap\\spectral.py:519: RuntimeWarning: k >= N for N * N square matrix. Attempting to use scipy.linalg.eigh instead.\n",
      "  eigenvalues, eigenvectors = scipy.sparse.linalg.eigsh(\n",
      "c:\\Users\\ryosh\\enrich_me\\.venv\\Lib\\site-packages\\umap\\spectral.py:519: RuntimeWarning: k >= N for N * N square matrix. Attempting to use scipy.linalg.eigh instead.\n",
      "  eigenvalues, eigenvectors = scipy.sparse.linalg.eigsh(\n",
      "c:\\Users\\ryosh\\enrich_me\\.venv\\Lib\\site-packages\\umap\\spectral.py:519: RuntimeWarning: k >= N for N * N square matrix. Attempting to use scipy.linalg.eigh instead.\n",
      "  eigenvalues, eigenvectors = scipy.sparse.linalg.eigsh(\n",
      "c:\\Users\\ryosh\\enrich_me\\.venv\\Lib\\site-packages\\umap\\spectral.py:519: RuntimeWarning: k >= N for N * N square matrix. Attempting to use scipy.linalg.eigh instead.\n",
      "  eigenvalues, eigenvectors = scipy.sparse.linalg.eigsh(\n",
      "c:\\Users\\ryosh\\enrich_me\\.venv\\Lib\\site-packages\\umap\\spectral.py:519: RuntimeWarning: k >= N for N * N square matrix. Attempting to use scipy.linalg.eigh instead.\n",
      "  eigenvalues, eigenvectors = scipy.sparse.linalg.eigsh(\n",
      "c:\\Users\\ryosh\\enrich_me\\.venv\\Lib\\site-packages\\umap\\spectral.py:519: RuntimeWarning: k >= N for N * N square matrix. Attempting to use scipy.linalg.eigh instead.\n",
      "  eigenvalues, eigenvectors = scipy.sparse.linalg.eigsh(\n"
     ]
    },
    {
     "name": "stdout",
     "output_type": "stream",
     "text": [
      "Cannot use scipy.linalg.eigh for sparse A with k >= N. Use scipy.linalg.eigh(A.toarray()) or reduce k.\n",
      "Cannot use scipy.linalg.eigh for sparse A with k >= N. Use scipy.linalg.eigh(A.toarray()) or reduce k.\n",
      "Cannot use scipy.linalg.eigh for sparse A with k >= N. Use scipy.linalg.eigh(A.toarray()) or reduce k.\n",
      "Cannot use scipy.linalg.eigh for sparse A with k >= N. Use scipy.linalg.eigh(A.toarray()) or reduce k.\n",
      "Cannot use scipy.linalg.eigh for sparse A with k >= N. Use scipy.linalg.eigh(A.toarray()) or reduce k.\n",
      "Cannot use scipy.linalg.eigh for sparse A with k >= N. Use scipy.linalg.eigh(A.toarray()) or reduce k.\n",
      "Cannot use scipy.linalg.eigh for sparse A with k >= N. Use scipy.linalg.eigh(A.toarray()) or reduce k.\n",
      "51\n"
     ]
    },
    {
     "name": "stderr",
     "output_type": "stream",
     "text": [
      "c:\\Users\\ryosh\\enrich_me\\.venv\\Lib\\site-packages\\umap\\spectral.py:519: RuntimeWarning: k >= N for N * N square matrix. Attempting to use scipy.linalg.eigh instead.\n",
      "  eigenvalues, eigenvectors = scipy.sparse.linalg.eigsh(\n",
      "c:\\Users\\ryosh\\enrich_me\\.venv\\Lib\\site-packages\\umap\\umap_.py:2462: UserWarning: n_neighbors is larger than the dataset size; truncating to X.shape[0] - 1\n",
      "  warn(\n",
      "c:\\Users\\ryosh\\enrich_me\\.venv\\Lib\\site-packages\\umap\\spectral.py:519: RuntimeWarning: k >= N for N * N square matrix. Attempting to use scipy.linalg.eigh instead.\n",
      "  eigenvalues, eigenvectors = scipy.sparse.linalg.eigsh(\n",
      "c:\\Users\\ryosh\\enrich_me\\.venv\\Lib\\site-packages\\umap\\spectral.py:519: RuntimeWarning: k >= N for N * N square matrix. Attempting to use scipy.linalg.eigh instead.\n",
      "  eigenvalues, eigenvectors = scipy.sparse.linalg.eigsh(\n",
      "c:\\Users\\ryosh\\enrich_me\\.venv\\Lib\\site-packages\\umap\\spectral.py:519: RuntimeWarning: k >= N for N * N square matrix. Attempting to use scipy.linalg.eigh instead.\n",
      "  eigenvalues, eigenvectors = scipy.sparse.linalg.eigsh(\n"
     ]
    },
    {
     "name": "stdout",
     "output_type": "stream",
     "text": [
      "Cannot use scipy.linalg.eigh for sparse A with k >= N. Use scipy.linalg.eigh(A.toarray()) or reduce k.\n",
      "Cannot use scipy.linalg.eigh for sparse A with k >= N. Use scipy.linalg.eigh(A.toarray()) or reduce k.\n",
      "Cannot use scipy.linalg.eigh for sparse A with k >= N. Use scipy.linalg.eigh(A.toarray()) or reduce k.\n",
      "Cannot use scipy.linalg.eigh for sparse A with k >= N. Use scipy.linalg.eigh(A.toarray()) or reduce k.\n"
     ]
    },
    {
     "name": "stderr",
     "output_type": "stream",
     "text": [
      "c:\\Users\\ryosh\\enrich_me\\.venv\\Lib\\site-packages\\umap\\spectral.py:519: RuntimeWarning: k >= N for N * N square matrix. Attempting to use scipy.linalg.eigh instead.\n",
      "  eigenvalues, eigenvectors = scipy.sparse.linalg.eigsh(\n",
      "c:\\Users\\ryosh\\enrich_me\\.venv\\Lib\\site-packages\\umap\\spectral.py:519: RuntimeWarning: k >= N for N * N square matrix. Attempting to use scipy.linalg.eigh instead.\n",
      "  eigenvalues, eigenvectors = scipy.sparse.linalg.eigsh(\n",
      "c:\\Users\\ryosh\\enrich_me\\.venv\\Lib\\site-packages\\umap\\spectral.py:519: RuntimeWarning: k >= N for N * N square matrix. Attempting to use scipy.linalg.eigh instead.\n",
      "  eigenvalues, eigenvectors = scipy.sparse.linalg.eigsh(\n"
     ]
    },
    {
     "name": "stdout",
     "output_type": "stream",
     "text": [
      "Cannot use scipy.linalg.eigh for sparse A with k >= N. Use scipy.linalg.eigh(A.toarray()) or reduce k.\n",
      "Cannot use scipy.linalg.eigh for sparse A with k >= N. Use scipy.linalg.eigh(A.toarray()) or reduce k.\n",
      "Cannot use scipy.linalg.eigh for sparse A with k >= N. Use scipy.linalg.eigh(A.toarray()) or reduce k.\n",
      "52\n"
     ]
    },
    {
     "name": "stderr",
     "output_type": "stream",
     "text": [
      "c:\\Users\\ryosh\\enrich_me\\.venv\\Lib\\site-packages\\umap\\spectral.py:519: RuntimeWarning: k >= N for N * N square matrix. Attempting to use scipy.linalg.eigh instead.\n",
      "  eigenvalues, eigenvectors = scipy.sparse.linalg.eigsh(\n",
      "c:\\Users\\ryosh\\enrich_me\\.venv\\Lib\\site-packages\\umap\\spectral.py:519: RuntimeWarning: k >= N for N * N square matrix. Attempting to use scipy.linalg.eigh instead.\n",
      "  eigenvalues, eigenvectors = scipy.sparse.linalg.eigsh(\n",
      "c:\\Users\\ryosh\\enrich_me\\.venv\\Lib\\site-packages\\umap\\spectral.py:519: RuntimeWarning: k >= N for N * N square matrix. Attempting to use scipy.linalg.eigh instead.\n",
      "  eigenvalues, eigenvectors = scipy.sparse.linalg.eigsh(\n",
      "c:\\Users\\ryosh\\enrich_me\\.venv\\Lib\\site-packages\\umap\\spectral.py:519: RuntimeWarning: k >= N for N * N square matrix. Attempting to use scipy.linalg.eigh instead.\n",
      "  eigenvalues, eigenvectors = scipy.sparse.linalg.eigsh(\n"
     ]
    },
    {
     "name": "stdout",
     "output_type": "stream",
     "text": [
      "Cannot use scipy.linalg.eigh for sparse A with k >= N. Use scipy.linalg.eigh(A.toarray()) or reduce k.\n",
      "Cannot use scipy.linalg.eigh for sparse A with k >= N. Use scipy.linalg.eigh(A.toarray()) or reduce k.\n",
      "Cannot use scipy.linalg.eigh for sparse A with k >= N. Use scipy.linalg.eigh(A.toarray()) or reduce k.\n",
      "Cannot use scipy.linalg.eigh for sparse A with k >= N. Use scipy.linalg.eigh(A.toarray()) or reduce k.\n"
     ]
    },
    {
     "name": "stderr",
     "output_type": "stream",
     "text": [
      "c:\\Users\\ryosh\\enrich_me\\.venv\\Lib\\site-packages\\umap\\umap_.py:2462: UserWarning: n_neighbors is larger than the dataset size; truncating to X.shape[0] - 1\n",
      "  warn(\n",
      "c:\\Users\\ryosh\\enrich_me\\.venv\\Lib\\site-packages\\umap\\spectral.py:519: RuntimeWarning: k >= N for N * N square matrix. Attempting to use scipy.linalg.eigh instead.\n",
      "  eigenvalues, eigenvectors = scipy.sparse.linalg.eigsh(\n",
      "c:\\Users\\ryosh\\enrich_me\\.venv\\Lib\\site-packages\\umap\\spectral.py:519: RuntimeWarning: k >= N for N * N square matrix. Attempting to use scipy.linalg.eigh instead.\n",
      "  eigenvalues, eigenvectors = scipy.sparse.linalg.eigsh(\n",
      "c:\\Users\\ryosh\\enrich_me\\.venv\\Lib\\site-packages\\umap\\spectral.py:519: RuntimeWarning: k >= N for N * N square matrix. Attempting to use scipy.linalg.eigh instead.\n",
      "  eigenvalues, eigenvectors = scipy.sparse.linalg.eigsh(\n"
     ]
    },
    {
     "name": "stdout",
     "output_type": "stream",
     "text": [
      "Cannot use scipy.linalg.eigh for sparse A with k >= N. Use scipy.linalg.eigh(A.toarray()) or reduce k.\n",
      "Cannot use scipy.linalg.eigh for sparse A with k >= N. Use scipy.linalg.eigh(A.toarray()) or reduce k.\n",
      "Cannot use scipy.linalg.eigh for sparse A with k >= N. Use scipy.linalg.eigh(A.toarray()) or reduce k.\n",
      "53\n"
     ]
    },
    {
     "name": "stderr",
     "output_type": "stream",
     "text": [
      "c:\\Users\\ryosh\\enrich_me\\.venv\\Lib\\site-packages\\umap\\spectral.py:519: RuntimeWarning: k >= N for N * N square matrix. Attempting to use scipy.linalg.eigh instead.\n",
      "  eigenvalues, eigenvectors = scipy.sparse.linalg.eigsh(\n",
      "c:\\Users\\ryosh\\enrich_me\\.venv\\Lib\\site-packages\\umap\\spectral.py:519: RuntimeWarning: k >= N for N * N square matrix. Attempting to use scipy.linalg.eigh instead.\n",
      "  eigenvalues, eigenvectors = scipy.sparse.linalg.eigsh(\n",
      "c:\\Users\\ryosh\\enrich_me\\.venv\\Lib\\site-packages\\umap\\spectral.py:519: RuntimeWarning: k >= N for N * N square matrix. Attempting to use scipy.linalg.eigh instead.\n",
      "  eigenvalues, eigenvectors = scipy.sparse.linalg.eigsh(\n"
     ]
    },
    {
     "name": "stdout",
     "output_type": "stream",
     "text": [
      "Cannot use scipy.linalg.eigh for sparse A with k >= N. Use scipy.linalg.eigh(A.toarray()) or reduce k.\n",
      "Cannot use scipy.linalg.eigh for sparse A with k >= N. Use scipy.linalg.eigh(A.toarray()) or reduce k.\n",
      "Cannot use scipy.linalg.eigh for sparse A with k >= N. Use scipy.linalg.eigh(A.toarray()) or reduce k.\n"
     ]
    },
    {
     "name": "stderr",
     "output_type": "stream",
     "text": [
      "c:\\Users\\ryosh\\enrich_me\\.venv\\Lib\\site-packages\\umap\\umap_.py:2462: UserWarning: n_neighbors is larger than the dataset size; truncating to X.shape[0] - 1\n",
      "  warn(\n",
      "c:\\Users\\ryosh\\enrich_me\\.venv\\Lib\\site-packages\\umap\\spectral.py:519: RuntimeWarning: k >= N for N * N square matrix. Attempting to use scipy.linalg.eigh instead.\n",
      "  eigenvalues, eigenvectors = scipy.sparse.linalg.eigsh(\n",
      "c:\\Users\\ryosh\\enrich_me\\.venv\\Lib\\site-packages\\umap\\spectral.py:519: RuntimeWarning: k >= N for N * N square matrix. Attempting to use scipy.linalg.eigh instead.\n",
      "  eigenvalues, eigenvectors = scipy.sparse.linalg.eigsh(\n",
      "c:\\Users\\ryosh\\enrich_me\\.venv\\Lib\\site-packages\\umap\\spectral.py:519: RuntimeWarning: k >= N for N * N square matrix. Attempting to use scipy.linalg.eigh instead.\n",
      "  eigenvalues, eigenvectors = scipy.sparse.linalg.eigsh(\n",
      "c:\\Users\\ryosh\\enrich_me\\.venv\\Lib\\site-packages\\umap\\spectral.py:519: RuntimeWarning: k >= N for N * N square matrix. Attempting to use scipy.linalg.eigh instead.\n",
      "  eigenvalues, eigenvectors = scipy.sparse.linalg.eigsh(\n"
     ]
    },
    {
     "name": "stdout",
     "output_type": "stream",
     "text": [
      "Cannot use scipy.linalg.eigh for sparse A with k >= N. Use scipy.linalg.eigh(A.toarray()) or reduce k.\n",
      "Cannot use scipy.linalg.eigh for sparse A with k >= N. Use scipy.linalg.eigh(A.toarray()) or reduce k.\n",
      "Cannot use scipy.linalg.eigh for sparse A with k >= N. Use scipy.linalg.eigh(A.toarray()) or reduce k.\n",
      "Cannot use scipy.linalg.eigh for sparse A with k >= N. Use scipy.linalg.eigh(A.toarray()) or reduce k.\n",
      "54\n"
     ]
    },
    {
     "name": "stderr",
     "output_type": "stream",
     "text": [
      "c:\\Users\\ryosh\\enrich_me\\.venv\\Lib\\site-packages\\umap\\spectral.py:519: RuntimeWarning: k >= N for N * N square matrix. Attempting to use scipy.linalg.eigh instead.\n",
      "  eigenvalues, eigenvectors = scipy.sparse.linalg.eigsh(\n",
      "c:\\Users\\ryosh\\enrich_me\\.venv\\Lib\\site-packages\\umap\\umap_.py:2462: UserWarning: n_neighbors is larger than the dataset size; truncating to X.shape[0] - 1\n",
      "  warn(\n",
      "c:\\Users\\ryosh\\enrich_me\\.venv\\Lib\\site-packages\\umap\\spectral.py:519: RuntimeWarning: k >= N for N * N square matrix. Attempting to use scipy.linalg.eigh instead.\n",
      "  eigenvalues, eigenvectors = scipy.sparse.linalg.eigsh(\n"
     ]
    },
    {
     "name": "stdout",
     "output_type": "stream",
     "text": [
      "Cannot use scipy.linalg.eigh for sparse A with k >= N. Use scipy.linalg.eigh(A.toarray()) or reduce k.\n",
      "Cannot use scipy.linalg.eigh for sparse A with k >= N. Use scipy.linalg.eigh(A.toarray()) or reduce k.\n"
     ]
    },
    {
     "name": "stderr",
     "output_type": "stream",
     "text": [
      "c:\\Users\\ryosh\\enrich_me\\.venv\\Lib\\site-packages\\umap\\spectral.py:519: RuntimeWarning: k >= N for N * N square matrix. Attempting to use scipy.linalg.eigh instead.\n",
      "  eigenvalues, eigenvectors = scipy.sparse.linalg.eigsh(\n",
      "c:\\Users\\ryosh\\enrich_me\\.venv\\Lib\\site-packages\\umap\\spectral.py:519: RuntimeWarning: k >= N for N * N square matrix. Attempting to use scipy.linalg.eigh instead.\n",
      "  eigenvalues, eigenvectors = scipy.sparse.linalg.eigsh(\n",
      "c:\\Users\\ryosh\\enrich_me\\.venv\\Lib\\site-packages\\umap\\spectral.py:519: RuntimeWarning: k >= N for N * N square matrix. Attempting to use scipy.linalg.eigh instead.\n",
      "  eigenvalues, eigenvectors = scipy.sparse.linalg.eigsh(\n",
      "c:\\Users\\ryosh\\enrich_me\\.venv\\Lib\\site-packages\\umap\\spectral.py:519: RuntimeWarning: k >= N for N * N square matrix. Attempting to use scipy.linalg.eigh instead.\n",
      "  eigenvalues, eigenvectors = scipy.sparse.linalg.eigsh(\n",
      "c:\\Users\\ryosh\\enrich_me\\.venv\\Lib\\site-packages\\umap\\spectral.py:519: RuntimeWarning: k >= N for N * N square matrix. Attempting to use scipy.linalg.eigh instead.\n",
      "  eigenvalues, eigenvectors = scipy.sparse.linalg.eigsh(\n"
     ]
    },
    {
     "name": "stdout",
     "output_type": "stream",
     "text": [
      "Cannot use scipy.linalg.eigh for sparse A with k >= N. Use scipy.linalg.eigh(A.toarray()) or reduce k.\n",
      "Cannot use scipy.linalg.eigh for sparse A with k >= N. Use scipy.linalg.eigh(A.toarray()) or reduce k.\n",
      "Cannot use scipy.linalg.eigh for sparse A with k >= N. Use scipy.linalg.eigh(A.toarray()) or reduce k.\n",
      "Cannot use scipy.linalg.eigh for sparse A with k >= N. Use scipy.linalg.eigh(A.toarray()) or reduce k.\n",
      "Cannot use scipy.linalg.eigh for sparse A with k >= N. Use scipy.linalg.eigh(A.toarray()) or reduce k.\n",
      "55\n"
     ]
    },
    {
     "name": "stderr",
     "output_type": "stream",
     "text": [
      "c:\\Users\\ryosh\\enrich_me\\.venv\\Lib\\site-packages\\umap\\spectral.py:519: RuntimeWarning: k >= N for N * N square matrix. Attempting to use scipy.linalg.eigh instead.\n",
      "  eigenvalues, eigenvectors = scipy.sparse.linalg.eigsh(\n",
      "c:\\Users\\ryosh\\enrich_me\\.venv\\Lib\\site-packages\\umap\\spectral.py:519: RuntimeWarning: k >= N for N * N square matrix. Attempting to use scipy.linalg.eigh instead.\n",
      "  eigenvalues, eigenvectors = scipy.sparse.linalg.eigsh(\n",
      "c:\\Users\\ryosh\\enrich_me\\.venv\\Lib\\site-packages\\umap\\spectral.py:519: RuntimeWarning: k >= N for N * N square matrix. Attempting to use scipy.linalg.eigh instead.\n",
      "  eigenvalues, eigenvectors = scipy.sparse.linalg.eigsh(\n",
      "c:\\Users\\ryosh\\enrich_me\\.venv\\Lib\\site-packages\\umap\\umap_.py:2462: UserWarning: n_neighbors is larger than the dataset size; truncating to X.shape[0] - 1\n",
      "  warn(\n",
      "c:\\Users\\ryosh\\enrich_me\\.venv\\Lib\\site-packages\\umap\\spectral.py:519: RuntimeWarning: k >= N for N * N square matrix. Attempting to use scipy.linalg.eigh instead.\n",
      "  eigenvalues, eigenvectors = scipy.sparse.linalg.eigsh(\n",
      "c:\\Users\\ryosh\\enrich_me\\.venv\\Lib\\site-packages\\umap\\spectral.py:519: RuntimeWarning: k >= N for N * N square matrix. Attempting to use scipy.linalg.eigh instead.\n",
      "  eigenvalues, eigenvectors = scipy.sparse.linalg.eigsh(\n",
      "c:\\Users\\ryosh\\enrich_me\\.venv\\Lib\\site-packages\\umap\\spectral.py:519: RuntimeWarning: k >= N for N * N square matrix. Attempting to use scipy.linalg.eigh instead.\n",
      "  eigenvalues, eigenvectors = scipy.sparse.linalg.eigsh(\n"
     ]
    },
    {
     "name": "stdout",
     "output_type": "stream",
     "text": [
      "Cannot use scipy.linalg.eigh for sparse A with k >= N. Use scipy.linalg.eigh(A.toarray()) or reduce k.\n",
      "Cannot use scipy.linalg.eigh for sparse A with k >= N. Use scipy.linalg.eigh(A.toarray()) or reduce k.\n",
      "Cannot use scipy.linalg.eigh for sparse A with k >= N. Use scipy.linalg.eigh(A.toarray()) or reduce k.\n",
      "Cannot use scipy.linalg.eigh for sparse A with k >= N. Use scipy.linalg.eigh(A.toarray()) or reduce k.\n",
      "Cannot use scipy.linalg.eigh for sparse A with k >= N. Use scipy.linalg.eigh(A.toarray()) or reduce k.\n",
      "Cannot use scipy.linalg.eigh for sparse A with k >= N. Use scipy.linalg.eigh(A.toarray()) or reduce k.\n",
      "56\n"
     ]
    },
    {
     "name": "stderr",
     "output_type": "stream",
     "text": [
      "c:\\Users\\ryosh\\enrich_me\\.venv\\Lib\\site-packages\\umap\\spectral.py:519: RuntimeWarning: k >= N for N * N square matrix. Attempting to use scipy.linalg.eigh instead.\n",
      "  eigenvalues, eigenvectors = scipy.sparse.linalg.eigsh(\n",
      "c:\\Users\\ryosh\\enrich_me\\.venv\\Lib\\site-packages\\umap\\spectral.py:519: RuntimeWarning: k >= N for N * N square matrix. Attempting to use scipy.linalg.eigh instead.\n",
      "  eigenvalues, eigenvectors = scipy.sparse.linalg.eigsh(\n",
      "c:\\Users\\ryosh\\enrich_me\\.venv\\Lib\\site-packages\\umap\\spectral.py:519: RuntimeWarning: k >= N for N * N square matrix. Attempting to use scipy.linalg.eigh instead.\n",
      "  eigenvalues, eigenvectors = scipy.sparse.linalg.eigsh(\n",
      "c:\\Users\\ryosh\\enrich_me\\.venv\\Lib\\site-packages\\umap\\spectral.py:519: RuntimeWarning: k >= N for N * N square matrix. Attempting to use scipy.linalg.eigh instead.\n",
      "  eigenvalues, eigenvectors = scipy.sparse.linalg.eigsh(\n",
      "c:\\Users\\ryosh\\enrich_me\\.venv\\Lib\\site-packages\\umap\\spectral.py:519: RuntimeWarning: k >= N for N * N square matrix. Attempting to use scipy.linalg.eigh instead.\n",
      "  eigenvalues, eigenvectors = scipy.sparse.linalg.eigsh(\n",
      "c:\\Users\\ryosh\\enrich_me\\.venv\\Lib\\site-packages\\umap\\umap_.py:2462: UserWarning: n_neighbors is larger than the dataset size; truncating to X.shape[0] - 1\n",
      "  warn(\n",
      "c:\\Users\\ryosh\\enrich_me\\.venv\\Lib\\site-packages\\umap\\spectral.py:519: RuntimeWarning: k >= N for N * N square matrix. Attempting to use scipy.linalg.eigh instead.\n",
      "  eigenvalues, eigenvectors = scipy.sparse.linalg.eigsh(\n"
     ]
    },
    {
     "name": "stdout",
     "output_type": "stream",
     "text": [
      "Cannot use scipy.linalg.eigh for sparse A with k >= N. Use scipy.linalg.eigh(A.toarray()) or reduce k.\n",
      "Cannot use scipy.linalg.eigh for sparse A with k >= N. Use scipy.linalg.eigh(A.toarray()) or reduce k.\n",
      "Cannot use scipy.linalg.eigh for sparse A with k >= N. Use scipy.linalg.eigh(A.toarray()) or reduce k.\n",
      "Cannot use scipy.linalg.eigh for sparse A with k >= N. Use scipy.linalg.eigh(A.toarray()) or reduce k.\n",
      "Cannot use scipy.linalg.eigh for sparse A with k >= N. Use scipy.linalg.eigh(A.toarray()) or reduce k.\n",
      "Cannot use scipy.linalg.eigh for sparse A with k >= N. Use scipy.linalg.eigh(A.toarray()) or reduce k.\n",
      "57\n"
     ]
    },
    {
     "name": "stderr",
     "output_type": "stream",
     "text": [
      "c:\\Users\\ryosh\\enrich_me\\.venv\\Lib\\site-packages\\umap\\spectral.py:519: RuntimeWarning: k >= N for N * N square matrix. Attempting to use scipy.linalg.eigh instead.\n",
      "  eigenvalues, eigenvectors = scipy.sparse.linalg.eigsh(\n",
      "c:\\Users\\ryosh\\enrich_me\\.venv\\Lib\\site-packages\\umap\\spectral.py:519: RuntimeWarning: k >= N for N * N square matrix. Attempting to use scipy.linalg.eigh instead.\n",
      "  eigenvalues, eigenvectors = scipy.sparse.linalg.eigsh(\n",
      "c:\\Users\\ryosh\\enrich_me\\.venv\\Lib\\site-packages\\umap\\spectral.py:519: RuntimeWarning: k >= N for N * N square matrix. Attempting to use scipy.linalg.eigh instead.\n",
      "  eigenvalues, eigenvectors = scipy.sparse.linalg.eigsh(\n",
      "c:\\Users\\ryosh\\enrich_me\\.venv\\Lib\\site-packages\\umap\\spectral.py:519: RuntimeWarning: k >= N for N * N square matrix. Attempting to use scipy.linalg.eigh instead.\n",
      "  eigenvalues, eigenvectors = scipy.sparse.linalg.eigsh(\n",
      "c:\\Users\\ryosh\\enrich_me\\.venv\\Lib\\site-packages\\umap\\spectral.py:519: RuntimeWarning: k >= N for N * N square matrix. Attempting to use scipy.linalg.eigh instead.\n",
      "  eigenvalues, eigenvectors = scipy.sparse.linalg.eigsh(\n",
      "c:\\Users\\ryosh\\enrich_me\\.venv\\Lib\\site-packages\\umap\\spectral.py:519: RuntimeWarning: k >= N for N * N square matrix. Attempting to use scipy.linalg.eigh instead.\n",
      "  eigenvalues, eigenvectors = scipy.sparse.linalg.eigsh(\n"
     ]
    },
    {
     "name": "stdout",
     "output_type": "stream",
     "text": [
      "Cannot use scipy.linalg.eigh for sparse A with k >= N. Use scipy.linalg.eigh(A.toarray()) or reduce k.\n",
      "Cannot use scipy.linalg.eigh for sparse A with k >= N. Use scipy.linalg.eigh(A.toarray()) or reduce k.\n",
      "Cannot use scipy.linalg.eigh for sparse A with k >= N. Use scipy.linalg.eigh(A.toarray()) or reduce k.\n",
      "Cannot use scipy.linalg.eigh for sparse A with k >= N. Use scipy.linalg.eigh(A.toarray()) or reduce k.\n",
      "Cannot use scipy.linalg.eigh for sparse A with k >= N. Use scipy.linalg.eigh(A.toarray()) or reduce k.\n",
      "Cannot use scipy.linalg.eigh for sparse A with k >= N. Use scipy.linalg.eigh(A.toarray()) or reduce k.\n",
      "58\n"
     ]
    },
    {
     "name": "stderr",
     "output_type": "stream",
     "text": [
      "c:\\Users\\ryosh\\enrich_me\\.venv\\Lib\\site-packages\\umap\\umap_.py:2462: UserWarning: n_neighbors is larger than the dataset size; truncating to X.shape[0] - 1\n",
      "  warn(\n",
      "c:\\Users\\ryosh\\enrich_me\\.venv\\Lib\\site-packages\\umap\\spectral.py:519: RuntimeWarning: k >= N for N * N square matrix. Attempting to use scipy.linalg.eigh instead.\n",
      "  eigenvalues, eigenvectors = scipy.sparse.linalg.eigsh(\n",
      "c:\\Users\\ryosh\\enrich_me\\.venv\\Lib\\site-packages\\umap\\spectral.py:519: RuntimeWarning: k >= N for N * N square matrix. Attempting to use scipy.linalg.eigh instead.\n",
      "  eigenvalues, eigenvectors = scipy.sparse.linalg.eigsh(\n",
      "c:\\Users\\ryosh\\enrich_me\\.venv\\Lib\\site-packages\\umap\\spectral.py:519: RuntimeWarning: k >= N for N * N square matrix. Attempting to use scipy.linalg.eigh instead.\n",
      "  eigenvalues, eigenvectors = scipy.sparse.linalg.eigsh(\n",
      "c:\\Users\\ryosh\\enrich_me\\.venv\\Lib\\site-packages\\umap\\spectral.py:519: RuntimeWarning: k >= N for N * N square matrix. Attempting to use scipy.linalg.eigh instead.\n",
      "  eigenvalues, eigenvectors = scipy.sparse.linalg.eigsh(\n",
      "c:\\Users\\ryosh\\enrich_me\\.venv\\Lib\\site-packages\\umap\\spectral.py:519: RuntimeWarning: k >= N for N * N square matrix. Attempting to use scipy.linalg.eigh instead.\n",
      "  eigenvalues, eigenvectors = scipy.sparse.linalg.eigsh(\n",
      "c:\\Users\\ryosh\\enrich_me\\.venv\\Lib\\site-packages\\umap\\spectral.py:519: RuntimeWarning: k >= N for N * N square matrix. Attempting to use scipy.linalg.eigh instead.\n",
      "  eigenvalues, eigenvectors = scipy.sparse.linalg.eigsh(\n"
     ]
    },
    {
     "name": "stdout",
     "output_type": "stream",
     "text": [
      "Cannot use scipy.linalg.eigh for sparse A with k >= N. Use scipy.linalg.eigh(A.toarray()) or reduce k.\n",
      "Cannot use scipy.linalg.eigh for sparse A with k >= N. Use scipy.linalg.eigh(A.toarray()) or reduce k.\n",
      "Cannot use scipy.linalg.eigh for sparse A with k >= N. Use scipy.linalg.eigh(A.toarray()) or reduce k.\n",
      "Cannot use scipy.linalg.eigh for sparse A with k >= N. Use scipy.linalg.eigh(A.toarray()) or reduce k.\n",
      "Cannot use scipy.linalg.eigh for sparse A with k >= N. Use scipy.linalg.eigh(A.toarray()) or reduce k.\n",
      "Cannot use scipy.linalg.eigh for sparse A with k >= N. Use scipy.linalg.eigh(A.toarray()) or reduce k.\n",
      "59\n"
     ]
    },
    {
     "name": "stderr",
     "output_type": "stream",
     "text": [
      "c:\\Users\\ryosh\\enrich_me\\.venv\\Lib\\site-packages\\umap\\spectral.py:519: RuntimeWarning: k >= N for N * N square matrix. Attempting to use scipy.linalg.eigh instead.\n",
      "  eigenvalues, eigenvectors = scipy.sparse.linalg.eigsh(\n",
      "c:\\Users\\ryosh\\enrich_me\\.venv\\Lib\\site-packages\\umap\\spectral.py:519: RuntimeWarning: k >= N for N * N square matrix. Attempting to use scipy.linalg.eigh instead.\n",
      "  eigenvalues, eigenvectors = scipy.sparse.linalg.eigsh(\n",
      "c:\\Users\\ryosh\\enrich_me\\.venv\\Lib\\site-packages\\umap\\spectral.py:519: RuntimeWarning: k >= N for N * N square matrix. Attempting to use scipy.linalg.eigh instead.\n",
      "  eigenvalues, eigenvectors = scipy.sparse.linalg.eigsh(\n",
      "c:\\Users\\ryosh\\enrich_me\\.venv\\Lib\\site-packages\\umap\\umap_.py:2462: UserWarning: n_neighbors is larger than the dataset size; truncating to X.shape[0] - 1\n",
      "  warn(\n",
      "c:\\Users\\ryosh\\enrich_me\\.venv\\Lib\\site-packages\\umap\\spectral.py:519: RuntimeWarning: k >= N for N * N square matrix. Attempting to use scipy.linalg.eigh instead.\n",
      "  eigenvalues, eigenvectors = scipy.sparse.linalg.eigsh(\n"
     ]
    },
    {
     "name": "stdout",
     "output_type": "stream",
     "text": [
      "Cannot use scipy.linalg.eigh for sparse A with k >= N. Use scipy.linalg.eigh(A.toarray()) or reduce k.\n",
      "Cannot use scipy.linalg.eigh for sparse A with k >= N. Use scipy.linalg.eigh(A.toarray()) or reduce k.\n",
      "Cannot use scipy.linalg.eigh for sparse A with k >= N. Use scipy.linalg.eigh(A.toarray()) or reduce k.\n",
      "Cannot use scipy.linalg.eigh for sparse A with k >= N. Use scipy.linalg.eigh(A.toarray()) or reduce k.\n"
     ]
    },
    {
     "name": "stderr",
     "output_type": "stream",
     "text": [
      "c:\\Users\\ryosh\\enrich_me\\.venv\\Lib\\site-packages\\umap\\umap_.py:2462: UserWarning: n_neighbors is larger than the dataset size; truncating to X.shape[0] - 1\n",
      "  warn(\n",
      "c:\\Users\\ryosh\\enrich_me\\.venv\\Lib\\site-packages\\umap\\spectral.py:519: RuntimeWarning: k >= N for N * N square matrix. Attempting to use scipy.linalg.eigh instead.\n",
      "  eigenvalues, eigenvectors = scipy.sparse.linalg.eigsh(\n",
      "c:\\Users\\ryosh\\enrich_me\\.venv\\Lib\\site-packages\\umap\\spectral.py:519: RuntimeWarning: k >= N for N * N square matrix. Attempting to use scipy.linalg.eigh instead.\n",
      "  eigenvalues, eigenvectors = scipy.sparse.linalg.eigsh(\n",
      "c:\\Users\\ryosh\\enrich_me\\.venv\\Lib\\site-packages\\umap\\spectral.py:519: RuntimeWarning: k >= N for N * N square matrix. Attempting to use scipy.linalg.eigh instead.\n",
      "  eigenvalues, eigenvectors = scipy.sparse.linalg.eigsh(\n"
     ]
    },
    {
     "name": "stdout",
     "output_type": "stream",
     "text": [
      "Cannot use scipy.linalg.eigh for sparse A with k >= N. Use scipy.linalg.eigh(A.toarray()) or reduce k.\n",
      "Cannot use scipy.linalg.eigh for sparse A with k >= N. Use scipy.linalg.eigh(A.toarray()) or reduce k.\n",
      "Cannot use scipy.linalg.eigh for sparse A with k >= N. Use scipy.linalg.eigh(A.toarray()) or reduce k.\n",
      "60\n"
     ]
    },
    {
     "name": "stderr",
     "output_type": "stream",
     "text": [
      "c:\\Users\\ryosh\\enrich_me\\.venv\\Lib\\site-packages\\umap\\umap_.py:2462: UserWarning: n_neighbors is larger than the dataset size; truncating to X.shape[0] - 1\n",
      "  warn(\n",
      "c:\\Users\\ryosh\\enrich_me\\.venv\\Lib\\site-packages\\umap\\spectral.py:519: RuntimeWarning: k >= N for N * N square matrix. Attempting to use scipy.linalg.eigh instead.\n",
      "  eigenvalues, eigenvectors = scipy.sparse.linalg.eigsh(\n",
      "c:\\Users\\ryosh\\enrich_me\\.venv\\Lib\\site-packages\\umap\\spectral.py:519: RuntimeWarning: k >= N for N * N square matrix. Attempting to use scipy.linalg.eigh instead.\n",
      "  eigenvalues, eigenvectors = scipy.sparse.linalg.eigsh(\n",
      "c:\\Users\\ryosh\\enrich_me\\.venv\\Lib\\site-packages\\umap\\spectral.py:519: RuntimeWarning: k >= N for N * N square matrix. Attempting to use scipy.linalg.eigh instead.\n",
      "  eigenvalues, eigenvectors = scipy.sparse.linalg.eigsh(\n",
      "c:\\Users\\ryosh\\enrich_me\\.venv\\Lib\\site-packages\\umap\\spectral.py:519: RuntimeWarning: k >= N for N * N square matrix. Attempting to use scipy.linalg.eigh instead.\n",
      "  eigenvalues, eigenvectors = scipy.sparse.linalg.eigsh(\n",
      "c:\\Users\\ryosh\\enrich_me\\.venv\\Lib\\site-packages\\umap\\spectral.py:519: RuntimeWarning: k >= N for N * N square matrix. Attempting to use scipy.linalg.eigh instead.\n",
      "  eigenvalues, eigenvectors = scipy.sparse.linalg.eigsh(\n"
     ]
    },
    {
     "name": "stdout",
     "output_type": "stream",
     "text": [
      "Cannot use scipy.linalg.eigh for sparse A with k >= N. Use scipy.linalg.eigh(A.toarray()) or reduce k.\n",
      "Cannot use scipy.linalg.eigh for sparse A with k >= N. Use scipy.linalg.eigh(A.toarray()) or reduce k.\n",
      "Cannot use scipy.linalg.eigh for sparse A with k >= N. Use scipy.linalg.eigh(A.toarray()) or reduce k.\n",
      "Cannot use scipy.linalg.eigh for sparse A with k >= N. Use scipy.linalg.eigh(A.toarray()) or reduce k.\n",
      "Cannot use scipy.linalg.eigh for sparse A with k >= N. Use scipy.linalg.eigh(A.toarray()) or reduce k.\n"
     ]
    },
    {
     "name": "stderr",
     "output_type": "stream",
     "text": [
      "c:\\Users\\ryosh\\enrich_me\\.venv\\Lib\\site-packages\\umap\\spectral.py:519: RuntimeWarning: k >= N for N * N square matrix. Attempting to use scipy.linalg.eigh instead.\n",
      "  eigenvalues, eigenvectors = scipy.sparse.linalg.eigsh(\n",
      "c:\\Users\\ryosh\\enrich_me\\.venv\\Lib\\site-packages\\umap\\spectral.py:519: RuntimeWarning: k >= N for N * N square matrix. Attempting to use scipy.linalg.eigh instead.\n",
      "  eigenvalues, eigenvectors = scipy.sparse.linalg.eigsh(\n"
     ]
    },
    {
     "name": "stdout",
     "output_type": "stream",
     "text": [
      "Cannot use scipy.linalg.eigh for sparse A with k >= N. Use scipy.linalg.eigh(A.toarray()) or reduce k.\n",
      "Cannot use scipy.linalg.eigh for sparse A with k >= N. Use scipy.linalg.eigh(A.toarray()) or reduce k.\n",
      "61\n"
     ]
    },
    {
     "name": "stderr",
     "output_type": "stream",
     "text": [
      "c:\\Users\\ryosh\\enrich_me\\.venv\\Lib\\site-packages\\umap\\umap_.py:2462: UserWarning: n_neighbors is larger than the dataset size; truncating to X.shape[0] - 1\n",
      "  warn(\n",
      "c:\\Users\\ryosh\\enrich_me\\.venv\\Lib\\site-packages\\umap\\spectral.py:519: RuntimeWarning: k >= N for N * N square matrix. Attempting to use scipy.linalg.eigh instead.\n",
      "  eigenvalues, eigenvectors = scipy.sparse.linalg.eigsh(\n",
      "c:\\Users\\ryosh\\enrich_me\\.venv\\Lib\\site-packages\\umap\\spectral.py:519: RuntimeWarning: k >= N for N * N square matrix. Attempting to use scipy.linalg.eigh instead.\n",
      "  eigenvalues, eigenvectors = scipy.sparse.linalg.eigsh(\n",
      "c:\\Users\\ryosh\\enrich_me\\.venv\\Lib\\site-packages\\umap\\spectral.py:519: RuntimeWarning: k >= N for N * N square matrix. Attempting to use scipy.linalg.eigh instead.\n",
      "  eigenvalues, eigenvectors = scipy.sparse.linalg.eigsh(\n",
      "c:\\Users\\ryosh\\enrich_me\\.venv\\Lib\\site-packages\\umap\\spectral.py:519: RuntimeWarning: k >= N for N * N square matrix. Attempting to use scipy.linalg.eigh instead.\n",
      "  eigenvalues, eigenvectors = scipy.sparse.linalg.eigsh(\n"
     ]
    },
    {
     "name": "stdout",
     "output_type": "stream",
     "text": [
      "Cannot use scipy.linalg.eigh for sparse A with k >= N. Use scipy.linalg.eigh(A.toarray()) or reduce k.\n",
      "Cannot use scipy.linalg.eigh for sparse A with k >= N. Use scipy.linalg.eigh(A.toarray()) or reduce k.\n",
      "Cannot use scipy.linalg.eigh for sparse A with k >= N. Use scipy.linalg.eigh(A.toarray()) or reduce k.\n",
      "Cannot use scipy.linalg.eigh for sparse A with k >= N. Use scipy.linalg.eigh(A.toarray()) or reduce k.\n"
     ]
    },
    {
     "name": "stderr",
     "output_type": "stream",
     "text": [
      "c:\\Users\\ryosh\\enrich_me\\.venv\\Lib\\site-packages\\umap\\spectral.py:519: RuntimeWarning: k >= N for N * N square matrix. Attempting to use scipy.linalg.eigh instead.\n",
      "  eigenvalues, eigenvectors = scipy.sparse.linalg.eigsh(\n",
      "c:\\Users\\ryosh\\enrich_me\\.venv\\Lib\\site-packages\\umap\\spectral.py:519: RuntimeWarning: k >= N for N * N square matrix. Attempting to use scipy.linalg.eigh instead.\n",
      "  eigenvalues, eigenvectors = scipy.sparse.linalg.eigsh(\n",
      "c:\\Users\\ryosh\\enrich_me\\.venv\\Lib\\site-packages\\umap\\spectral.py:519: RuntimeWarning: k >= N for N * N square matrix. Attempting to use scipy.linalg.eigh instead.\n",
      "  eigenvalues, eigenvectors = scipy.sparse.linalg.eigsh(\n"
     ]
    },
    {
     "name": "stdout",
     "output_type": "stream",
     "text": [
      "Cannot use scipy.linalg.eigh for sparse A with k >= N. Use scipy.linalg.eigh(A.toarray()) or reduce k.\n",
      "Cannot use scipy.linalg.eigh for sparse A with k >= N. Use scipy.linalg.eigh(A.toarray()) or reduce k.\n",
      "Cannot use scipy.linalg.eigh for sparse A with k >= N. Use scipy.linalg.eigh(A.toarray()) or reduce k.\n",
      "62\n"
     ]
    },
    {
     "name": "stderr",
     "output_type": "stream",
     "text": [
      "c:\\Users\\ryosh\\enrich_me\\.venv\\Lib\\site-packages\\umap\\spectral.py:519: RuntimeWarning: k >= N for N * N square matrix. Attempting to use scipy.linalg.eigh instead.\n",
      "  eigenvalues, eigenvectors = scipy.sparse.linalg.eigsh(\n",
      "c:\\Users\\ryosh\\enrich_me\\.venv\\Lib\\site-packages\\umap\\umap_.py:2462: UserWarning: n_neighbors is larger than the dataset size; truncating to X.shape[0] - 1\n",
      "  warn(\n",
      "c:\\Users\\ryosh\\enrich_me\\.venv\\Lib\\site-packages\\umap\\spectral.py:519: RuntimeWarning: k >= N for N * N square matrix. Attempting to use scipy.linalg.eigh instead.\n",
      "  eigenvalues, eigenvectors = scipy.sparse.linalg.eigsh(\n",
      "c:\\Users\\ryosh\\enrich_me\\.venv\\Lib\\site-packages\\umap\\spectral.py:519: RuntimeWarning: k >= N for N * N square matrix. Attempting to use scipy.linalg.eigh instead.\n",
      "  eigenvalues, eigenvectors = scipy.sparse.linalg.eigsh(\n",
      "c:\\Users\\ryosh\\enrich_me\\.venv\\Lib\\site-packages\\umap\\spectral.py:519: RuntimeWarning: k >= N for N * N square matrix. Attempting to use scipy.linalg.eigh instead.\n",
      "  eigenvalues, eigenvectors = scipy.sparse.linalg.eigsh(\n",
      "c:\\Users\\ryosh\\enrich_me\\.venv\\Lib\\site-packages\\umap\\spectral.py:519: RuntimeWarning: k >= N for N * N square matrix. Attempting to use scipy.linalg.eigh instead.\n",
      "  eigenvalues, eigenvectors = scipy.sparse.linalg.eigsh(\n",
      "c:\\Users\\ryosh\\enrich_me\\.venv\\Lib\\site-packages\\umap\\spectral.py:519: RuntimeWarning: k >= N for N * N square matrix. Attempting to use scipy.linalg.eigh instead.\n",
      "  eigenvalues, eigenvectors = scipy.sparse.linalg.eigsh(\n"
     ]
    },
    {
     "name": "stdout",
     "output_type": "stream",
     "text": [
      "Cannot use scipy.linalg.eigh for sparse A with k >= N. Use scipy.linalg.eigh(A.toarray()) or reduce k.\n",
      "Cannot use scipy.linalg.eigh for sparse A with k >= N. Use scipy.linalg.eigh(A.toarray()) or reduce k.\n",
      "Cannot use scipy.linalg.eigh for sparse A with k >= N. Use scipy.linalg.eigh(A.toarray()) or reduce k.\n",
      "Cannot use scipy.linalg.eigh for sparse A with k >= N. Use scipy.linalg.eigh(A.toarray()) or reduce k.\n",
      "Cannot use scipy.linalg.eigh for sparse A with k >= N. Use scipy.linalg.eigh(A.toarray()) or reduce k.\n",
      "Cannot use scipy.linalg.eigh for sparse A with k >= N. Use scipy.linalg.eigh(A.toarray()) or reduce k.\n",
      "63\n"
     ]
    },
    {
     "name": "stderr",
     "output_type": "stream",
     "text": [
      "c:\\Users\\ryosh\\enrich_me\\.venv\\Lib\\site-packages\\umap\\spectral.py:519: RuntimeWarning: k >= N for N * N square matrix. Attempting to use scipy.linalg.eigh instead.\n",
      "  eigenvalues, eigenvectors = scipy.sparse.linalg.eigsh(\n",
      "c:\\Users\\ryosh\\enrich_me\\.venv\\Lib\\site-packages\\umap\\umap_.py:2462: UserWarning: n_neighbors is larger than the dataset size; truncating to X.shape[0] - 1\n",
      "  warn(\n",
      "c:\\Users\\ryosh\\enrich_me\\.venv\\Lib\\site-packages\\umap\\spectral.py:519: RuntimeWarning: k >= N for N * N square matrix. Attempting to use scipy.linalg.eigh instead.\n",
      "  eigenvalues, eigenvectors = scipy.sparse.linalg.eigsh(\n",
      "c:\\Users\\ryosh\\enrich_me\\.venv\\Lib\\site-packages\\umap\\spectral.py:519: RuntimeWarning: k >= N for N * N square matrix. Attempting to use scipy.linalg.eigh instead.\n",
      "  eigenvalues, eigenvectors = scipy.sparse.linalg.eigsh(\n",
      "c:\\Users\\ryosh\\enrich_me\\.venv\\Lib\\site-packages\\umap\\spectral.py:519: RuntimeWarning: k >= N for N * N square matrix. Attempting to use scipy.linalg.eigh instead.\n",
      "  eigenvalues, eigenvectors = scipy.sparse.linalg.eigsh(\n"
     ]
    },
    {
     "name": "stdout",
     "output_type": "stream",
     "text": [
      "Cannot use scipy.linalg.eigh for sparse A with k >= N. Use scipy.linalg.eigh(A.toarray()) or reduce k.\n",
      "Cannot use scipy.linalg.eigh for sparse A with k >= N. Use scipy.linalg.eigh(A.toarray()) or reduce k.\n",
      "Cannot use scipy.linalg.eigh for sparse A with k >= N. Use scipy.linalg.eigh(A.toarray()) or reduce k.\n",
      "Cannot use scipy.linalg.eigh for sparse A with k >= N. Use scipy.linalg.eigh(A.toarray()) or reduce k.\n"
     ]
    },
    {
     "name": "stderr",
     "output_type": "stream",
     "text": [
      "c:\\Users\\ryosh\\enrich_me\\.venv\\Lib\\site-packages\\umap\\spectral.py:519: RuntimeWarning: k >= N for N * N square matrix. Attempting to use scipy.linalg.eigh instead.\n",
      "  eigenvalues, eigenvectors = scipy.sparse.linalg.eigsh(\n",
      "c:\\Users\\ryosh\\enrich_me\\.venv\\Lib\\site-packages\\umap\\spectral.py:519: RuntimeWarning: k >= N for N * N square matrix. Attempting to use scipy.linalg.eigh instead.\n",
      "  eigenvalues, eigenvectors = scipy.sparse.linalg.eigsh(\n"
     ]
    },
    {
     "name": "stdout",
     "output_type": "stream",
     "text": [
      "Cannot use scipy.linalg.eigh for sparse A with k >= N. Use scipy.linalg.eigh(A.toarray()) or reduce k.\n",
      "Cannot use scipy.linalg.eigh for sparse A with k >= N. Use scipy.linalg.eigh(A.toarray()) or reduce k.\n",
      "64\n"
     ]
    },
    {
     "name": "stderr",
     "output_type": "stream",
     "text": [
      "c:\\Users\\ryosh\\enrich_me\\.venv\\Lib\\site-packages\\umap\\umap_.py:2462: UserWarning: n_neighbors is larger than the dataset size; truncating to X.shape[0] - 1\n",
      "  warn(\n",
      "c:\\Users\\ryosh\\enrich_me\\.venv\\Lib\\site-packages\\umap\\spectral.py:519: RuntimeWarning: k >= N for N * N square matrix. Attempting to use scipy.linalg.eigh instead.\n",
      "  eigenvalues, eigenvectors = scipy.sparse.linalg.eigsh(\n",
      "c:\\Users\\ryosh\\enrich_me\\.venv\\Lib\\site-packages\\umap\\umap_.py:2462: UserWarning: n_neighbors is larger than the dataset size; truncating to X.shape[0] - 1\n",
      "  warn(\n",
      "c:\\Users\\ryosh\\enrich_me\\.venv\\Lib\\site-packages\\umap\\spectral.py:519: RuntimeWarning: k >= N for N * N square matrix. Attempting to use scipy.linalg.eigh instead.\n",
      "  eigenvalues, eigenvectors = scipy.sparse.linalg.eigsh(\n",
      "c:\\Users\\ryosh\\enrich_me\\.venv\\Lib\\site-packages\\umap\\spectral.py:519: RuntimeWarning: k >= N for N * N square matrix. Attempting to use scipy.linalg.eigh instead.\n",
      "  eigenvalues, eigenvectors = scipy.sparse.linalg.eigsh(\n",
      "c:\\Users\\ryosh\\enrich_me\\.venv\\Lib\\site-packages\\umap\\spectral.py:519: RuntimeWarning: k >= N for N * N square matrix. Attempting to use scipy.linalg.eigh instead.\n",
      "  eigenvalues, eigenvectors = scipy.sparse.linalg.eigsh(\n"
     ]
    },
    {
     "name": "stdout",
     "output_type": "stream",
     "text": [
      "Cannot use scipy.linalg.eigh for sparse A with k >= N. Use scipy.linalg.eigh(A.toarray()) or reduce k.\n",
      "Cannot use scipy.linalg.eigh for sparse A with k >= N. Use scipy.linalg.eigh(A.toarray()) or reduce k.\n",
      "Cannot use scipy.linalg.eigh for sparse A with k >= N. Use scipy.linalg.eigh(A.toarray()) or reduce k.\n",
      "Cannot use scipy.linalg.eigh for sparse A with k >= N. Use scipy.linalg.eigh(A.toarray()) or reduce k.\n"
     ]
    },
    {
     "name": "stderr",
     "output_type": "stream",
     "text": [
      "c:\\Users\\ryosh\\enrich_me\\.venv\\Lib\\site-packages\\umap\\spectral.py:519: RuntimeWarning: k >= N for N * N square matrix. Attempting to use scipy.linalg.eigh instead.\n",
      "  eigenvalues, eigenvectors = scipy.sparse.linalg.eigsh(\n",
      "c:\\Users\\ryosh\\enrich_me\\.venv\\Lib\\site-packages\\umap\\spectral.py:519: RuntimeWarning: k >= N for N * N square matrix. Attempting to use scipy.linalg.eigh instead.\n",
      "  eigenvalues, eigenvectors = scipy.sparse.linalg.eigsh(\n",
      "c:\\Users\\ryosh\\enrich_me\\.venv\\Lib\\site-packages\\umap\\spectral.py:519: RuntimeWarning: k >= N for N * N square matrix. Attempting to use scipy.linalg.eigh instead.\n",
      "  eigenvalues, eigenvectors = scipy.sparse.linalg.eigsh(\n"
     ]
    },
    {
     "name": "stdout",
     "output_type": "stream",
     "text": [
      "Cannot use scipy.linalg.eigh for sparse A with k >= N. Use scipy.linalg.eigh(A.toarray()) or reduce k.\n",
      "Cannot use scipy.linalg.eigh for sparse A with k >= N. Use scipy.linalg.eigh(A.toarray()) or reduce k.\n",
      "Cannot use scipy.linalg.eigh for sparse A with k >= N. Use scipy.linalg.eigh(A.toarray()) or reduce k.\n",
      "65\n"
     ]
    },
    {
     "name": "stderr",
     "output_type": "stream",
     "text": [
      "c:\\Users\\ryosh\\enrich_me\\.venv\\Lib\\site-packages\\umap\\spectral.py:519: RuntimeWarning: k >= N for N * N square matrix. Attempting to use scipy.linalg.eigh instead.\n",
      "  eigenvalues, eigenvectors = scipy.sparse.linalg.eigsh(\n",
      "c:\\Users\\ryosh\\enrich_me\\.venv\\Lib\\site-packages\\umap\\spectral.py:519: RuntimeWarning: k >= N for N * N square matrix. Attempting to use scipy.linalg.eigh instead.\n",
      "  eigenvalues, eigenvectors = scipy.sparse.linalg.eigsh(\n",
      "c:\\Users\\ryosh\\enrich_me\\.venv\\Lib\\site-packages\\umap\\umap_.py:2462: UserWarning: n_neighbors is larger than the dataset size; truncating to X.shape[0] - 1\n",
      "  warn(\n",
      "c:\\Users\\ryosh\\enrich_me\\.venv\\Lib\\site-packages\\umap\\spectral.py:519: RuntimeWarning: k >= N for N * N square matrix. Attempting to use scipy.linalg.eigh instead.\n",
      "  eigenvalues, eigenvectors = scipy.sparse.linalg.eigsh(\n",
      "c:\\Users\\ryosh\\enrich_me\\.venv\\Lib\\site-packages\\umap\\spectral.py:519: RuntimeWarning: k >= N for N * N square matrix. Attempting to use scipy.linalg.eigh instead.\n",
      "  eigenvalues, eigenvectors = scipy.sparse.linalg.eigsh(\n",
      "c:\\Users\\ryosh\\enrich_me\\.venv\\Lib\\site-packages\\umap\\spectral.py:519: RuntimeWarning: k >= N for N * N square matrix. Attempting to use scipy.linalg.eigh instead.\n",
      "  eigenvalues, eigenvectors = scipy.sparse.linalg.eigsh(\n",
      "c:\\Users\\ryosh\\enrich_me\\.venv\\Lib\\site-packages\\umap\\spectral.py:519: RuntimeWarning: k >= N for N * N square matrix. Attempting to use scipy.linalg.eigh instead.\n",
      "  eigenvalues, eigenvectors = scipy.sparse.linalg.eigsh(\n",
      "c:\\Users\\ryosh\\enrich_me\\.venv\\Lib\\site-packages\\umap\\spectral.py:519: RuntimeWarning: k >= N for N * N square matrix. Attempting to use scipy.linalg.eigh instead.\n",
      "  eigenvalues, eigenvectors = scipy.sparse.linalg.eigsh(\n"
     ]
    },
    {
     "name": "stdout",
     "output_type": "stream",
     "text": [
      "Cannot use scipy.linalg.eigh for sparse A with k >= N. Use scipy.linalg.eigh(A.toarray()) or reduce k.\n",
      "Cannot use scipy.linalg.eigh for sparse A with k >= N. Use scipy.linalg.eigh(A.toarray()) or reduce k.\n",
      "Cannot use scipy.linalg.eigh for sparse A with k >= N. Use scipy.linalg.eigh(A.toarray()) or reduce k.\n",
      "Cannot use scipy.linalg.eigh for sparse A with k >= N. Use scipy.linalg.eigh(A.toarray()) or reduce k.\n",
      "Cannot use scipy.linalg.eigh for sparse A with k >= N. Use scipy.linalg.eigh(A.toarray()) or reduce k.\n",
      "Cannot use scipy.linalg.eigh for sparse A with k >= N. Use scipy.linalg.eigh(A.toarray()) or reduce k.\n",
      "Cannot use scipy.linalg.eigh for sparse A with k >= N. Use scipy.linalg.eigh(A.toarray()) or reduce k.\n",
      "66\n"
     ]
    },
    {
     "name": "stderr",
     "output_type": "stream",
     "text": [
      "c:\\Users\\ryosh\\enrich_me\\.venv\\Lib\\site-packages\\umap\\spectral.py:519: RuntimeWarning: k >= N for N * N square matrix. Attempting to use scipy.linalg.eigh instead.\n",
      "  eigenvalues, eigenvectors = scipy.sparse.linalg.eigsh(\n",
      "c:\\Users\\ryosh\\enrich_me\\.venv\\Lib\\site-packages\\umap\\spectral.py:519: RuntimeWarning: k >= N for N * N square matrix. Attempting to use scipy.linalg.eigh instead.\n",
      "  eigenvalues, eigenvectors = scipy.sparse.linalg.eigsh(\n"
     ]
    },
    {
     "name": "stdout",
     "output_type": "stream",
     "text": [
      "Cannot use scipy.linalg.eigh for sparse A with k >= N. Use scipy.linalg.eigh(A.toarray()) or reduce k.\n",
      "Cannot use scipy.linalg.eigh for sparse A with k >= N. Use scipy.linalg.eigh(A.toarray()) or reduce k.\n"
     ]
    },
    {
     "name": "stderr",
     "output_type": "stream",
     "text": [
      "c:\\Users\\ryosh\\enrich_me\\.venv\\Lib\\site-packages\\umap\\spectral.py:519: RuntimeWarning: k >= N for N * N square matrix. Attempting to use scipy.linalg.eigh instead.\n",
      "  eigenvalues, eigenvectors = scipy.sparse.linalg.eigsh(\n",
      "c:\\Users\\ryosh\\enrich_me\\.venv\\Lib\\site-packages\\umap\\spectral.py:519: RuntimeWarning: k >= N for N * N square matrix. Attempting to use scipy.linalg.eigh instead.\n",
      "  eigenvalues, eigenvectors = scipy.sparse.linalg.eigsh(\n",
      "c:\\Users\\ryosh\\enrich_me\\.venv\\Lib\\site-packages\\umap\\spectral.py:519: RuntimeWarning: k >= N for N * N square matrix. Attempting to use scipy.linalg.eigh instead.\n",
      "  eigenvalues, eigenvectors = scipy.sparse.linalg.eigsh(\n",
      "c:\\Users\\ryosh\\enrich_me\\.venv\\Lib\\site-packages\\umap\\spectral.py:519: RuntimeWarning: k >= N for N * N square matrix. Attempting to use scipy.linalg.eigh instead.\n",
      "  eigenvalues, eigenvectors = scipy.sparse.linalg.eigsh(\n",
      "c:\\Users\\ryosh\\enrich_me\\.venv\\Lib\\site-packages\\umap\\spectral.py:519: RuntimeWarning: k >= N for N * N square matrix. Attempting to use scipy.linalg.eigh instead.\n",
      "  eigenvalues, eigenvectors = scipy.sparse.linalg.eigsh(\n"
     ]
    },
    {
     "name": "stdout",
     "output_type": "stream",
     "text": [
      "Cannot use scipy.linalg.eigh for sparse A with k >= N. Use scipy.linalg.eigh(A.toarray()) or reduce k.\n",
      "Cannot use scipy.linalg.eigh for sparse A with k >= N. Use scipy.linalg.eigh(A.toarray()) or reduce k.\n",
      "Cannot use scipy.linalg.eigh for sparse A with k >= N. Use scipy.linalg.eigh(A.toarray()) or reduce k.\n",
      "Cannot use scipy.linalg.eigh for sparse A with k >= N. Use scipy.linalg.eigh(A.toarray()) or reduce k.\n",
      "Cannot use scipy.linalg.eigh for sparse A with k >= N. Use scipy.linalg.eigh(A.toarray()) or reduce k.\n",
      "67\n"
     ]
    },
    {
     "name": "stderr",
     "output_type": "stream",
     "text": [
      "c:\\Users\\ryosh\\enrich_me\\.venv\\Lib\\site-packages\\umap\\spectral.py:519: RuntimeWarning: k >= N for N * N square matrix. Attempting to use scipy.linalg.eigh instead.\n",
      "  eigenvalues, eigenvectors = scipy.sparse.linalg.eigsh(\n",
      "c:\\Users\\ryosh\\enrich_me\\.venv\\Lib\\site-packages\\umap\\umap_.py:2462: UserWarning: n_neighbors is larger than the dataset size; truncating to X.shape[0] - 1\n",
      "  warn(\n",
      "c:\\Users\\ryosh\\enrich_me\\.venv\\Lib\\site-packages\\umap\\spectral.py:519: RuntimeWarning: k >= N for N * N square matrix. Attempting to use scipy.linalg.eigh instead.\n",
      "  eigenvalues, eigenvectors = scipy.sparse.linalg.eigsh(\n",
      "c:\\Users\\ryosh\\enrich_me\\.venv\\Lib\\site-packages\\umap\\spectral.py:519: RuntimeWarning: k >= N for N * N square matrix. Attempting to use scipy.linalg.eigh instead.\n",
      "  eigenvalues, eigenvectors = scipy.sparse.linalg.eigsh(\n"
     ]
    },
    {
     "name": "stdout",
     "output_type": "stream",
     "text": [
      "Cannot use scipy.linalg.eigh for sparse A with k >= N. Use scipy.linalg.eigh(A.toarray()) or reduce k.\n",
      "Cannot use scipy.linalg.eigh for sparse A with k >= N. Use scipy.linalg.eigh(A.toarray()) or reduce k.\n",
      "Cannot use scipy.linalg.eigh for sparse A with k >= N. Use scipy.linalg.eigh(A.toarray()) or reduce k.\n"
     ]
    },
    {
     "name": "stderr",
     "output_type": "stream",
     "text": [
      "c:\\Users\\ryosh\\enrich_me\\.venv\\Lib\\site-packages\\umap\\spectral.py:519: RuntimeWarning: k >= N for N * N square matrix. Attempting to use scipy.linalg.eigh instead.\n",
      "  eigenvalues, eigenvectors = scipy.sparse.linalg.eigsh(\n",
      "c:\\Users\\ryosh\\enrich_me\\.venv\\Lib\\site-packages\\umap\\spectral.py:519: RuntimeWarning: k >= N for N * N square matrix. Attempting to use scipy.linalg.eigh instead.\n",
      "  eigenvalues, eigenvectors = scipy.sparse.linalg.eigsh(\n",
      "c:\\Users\\ryosh\\enrich_me\\.venv\\Lib\\site-packages\\umap\\spectral.py:519: RuntimeWarning: k >= N for N * N square matrix. Attempting to use scipy.linalg.eigh instead.\n",
      "  eigenvalues, eigenvectors = scipy.sparse.linalg.eigsh(\n"
     ]
    },
    {
     "name": "stdout",
     "output_type": "stream",
     "text": [
      "Cannot use scipy.linalg.eigh for sparse A with k >= N. Use scipy.linalg.eigh(A.toarray()) or reduce k.\n",
      "Cannot use scipy.linalg.eigh for sparse A with k >= N. Use scipy.linalg.eigh(A.toarray()) or reduce k.\n",
      "Cannot use scipy.linalg.eigh for sparse A with k >= N. Use scipy.linalg.eigh(A.toarray()) or reduce k.\n",
      "68\n"
     ]
    },
    {
     "name": "stderr",
     "output_type": "stream",
     "text": [
      "c:\\Users\\ryosh\\enrich_me\\.venv\\Lib\\site-packages\\umap\\spectral.py:519: RuntimeWarning: k >= N for N * N square matrix. Attempting to use scipy.linalg.eigh instead.\n",
      "  eigenvalues, eigenvectors = scipy.sparse.linalg.eigsh(\n",
      "c:\\Users\\ryosh\\enrich_me\\.venv\\Lib\\site-packages\\umap\\spectral.py:519: RuntimeWarning: k >= N for N * N square matrix. Attempting to use scipy.linalg.eigh instead.\n",
      "  eigenvalues, eigenvectors = scipy.sparse.linalg.eigsh(\n",
      "c:\\Users\\ryosh\\enrich_me\\.venv\\Lib\\site-packages\\umap\\spectral.py:519: RuntimeWarning: k >= N for N * N square matrix. Attempting to use scipy.linalg.eigh instead.\n",
      "  eigenvalues, eigenvectors = scipy.sparse.linalg.eigsh(\n",
      "c:\\Users\\ryosh\\enrich_me\\.venv\\Lib\\site-packages\\umap\\spectral.py:519: RuntimeWarning: k >= N for N * N square matrix. Attempting to use scipy.linalg.eigh instead.\n",
      "  eigenvalues, eigenvectors = scipy.sparse.linalg.eigsh(\n"
     ]
    },
    {
     "name": "stdout",
     "output_type": "stream",
     "text": [
      "Cannot use scipy.linalg.eigh for sparse A with k >= N. Use scipy.linalg.eigh(A.toarray()) or reduce k.\n",
      "Cannot use scipy.linalg.eigh for sparse A with k >= N. Use scipy.linalg.eigh(A.toarray()) or reduce k.\n",
      "Cannot use scipy.linalg.eigh for sparse A with k >= N. Use scipy.linalg.eigh(A.toarray()) or reduce k.\n",
      "Cannot use scipy.linalg.eigh for sparse A with k >= N. Use scipy.linalg.eigh(A.toarray()) or reduce k.\n"
     ]
    },
    {
     "name": "stderr",
     "output_type": "stream",
     "text": [
      "c:\\Users\\ryosh\\enrich_me\\.venv\\Lib\\site-packages\\umap\\spectral.py:519: RuntimeWarning: k >= N for N * N square matrix. Attempting to use scipy.linalg.eigh instead.\n",
      "  eigenvalues, eigenvectors = scipy.sparse.linalg.eigsh(\n",
      "c:\\Users\\ryosh\\enrich_me\\.venv\\Lib\\site-packages\\umap\\spectral.py:519: RuntimeWarning: k >= N for N * N square matrix. Attempting to use scipy.linalg.eigh instead.\n",
      "  eigenvalues, eigenvectors = scipy.sparse.linalg.eigsh(\n"
     ]
    },
    {
     "name": "stdout",
     "output_type": "stream",
     "text": [
      "Cannot use scipy.linalg.eigh for sparse A with k >= N. Use scipy.linalg.eigh(A.toarray()) or reduce k.\n",
      "Cannot use scipy.linalg.eigh for sparse A with k >= N. Use scipy.linalg.eigh(A.toarray()) or reduce k.\n",
      "69\n"
     ]
    },
    {
     "name": "stderr",
     "output_type": "stream",
     "text": [
      "c:\\Users\\ryosh\\enrich_me\\.venv\\Lib\\site-packages\\umap\\spectral.py:519: RuntimeWarning: k >= N for N * N square matrix. Attempting to use scipy.linalg.eigh instead.\n",
      "  eigenvalues, eigenvectors = scipy.sparse.linalg.eigsh(\n",
      "c:\\Users\\ryosh\\enrich_me\\.venv\\Lib\\site-packages\\umap\\umap_.py:2462: UserWarning: n_neighbors is larger than the dataset size; truncating to X.shape[0] - 1\n",
      "  warn(\n",
      "c:\\Users\\ryosh\\enrich_me\\.venv\\Lib\\site-packages\\umap\\spectral.py:519: RuntimeWarning: k >= N for N * N square matrix. Attempting to use scipy.linalg.eigh instead.\n",
      "  eigenvalues, eigenvectors = scipy.sparse.linalg.eigsh(\n",
      "c:\\Users\\ryosh\\enrich_me\\.venv\\Lib\\site-packages\\umap\\spectral.py:519: RuntimeWarning: k >= N for N * N square matrix. Attempting to use scipy.linalg.eigh instead.\n",
      "  eigenvalues, eigenvectors = scipy.sparse.linalg.eigsh(\n"
     ]
    },
    {
     "name": "stdout",
     "output_type": "stream",
     "text": [
      "Cannot use scipy.linalg.eigh for sparse A with k >= N. Use scipy.linalg.eigh(A.toarray()) or reduce k.\n",
      "Cannot use scipy.linalg.eigh for sparse A with k >= N. Use scipy.linalg.eigh(A.toarray()) or reduce k.\n",
      "Cannot use scipy.linalg.eigh for sparse A with k >= N. Use scipy.linalg.eigh(A.toarray()) or reduce k.\n"
     ]
    },
    {
     "name": "stderr",
     "output_type": "stream",
     "text": [
      "c:\\Users\\ryosh\\enrich_me\\.venv\\Lib\\site-packages\\umap\\spectral.py:519: RuntimeWarning: k >= N for N * N square matrix. Attempting to use scipy.linalg.eigh instead.\n",
      "  eigenvalues, eigenvectors = scipy.sparse.linalg.eigsh(\n",
      "c:\\Users\\ryosh\\enrich_me\\.venv\\Lib\\site-packages\\umap\\spectral.py:519: RuntimeWarning: k >= N for N * N square matrix. Attempting to use scipy.linalg.eigh instead.\n",
      "  eigenvalues, eigenvectors = scipy.sparse.linalg.eigsh(\n",
      "c:\\Users\\ryosh\\enrich_me\\.venv\\Lib\\site-packages\\umap\\spectral.py:519: RuntimeWarning: k >= N for N * N square matrix. Attempting to use scipy.linalg.eigh instead.\n",
      "  eigenvalues, eigenvectors = scipy.sparse.linalg.eigsh(\n"
     ]
    },
    {
     "name": "stdout",
     "output_type": "stream",
     "text": [
      "Cannot use scipy.linalg.eigh for sparse A with k >= N. Use scipy.linalg.eigh(A.toarray()) or reduce k.\n",
      "Cannot use scipy.linalg.eigh for sparse A with k >= N. Use scipy.linalg.eigh(A.toarray()) or reduce k.\n",
      "Cannot use scipy.linalg.eigh for sparse A with k >= N. Use scipy.linalg.eigh(A.toarray()) or reduce k.\n",
      "70\n"
     ]
    },
    {
     "name": "stderr",
     "output_type": "stream",
     "text": [
      "c:\\Users\\ryosh\\enrich_me\\.venv\\Lib\\site-packages\\umap\\umap_.py:2462: UserWarning: n_neighbors is larger than the dataset size; truncating to X.shape[0] - 1\n",
      "  warn(\n",
      "c:\\Users\\ryosh\\enrich_me\\.venv\\Lib\\site-packages\\umap\\spectral.py:519: RuntimeWarning: k >= N for N * N square matrix. Attempting to use scipy.linalg.eigh instead.\n",
      "  eigenvalues, eigenvectors = scipy.sparse.linalg.eigsh(\n",
      "c:\\Users\\ryosh\\enrich_me\\.venv\\Lib\\site-packages\\umap\\spectral.py:519: RuntimeWarning: k >= N for N * N square matrix. Attempting to use scipy.linalg.eigh instead.\n",
      "  eigenvalues, eigenvectors = scipy.sparse.linalg.eigsh(\n",
      "c:\\Users\\ryosh\\enrich_me\\.venv\\Lib\\site-packages\\umap\\spectral.py:519: RuntimeWarning: k >= N for N * N square matrix. Attempting to use scipy.linalg.eigh instead.\n",
      "  eigenvalues, eigenvectors = scipy.sparse.linalg.eigsh(\n",
      "c:\\Users\\ryosh\\enrich_me\\.venv\\Lib\\site-packages\\umap\\spectral.py:519: RuntimeWarning: k >= N for N * N square matrix. Attempting to use scipy.linalg.eigh instead.\n",
      "  eigenvalues, eigenvectors = scipy.sparse.linalg.eigsh(\n",
      "c:\\Users\\ryosh\\enrich_me\\.venv\\Lib\\site-packages\\umap\\spectral.py:519: RuntimeWarning: k >= N for N * N square matrix. Attempting to use scipy.linalg.eigh instead.\n",
      "  eigenvalues, eigenvectors = scipy.sparse.linalg.eigsh(\n",
      "c:\\Users\\ryosh\\enrich_me\\.venv\\Lib\\site-packages\\umap\\spectral.py:519: RuntimeWarning: k >= N for N * N square matrix. Attempting to use scipy.linalg.eigh instead.\n",
      "  eigenvalues, eigenvectors = scipy.sparse.linalg.eigsh(\n"
     ]
    },
    {
     "name": "stdout",
     "output_type": "stream",
     "text": [
      "Cannot use scipy.linalg.eigh for sparse A with k >= N. Use scipy.linalg.eigh(A.toarray()) or reduce k.\n",
      "Cannot use scipy.linalg.eigh for sparse A with k >= N. Use scipy.linalg.eigh(A.toarray()) or reduce k.\n",
      "Cannot use scipy.linalg.eigh for sparse A with k >= N. Use scipy.linalg.eigh(A.toarray()) or reduce k.\n",
      "Cannot use scipy.linalg.eigh for sparse A with k >= N. Use scipy.linalg.eigh(A.toarray()) or reduce k.\n",
      "Cannot use scipy.linalg.eigh for sparse A with k >= N. Use scipy.linalg.eigh(A.toarray()) or reduce k.\n",
      "Cannot use scipy.linalg.eigh for sparse A with k >= N. Use scipy.linalg.eigh(A.toarray()) or reduce k.\n",
      "71\n"
     ]
    },
    {
     "name": "stderr",
     "output_type": "stream",
     "text": [
      "c:\\Users\\ryosh\\enrich_me\\.venv\\Lib\\site-packages\\umap\\umap_.py:2462: UserWarning: n_neighbors is larger than the dataset size; truncating to X.shape[0] - 1\n",
      "  warn(\n",
      "c:\\Users\\ryosh\\enrich_me\\.venv\\Lib\\site-packages\\umap\\spectral.py:519: RuntimeWarning: k >= N for N * N square matrix. Attempting to use scipy.linalg.eigh instead.\n",
      "  eigenvalues, eigenvectors = scipy.sparse.linalg.eigsh(\n",
      "c:\\Users\\ryosh\\enrich_me\\.venv\\Lib\\site-packages\\umap\\spectral.py:519: RuntimeWarning: k >= N for N * N square matrix. Attempting to use scipy.linalg.eigh instead.\n",
      "  eigenvalues, eigenvectors = scipy.sparse.linalg.eigsh(\n",
      "c:\\Users\\ryosh\\enrich_me\\.venv\\Lib\\site-packages\\umap\\spectral.py:519: RuntimeWarning: k >= N for N * N square matrix. Attempting to use scipy.linalg.eigh instead.\n",
      "  eigenvalues, eigenvectors = scipy.sparse.linalg.eigsh(\n",
      "c:\\Users\\ryosh\\enrich_me\\.venv\\Lib\\site-packages\\umap\\spectral.py:519: RuntimeWarning: k >= N for N * N square matrix. Attempting to use scipy.linalg.eigh instead.\n",
      "  eigenvalues, eigenvectors = scipy.sparse.linalg.eigsh(\n"
     ]
    },
    {
     "name": "stdout",
     "output_type": "stream",
     "text": [
      "Cannot use scipy.linalg.eigh for sparse A with k >= N. Use scipy.linalg.eigh(A.toarray()) or reduce k.\n",
      "Cannot use scipy.linalg.eigh for sparse A with k >= N. Use scipy.linalg.eigh(A.toarray()) or reduce k.\n",
      "Cannot use scipy.linalg.eigh for sparse A with k >= N. Use scipy.linalg.eigh(A.toarray()) or reduce k.\n",
      "Cannot use scipy.linalg.eigh for sparse A with k >= N. Use scipy.linalg.eigh(A.toarray()) or reduce k.\n"
     ]
    },
    {
     "name": "stderr",
     "output_type": "stream",
     "text": [
      "c:\\Users\\ryosh\\enrich_me\\.venv\\Lib\\site-packages\\umap\\spectral.py:519: RuntimeWarning: k >= N for N * N square matrix. Attempting to use scipy.linalg.eigh instead.\n",
      "  eigenvalues, eigenvectors = scipy.sparse.linalg.eigsh(\n",
      "c:\\Users\\ryosh\\enrich_me\\.venv\\Lib\\site-packages\\umap\\spectral.py:519: RuntimeWarning: k >= N for N * N square matrix. Attempting to use scipy.linalg.eigh instead.\n",
      "  eigenvalues, eigenvectors = scipy.sparse.linalg.eigsh(\n",
      "c:\\Users\\ryosh\\enrich_me\\.venv\\Lib\\site-packages\\umap\\spectral.py:519: RuntimeWarning: k >= N for N * N square matrix. Attempting to use scipy.linalg.eigh instead.\n",
      "  eigenvalues, eigenvectors = scipy.sparse.linalg.eigsh(\n"
     ]
    },
    {
     "name": "stdout",
     "output_type": "stream",
     "text": [
      "Cannot use scipy.linalg.eigh for sparse A with k >= N. Use scipy.linalg.eigh(A.toarray()) or reduce k.\n",
      "Cannot use scipy.linalg.eigh for sparse A with k >= N. Use scipy.linalg.eigh(A.toarray()) or reduce k.\n",
      "Cannot use scipy.linalg.eigh for sparse A with k >= N. Use scipy.linalg.eigh(A.toarray()) or reduce k.\n",
      "72\n"
     ]
    },
    {
     "name": "stderr",
     "output_type": "stream",
     "text": [
      "c:\\Users\\ryosh\\enrich_me\\.venv\\Lib\\site-packages\\umap\\spectral.py:519: RuntimeWarning: k >= N for N * N square matrix. Attempting to use scipy.linalg.eigh instead.\n",
      "  eigenvalues, eigenvectors = scipy.sparse.linalg.eigsh(\n",
      "c:\\Users\\ryosh\\enrich_me\\.venv\\Lib\\site-packages\\umap\\spectral.py:519: RuntimeWarning: k >= N for N * N square matrix. Attempting to use scipy.linalg.eigh instead.\n",
      "  eigenvalues, eigenvectors = scipy.sparse.linalg.eigsh(\n",
      "c:\\Users\\ryosh\\enrich_me\\.venv\\Lib\\site-packages\\umap\\spectral.py:519: RuntimeWarning: k >= N for N * N square matrix. Attempting to use scipy.linalg.eigh instead.\n",
      "  eigenvalues, eigenvectors = scipy.sparse.linalg.eigsh(\n",
      "c:\\Users\\ryosh\\enrich_me\\.venv\\Lib\\site-packages\\umap\\umap_.py:2462: UserWarning: n_neighbors is larger than the dataset size; truncating to X.shape[0] - 1\n",
      "  warn(\n",
      "c:\\Users\\ryosh\\enrich_me\\.venv\\Lib\\site-packages\\umap\\spectral.py:519: RuntimeWarning: k >= N for N * N square matrix. Attempting to use scipy.linalg.eigh instead.\n",
      "  eigenvalues, eigenvectors = scipy.sparse.linalg.eigsh(\n",
      "c:\\Users\\ryosh\\enrich_me\\.venv\\Lib\\site-packages\\umap\\spectral.py:519: RuntimeWarning: k >= N for N * N square matrix. Attempting to use scipy.linalg.eigh instead.\n",
      "  eigenvalues, eigenvectors = scipy.sparse.linalg.eigsh(\n",
      "c:\\Users\\ryosh\\enrich_me\\.venv\\Lib\\site-packages\\umap\\spectral.py:519: RuntimeWarning: k >= N for N * N square matrix. Attempting to use scipy.linalg.eigh instead.\n",
      "  eigenvalues, eigenvectors = scipy.sparse.linalg.eigsh(\n"
     ]
    },
    {
     "name": "stdout",
     "output_type": "stream",
     "text": [
      "Cannot use scipy.linalg.eigh for sparse A with k >= N. Use scipy.linalg.eigh(A.toarray()) or reduce k.\n",
      "Cannot use scipy.linalg.eigh for sparse A with k >= N. Use scipy.linalg.eigh(A.toarray()) or reduce k.\n",
      "Cannot use scipy.linalg.eigh for sparse A with k >= N. Use scipy.linalg.eigh(A.toarray()) or reduce k.\n",
      "Cannot use scipy.linalg.eigh for sparse A with k >= N. Use scipy.linalg.eigh(A.toarray()) or reduce k.\n",
      "Cannot use scipy.linalg.eigh for sparse A with k >= N. Use scipy.linalg.eigh(A.toarray()) or reduce k.\n",
      "Cannot use scipy.linalg.eigh for sparse A with k >= N. Use scipy.linalg.eigh(A.toarray()) or reduce k.\n",
      "73\n"
     ]
    },
    {
     "name": "stderr",
     "output_type": "stream",
     "text": [
      "c:\\Users\\ryosh\\enrich_me\\.venv\\Lib\\site-packages\\umap\\spectral.py:519: RuntimeWarning: k >= N for N * N square matrix. Attempting to use scipy.linalg.eigh instead.\n",
      "  eigenvalues, eigenvectors = scipy.sparse.linalg.eigsh(\n",
      "c:\\Users\\ryosh\\enrich_me\\.venv\\Lib\\site-packages\\umap\\spectral.py:519: RuntimeWarning: k >= N for N * N square matrix. Attempting to use scipy.linalg.eigh instead.\n",
      "  eigenvalues, eigenvectors = scipy.sparse.linalg.eigsh(\n",
      "c:\\Users\\ryosh\\enrich_me\\.venv\\Lib\\site-packages\\umap\\umap_.py:2462: UserWarning: n_neighbors is larger than the dataset size; truncating to X.shape[0] - 1\n",
      "  warn(\n",
      "c:\\Users\\ryosh\\enrich_me\\.venv\\Lib\\site-packages\\umap\\spectral.py:519: RuntimeWarning: k >= N for N * N square matrix. Attempting to use scipy.linalg.eigh instead.\n",
      "  eigenvalues, eigenvectors = scipy.sparse.linalg.eigsh(\n",
      "c:\\Users\\ryosh\\enrich_me\\.venv\\Lib\\site-packages\\umap\\umap_.py:2462: UserWarning: n_neighbors is larger than the dataset size; truncating to X.shape[0] - 1\n",
      "  warn(\n",
      "c:\\Users\\ryosh\\enrich_me\\.venv\\Lib\\site-packages\\umap\\spectral.py:519: RuntimeWarning: k >= N for N * N square matrix. Attempting to use scipy.linalg.eigh instead.\n",
      "  eigenvalues, eigenvectors = scipy.sparse.linalg.eigsh(\n"
     ]
    },
    {
     "name": "stdout",
     "output_type": "stream",
     "text": [
      "Cannot use scipy.linalg.eigh for sparse A with k >= N. Use scipy.linalg.eigh(A.toarray()) or reduce k.\n",
      "Cannot use scipy.linalg.eigh for sparse A with k >= N. Use scipy.linalg.eigh(A.toarray()) or reduce k.\n",
      "Cannot use scipy.linalg.eigh for sparse A with k >= N. Use scipy.linalg.eigh(A.toarray()) or reduce k.\n",
      "Cannot use scipy.linalg.eigh for sparse A with k >= N. Use scipy.linalg.eigh(A.toarray()) or reduce k.\n"
     ]
    },
    {
     "name": "stderr",
     "output_type": "stream",
     "text": [
      "c:\\Users\\ryosh\\enrich_me\\.venv\\Lib\\site-packages\\umap\\spectral.py:519: RuntimeWarning: k >= N for N * N square matrix. Attempting to use scipy.linalg.eigh instead.\n",
      "  eigenvalues, eigenvectors = scipy.sparse.linalg.eigsh(\n",
      "c:\\Users\\ryosh\\enrich_me\\.venv\\Lib\\site-packages\\umap\\spectral.py:519: RuntimeWarning: k >= N for N * N square matrix. Attempting to use scipy.linalg.eigh instead.\n",
      "  eigenvalues, eigenvectors = scipy.sparse.linalg.eigsh(\n",
      "c:\\Users\\ryosh\\enrich_me\\.venv\\Lib\\site-packages\\umap\\spectral.py:519: RuntimeWarning: k >= N for N * N square matrix. Attempting to use scipy.linalg.eigh instead.\n",
      "  eigenvalues, eigenvectors = scipy.sparse.linalg.eigsh(\n"
     ]
    },
    {
     "name": "stdout",
     "output_type": "stream",
     "text": [
      "Cannot use scipy.linalg.eigh for sparse A with k >= N. Use scipy.linalg.eigh(A.toarray()) or reduce k.\n",
      "Cannot use scipy.linalg.eigh for sparse A with k >= N. Use scipy.linalg.eigh(A.toarray()) or reduce k.\n",
      "Cannot use scipy.linalg.eigh for sparse A with k >= N. Use scipy.linalg.eigh(A.toarray()) or reduce k.\n",
      "74\n"
     ]
    },
    {
     "name": "stderr",
     "output_type": "stream",
     "text": [
      "c:\\Users\\ryosh\\enrich_me\\.venv\\Lib\\site-packages\\umap\\spectral.py:519: RuntimeWarning: k >= N for N * N square matrix. Attempting to use scipy.linalg.eigh instead.\n",
      "  eigenvalues, eigenvectors = scipy.sparse.linalg.eigsh(\n",
      "c:\\Users\\ryosh\\enrich_me\\.venv\\Lib\\site-packages\\umap\\umap_.py:2462: UserWarning: n_neighbors is larger than the dataset size; truncating to X.shape[0] - 1\n",
      "  warn(\n",
      "c:\\Users\\ryosh\\enrich_me\\.venv\\Lib\\site-packages\\umap\\spectral.py:519: RuntimeWarning: k >= N for N * N square matrix. Attempting to use scipy.linalg.eigh instead.\n",
      "  eigenvalues, eigenvectors = scipy.sparse.linalg.eigsh(\n",
      "c:\\Users\\ryosh\\enrich_me\\.venv\\Lib\\site-packages\\umap\\spectral.py:519: RuntimeWarning: k >= N for N * N square matrix. Attempting to use scipy.linalg.eigh instead.\n",
      "  eigenvalues, eigenvectors = scipy.sparse.linalg.eigsh(\n",
      "c:\\Users\\ryosh\\enrich_me\\.venv\\Lib\\site-packages\\umap\\spectral.py:519: RuntimeWarning: k >= N for N * N square matrix. Attempting to use scipy.linalg.eigh instead.\n",
      "  eigenvalues, eigenvectors = scipy.sparse.linalg.eigsh(\n"
     ]
    },
    {
     "name": "stdout",
     "output_type": "stream",
     "text": [
      "Cannot use scipy.linalg.eigh for sparse A with k >= N. Use scipy.linalg.eigh(A.toarray()) or reduce k.\n",
      "Cannot use scipy.linalg.eigh for sparse A with k >= N. Use scipy.linalg.eigh(A.toarray()) or reduce k.\n",
      "Cannot use scipy.linalg.eigh for sparse A with k >= N. Use scipy.linalg.eigh(A.toarray()) or reduce k.\n",
      "Cannot use scipy.linalg.eigh for sparse A with k >= N. Use scipy.linalg.eigh(A.toarray()) or reduce k.\n"
     ]
    },
    {
     "name": "stderr",
     "output_type": "stream",
     "text": [
      "c:\\Users\\ryosh\\enrich_me\\.venv\\Lib\\site-packages\\umap\\spectral.py:519: RuntimeWarning: k >= N for N * N square matrix. Attempting to use scipy.linalg.eigh instead.\n",
      "  eigenvalues, eigenvectors = scipy.sparse.linalg.eigsh(\n",
      "c:\\Users\\ryosh\\enrich_me\\.venv\\Lib\\site-packages\\umap\\spectral.py:519: RuntimeWarning: k >= N for N * N square matrix. Attempting to use scipy.linalg.eigh instead.\n",
      "  eigenvalues, eigenvectors = scipy.sparse.linalg.eigsh(\n",
      "c:\\Users\\ryosh\\enrich_me\\.venv\\Lib\\site-packages\\umap\\spectral.py:519: RuntimeWarning: k >= N for N * N square matrix. Attempting to use scipy.linalg.eigh instead.\n",
      "  eigenvalues, eigenvectors = scipy.sparse.linalg.eigsh(\n"
     ]
    },
    {
     "name": "stdout",
     "output_type": "stream",
     "text": [
      "Cannot use scipy.linalg.eigh for sparse A with k >= N. Use scipy.linalg.eigh(A.toarray()) or reduce k.\n",
      "Cannot use scipy.linalg.eigh for sparse A with k >= N. Use scipy.linalg.eigh(A.toarray()) or reduce k.\n",
      "Cannot use scipy.linalg.eigh for sparse A with k >= N. Use scipy.linalg.eigh(A.toarray()) or reduce k.\n",
      "75\n"
     ]
    },
    {
     "name": "stderr",
     "output_type": "stream",
     "text": [
      "c:\\Users\\ryosh\\enrich_me\\.venv\\Lib\\site-packages\\umap\\spectral.py:519: RuntimeWarning: k >= N for N * N square matrix. Attempting to use scipy.linalg.eigh instead.\n",
      "  eigenvalues, eigenvectors = scipy.sparse.linalg.eigsh(\n",
      "c:\\Users\\ryosh\\enrich_me\\.venv\\Lib\\site-packages\\umap\\spectral.py:519: RuntimeWarning: k >= N for N * N square matrix. Attempting to use scipy.linalg.eigh instead.\n",
      "  eigenvalues, eigenvectors = scipy.sparse.linalg.eigsh(\n",
      "c:\\Users\\ryosh\\enrich_me\\.venv\\Lib\\site-packages\\umap\\spectral.py:519: RuntimeWarning: k >= N for N * N square matrix. Attempting to use scipy.linalg.eigh instead.\n",
      "  eigenvalues, eigenvectors = scipy.sparse.linalg.eigsh(\n",
      "c:\\Users\\ryosh\\enrich_me\\.venv\\Lib\\site-packages\\umap\\spectral.py:519: RuntimeWarning: k >= N for N * N square matrix. Attempting to use scipy.linalg.eigh instead.\n",
      "  eigenvalues, eigenvectors = scipy.sparse.linalg.eigsh(\n"
     ]
    },
    {
     "name": "stdout",
     "output_type": "stream",
     "text": [
      "Cannot use scipy.linalg.eigh for sparse A with k >= N. Use scipy.linalg.eigh(A.toarray()) or reduce k.\n",
      "Cannot use scipy.linalg.eigh for sparse A with k >= N. Use scipy.linalg.eigh(A.toarray()) or reduce k.\n",
      "Cannot use scipy.linalg.eigh for sparse A with k >= N. Use scipy.linalg.eigh(A.toarray()) or reduce k.\n",
      "Cannot use scipy.linalg.eigh for sparse A with k >= N. Use scipy.linalg.eigh(A.toarray()) or reduce k.\n"
     ]
    },
    {
     "name": "stderr",
     "output_type": "stream",
     "text": [
      "c:\\Users\\ryosh\\enrich_me\\.venv\\Lib\\site-packages\\umap\\spectral.py:519: RuntimeWarning: k >= N for N * N square matrix. Attempting to use scipy.linalg.eigh instead.\n",
      "  eigenvalues, eigenvectors = scipy.sparse.linalg.eigsh(\n",
      "c:\\Users\\ryosh\\enrich_me\\.venv\\Lib\\site-packages\\umap\\spectral.py:519: RuntimeWarning: k >= N for N * N square matrix. Attempting to use scipy.linalg.eigh instead.\n",
      "  eigenvalues, eigenvectors = scipy.sparse.linalg.eigsh(\n",
      "c:\\Users\\ryosh\\enrich_me\\.venv\\Lib\\site-packages\\umap\\spectral.py:519: RuntimeWarning: k >= N for N * N square matrix. Attempting to use scipy.linalg.eigh instead.\n",
      "  eigenvalues, eigenvectors = scipy.sparse.linalg.eigsh(\n"
     ]
    },
    {
     "name": "stdout",
     "output_type": "stream",
     "text": [
      "Cannot use scipy.linalg.eigh for sparse A with k >= N. Use scipy.linalg.eigh(A.toarray()) or reduce k.\n",
      "Cannot use scipy.linalg.eigh for sparse A with k >= N. Use scipy.linalg.eigh(A.toarray()) or reduce k.\n",
      "Cannot use scipy.linalg.eigh for sparse A with k >= N. Use scipy.linalg.eigh(A.toarray()) or reduce k.\n",
      "76\n"
     ]
    },
    {
     "name": "stderr",
     "output_type": "stream",
     "text": [
      "c:\\Users\\ryosh\\enrich_me\\.venv\\Lib\\site-packages\\umap\\spectral.py:519: RuntimeWarning: k >= N for N * N square matrix. Attempting to use scipy.linalg.eigh instead.\n",
      "  eigenvalues, eigenvectors = scipy.sparse.linalg.eigsh(\n",
      "c:\\Users\\ryosh\\enrich_me\\.venv\\Lib\\site-packages\\umap\\umap_.py:2462: UserWarning: n_neighbors is larger than the dataset size; truncating to X.shape[0] - 1\n",
      "  warn(\n",
      "c:\\Users\\ryosh\\enrich_me\\.venv\\Lib\\site-packages\\umap\\spectral.py:519: RuntimeWarning: k >= N for N * N square matrix. Attempting to use scipy.linalg.eigh instead.\n",
      "  eigenvalues, eigenvectors = scipy.sparse.linalg.eigsh(\n",
      "c:\\Users\\ryosh\\enrich_me\\.venv\\Lib\\site-packages\\umap\\spectral.py:519: RuntimeWarning: k >= N for N * N square matrix. Attempting to use scipy.linalg.eigh instead.\n",
      "  eigenvalues, eigenvectors = scipy.sparse.linalg.eigsh(\n"
     ]
    },
    {
     "name": "stdout",
     "output_type": "stream",
     "text": [
      "Cannot use scipy.linalg.eigh for sparse A with k >= N. Use scipy.linalg.eigh(A.toarray()) or reduce k.\n",
      "Cannot use scipy.linalg.eigh for sparse A with k >= N. Use scipy.linalg.eigh(A.toarray()) or reduce k.\n",
      "Cannot use scipy.linalg.eigh for sparse A with k >= N. Use scipy.linalg.eigh(A.toarray()) or reduce k.\n"
     ]
    },
    {
     "name": "stderr",
     "output_type": "stream",
     "text": [
      "c:\\Users\\ryosh\\enrich_me\\.venv\\Lib\\site-packages\\umap\\spectral.py:519: RuntimeWarning: k >= N for N * N square matrix. Attempting to use scipy.linalg.eigh instead.\n",
      "  eigenvalues, eigenvectors = scipy.sparse.linalg.eigsh(\n",
      "c:\\Users\\ryosh\\enrich_me\\.venv\\Lib\\site-packages\\umap\\spectral.py:519: RuntimeWarning: k >= N for N * N square matrix. Attempting to use scipy.linalg.eigh instead.\n",
      "  eigenvalues, eigenvectors = scipy.sparse.linalg.eigsh(\n",
      "c:\\Users\\ryosh\\enrich_me\\.venv\\Lib\\site-packages\\umap\\spectral.py:519: RuntimeWarning: k >= N for N * N square matrix. Attempting to use scipy.linalg.eigh instead.\n",
      "  eigenvalues, eigenvectors = scipy.sparse.linalg.eigsh(\n",
      "c:\\Users\\ryosh\\enrich_me\\.venv\\Lib\\site-packages\\umap\\umap_.py:2462: UserWarning: n_neighbors is larger than the dataset size; truncating to X.shape[0] - 1\n",
      "  warn(\n",
      "c:\\Users\\ryosh\\enrich_me\\.venv\\Lib\\site-packages\\umap\\spectral.py:519: RuntimeWarning: k >= N for N * N square matrix. Attempting to use scipy.linalg.eigh instead.\n",
      "  eigenvalues, eigenvectors = scipy.sparse.linalg.eigsh(\n"
     ]
    },
    {
     "name": "stdout",
     "output_type": "stream",
     "text": [
      "Cannot use scipy.linalg.eigh for sparse A with k >= N. Use scipy.linalg.eigh(A.toarray()) or reduce k.\n",
      "Cannot use scipy.linalg.eigh for sparse A with k >= N. Use scipy.linalg.eigh(A.toarray()) or reduce k.\n",
      "Cannot use scipy.linalg.eigh for sparse A with k >= N. Use scipy.linalg.eigh(A.toarray()) or reduce k.\n",
      "Cannot use scipy.linalg.eigh for sparse A with k >= N. Use scipy.linalg.eigh(A.toarray()) or reduce k.\n",
      "77\n"
     ]
    },
    {
     "name": "stderr",
     "output_type": "stream",
     "text": [
      "c:\\Users\\ryosh\\enrich_me\\.venv\\Lib\\site-packages\\umap\\spectral.py:519: RuntimeWarning: k >= N for N * N square matrix. Attempting to use scipy.linalg.eigh instead.\n",
      "  eigenvalues, eigenvectors = scipy.sparse.linalg.eigsh(\n",
      "c:\\Users\\ryosh\\enrich_me\\.venv\\Lib\\site-packages\\umap\\umap_.py:2462: UserWarning: n_neighbors is larger than the dataset size; truncating to X.shape[0] - 1\n",
      "  warn(\n",
      "c:\\Users\\ryosh\\enrich_me\\.venv\\Lib\\site-packages\\umap\\spectral.py:519: RuntimeWarning: k >= N for N * N square matrix. Attempting to use scipy.linalg.eigh instead.\n",
      "  eigenvalues, eigenvectors = scipy.sparse.linalg.eigsh(\n"
     ]
    },
    {
     "name": "stdout",
     "output_type": "stream",
     "text": [
      "Cannot use scipy.linalg.eigh for sparse A with k >= N. Use scipy.linalg.eigh(A.toarray()) or reduce k.\n",
      "Cannot use scipy.linalg.eigh for sparse A with k >= N. Use scipy.linalg.eigh(A.toarray()) or reduce k.\n"
     ]
    },
    {
     "name": "stderr",
     "output_type": "stream",
     "text": [
      "c:\\Users\\ryosh\\enrich_me\\.venv\\Lib\\site-packages\\umap\\spectral.py:519: RuntimeWarning: k >= N for N * N square matrix. Attempting to use scipy.linalg.eigh instead.\n",
      "  eigenvalues, eigenvectors = scipy.sparse.linalg.eigsh(\n",
      "c:\\Users\\ryosh\\enrich_me\\.venv\\Lib\\site-packages\\umap\\spectral.py:519: RuntimeWarning: k >= N for N * N square matrix. Attempting to use scipy.linalg.eigh instead.\n",
      "  eigenvalues, eigenvectors = scipy.sparse.linalg.eigsh(\n",
      "c:\\Users\\ryosh\\enrich_me\\.venv\\Lib\\site-packages\\umap\\spectral.py:519: RuntimeWarning: k >= N for N * N square matrix. Attempting to use scipy.linalg.eigh instead.\n",
      "  eigenvalues, eigenvectors = scipy.sparse.linalg.eigsh(\n",
      "c:\\Users\\ryosh\\enrich_me\\.venv\\Lib\\site-packages\\umap\\spectral.py:519: RuntimeWarning: k >= N for N * N square matrix. Attempting to use scipy.linalg.eigh instead.\n",
      "  eigenvalues, eigenvectors = scipy.sparse.linalg.eigsh(\n",
      "c:\\Users\\ryosh\\enrich_me\\.venv\\Lib\\site-packages\\umap\\spectral.py:519: RuntimeWarning: k >= N for N * N square matrix. Attempting to use scipy.linalg.eigh instead.\n",
      "  eigenvalues, eigenvectors = scipy.sparse.linalg.eigsh(\n"
     ]
    },
    {
     "name": "stdout",
     "output_type": "stream",
     "text": [
      "Cannot use scipy.linalg.eigh for sparse A with k >= N. Use scipy.linalg.eigh(A.toarray()) or reduce k.\n",
      "Cannot use scipy.linalg.eigh for sparse A with k >= N. Use scipy.linalg.eigh(A.toarray()) or reduce k.\n",
      "Cannot use scipy.linalg.eigh for sparse A with k >= N. Use scipy.linalg.eigh(A.toarray()) or reduce k.\n",
      "Cannot use scipy.linalg.eigh for sparse A with k >= N. Use scipy.linalg.eigh(A.toarray()) or reduce k.\n",
      "Cannot use scipy.linalg.eigh for sparse A with k >= N. Use scipy.linalg.eigh(A.toarray()) or reduce k.\n",
      "78\n"
     ]
    },
    {
     "name": "stderr",
     "output_type": "stream",
     "text": [
      "c:\\Users\\ryosh\\enrich_me\\.venv\\Lib\\site-packages\\umap\\umap_.py:2462: UserWarning: n_neighbors is larger than the dataset size; truncating to X.shape[0] - 1\n",
      "  warn(\n",
      "c:\\Users\\ryosh\\enrich_me\\.venv\\Lib\\site-packages\\umap\\spectral.py:519: RuntimeWarning: k >= N for N * N square matrix. Attempting to use scipy.linalg.eigh instead.\n",
      "  eigenvalues, eigenvectors = scipy.sparse.linalg.eigsh(\n",
      "c:\\Users\\ryosh\\enrich_me\\.venv\\Lib\\site-packages\\umap\\spectral.py:519: RuntimeWarning: k >= N for N * N square matrix. Attempting to use scipy.linalg.eigh instead.\n",
      "  eigenvalues, eigenvectors = scipy.sparse.linalg.eigsh(\n",
      "c:\\Users\\ryosh\\enrich_me\\.venv\\Lib\\site-packages\\umap\\spectral.py:519: RuntimeWarning: k >= N for N * N square matrix. Attempting to use scipy.linalg.eigh instead.\n",
      "  eigenvalues, eigenvectors = scipy.sparse.linalg.eigsh(\n"
     ]
    },
    {
     "name": "stdout",
     "output_type": "stream",
     "text": [
      "Cannot use scipy.linalg.eigh for sparse A with k >= N. Use scipy.linalg.eigh(A.toarray()) or reduce k.\n",
      "Cannot use scipy.linalg.eigh for sparse A with k >= N. Use scipy.linalg.eigh(A.toarray()) or reduce k.\n",
      "Cannot use scipy.linalg.eigh for sparse A with k >= N. Use scipy.linalg.eigh(A.toarray()) or reduce k.\n"
     ]
    },
    {
     "name": "stderr",
     "output_type": "stream",
     "text": [
      "c:\\Users\\ryosh\\enrich_me\\.venv\\Lib\\site-packages\\umap\\spectral.py:519: RuntimeWarning: k >= N for N * N square matrix. Attempting to use scipy.linalg.eigh instead.\n",
      "  eigenvalues, eigenvectors = scipy.sparse.linalg.eigsh(\n",
      "c:\\Users\\ryosh\\enrich_me\\.venv\\Lib\\site-packages\\umap\\spectral.py:519: RuntimeWarning: k >= N for N * N square matrix. Attempting to use scipy.linalg.eigh instead.\n",
      "  eigenvalues, eigenvectors = scipy.sparse.linalg.eigsh(\n",
      "c:\\Users\\ryosh\\enrich_me\\.venv\\Lib\\site-packages\\umap\\spectral.py:519: RuntimeWarning: k >= N for N * N square matrix. Attempting to use scipy.linalg.eigh instead.\n",
      "  eigenvalues, eigenvectors = scipy.sparse.linalg.eigsh(\n",
      "c:\\Users\\ryosh\\enrich_me\\.venv\\Lib\\site-packages\\umap\\spectral.py:519: RuntimeWarning: k >= N for N * N square matrix. Attempting to use scipy.linalg.eigh instead.\n",
      "  eigenvalues, eigenvectors = scipy.sparse.linalg.eigsh(\n"
     ]
    },
    {
     "name": "stdout",
     "output_type": "stream",
     "text": [
      "Cannot use scipy.linalg.eigh for sparse A with k >= N. Use scipy.linalg.eigh(A.toarray()) or reduce k.\n",
      "Cannot use scipy.linalg.eigh for sparse A with k >= N. Use scipy.linalg.eigh(A.toarray()) or reduce k.\n",
      "Cannot use scipy.linalg.eigh for sparse A with k >= N. Use scipy.linalg.eigh(A.toarray()) or reduce k.\n",
      "Cannot use scipy.linalg.eigh for sparse A with k >= N. Use scipy.linalg.eigh(A.toarray()) or reduce k.\n",
      "79\n"
     ]
    },
    {
     "name": "stderr",
     "output_type": "stream",
     "text": [
      "c:\\Users\\ryosh\\enrich_me\\.venv\\Lib\\site-packages\\umap\\spectral.py:519: RuntimeWarning: k >= N for N * N square matrix. Attempting to use scipy.linalg.eigh instead.\n",
      "  eigenvalues, eigenvectors = scipy.sparse.linalg.eigsh(\n",
      "c:\\Users\\ryosh\\enrich_me\\.venv\\Lib\\site-packages\\umap\\umap_.py:2462: UserWarning: n_neighbors is larger than the dataset size; truncating to X.shape[0] - 1\n",
      "  warn(\n",
      "c:\\Users\\ryosh\\enrich_me\\.venv\\Lib\\site-packages\\umap\\spectral.py:519: RuntimeWarning: k >= N for N * N square matrix. Attempting to use scipy.linalg.eigh instead.\n",
      "  eigenvalues, eigenvectors = scipy.sparse.linalg.eigsh(\n",
      "c:\\Users\\ryosh\\enrich_me\\.venv\\Lib\\site-packages\\umap\\spectral.py:519: RuntimeWarning: k >= N for N * N square matrix. Attempting to use scipy.linalg.eigh instead.\n",
      "  eigenvalues, eigenvectors = scipy.sparse.linalg.eigsh(\n",
      "c:\\Users\\ryosh\\enrich_me\\.venv\\Lib\\site-packages\\umap\\spectral.py:519: RuntimeWarning: k >= N for N * N square matrix. Attempting to use scipy.linalg.eigh instead.\n",
      "  eigenvalues, eigenvectors = scipy.sparse.linalg.eigsh(\n",
      "c:\\Users\\ryosh\\enrich_me\\.venv\\Lib\\site-packages\\umap\\spectral.py:519: RuntimeWarning: k >= N for N * N square matrix. Attempting to use scipy.linalg.eigh instead.\n",
      "  eigenvalues, eigenvectors = scipy.sparse.linalg.eigsh(\n",
      "c:\\Users\\ryosh\\enrich_me\\.venv\\Lib\\site-packages\\umap\\spectral.py:519: RuntimeWarning: k >= N for N * N square matrix. Attempting to use scipy.linalg.eigh instead.\n",
      "  eigenvalues, eigenvectors = scipy.sparse.linalg.eigsh(\n"
     ]
    },
    {
     "name": "stdout",
     "output_type": "stream",
     "text": [
      "Cannot use scipy.linalg.eigh for sparse A with k >= N. Use scipy.linalg.eigh(A.toarray()) or reduce k.\n",
      "Cannot use scipy.linalg.eigh for sparse A with k >= N. Use scipy.linalg.eigh(A.toarray()) or reduce k.\n",
      "Cannot use scipy.linalg.eigh for sparse A with k >= N. Use scipy.linalg.eigh(A.toarray()) or reduce k.\n",
      "Cannot use scipy.linalg.eigh for sparse A with k >= N. Use scipy.linalg.eigh(A.toarray()) or reduce k.\n",
      "Cannot use scipy.linalg.eigh for sparse A with k >= N. Use scipy.linalg.eigh(A.toarray()) or reduce k.\n",
      "Cannot use scipy.linalg.eigh for sparse A with k >= N. Use scipy.linalg.eigh(A.toarray()) or reduce k.\n",
      "80\n"
     ]
    },
    {
     "name": "stderr",
     "output_type": "stream",
     "text": [
      "c:\\Users\\ryosh\\enrich_me\\.venv\\Lib\\site-packages\\umap\\spectral.py:519: RuntimeWarning: k >= N for N * N square matrix. Attempting to use scipy.linalg.eigh instead.\n",
      "  eigenvalues, eigenvectors = scipy.sparse.linalg.eigsh(\n",
      "c:\\Users\\ryosh\\enrich_me\\.venv\\Lib\\site-packages\\umap\\umap_.py:2462: UserWarning: n_neighbors is larger than the dataset size; truncating to X.shape[0] - 1\n",
      "  warn(\n",
      "c:\\Users\\ryosh\\enrich_me\\.venv\\Lib\\site-packages\\umap\\spectral.py:519: RuntimeWarning: k >= N for N * N square matrix. Attempting to use scipy.linalg.eigh instead.\n",
      "  eigenvalues, eigenvectors = scipy.sparse.linalg.eigsh(\n",
      "c:\\Users\\ryosh\\enrich_me\\.venv\\Lib\\site-packages\\umap\\spectral.py:519: RuntimeWarning: k >= N for N * N square matrix. Attempting to use scipy.linalg.eigh instead.\n",
      "  eigenvalues, eigenvectors = scipy.sparse.linalg.eigsh(\n",
      "c:\\Users\\ryosh\\enrich_me\\.venv\\Lib\\site-packages\\umap\\spectral.py:519: RuntimeWarning: k >= N for N * N square matrix. Attempting to use scipy.linalg.eigh instead.\n",
      "  eigenvalues, eigenvectors = scipy.sparse.linalg.eigsh(\n"
     ]
    },
    {
     "name": "stdout",
     "output_type": "stream",
     "text": [
      "Cannot use scipy.linalg.eigh for sparse A with k >= N. Use scipy.linalg.eigh(A.toarray()) or reduce k.\n",
      "Cannot use scipy.linalg.eigh for sparse A with k >= N. Use scipy.linalg.eigh(A.toarray()) or reduce k.\n",
      "Cannot use scipy.linalg.eigh for sparse A with k >= N. Use scipy.linalg.eigh(A.toarray()) or reduce k.\n",
      "Cannot use scipy.linalg.eigh for sparse A with k >= N. Use scipy.linalg.eigh(A.toarray()) or reduce k.\n"
     ]
    },
    {
     "name": "stderr",
     "output_type": "stream",
     "text": [
      "c:\\Users\\ryosh\\enrich_me\\.venv\\Lib\\site-packages\\umap\\spectral.py:519: RuntimeWarning: k >= N for N * N square matrix. Attempting to use scipy.linalg.eigh instead.\n",
      "  eigenvalues, eigenvectors = scipy.sparse.linalg.eigsh(\n",
      "c:\\Users\\ryosh\\enrich_me\\.venv\\Lib\\site-packages\\umap\\spectral.py:519: RuntimeWarning: k >= N for N * N square matrix. Attempting to use scipy.linalg.eigh instead.\n",
      "  eigenvalues, eigenvectors = scipy.sparse.linalg.eigsh(\n",
      "c:\\Users\\ryosh\\enrich_me\\.venv\\Lib\\site-packages\\umap\\spectral.py:519: RuntimeWarning: k >= N for N * N square matrix. Attempting to use scipy.linalg.eigh instead.\n",
      "  eigenvalues, eigenvectors = scipy.sparse.linalg.eigsh(\n"
     ]
    },
    {
     "name": "stdout",
     "output_type": "stream",
     "text": [
      "Cannot use scipy.linalg.eigh for sparse A with k >= N. Use scipy.linalg.eigh(A.toarray()) or reduce k.\n",
      "Cannot use scipy.linalg.eigh for sparse A with k >= N. Use scipy.linalg.eigh(A.toarray()) or reduce k.\n",
      "Cannot use scipy.linalg.eigh for sparse A with k >= N. Use scipy.linalg.eigh(A.toarray()) or reduce k.\n",
      "81\n"
     ]
    },
    {
     "name": "stderr",
     "output_type": "stream",
     "text": [
      "c:\\Users\\ryosh\\enrich_me\\.venv\\Lib\\site-packages\\umap\\umap_.py:2462: UserWarning: n_neighbors is larger than the dataset size; truncating to X.shape[0] - 1\n",
      "  warn(\n",
      "c:\\Users\\ryosh\\enrich_me\\.venv\\Lib\\site-packages\\umap\\spectral.py:519: RuntimeWarning: k >= N for N * N square matrix. Attempting to use scipy.linalg.eigh instead.\n",
      "  eigenvalues, eigenvectors = scipy.sparse.linalg.eigsh(\n",
      "c:\\Users\\ryosh\\enrich_me\\.venv\\Lib\\site-packages\\umap\\umap_.py:2462: UserWarning: n_neighbors is larger than the dataset size; truncating to X.shape[0] - 1\n",
      "  warn(\n",
      "c:\\Users\\ryosh\\enrich_me\\.venv\\Lib\\site-packages\\umap\\spectral.py:519: RuntimeWarning: k >= N for N * N square matrix. Attempting to use scipy.linalg.eigh instead.\n",
      "  eigenvalues, eigenvectors = scipy.sparse.linalg.eigsh(\n"
     ]
    },
    {
     "name": "stdout",
     "output_type": "stream",
     "text": [
      "Cannot use scipy.linalg.eigh for sparse A with k >= N. Use scipy.linalg.eigh(A.toarray()) or reduce k.\n",
      "Cannot use scipy.linalg.eigh for sparse A with k >= N. Use scipy.linalg.eigh(A.toarray()) or reduce k.\n"
     ]
    },
    {
     "name": "stderr",
     "output_type": "stream",
     "text": [
      "c:\\Users\\ryosh\\enrich_me\\.venv\\Lib\\site-packages\\umap\\spectral.py:519: RuntimeWarning: k >= N for N * N square matrix. Attempting to use scipy.linalg.eigh instead.\n",
      "  eigenvalues, eigenvectors = scipy.sparse.linalg.eigsh(\n",
      "c:\\Users\\ryosh\\enrich_me\\.venv\\Lib\\site-packages\\umap\\spectral.py:519: RuntimeWarning: k >= N for N * N square matrix. Attempting to use scipy.linalg.eigh instead.\n",
      "  eigenvalues, eigenvectors = scipy.sparse.linalg.eigsh(\n",
      "c:\\Users\\ryosh\\enrich_me\\.venv\\Lib\\site-packages\\umap\\spectral.py:519: RuntimeWarning: k >= N for N * N square matrix. Attempting to use scipy.linalg.eigh instead.\n",
      "  eigenvalues, eigenvectors = scipy.sparse.linalg.eigsh(\n",
      "c:\\Users\\ryosh\\enrich_me\\.venv\\Lib\\site-packages\\umap\\spectral.py:519: RuntimeWarning: k >= N for N * N square matrix. Attempting to use scipy.linalg.eigh instead.\n",
      "  eigenvalues, eigenvectors = scipy.sparse.linalg.eigsh(\n",
      "c:\\Users\\ryosh\\enrich_me\\.venv\\Lib\\site-packages\\umap\\spectral.py:519: RuntimeWarning: k >= N for N * N square matrix. Attempting to use scipy.linalg.eigh instead.\n",
      "  eigenvalues, eigenvectors = scipy.sparse.linalg.eigsh(\n"
     ]
    },
    {
     "name": "stdout",
     "output_type": "stream",
     "text": [
      "Cannot use scipy.linalg.eigh for sparse A with k >= N. Use scipy.linalg.eigh(A.toarray()) or reduce k.\n",
      "Cannot use scipy.linalg.eigh for sparse A with k >= N. Use scipy.linalg.eigh(A.toarray()) or reduce k.\n",
      "Cannot use scipy.linalg.eigh for sparse A with k >= N. Use scipy.linalg.eigh(A.toarray()) or reduce k.\n",
      "Cannot use scipy.linalg.eigh for sparse A with k >= N. Use scipy.linalg.eigh(A.toarray()) or reduce k.\n",
      "Cannot use scipy.linalg.eigh for sparse A with k >= N. Use scipy.linalg.eigh(A.toarray()) or reduce k.\n",
      "82\n"
     ]
    },
    {
     "name": "stderr",
     "output_type": "stream",
     "text": [
      "c:\\Users\\ryosh\\enrich_me\\.venv\\Lib\\site-packages\\umap\\spectral.py:519: RuntimeWarning: k >= N for N * N square matrix. Attempting to use scipy.linalg.eigh instead.\n",
      "  eigenvalues, eigenvectors = scipy.sparse.linalg.eigsh(\n",
      "c:\\Users\\ryosh\\enrich_me\\.venv\\Lib\\site-packages\\umap\\umap_.py:2462: UserWarning: n_neighbors is larger than the dataset size; truncating to X.shape[0] - 1\n",
      "  warn(\n",
      "c:\\Users\\ryosh\\enrich_me\\.venv\\Lib\\site-packages\\umap\\spectral.py:519: RuntimeWarning: k >= N for N * N square matrix. Attempting to use scipy.linalg.eigh instead.\n",
      "  eigenvalues, eigenvectors = scipy.sparse.linalg.eigsh(\n",
      "c:\\Users\\ryosh\\enrich_me\\.venv\\Lib\\site-packages\\umap\\spectral.py:519: RuntimeWarning: k >= N for N * N square matrix. Attempting to use scipy.linalg.eigh instead.\n",
      "  eigenvalues, eigenvectors = scipy.sparse.linalg.eigsh(\n",
      "c:\\Users\\ryosh\\enrich_me\\.venv\\Lib\\site-packages\\umap\\spectral.py:519: RuntimeWarning: k >= N for N * N square matrix. Attempting to use scipy.linalg.eigh instead.\n",
      "  eigenvalues, eigenvectors = scipy.sparse.linalg.eigsh(\n",
      "c:\\Users\\ryosh\\enrich_me\\.venv\\Lib\\site-packages\\umap\\spectral.py:519: RuntimeWarning: k >= N for N * N square matrix. Attempting to use scipy.linalg.eigh instead.\n",
      "  eigenvalues, eigenvectors = scipy.sparse.linalg.eigsh(\n",
      "c:\\Users\\ryosh\\enrich_me\\.venv\\Lib\\site-packages\\umap\\spectral.py:519: RuntimeWarning: k >= N for N * N square matrix. Attempting to use scipy.linalg.eigh instead.\n",
      "  eigenvalues, eigenvectors = scipy.sparse.linalg.eigsh(\n"
     ]
    },
    {
     "name": "stdout",
     "output_type": "stream",
     "text": [
      "Cannot use scipy.linalg.eigh for sparse A with k >= N. Use scipy.linalg.eigh(A.toarray()) or reduce k.\n",
      "Cannot use scipy.linalg.eigh for sparse A with k >= N. Use scipy.linalg.eigh(A.toarray()) or reduce k.\n",
      "Cannot use scipy.linalg.eigh for sparse A with k >= N. Use scipy.linalg.eigh(A.toarray()) or reduce k.\n",
      "Cannot use scipy.linalg.eigh for sparse A with k >= N. Use scipy.linalg.eigh(A.toarray()) or reduce k.\n",
      "Cannot use scipy.linalg.eigh for sparse A with k >= N. Use scipy.linalg.eigh(A.toarray()) or reduce k.\n",
      "Cannot use scipy.linalg.eigh for sparse A with k >= N. Use scipy.linalg.eigh(A.toarray()) or reduce k.\n",
      "83\n"
     ]
    },
    {
     "name": "stderr",
     "output_type": "stream",
     "text": [
      "c:\\Users\\ryosh\\enrich_me\\.venv\\Lib\\site-packages\\umap\\spectral.py:519: RuntimeWarning: k >= N for N * N square matrix. Attempting to use scipy.linalg.eigh instead.\n",
      "  eigenvalues, eigenvectors = scipy.sparse.linalg.eigsh(\n",
      "c:\\Users\\ryosh\\enrich_me\\.venv\\Lib\\site-packages\\umap\\umap_.py:2462: UserWarning: n_neighbors is larger than the dataset size; truncating to X.shape[0] - 1\n",
      "  warn(\n",
      "c:\\Users\\ryosh\\enrich_me\\.venv\\Lib\\site-packages\\umap\\spectral.py:519: RuntimeWarning: k >= N for N * N square matrix. Attempting to use scipy.linalg.eigh instead.\n",
      "  eigenvalues, eigenvectors = scipy.sparse.linalg.eigsh(\n",
      "c:\\Users\\ryosh\\enrich_me\\.venv\\Lib\\site-packages\\umap\\spectral.py:519: RuntimeWarning: k >= N for N * N square matrix. Attempting to use scipy.linalg.eigh instead.\n",
      "  eigenvalues, eigenvectors = scipy.sparse.linalg.eigsh(\n"
     ]
    },
    {
     "name": "stdout",
     "output_type": "stream",
     "text": [
      "Cannot use scipy.linalg.eigh for sparse A with k >= N. Use scipy.linalg.eigh(A.toarray()) or reduce k.\n",
      "Cannot use scipy.linalg.eigh for sparse A with k >= N. Use scipy.linalg.eigh(A.toarray()) or reduce k.\n",
      "Cannot use scipy.linalg.eigh for sparse A with k >= N. Use scipy.linalg.eigh(A.toarray()) or reduce k.\n"
     ]
    },
    {
     "name": "stderr",
     "output_type": "stream",
     "text": [
      "c:\\Users\\ryosh\\enrich_me\\.venv\\Lib\\site-packages\\umap\\spectral.py:519: RuntimeWarning: k >= N for N * N square matrix. Attempting to use scipy.linalg.eigh instead.\n",
      "  eigenvalues, eigenvectors = scipy.sparse.linalg.eigsh(\n",
      "c:\\Users\\ryosh\\enrich_me\\.venv\\Lib\\site-packages\\umap\\spectral.py:519: RuntimeWarning: k >= N for N * N square matrix. Attempting to use scipy.linalg.eigh instead.\n",
      "  eigenvalues, eigenvectors = scipy.sparse.linalg.eigsh(\n",
      "c:\\Users\\ryosh\\enrich_me\\.venv\\Lib\\site-packages\\umap\\spectral.py:519: RuntimeWarning: k >= N for N * N square matrix. Attempting to use scipy.linalg.eigh instead.\n",
      "  eigenvalues, eigenvectors = scipy.sparse.linalg.eigsh(\n",
      "c:\\Users\\ryosh\\enrich_me\\.venv\\Lib\\site-packages\\umap\\spectral.py:519: RuntimeWarning: k >= N for N * N square matrix. Attempting to use scipy.linalg.eigh instead.\n",
      "  eigenvalues, eigenvectors = scipy.sparse.linalg.eigsh(\n"
     ]
    },
    {
     "name": "stdout",
     "output_type": "stream",
     "text": [
      "Cannot use scipy.linalg.eigh for sparse A with k >= N. Use scipy.linalg.eigh(A.toarray()) or reduce k.\n",
      "Cannot use scipy.linalg.eigh for sparse A with k >= N. Use scipy.linalg.eigh(A.toarray()) or reduce k.\n",
      "Cannot use scipy.linalg.eigh for sparse A with k >= N. Use scipy.linalg.eigh(A.toarray()) or reduce k.\n",
      "Cannot use scipy.linalg.eigh for sparse A with k >= N. Use scipy.linalg.eigh(A.toarray()) or reduce k.\n",
      "84\n"
     ]
    },
    {
     "name": "stderr",
     "output_type": "stream",
     "text": [
      "c:\\Users\\ryosh\\enrich_me\\.venv\\Lib\\site-packages\\umap\\spectral.py:519: RuntimeWarning: k >= N for N * N square matrix. Attempting to use scipy.linalg.eigh instead.\n",
      "  eigenvalues, eigenvectors = scipy.sparse.linalg.eigsh(\n",
      "c:\\Users\\ryosh\\enrich_me\\.venv\\Lib\\site-packages\\umap\\spectral.py:519: RuntimeWarning: k >= N for N * N square matrix. Attempting to use scipy.linalg.eigh instead.\n",
      "  eigenvalues, eigenvectors = scipy.sparse.linalg.eigsh(\n",
      "c:\\Users\\ryosh\\enrich_me\\.venv\\Lib\\site-packages\\umap\\spectral.py:519: RuntimeWarning: k >= N for N * N square matrix. Attempting to use scipy.linalg.eigh instead.\n",
      "  eigenvalues, eigenvectors = scipy.sparse.linalg.eigsh(\n",
      "c:\\Users\\ryosh\\enrich_me\\.venv\\Lib\\site-packages\\umap\\spectral.py:519: RuntimeWarning: k >= N for N * N square matrix. Attempting to use scipy.linalg.eigh instead.\n",
      "  eigenvalues, eigenvectors = scipy.sparse.linalg.eigsh(\n",
      "c:\\Users\\ryosh\\enrich_me\\.venv\\Lib\\site-packages\\umap\\spectral.py:519: RuntimeWarning: k >= N for N * N square matrix. Attempting to use scipy.linalg.eigh instead.\n",
      "  eigenvalues, eigenvectors = scipy.sparse.linalg.eigsh(\n",
      "c:\\Users\\ryosh\\enrich_me\\.venv\\Lib\\site-packages\\umap\\spectral.py:519: RuntimeWarning: k >= N for N * N square matrix. Attempting to use scipy.linalg.eigh instead.\n",
      "  eigenvalues, eigenvectors = scipy.sparse.linalg.eigsh(\n"
     ]
    },
    {
     "name": "stdout",
     "output_type": "stream",
     "text": [
      "Cannot use scipy.linalg.eigh for sparse A with k >= N. Use scipy.linalg.eigh(A.toarray()) or reduce k.\n",
      "Cannot use scipy.linalg.eigh for sparse A with k >= N. Use scipy.linalg.eigh(A.toarray()) or reduce k.\n",
      "Cannot use scipy.linalg.eigh for sparse A with k >= N. Use scipy.linalg.eigh(A.toarray()) or reduce k.\n",
      "Cannot use scipy.linalg.eigh for sparse A with k >= N. Use scipy.linalg.eigh(A.toarray()) or reduce k.\n",
      "Cannot use scipy.linalg.eigh for sparse A with k >= N. Use scipy.linalg.eigh(A.toarray()) or reduce k.\n",
      "Cannot use scipy.linalg.eigh for sparse A with k >= N. Use scipy.linalg.eigh(A.toarray()) or reduce k.\n",
      "85\n"
     ]
    },
    {
     "name": "stderr",
     "output_type": "stream",
     "text": [
      "c:\\Users\\ryosh\\enrich_me\\.venv\\Lib\\site-packages\\umap\\spectral.py:519: RuntimeWarning: k >= N for N * N square matrix. Attempting to use scipy.linalg.eigh instead.\n",
      "  eigenvalues, eigenvectors = scipy.sparse.linalg.eigsh(\n",
      "c:\\Users\\ryosh\\enrich_me\\.venv\\Lib\\site-packages\\umap\\spectral.py:519: RuntimeWarning: k >= N for N * N square matrix. Attempting to use scipy.linalg.eigh instead.\n",
      "  eigenvalues, eigenvectors = scipy.sparse.linalg.eigsh(\n",
      "c:\\Users\\ryosh\\enrich_me\\.venv\\Lib\\site-packages\\umap\\spectral.py:519: RuntimeWarning: k >= N for N * N square matrix. Attempting to use scipy.linalg.eigh instead.\n",
      "  eigenvalues, eigenvectors = scipy.sparse.linalg.eigsh(\n",
      "c:\\Users\\ryosh\\enrich_me\\.venv\\Lib\\site-packages\\umap\\spectral.py:519: RuntimeWarning: k >= N for N * N square matrix. Attempting to use scipy.linalg.eigh instead.\n",
      "  eigenvalues, eigenvectors = scipy.sparse.linalg.eigsh(\n",
      "c:\\Users\\ryosh\\enrich_me\\.venv\\Lib\\site-packages\\umap\\spectral.py:519: RuntimeWarning: k >= N for N * N square matrix. Attempting to use scipy.linalg.eigh instead.\n",
      "  eigenvalues, eigenvectors = scipy.sparse.linalg.eigsh(\n",
      "c:\\Users\\ryosh\\enrich_me\\.venv\\Lib\\site-packages\\umap\\spectral.py:519: RuntimeWarning: k >= N for N * N square matrix. Attempting to use scipy.linalg.eigh instead.\n",
      "  eigenvalues, eigenvectors = scipy.sparse.linalg.eigsh(\n"
     ]
    },
    {
     "name": "stdout",
     "output_type": "stream",
     "text": [
      "Cannot use scipy.linalg.eigh for sparse A with k >= N. Use scipy.linalg.eigh(A.toarray()) or reduce k.\n",
      "Cannot use scipy.linalg.eigh for sparse A with k >= N. Use scipy.linalg.eigh(A.toarray()) or reduce k.\n",
      "Cannot use scipy.linalg.eigh for sparse A with k >= N. Use scipy.linalg.eigh(A.toarray()) or reduce k.\n",
      "Cannot use scipy.linalg.eigh for sparse A with k >= N. Use scipy.linalg.eigh(A.toarray()) or reduce k.\n",
      "Cannot use scipy.linalg.eigh for sparse A with k >= N. Use scipy.linalg.eigh(A.toarray()) or reduce k.\n",
      "Cannot use scipy.linalg.eigh for sparse A with k >= N. Use scipy.linalg.eigh(A.toarray()) or reduce k.\n",
      "86\n"
     ]
    },
    {
     "name": "stderr",
     "output_type": "stream",
     "text": [
      "c:\\Users\\ryosh\\enrich_me\\.venv\\Lib\\site-packages\\umap\\umap_.py:2462: UserWarning: n_neighbors is larger than the dataset size; truncating to X.shape[0] - 1\n",
      "  warn(\n",
      "c:\\Users\\ryosh\\enrich_me\\.venv\\Lib\\site-packages\\umap\\spectral.py:519: RuntimeWarning: k >= N for N * N square matrix. Attempting to use scipy.linalg.eigh instead.\n",
      "  eigenvalues, eigenvectors = scipy.sparse.linalg.eigsh(\n",
      "c:\\Users\\ryosh\\enrich_me\\.venv\\Lib\\site-packages\\umap\\umap_.py:2462: UserWarning: n_neighbors is larger than the dataset size; truncating to X.shape[0] - 1\n",
      "  warn(\n",
      "c:\\Users\\ryosh\\enrich_me\\.venv\\Lib\\site-packages\\umap\\spectral.py:519: RuntimeWarning: k >= N for N * N square matrix. Attempting to use scipy.linalg.eigh instead.\n",
      "  eigenvalues, eigenvectors = scipy.sparse.linalg.eigsh(\n",
      "c:\\Users\\ryosh\\enrich_me\\.venv\\Lib\\site-packages\\umap\\spectral.py:519: RuntimeWarning: k >= N for N * N square matrix. Attempting to use scipy.linalg.eigh instead.\n",
      "  eigenvalues, eigenvectors = scipy.sparse.linalg.eigsh(\n"
     ]
    },
    {
     "name": "stdout",
     "output_type": "stream",
     "text": [
      "Cannot use scipy.linalg.eigh for sparse A with k >= N. Use scipy.linalg.eigh(A.toarray()) or reduce k.\n",
      "Cannot use scipy.linalg.eigh for sparse A with k >= N. Use scipy.linalg.eigh(A.toarray()) or reduce k.\n",
      "Cannot use scipy.linalg.eigh for sparse A with k >= N. Use scipy.linalg.eigh(A.toarray()) or reduce k.\n"
     ]
    },
    {
     "name": "stderr",
     "output_type": "stream",
     "text": [
      "c:\\Users\\ryosh\\enrich_me\\.venv\\Lib\\site-packages\\umap\\spectral.py:519: RuntimeWarning: k >= N for N * N square matrix. Attempting to use scipy.linalg.eigh instead.\n",
      "  eigenvalues, eigenvectors = scipy.sparse.linalg.eigsh(\n",
      "c:\\Users\\ryosh\\enrich_me\\.venv\\Lib\\site-packages\\umap\\spectral.py:519: RuntimeWarning: k >= N for N * N square matrix. Attempting to use scipy.linalg.eigh instead.\n",
      "  eigenvalues, eigenvectors = scipy.sparse.linalg.eigsh(\n",
      "c:\\Users\\ryosh\\enrich_me\\.venv\\Lib\\site-packages\\umap\\spectral.py:519: RuntimeWarning: k >= N for N * N square matrix. Attempting to use scipy.linalg.eigh instead.\n",
      "  eigenvalues, eigenvectors = scipy.sparse.linalg.eigsh(\n",
      "c:\\Users\\ryosh\\enrich_me\\.venv\\Lib\\site-packages\\umap\\spectral.py:519: RuntimeWarning: k >= N for N * N square matrix. Attempting to use scipy.linalg.eigh instead.\n",
      "  eigenvalues, eigenvectors = scipy.sparse.linalg.eigsh(\n"
     ]
    },
    {
     "name": "stdout",
     "output_type": "stream",
     "text": [
      "Cannot use scipy.linalg.eigh for sparse A with k >= N. Use scipy.linalg.eigh(A.toarray()) or reduce k.\n",
      "Cannot use scipy.linalg.eigh for sparse A with k >= N. Use scipy.linalg.eigh(A.toarray()) or reduce k.\n",
      "Cannot use scipy.linalg.eigh for sparse A with k >= N. Use scipy.linalg.eigh(A.toarray()) or reduce k.\n",
      "Cannot use scipy.linalg.eigh for sparse A with k >= N. Use scipy.linalg.eigh(A.toarray()) or reduce k.\n",
      "87\n"
     ]
    },
    {
     "name": "stderr",
     "output_type": "stream",
     "text": [
      "c:\\Users\\ryosh\\enrich_me\\.venv\\Lib\\site-packages\\umap\\umap_.py:2462: UserWarning: n_neighbors is larger than the dataset size; truncating to X.shape[0] - 1\n",
      "  warn(\n",
      "c:\\Users\\ryosh\\enrich_me\\.venv\\Lib\\site-packages\\umap\\spectral.py:519: RuntimeWarning: k >= N for N * N square matrix. Attempting to use scipy.linalg.eigh instead.\n",
      "  eigenvalues, eigenvectors = scipy.sparse.linalg.eigsh(\n",
      "c:\\Users\\ryosh\\enrich_me\\.venv\\Lib\\site-packages\\umap\\umap_.py:2462: UserWarning: n_neighbors is larger than the dataset size; truncating to X.shape[0] - 1\n",
      "  warn(\n",
      "c:\\Users\\ryosh\\enrich_me\\.venv\\Lib\\site-packages\\umap\\spectral.py:519: RuntimeWarning: k >= N for N * N square matrix. Attempting to use scipy.linalg.eigh instead.\n",
      "  eigenvalues, eigenvectors = scipy.sparse.linalg.eigsh(\n",
      "c:\\Users\\ryosh\\enrich_me\\.venv\\Lib\\site-packages\\umap\\spectral.py:519: RuntimeWarning: k >= N for N * N square matrix. Attempting to use scipy.linalg.eigh instead.\n",
      "  eigenvalues, eigenvectors = scipy.sparse.linalg.eigsh(\n",
      "c:\\Users\\ryosh\\enrich_me\\.venv\\Lib\\site-packages\\umap\\spectral.py:519: RuntimeWarning: k >= N for N * N square matrix. Attempting to use scipy.linalg.eigh instead.\n",
      "  eigenvalues, eigenvectors = scipy.sparse.linalg.eigsh(\n"
     ]
    },
    {
     "name": "stdout",
     "output_type": "stream",
     "text": [
      "Cannot use scipy.linalg.eigh for sparse A with k >= N. Use scipy.linalg.eigh(A.toarray()) or reduce k.\n",
      "Cannot use scipy.linalg.eigh for sparse A with k >= N. Use scipy.linalg.eigh(A.toarray()) or reduce k.\n",
      "Cannot use scipy.linalg.eigh for sparse A with k >= N. Use scipy.linalg.eigh(A.toarray()) or reduce k.\n",
      "Cannot use scipy.linalg.eigh for sparse A with k >= N. Use scipy.linalg.eigh(A.toarray()) or reduce k.\n"
     ]
    },
    {
     "name": "stderr",
     "output_type": "stream",
     "text": [
      "c:\\Users\\ryosh\\enrich_me\\.venv\\Lib\\site-packages\\umap\\spectral.py:519: RuntimeWarning: k >= N for N * N square matrix. Attempting to use scipy.linalg.eigh instead.\n",
      "  eigenvalues, eigenvectors = scipy.sparse.linalg.eigsh(\n",
      "c:\\Users\\ryosh\\enrich_me\\.venv\\Lib\\site-packages\\umap\\spectral.py:519: RuntimeWarning: k >= N for N * N square matrix. Attempting to use scipy.linalg.eigh instead.\n",
      "  eigenvalues, eigenvectors = scipy.sparse.linalg.eigsh(\n",
      "c:\\Users\\ryosh\\enrich_me\\.venv\\Lib\\site-packages\\umap\\spectral.py:519: RuntimeWarning: k >= N for N * N square matrix. Attempting to use scipy.linalg.eigh instead.\n",
      "  eigenvalues, eigenvectors = scipy.sparse.linalg.eigsh(\n"
     ]
    },
    {
     "name": "stdout",
     "output_type": "stream",
     "text": [
      "Cannot use scipy.linalg.eigh for sparse A with k >= N. Use scipy.linalg.eigh(A.toarray()) or reduce k.\n",
      "Cannot use scipy.linalg.eigh for sparse A with k >= N. Use scipy.linalg.eigh(A.toarray()) or reduce k.\n",
      "Cannot use scipy.linalg.eigh for sparse A with k >= N. Use scipy.linalg.eigh(A.toarray()) or reduce k.\n",
      "88\n"
     ]
    },
    {
     "name": "stderr",
     "output_type": "stream",
     "text": [
      "c:\\Users\\ryosh\\enrich_me\\.venv\\Lib\\site-packages\\umap\\spectral.py:519: RuntimeWarning: k >= N for N * N square matrix. Attempting to use scipy.linalg.eigh instead.\n",
      "  eigenvalues, eigenvectors = scipy.sparse.linalg.eigsh(\n",
      "c:\\Users\\ryosh\\enrich_me\\.venv\\Lib\\site-packages\\umap\\spectral.py:519: RuntimeWarning: k >= N for N * N square matrix. Attempting to use scipy.linalg.eigh instead.\n",
      "  eigenvalues, eigenvectors = scipy.sparse.linalg.eigsh(\n",
      "c:\\Users\\ryosh\\enrich_me\\.venv\\Lib\\site-packages\\umap\\spectral.py:519: RuntimeWarning: k >= N for N * N square matrix. Attempting to use scipy.linalg.eigh instead.\n",
      "  eigenvalues, eigenvectors = scipy.sparse.linalg.eigsh(\n",
      "c:\\Users\\ryosh\\enrich_me\\.venv\\Lib\\site-packages\\umap\\spectral.py:519: RuntimeWarning: k >= N for N * N square matrix. Attempting to use scipy.linalg.eigh instead.\n",
      "  eigenvalues, eigenvectors = scipy.sparse.linalg.eigsh(\n",
      "c:\\Users\\ryosh\\enrich_me\\.venv\\Lib\\site-packages\\umap\\spectral.py:519: RuntimeWarning: k >= N for N * N square matrix. Attempting to use scipy.linalg.eigh instead.\n",
      "  eigenvalues, eigenvectors = scipy.sparse.linalg.eigsh(\n",
      "c:\\Users\\ryosh\\enrich_me\\.venv\\Lib\\site-packages\\umap\\spectral.py:519: RuntimeWarning: k >= N for N * N square matrix. Attempting to use scipy.linalg.eigh instead.\n",
      "  eigenvalues, eigenvectors = scipy.sparse.linalg.eigsh(\n"
     ]
    },
    {
     "name": "stdout",
     "output_type": "stream",
     "text": [
      "Cannot use scipy.linalg.eigh for sparse A with k >= N. Use scipy.linalg.eigh(A.toarray()) or reduce k.\n",
      "Cannot use scipy.linalg.eigh for sparse A with k >= N. Use scipy.linalg.eigh(A.toarray()) or reduce k.\n",
      "Cannot use scipy.linalg.eigh for sparse A with k >= N. Use scipy.linalg.eigh(A.toarray()) or reduce k.\n",
      "Cannot use scipy.linalg.eigh for sparse A with k >= N. Use scipy.linalg.eigh(A.toarray()) or reduce k.\n",
      "Cannot use scipy.linalg.eigh for sparse A with k >= N. Use scipy.linalg.eigh(A.toarray()) or reduce k.\n",
      "Cannot use scipy.linalg.eigh for sparse A with k >= N. Use scipy.linalg.eigh(A.toarray()) or reduce k.\n",
      "89\n"
     ]
    },
    {
     "name": "stderr",
     "output_type": "stream",
     "text": [
      "c:\\Users\\ryosh\\enrich_me\\.venv\\Lib\\site-packages\\umap\\spectral.py:519: RuntimeWarning: k >= N for N * N square matrix. Attempting to use scipy.linalg.eigh instead.\n",
      "  eigenvalues, eigenvectors = scipy.sparse.linalg.eigsh(\n",
      "c:\\Users\\ryosh\\enrich_me\\.venv\\Lib\\site-packages\\umap\\umap_.py:2462: UserWarning: n_neighbors is larger than the dataset size; truncating to X.shape[0] - 1\n",
      "  warn(\n",
      "c:\\Users\\ryosh\\enrich_me\\.venv\\Lib\\site-packages\\umap\\spectral.py:519: RuntimeWarning: k >= N for N * N square matrix. Attempting to use scipy.linalg.eigh instead.\n",
      "  eigenvalues, eigenvectors = scipy.sparse.linalg.eigsh(\n",
      "c:\\Users\\ryosh\\enrich_me\\.venv\\Lib\\site-packages\\umap\\spectral.py:519: RuntimeWarning: k >= N for N * N square matrix. Attempting to use scipy.linalg.eigh instead.\n",
      "  eigenvalues, eigenvectors = scipy.sparse.linalg.eigsh(\n",
      "c:\\Users\\ryosh\\enrich_me\\.venv\\Lib\\site-packages\\umap\\spectral.py:519: RuntimeWarning: k >= N for N * N square matrix. Attempting to use scipy.linalg.eigh instead.\n",
      "  eigenvalues, eigenvectors = scipy.sparse.linalg.eigsh(\n",
      "c:\\Users\\ryosh\\enrich_me\\.venv\\Lib\\site-packages\\umap\\spectral.py:519: RuntimeWarning: k >= N for N * N square matrix. Attempting to use scipy.linalg.eigh instead.\n",
      "  eigenvalues, eigenvectors = scipy.sparse.linalg.eigsh(\n",
      "c:\\Users\\ryosh\\enrich_me\\.venv\\Lib\\site-packages\\umap\\spectral.py:519: RuntimeWarning: k >= N for N * N square matrix. Attempting to use scipy.linalg.eigh instead.\n",
      "  eigenvalues, eigenvectors = scipy.sparse.linalg.eigsh(\n"
     ]
    },
    {
     "name": "stdout",
     "output_type": "stream",
     "text": [
      "Cannot use scipy.linalg.eigh for sparse A with k >= N. Use scipy.linalg.eigh(A.toarray()) or reduce k.\n",
      "Cannot use scipy.linalg.eigh for sparse A with k >= N. Use scipy.linalg.eigh(A.toarray()) or reduce k.\n",
      "Cannot use scipy.linalg.eigh for sparse A with k >= N. Use scipy.linalg.eigh(A.toarray()) or reduce k.\n",
      "Cannot use scipy.linalg.eigh for sparse A with k >= N. Use scipy.linalg.eigh(A.toarray()) or reduce k.\n",
      "Cannot use scipy.linalg.eigh for sparse A with k >= N. Use scipy.linalg.eigh(A.toarray()) or reduce k.\n",
      "Cannot use scipy.linalg.eigh for sparse A with k >= N. Use scipy.linalg.eigh(A.toarray()) or reduce k.\n",
      "90\n"
     ]
    },
    {
     "name": "stderr",
     "output_type": "stream",
     "text": [
      "c:\\Users\\ryosh\\enrich_me\\.venv\\Lib\\site-packages\\umap\\umap_.py:2462: UserWarning: n_neighbors is larger than the dataset size; truncating to X.shape[0] - 1\n",
      "  warn(\n",
      "c:\\Users\\ryosh\\enrich_me\\.venv\\Lib\\site-packages\\umap\\spectral.py:519: RuntimeWarning: k >= N for N * N square matrix. Attempting to use scipy.linalg.eigh instead.\n",
      "  eigenvalues, eigenvectors = scipy.sparse.linalg.eigsh(\n",
      "c:\\Users\\ryosh\\enrich_me\\.venv\\Lib\\site-packages\\umap\\spectral.py:519: RuntimeWarning: k >= N for N * N square matrix. Attempting to use scipy.linalg.eigh instead.\n",
      "  eigenvalues, eigenvectors = scipy.sparse.linalg.eigsh(\n",
      "c:\\Users\\ryosh\\enrich_me\\.venv\\Lib\\site-packages\\umap\\spectral.py:519: RuntimeWarning: k >= N for N * N square matrix. Attempting to use scipy.linalg.eigh instead.\n",
      "  eigenvalues, eigenvectors = scipy.sparse.linalg.eigsh(\n",
      "c:\\Users\\ryosh\\enrich_me\\.venv\\Lib\\site-packages\\umap\\spectral.py:519: RuntimeWarning: k >= N for N * N square matrix. Attempting to use scipy.linalg.eigh instead.\n",
      "  eigenvalues, eigenvectors = scipy.sparse.linalg.eigsh(\n",
      "c:\\Users\\ryosh\\enrich_me\\.venv\\Lib\\site-packages\\umap\\spectral.py:519: RuntimeWarning: k >= N for N * N square matrix. Attempting to use scipy.linalg.eigh instead.\n",
      "  eigenvalues, eigenvectors = scipy.sparse.linalg.eigsh(\n",
      "c:\\Users\\ryosh\\enrich_me\\.venv\\Lib\\site-packages\\umap\\spectral.py:519: RuntimeWarning: k >= N for N * N square matrix. Attempting to use scipy.linalg.eigh instead.\n",
      "  eigenvalues, eigenvectors = scipy.sparse.linalg.eigsh(\n",
      "c:\\Users\\ryosh\\enrich_me\\.venv\\Lib\\site-packages\\umap\\spectral.py:519: RuntimeWarning: k >= N for N * N square matrix. Attempting to use scipy.linalg.eigh instead.\n",
      "  eigenvalues, eigenvectors = scipy.sparse.linalg.eigsh(\n"
     ]
    },
    {
     "name": "stdout",
     "output_type": "stream",
     "text": [
      "Cannot use scipy.linalg.eigh for sparse A with k >= N. Use scipy.linalg.eigh(A.toarray()) or reduce k.\n",
      "Cannot use scipy.linalg.eigh for sparse A with k >= N. Use scipy.linalg.eigh(A.toarray()) or reduce k.\n",
      "Cannot use scipy.linalg.eigh for sparse A with k >= N. Use scipy.linalg.eigh(A.toarray()) or reduce k.\n",
      "Cannot use scipy.linalg.eigh for sparse A with k >= N. Use scipy.linalg.eigh(A.toarray()) or reduce k.\n",
      "Cannot use scipy.linalg.eigh for sparse A with k >= N. Use scipy.linalg.eigh(A.toarray()) or reduce k.\n",
      "Cannot use scipy.linalg.eigh for sparse A with k >= N. Use scipy.linalg.eigh(A.toarray()) or reduce k.\n",
      "Cannot use scipy.linalg.eigh for sparse A with k >= N. Use scipy.linalg.eigh(A.toarray()) or reduce k.\n",
      "91\n"
     ]
    },
    {
     "name": "stderr",
     "output_type": "stream",
     "text": [
      "c:\\Users\\ryosh\\enrich_me\\.venv\\Lib\\site-packages\\umap\\spectral.py:519: RuntimeWarning: k >= N for N * N square matrix. Attempting to use scipy.linalg.eigh instead.\n",
      "  eigenvalues, eigenvectors = scipy.sparse.linalg.eigsh(\n",
      "c:\\Users\\ryosh\\enrich_me\\.venv\\Lib\\site-packages\\umap\\spectral.py:519: RuntimeWarning: k >= N for N * N square matrix. Attempting to use scipy.linalg.eigh instead.\n",
      "  eigenvalues, eigenvectors = scipy.sparse.linalg.eigsh(\n",
      "c:\\Users\\ryosh\\enrich_me\\.venv\\Lib\\site-packages\\umap\\umap_.py:2462: UserWarning: n_neighbors is larger than the dataset size; truncating to X.shape[0] - 1\n",
      "  warn(\n",
      "c:\\Users\\ryosh\\enrich_me\\.venv\\Lib\\site-packages\\umap\\spectral.py:519: RuntimeWarning: k >= N for N * N square matrix. Attempting to use scipy.linalg.eigh instead.\n",
      "  eigenvalues, eigenvectors = scipy.sparse.linalg.eigsh(\n",
      "c:\\Users\\ryosh\\enrich_me\\.venv\\Lib\\site-packages\\umap\\spectral.py:519: RuntimeWarning: k >= N for N * N square matrix. Attempting to use scipy.linalg.eigh instead.\n",
      "  eigenvalues, eigenvectors = scipy.sparse.linalg.eigsh(\n",
      "c:\\Users\\ryosh\\enrich_me\\.venv\\Lib\\site-packages\\umap\\umap_.py:2462: UserWarning: n_neighbors is larger than the dataset size; truncating to X.shape[0] - 1\n",
      "  warn(\n"
     ]
    },
    {
     "name": "stdout",
     "output_type": "stream",
     "text": [
      "Cannot use scipy.linalg.eigh for sparse A with k >= N. Use scipy.linalg.eigh(A.toarray()) or reduce k.\n",
      "Cannot use scipy.linalg.eigh for sparse A with k >= N. Use scipy.linalg.eigh(A.toarray()) or reduce k.\n",
      "Cannot use scipy.linalg.eigh for sparse A with k >= N. Use scipy.linalg.eigh(A.toarray()) or reduce k.\n",
      "Cannot use scipy.linalg.eigh for sparse A with k >= N. Use scipy.linalg.eigh(A.toarray()) or reduce k.\n"
     ]
    },
    {
     "name": "stderr",
     "output_type": "stream",
     "text": [
      "c:\\Users\\ryosh\\enrich_me\\.venv\\Lib\\site-packages\\umap\\spectral.py:519: RuntimeWarning: k >= N for N * N square matrix. Attempting to use scipy.linalg.eigh instead.\n",
      "  eigenvalues, eigenvectors = scipy.sparse.linalg.eigsh(\n",
      "c:\\Users\\ryosh\\enrich_me\\.venv\\Lib\\site-packages\\umap\\spectral.py:519: RuntimeWarning: k >= N for N * N square matrix. Attempting to use scipy.linalg.eigh instead.\n",
      "  eigenvalues, eigenvectors = scipy.sparse.linalg.eigsh(\n",
      "c:\\Users\\ryosh\\enrich_me\\.venv\\Lib\\site-packages\\umap\\spectral.py:519: RuntimeWarning: k >= N for N * N square matrix. Attempting to use scipy.linalg.eigh instead.\n",
      "  eigenvalues, eigenvectors = scipy.sparse.linalg.eigsh(\n"
     ]
    },
    {
     "name": "stdout",
     "output_type": "stream",
     "text": [
      "Cannot use scipy.linalg.eigh for sparse A with k >= N. Use scipy.linalg.eigh(A.toarray()) or reduce k.\n",
      "Cannot use scipy.linalg.eigh for sparse A with k >= N. Use scipy.linalg.eigh(A.toarray()) or reduce k.\n",
      "Cannot use scipy.linalg.eigh for sparse A with k >= N. Use scipy.linalg.eigh(A.toarray()) or reduce k.\n",
      "92\n"
     ]
    },
    {
     "name": "stderr",
     "output_type": "stream",
     "text": [
      "c:\\Users\\ryosh\\enrich_me\\.venv\\Lib\\site-packages\\umap\\umap_.py:2462: UserWarning: n_neighbors is larger than the dataset size; truncating to X.shape[0] - 1\n",
      "  warn(\n",
      "c:\\Users\\ryosh\\enrich_me\\.venv\\Lib\\site-packages\\umap\\spectral.py:519: RuntimeWarning: k >= N for N * N square matrix. Attempting to use scipy.linalg.eigh instead.\n",
      "  eigenvalues, eigenvectors = scipy.sparse.linalg.eigsh(\n",
      "c:\\Users\\ryosh\\enrich_me\\.venv\\Lib\\site-packages\\umap\\spectral.py:519: RuntimeWarning: k >= N for N * N square matrix. Attempting to use scipy.linalg.eigh instead.\n",
      "  eigenvalues, eigenvectors = scipy.sparse.linalg.eigsh(\n",
      "c:\\Users\\ryosh\\enrich_me\\.venv\\Lib\\site-packages\\umap\\spectral.py:519: RuntimeWarning: k >= N for N * N square matrix. Attempting to use scipy.linalg.eigh instead.\n",
      "  eigenvalues, eigenvectors = scipy.sparse.linalg.eigsh(\n",
      "c:\\Users\\ryosh\\enrich_me\\.venv\\Lib\\site-packages\\umap\\spectral.py:519: RuntimeWarning: k >= N for N * N square matrix. Attempting to use scipy.linalg.eigh instead.\n",
      "  eigenvalues, eigenvectors = scipy.sparse.linalg.eigsh(\n",
      "c:\\Users\\ryosh\\enrich_me\\.venv\\Lib\\site-packages\\umap\\spectral.py:519: RuntimeWarning: k >= N for N * N square matrix. Attempting to use scipy.linalg.eigh instead.\n",
      "  eigenvalues, eigenvectors = scipy.sparse.linalg.eigsh(\n",
      "c:\\Users\\ryosh\\enrich_me\\.venv\\Lib\\site-packages\\umap\\spectral.py:519: RuntimeWarning: k >= N for N * N square matrix. Attempting to use scipy.linalg.eigh instead.\n",
      "  eigenvalues, eigenvectors = scipy.sparse.linalg.eigsh(\n"
     ]
    },
    {
     "name": "stdout",
     "output_type": "stream",
     "text": [
      "Cannot use scipy.linalg.eigh for sparse A with k >= N. Use scipy.linalg.eigh(A.toarray()) or reduce k.\n",
      "Cannot use scipy.linalg.eigh for sparse A with k >= N. Use scipy.linalg.eigh(A.toarray()) or reduce k.\n",
      "Cannot use scipy.linalg.eigh for sparse A with k >= N. Use scipy.linalg.eigh(A.toarray()) or reduce k.\n",
      "Cannot use scipy.linalg.eigh for sparse A with k >= N. Use scipy.linalg.eigh(A.toarray()) or reduce k.\n",
      "Cannot use scipy.linalg.eigh for sparse A with k >= N. Use scipy.linalg.eigh(A.toarray()) or reduce k.\n",
      "Cannot use scipy.linalg.eigh for sparse A with k >= N. Use scipy.linalg.eigh(A.toarray()) or reduce k.\n",
      "93\n"
     ]
    },
    {
     "name": "stderr",
     "output_type": "stream",
     "text": [
      "c:\\Users\\ryosh\\enrich_me\\.venv\\Lib\\site-packages\\umap\\umap_.py:2462: UserWarning: n_neighbors is larger than the dataset size; truncating to X.shape[0] - 1\n",
      "  warn(\n",
      "c:\\Users\\ryosh\\enrich_me\\.venv\\Lib\\site-packages\\umap\\spectral.py:519: RuntimeWarning: k >= N for N * N square matrix. Attempting to use scipy.linalg.eigh instead.\n",
      "  eigenvalues, eigenvectors = scipy.sparse.linalg.eigsh(\n",
      "c:\\Users\\ryosh\\enrich_me\\.venv\\Lib\\site-packages\\umap\\umap_.py:2462: UserWarning: n_neighbors is larger than the dataset size; truncating to X.shape[0] - 1\n",
      "  warn(\n",
      "c:\\Users\\ryosh\\enrich_me\\.venv\\Lib\\site-packages\\umap\\spectral.py:519: RuntimeWarning: k >= N for N * N square matrix. Attempting to use scipy.linalg.eigh instead.\n",
      "  eigenvalues, eigenvectors = scipy.sparse.linalg.eigsh(\n",
      "c:\\Users\\ryosh\\enrich_me\\.venv\\Lib\\site-packages\\umap\\spectral.py:519: RuntimeWarning: k >= N for N * N square matrix. Attempting to use scipy.linalg.eigh instead.\n",
      "  eigenvalues, eigenvectors = scipy.sparse.linalg.eigsh(\n",
      "c:\\Users\\ryosh\\enrich_me\\.venv\\Lib\\site-packages\\umap\\spectral.py:519: RuntimeWarning: k >= N for N * N square matrix. Attempting to use scipy.linalg.eigh instead.\n",
      "  eigenvalues, eigenvectors = scipy.sparse.linalg.eigsh(\n",
      "c:\\Users\\ryosh\\enrich_me\\.venv\\Lib\\site-packages\\umap\\spectral.py:519: RuntimeWarning: k >= N for N * N square matrix. Attempting to use scipy.linalg.eigh instead.\n",
      "  eigenvalues, eigenvectors = scipy.sparse.linalg.eigsh(\n",
      "c:\\Users\\ryosh\\enrich_me\\.venv\\Lib\\site-packages\\umap\\spectral.py:519: RuntimeWarning: k >= N for N * N square matrix. Attempting to use scipy.linalg.eigh instead.\n",
      "  eigenvalues, eigenvectors = scipy.sparse.linalg.eigsh(\n"
     ]
    },
    {
     "name": "stdout",
     "output_type": "stream",
     "text": [
      "Cannot use scipy.linalg.eigh for sparse A with k >= N. Use scipy.linalg.eigh(A.toarray()) or reduce k.\n",
      "Cannot use scipy.linalg.eigh for sparse A with k >= N. Use scipy.linalg.eigh(A.toarray()) or reduce k.\n",
      "Cannot use scipy.linalg.eigh for sparse A with k >= N. Use scipy.linalg.eigh(A.toarray()) or reduce k.\n",
      "Cannot use scipy.linalg.eigh for sparse A with k >= N. Use scipy.linalg.eigh(A.toarray()) or reduce k.\n",
      "Cannot use scipy.linalg.eigh for sparse A with k >= N. Use scipy.linalg.eigh(A.toarray()) or reduce k.\n",
      "Cannot use scipy.linalg.eigh for sparse A with k >= N. Use scipy.linalg.eigh(A.toarray()) or reduce k.\n",
      "94\n"
     ]
    },
    {
     "name": "stderr",
     "output_type": "stream",
     "text": [
      "c:\\Users\\ryosh\\enrich_me\\.venv\\Lib\\site-packages\\umap\\spectral.py:519: RuntimeWarning: k >= N for N * N square matrix. Attempting to use scipy.linalg.eigh instead.\n",
      "  eigenvalues, eigenvectors = scipy.sparse.linalg.eigsh(\n",
      "c:\\Users\\ryosh\\enrich_me\\.venv\\Lib\\site-packages\\umap\\umap_.py:2462: UserWarning: n_neighbors is larger than the dataset size; truncating to X.shape[0] - 1\n",
      "  warn(\n",
      "c:\\Users\\ryosh\\enrich_me\\.venv\\Lib\\site-packages\\umap\\spectral.py:519: RuntimeWarning: k >= N for N * N square matrix. Attempting to use scipy.linalg.eigh instead.\n",
      "  eigenvalues, eigenvectors = scipy.sparse.linalg.eigsh(\n",
      "c:\\Users\\ryosh\\enrich_me\\.venv\\Lib\\site-packages\\umap\\spectral.py:519: RuntimeWarning: k >= N for N * N square matrix. Attempting to use scipy.linalg.eigh instead.\n",
      "  eigenvalues, eigenvectors = scipy.sparse.linalg.eigsh(\n",
      "c:\\Users\\ryosh\\enrich_me\\.venv\\Lib\\site-packages\\umap\\spectral.py:519: RuntimeWarning: k >= N for N * N square matrix. Attempting to use scipy.linalg.eigh instead.\n",
      "  eigenvalues, eigenvectors = scipy.sparse.linalg.eigsh(\n",
      "c:\\Users\\ryosh\\enrich_me\\.venv\\Lib\\site-packages\\umap\\spectral.py:519: RuntimeWarning: k >= N for N * N square matrix. Attempting to use scipy.linalg.eigh instead.\n",
      "  eigenvalues, eigenvectors = scipy.sparse.linalg.eigsh(\n",
      "c:\\Users\\ryosh\\enrich_me\\.venv\\Lib\\site-packages\\umap\\spectral.py:519: RuntimeWarning: k >= N for N * N square matrix. Attempting to use scipy.linalg.eigh instead.\n",
      "  eigenvalues, eigenvectors = scipy.sparse.linalg.eigsh(\n"
     ]
    },
    {
     "name": "stdout",
     "output_type": "stream",
     "text": [
      "Cannot use scipy.linalg.eigh for sparse A with k >= N. Use scipy.linalg.eigh(A.toarray()) or reduce k.\n",
      "Cannot use scipy.linalg.eigh for sparse A with k >= N. Use scipy.linalg.eigh(A.toarray()) or reduce k.\n",
      "Cannot use scipy.linalg.eigh for sparse A with k >= N. Use scipy.linalg.eigh(A.toarray()) or reduce k.\n",
      "Cannot use scipy.linalg.eigh for sparse A with k >= N. Use scipy.linalg.eigh(A.toarray()) or reduce k.\n",
      "Cannot use scipy.linalg.eigh for sparse A with k >= N. Use scipy.linalg.eigh(A.toarray()) or reduce k.\n",
      "Cannot use scipy.linalg.eigh for sparse A with k >= N. Use scipy.linalg.eigh(A.toarray()) or reduce k.\n",
      "95\n"
     ]
    },
    {
     "name": "stderr",
     "output_type": "stream",
     "text": [
      "c:\\Users\\ryosh\\enrich_me\\.venv\\Lib\\site-packages\\umap\\spectral.py:519: RuntimeWarning: k >= N for N * N square matrix. Attempting to use scipy.linalg.eigh instead.\n",
      "  eigenvalues, eigenvectors = scipy.sparse.linalg.eigsh(\n",
      "c:\\Users\\ryosh\\enrich_me\\.venv\\Lib\\site-packages\\umap\\spectral.py:519: RuntimeWarning: k >= N for N * N square matrix. Attempting to use scipy.linalg.eigh instead.\n",
      "  eigenvalues, eigenvectors = scipy.sparse.linalg.eigsh(\n",
      "c:\\Users\\ryosh\\enrich_me\\.venv\\Lib\\site-packages\\umap\\spectral.py:519: RuntimeWarning: k >= N for N * N square matrix. Attempting to use scipy.linalg.eigh instead.\n",
      "  eigenvalues, eigenvectors = scipy.sparse.linalg.eigsh(\n",
      "c:\\Users\\ryosh\\enrich_me\\.venv\\Lib\\site-packages\\umap\\umap_.py:2462: UserWarning: n_neighbors is larger than the dataset size; truncating to X.shape[0] - 1\n",
      "  warn(\n",
      "c:\\Users\\ryosh\\enrich_me\\.venv\\Lib\\site-packages\\umap\\spectral.py:519: RuntimeWarning: k >= N for N * N square matrix. Attempting to use scipy.linalg.eigh instead.\n",
      "  eigenvalues, eigenvectors = scipy.sparse.linalg.eigsh(\n",
      "c:\\Users\\ryosh\\enrich_me\\.venv\\Lib\\site-packages\\umap\\spectral.py:519: RuntimeWarning: k >= N for N * N square matrix. Attempting to use scipy.linalg.eigh instead.\n",
      "  eigenvalues, eigenvectors = scipy.sparse.linalg.eigsh(\n",
      "c:\\Users\\ryosh\\enrich_me\\.venv\\Lib\\site-packages\\umap\\spectral.py:519: RuntimeWarning: k >= N for N * N square matrix. Attempting to use scipy.linalg.eigh instead.\n",
      "  eigenvalues, eigenvectors = scipy.sparse.linalg.eigsh(\n"
     ]
    },
    {
     "name": "stdout",
     "output_type": "stream",
     "text": [
      "Cannot use scipy.linalg.eigh for sparse A with k >= N. Use scipy.linalg.eigh(A.toarray()) or reduce k.\n",
      "Cannot use scipy.linalg.eigh for sparse A with k >= N. Use scipy.linalg.eigh(A.toarray()) or reduce k.\n",
      "Cannot use scipy.linalg.eigh for sparse A with k >= N. Use scipy.linalg.eigh(A.toarray()) or reduce k.\n",
      "Cannot use scipy.linalg.eigh for sparse A with k >= N. Use scipy.linalg.eigh(A.toarray()) or reduce k.\n",
      "Cannot use scipy.linalg.eigh for sparse A with k >= N. Use scipy.linalg.eigh(A.toarray()) or reduce k.\n",
      "Cannot use scipy.linalg.eigh for sparse A with k >= N. Use scipy.linalg.eigh(A.toarray()) or reduce k.\n",
      "96\n"
     ]
    },
    {
     "name": "stderr",
     "output_type": "stream",
     "text": [
      "c:\\Users\\ryosh\\enrich_me\\.venv\\Lib\\site-packages\\umap\\spectral.py:519: RuntimeWarning: k >= N for N * N square matrix. Attempting to use scipy.linalg.eigh instead.\n",
      "  eigenvalues, eigenvectors = scipy.sparse.linalg.eigsh(\n",
      "c:\\Users\\ryosh\\enrich_me\\.venv\\Lib\\site-packages\\umap\\umap_.py:2462: UserWarning: n_neighbors is larger than the dataset size; truncating to X.shape[0] - 1\n",
      "  warn(\n",
      "c:\\Users\\ryosh\\enrich_me\\.venv\\Lib\\site-packages\\umap\\spectral.py:519: RuntimeWarning: k >= N for N * N square matrix. Attempting to use scipy.linalg.eigh instead.\n",
      "  eigenvalues, eigenvectors = scipy.sparse.linalg.eigsh(\n",
      "c:\\Users\\ryosh\\enrich_me\\.venv\\Lib\\site-packages\\umap\\spectral.py:519: RuntimeWarning: k >= N for N * N square matrix. Attempting to use scipy.linalg.eigh instead.\n",
      "  eigenvalues, eigenvectors = scipy.sparse.linalg.eigsh(\n",
      "c:\\Users\\ryosh\\enrich_me\\.venv\\Lib\\site-packages\\umap\\spectral.py:519: RuntimeWarning: k >= N for N * N square matrix. Attempting to use scipy.linalg.eigh instead.\n",
      "  eigenvalues, eigenvectors = scipy.sparse.linalg.eigsh(\n",
      "c:\\Users\\ryosh\\enrich_me\\.venv\\Lib\\site-packages\\umap\\spectral.py:519: RuntimeWarning: k >= N for N * N square matrix. Attempting to use scipy.linalg.eigh instead.\n",
      "  eigenvalues, eigenvectors = scipy.sparse.linalg.eigsh(\n",
      "c:\\Users\\ryosh\\enrich_me\\.venv\\Lib\\site-packages\\umap\\spectral.py:519: RuntimeWarning: k >= N for N * N square matrix. Attempting to use scipy.linalg.eigh instead.\n",
      "  eigenvalues, eigenvectors = scipy.sparse.linalg.eigsh(\n"
     ]
    },
    {
     "name": "stdout",
     "output_type": "stream",
     "text": [
      "Cannot use scipy.linalg.eigh for sparse A with k >= N. Use scipy.linalg.eigh(A.toarray()) or reduce k.\n",
      "Cannot use scipy.linalg.eigh for sparse A with k >= N. Use scipy.linalg.eigh(A.toarray()) or reduce k.\n",
      "Cannot use scipy.linalg.eigh for sparse A with k >= N. Use scipy.linalg.eigh(A.toarray()) or reduce k.\n",
      "Cannot use scipy.linalg.eigh for sparse A with k >= N. Use scipy.linalg.eigh(A.toarray()) or reduce k.\n",
      "Cannot use scipy.linalg.eigh for sparse A with k >= N. Use scipy.linalg.eigh(A.toarray()) or reduce k.\n",
      "Cannot use scipy.linalg.eigh for sparse A with k >= N. Use scipy.linalg.eigh(A.toarray()) or reduce k.\n",
      "97\n"
     ]
    },
    {
     "name": "stderr",
     "output_type": "stream",
     "text": [
      "c:\\Users\\ryosh\\enrich_me\\.venv\\Lib\\site-packages\\umap\\umap_.py:2462: UserWarning: n_neighbors is larger than the dataset size; truncating to X.shape[0] - 1\n",
      "  warn(\n",
      "c:\\Users\\ryosh\\enrich_me\\.venv\\Lib\\site-packages\\umap\\spectral.py:519: RuntimeWarning: k >= N for N * N square matrix. Attempting to use scipy.linalg.eigh instead.\n",
      "  eigenvalues, eigenvectors = scipy.sparse.linalg.eigsh(\n",
      "c:\\Users\\ryosh\\enrich_me\\.venv\\Lib\\site-packages\\umap\\spectral.py:519: RuntimeWarning: k >= N for N * N square matrix. Attempting to use scipy.linalg.eigh instead.\n",
      "  eigenvalues, eigenvectors = scipy.sparse.linalg.eigsh(\n",
      "c:\\Users\\ryosh\\enrich_me\\.venv\\Lib\\site-packages\\umap\\spectral.py:519: RuntimeWarning: k >= N for N * N square matrix. Attempting to use scipy.linalg.eigh instead.\n",
      "  eigenvalues, eigenvectors = scipy.sparse.linalg.eigsh(\n",
      "c:\\Users\\ryosh\\enrich_me\\.venv\\Lib\\site-packages\\umap\\spectral.py:519: RuntimeWarning: k >= N for N * N square matrix. Attempting to use scipy.linalg.eigh instead.\n",
      "  eigenvalues, eigenvectors = scipy.sparse.linalg.eigsh(\n",
      "c:\\Users\\ryosh\\enrich_me\\.venv\\Lib\\site-packages\\umap\\spectral.py:519: RuntimeWarning: k >= N for N * N square matrix. Attempting to use scipy.linalg.eigh instead.\n",
      "  eigenvalues, eigenvectors = scipy.sparse.linalg.eigsh(\n",
      "c:\\Users\\ryosh\\enrich_me\\.venv\\Lib\\site-packages\\umap\\spectral.py:519: RuntimeWarning: k >= N for N * N square matrix. Attempting to use scipy.linalg.eigh instead.\n",
      "  eigenvalues, eigenvectors = scipy.sparse.linalg.eigsh(\n"
     ]
    },
    {
     "name": "stdout",
     "output_type": "stream",
     "text": [
      "Cannot use scipy.linalg.eigh for sparse A with k >= N. Use scipy.linalg.eigh(A.toarray()) or reduce k.\n",
      "Cannot use scipy.linalg.eigh for sparse A with k >= N. Use scipy.linalg.eigh(A.toarray()) or reduce k.\n",
      "Cannot use scipy.linalg.eigh for sparse A with k >= N. Use scipy.linalg.eigh(A.toarray()) or reduce k.\n",
      "Cannot use scipy.linalg.eigh for sparse A with k >= N. Use scipy.linalg.eigh(A.toarray()) or reduce k.\n",
      "Cannot use scipy.linalg.eigh for sparse A with k >= N. Use scipy.linalg.eigh(A.toarray()) or reduce k.\n",
      "Cannot use scipy.linalg.eigh for sparse A with k >= N. Use scipy.linalg.eigh(A.toarray()) or reduce k.\n",
      "98\n"
     ]
    },
    {
     "name": "stderr",
     "output_type": "stream",
     "text": [
      "c:\\Users\\ryosh\\enrich_me\\.venv\\Lib\\site-packages\\umap\\spectral.py:519: RuntimeWarning: k >= N for N * N square matrix. Attempting to use scipy.linalg.eigh instead.\n",
      "  eigenvalues, eigenvectors = scipy.sparse.linalg.eigsh(\n",
      "c:\\Users\\ryosh\\enrich_me\\.venv\\Lib\\site-packages\\umap\\spectral.py:519: RuntimeWarning: k >= N for N * N square matrix. Attempting to use scipy.linalg.eigh instead.\n",
      "  eigenvalues, eigenvectors = scipy.sparse.linalg.eigsh(\n",
      "c:\\Users\\ryosh\\enrich_me\\.venv\\Lib\\site-packages\\umap\\spectral.py:519: RuntimeWarning: k >= N for N * N square matrix. Attempting to use scipy.linalg.eigh instead.\n",
      "  eigenvalues, eigenvectors = scipy.sparse.linalg.eigsh(\n",
      "c:\\Users\\ryosh\\enrich_me\\.venv\\Lib\\site-packages\\umap\\spectral.py:519: RuntimeWarning: k >= N for N * N square matrix. Attempting to use scipy.linalg.eigh instead.\n",
      "  eigenvalues, eigenvectors = scipy.sparse.linalg.eigsh(\n",
      "c:\\Users\\ryosh\\enrich_me\\.venv\\Lib\\site-packages\\umap\\spectral.py:519: RuntimeWarning: k >= N for N * N square matrix. Attempting to use scipy.linalg.eigh instead.\n",
      "  eigenvalues, eigenvectors = scipy.sparse.linalg.eigsh(\n",
      "c:\\Users\\ryosh\\enrich_me\\.venv\\Lib\\site-packages\\umap\\umap_.py:2462: UserWarning: n_neighbors is larger than the dataset size; truncating to X.shape[0] - 1\n",
      "  warn(\n",
      "c:\\Users\\ryosh\\enrich_me\\.venv\\Lib\\site-packages\\umap\\spectral.py:519: RuntimeWarning: k >= N for N * N square matrix. Attempting to use scipy.linalg.eigh instead.\n",
      "  eigenvalues, eigenvectors = scipy.sparse.linalg.eigsh(\n"
     ]
    },
    {
     "name": "stdout",
     "output_type": "stream",
     "text": [
      "Cannot use scipy.linalg.eigh for sparse A with k >= N. Use scipy.linalg.eigh(A.toarray()) or reduce k.\n",
      "Cannot use scipy.linalg.eigh for sparse A with k >= N. Use scipy.linalg.eigh(A.toarray()) or reduce k.\n",
      "Cannot use scipy.linalg.eigh for sparse A with k >= N. Use scipy.linalg.eigh(A.toarray()) or reduce k.\n",
      "Cannot use scipy.linalg.eigh for sparse A with k >= N. Use scipy.linalg.eigh(A.toarray()) or reduce k.\n",
      "Cannot use scipy.linalg.eigh for sparse A with k >= N. Use scipy.linalg.eigh(A.toarray()) or reduce k.\n",
      "Cannot use scipy.linalg.eigh for sparse A with k >= N. Use scipy.linalg.eigh(A.toarray()) or reduce k.\n",
      "99\n",
      "Cannot use scipy.linalg.eigh for sparse A with k >= N. Use scipy.linalg.eigh(A.toarray()) or reduce k.\n",
      "Cannot use scipy.linalg.eigh for sparse A with k >= N. Use scipy.linalg.eigh(A.toarray()) or reduce k.\n",
      "Cannot use scipy.linalg.eigh for sparse A with k >= N. Use scipy.linalg.eigh(A.toarray()) or reduce k.\n",
      "Cannot use scipy.linalg.eigh for sparse A with k >= N. Use scipy.linalg.eigh(A.toarray()) or reduce k.\n",
      "Cannot use scipy.linalg.eigh for sparse A with k >= N. Use scipy.linalg.eigh(A.toarray()) or reduce k.\n",
      "Completed!\n"
     ]
    },
    {
     "name": "stderr",
     "output_type": "stream",
     "text": [
      "c:\\Users\\ryosh\\enrich_me\\.venv\\Lib\\site-packages\\umap\\spectral.py:519: RuntimeWarning: k >= N for N * N square matrix. Attempting to use scipy.linalg.eigh instead.\n",
      "  eigenvalues, eigenvectors = scipy.sparse.linalg.eigsh(\n",
      "c:\\Users\\ryosh\\enrich_me\\.venv\\Lib\\site-packages\\umap\\spectral.py:519: RuntimeWarning: k >= N for N * N square matrix. Attempting to use scipy.linalg.eigh instead.\n",
      "  eigenvalues, eigenvectors = scipy.sparse.linalg.eigsh(\n",
      "c:\\Users\\ryosh\\enrich_me\\.venv\\Lib\\site-packages\\umap\\spectral.py:519: RuntimeWarning: k >= N for N * N square matrix. Attempting to use scipy.linalg.eigh instead.\n",
      "  eigenvalues, eigenvectors = scipy.sparse.linalg.eigsh(\n",
      "c:\\Users\\ryosh\\enrich_me\\.venv\\Lib\\site-packages\\umap\\spectral.py:519: RuntimeWarning: k >= N for N * N square matrix. Attempting to use scipy.linalg.eigh instead.\n",
      "  eigenvalues, eigenvectors = scipy.sparse.linalg.eigsh(\n",
      "c:\\Users\\ryosh\\enrich_me\\.venv\\Lib\\site-packages\\umap\\spectral.py:519: RuntimeWarning: k >= N for N * N square matrix. Attempting to use scipy.linalg.eigh instead.\n",
      "  eigenvalues, eigenvectors = scipy.sparse.linalg.eigsh(\n"
     ]
    }
   ],
   "source": [
    "import warnings\n",
    "np.warnings = warnings #np.warningsが存在しないエラーの対策\n",
    "dfs_clustered = []\n",
    "for n in range(100):\n",
    "    print(n)\n",
    "    # xmeansを適用してクラスタ中心を求める\n",
    "    df_xmeans = apply_xmeans(df=umaped_df, n_iteration=30, kmax=20)\n",
    "    # 求めたクラスタ中心を利用してクラスタリング\n",
    "    xm_c = kmeans_plusplus_initializer(data=df_xmeans, amount_centers=2).initialize()\n",
    "    xm_i = xmeans(data=df_xmeans, initial_centers=xm_c, kmax=2, tolerrance=0.001, ccore=True)\n",
    "    xm_i.process()\n",
    "\n",
    "    #初回のクラスタリング\n",
    "    cluster_nums = []\n",
    "    tickers = []\n",
    "    for cluster_num, ticker_num in enumerate(xm_i._xmeans__clusters):\n",
    "        cluster_nums += [cluster_num for _ in range(len(ticker_num))]\n",
    "        tickers += df_xmeans.index[ticker_num].values.tolist()\n",
    "\n",
    "    df_clustered = pd.DataFrame(tickers, columns=['Code'])\n",
    "    df_clustered = pd.merge(df_clustered, \n",
    "                tickers_df[['Code', 'CompanyName', 'Sector33CodeName']].drop_duplicates(subset='Code', keep='last'),\n",
    "                how='left',\n",
    "                on='Code')\n",
    "    df_clustered['Cluster'] = cluster_nums\n",
    "\n",
    "    #display(df_clustered)\n",
    "    '''\n",
    "    for cluster in df_clustered['Cluster'].unique():\n",
    "        print(f'Cluster{cluster}: {len(df_clustered[df_clustered[\"Cluster\"]==cluster])} tickers')\n",
    "    '''\n",
    "\n",
    "    last_fixed_list = []\n",
    "\n",
    "    for j in range(0, 10000):\n",
    "        #print('----------------------------------')\n",
    "        #print(f'Roop {j}')\n",
    "        df_clustered = df_clustered.rename(columns={'Cluster':f'Cluster_{j}'})\n",
    "        df_clustered_list = []\n",
    "        fixed_cluster_num_list = []\n",
    "        n = 0\n",
    "\n",
    "        for i in range(df_clustered[f'Cluster_{j}'].max() + 1):\n",
    "            #print(i)\n",
    "            df = df_clustered[df_clustered[f'Cluster_{j}']==i].copy()\n",
    "            df['Code'] = df['Code'].astype(str)\n",
    "            if i in last_fixed_list:\n",
    "                #print('Already Fixed')\n",
    "                df['Cluster'] = n\n",
    "                fixed_cluster_num_list.append(n)\n",
    "                n += 1\n",
    "                df_clustered_list.append(df)\n",
    "                #display(df)\n",
    "            else:\n",
    "                code_list = df['Code'].unique().tolist()\n",
    "                #stock_price_extracted = target_df[target_df.index.get_level_values('Sector').isin(code_list)]\n",
    "                stock_price_reduced = target_df[target_df.index.get_level_values('Sector').isin(code_list)]\n",
    "                try:\n",
    "                    '''\n",
    "                    stock_price_reduced = \\\n",
    "                        TargetCalculator._get_PCAresiduals(stock_price_extracted, \n",
    "                                                            reduce_components=1,\n",
    "                                                            train_start_day=datetime(2013, 4, 5), \n",
    "                                                            train_end_day=datetime(2021, 12, 31))\n",
    "                    '''\n",
    "                    stock_price_reduced.index.names = ['Date', 'Code']\n",
    "                    reduced_df = apply_UMAP(stock_price_reduced.unstack(0),\n",
    "                        n_components = 15,\n",
    "                        n_neighbors = 5,\n",
    "                        min_dist = 0.1)\n",
    "                    reduced_df = reduced_df.sort_index(ascending=True)\n",
    "                    \n",
    "\n",
    "                    df_xmeans = apply_xmeans(df=reduced_df, n_iteration=30, kmax=2)\n",
    "                    # 求めたクラスタ中心を利用してクラスタリング\n",
    "                    xm_c = kmeans_plusplus_initializer(data=df_xmeans, amount_centers=2).initialize()\n",
    "                    xm_i = xmeans(data=df_xmeans, initial_centers=xm_c, kmax=2, tolerrance=0.0001, ccore=True)\n",
    "                    xm_i.process()\n",
    "\n",
    "                    cluster_nums = []\n",
    "                    tickers = []\n",
    "                    for cluster_num, ticker_num in enumerate(xm_i._xmeans__clusters):\n",
    "                        cluster_nums += [cluster_num for _ in range(len(ticker_num))]\n",
    "                        tickers += df_xmeans.index[ticker_num].values.tolist()\n",
    "\n",
    "                    df_clustered_new = pd.DataFrame(tickers, columns=['Code'])\n",
    "                    df_clustered_new = pd.merge(df_clustered_new, \n",
    "                                tickers_df[['Code', 'CompanyName', 'Sector33CodeName']].drop_duplicates(subset='Code', keep='last'),\n",
    "                                how='left',\n",
    "                                on='Code')\n",
    "                    df_clustered_new['Cluster'] = cluster_nums\n",
    "\n",
    "                    df_clustered_new['Cluster'] = df_clustered_new['Cluster'].replace({0:n, 1:n+1})\n",
    "                    n += 2\n",
    "\n",
    "                    df = pd.merge(df, df_clustered_new[['Code', 'Cluster']], how='inner', on='Code')\n",
    "                    df = df.sort_values(by='Cluster', ascending=True)\n",
    "                    df_clustered_list.append(df)\n",
    "                    #display(df)\n",
    "                except Exception as e:\n",
    "                    print(e)\n",
    "                    df['Cluster'] = n\n",
    "                    fixed_cluster_num_list.append(n)\n",
    "                    n += 1\n",
    "                    df_clustered_list.append(df)\n",
    "                    #display(df)\n",
    "        df_clustered = pd.concat(df_clustered_list, axis=0)\n",
    "        \n",
    "        #for cluster in df_clustered['Cluster'].unique():\n",
    "            #print(f'Cluster{cluster}: {len(df_clustered[df_clustered[\"Cluster\"]==cluster])} tickers')\n",
    "        \n",
    "            \n",
    "        last_fixed_list = fixed_cluster_num_list\n",
    "        if all(df_clustered['Cluster'] == df_clustered[f'Cluster_{j}']):\n",
    "            df_clustered = df_clustered[['Code', 'CompanyName', 'Cluster']]\n",
    "            dfs_clustered.append(df_clustered)\n",
    "            break\n",
    "            \n",
    "print('Completed!')"
   ]
  },
  {
   "cell_type": "code",
   "execution_count": 470,
   "metadata": {},
   "outputs": [
    {
     "data": {
      "text/plain": [
       "(317, 100)"
      ]
     },
     "execution_count": 470,
     "metadata": {},
     "output_type": "execute_result"
    }
   ],
   "source": [
    "dfs = pd.DataFrame(index=[dfs_clustered[0]['Code'], dfs_clustered[0]['CompanyName']])\n",
    "for i, df_clustered in enumerate(dfs_clustered):\n",
    "    df_clustered = df_clustered.set_index(['Code', 'CompanyName'], drop=True)\n",
    "    df_clustered.columns = [f'Cluster{i}']\n",
    "    dfs = pd.merge(dfs, df_clustered, how='inner', left_index=True, right_index=True)\n",
    "\n",
    "dfs.shape"
   ]
  },
  {
   "cell_type": "code",
   "execution_count": 471,
   "metadata": {},
   "outputs": [
    {
     "data": {
      "text/html": [
       "<div>\n",
       "<style scoped>\n",
       "    .dataframe tbody tr th:only-of-type {\n",
       "        vertical-align: middle;\n",
       "    }\n",
       "\n",
       "    .dataframe tbody tr th {\n",
       "        vertical-align: top;\n",
       "    }\n",
       "\n",
       "    .dataframe thead tr th {\n",
       "        text-align: left;\n",
       "    }\n",
       "\n",
       "    .dataframe thead tr:last-of-type th {\n",
       "        text-align: right;\n",
       "    }\n",
       "</style>\n",
       "<table border=\"1\" class=\"dataframe\">\n",
       "  <thead>\n",
       "    <tr>\n",
       "      <th></th>\n",
       "      <th>Code</th>\n",
       "      <th>オカムラ</th>\n",
       "      <th>ＥＩＺＯ</th>\n",
       "      <th>極東開発工業</th>\n",
       "      <th>オイレス工業</th>\n",
       "      <th>日東工業</th>\n",
       "      <th>マックス</th>\n",
       "      <th>新晃工業</th>\n",
       "      <th>大阪ソーダ</th>\n",
       "      <th>アパレル1</th>\n",
       "      <th>専門商社2</th>\n",
       "      <th>...</th>\n",
       "      <th>ネクステージ</th>\n",
       "      <th>コメダホールディングス</th>\n",
       "      <th>外食1</th>\n",
       "      <th>エンタメ</th>\n",
       "      <th>王将フードサービス</th>\n",
       "      <th>地方私鉄</th>\n",
       "      <th>九州旅客鉄道</th>\n",
       "      <th>外食2・学習塾</th>\n",
       "      <th>鎌倉新書</th>\n",
       "      <th>西武ホールディングス</th>\n",
       "    </tr>\n",
       "    <tr>\n",
       "      <th></th>\n",
       "      <th>CompanyName</th>\n",
       "      <th>NaN</th>\n",
       "      <th>NaN</th>\n",
       "      <th>NaN</th>\n",
       "      <th>NaN</th>\n",
       "      <th>NaN</th>\n",
       "      <th>NaN</th>\n",
       "      <th>NaN</th>\n",
       "      <th>NaN</th>\n",
       "      <th>NaN</th>\n",
       "      <th>NaN</th>\n",
       "      <th>...</th>\n",
       "      <th>NaN</th>\n",
       "      <th>NaN</th>\n",
       "      <th>NaN</th>\n",
       "      <th>NaN</th>\n",
       "      <th>NaN</th>\n",
       "      <th>NaN</th>\n",
       "      <th>NaN</th>\n",
       "      <th>NaN</th>\n",
       "      <th>NaN</th>\n",
       "      <th>NaN</th>\n",
       "    </tr>\n",
       "    <tr>\n",
       "      <th>Code</th>\n",
       "      <th>CompanyName</th>\n",
       "      <th></th>\n",
       "      <th></th>\n",
       "      <th></th>\n",
       "      <th></th>\n",
       "      <th></th>\n",
       "      <th></th>\n",
       "      <th></th>\n",
       "      <th></th>\n",
       "      <th></th>\n",
       "      <th></th>\n",
       "      <th></th>\n",
       "      <th></th>\n",
       "      <th></th>\n",
       "      <th></th>\n",
       "      <th></th>\n",
       "      <th></th>\n",
       "      <th></th>\n",
       "      <th></th>\n",
       "      <th></th>\n",
       "      <th></th>\n",
       "      <th></th>\n",
       "    </tr>\n",
       "  </thead>\n",
       "  <tbody>\n",
       "    <tr>\n",
       "      <th>オカムラ</th>\n",
       "      <th>NaN</th>\n",
       "      <td>100</td>\n",
       "      <td>11</td>\n",
       "      <td>48</td>\n",
       "      <td>74</td>\n",
       "      <td>36</td>\n",
       "      <td>45</td>\n",
       "      <td>54</td>\n",
       "      <td>29</td>\n",
       "      <td>41</td>\n",
       "      <td>58</td>\n",
       "      <td>...</td>\n",
       "      <td>0</td>\n",
       "      <td>0</td>\n",
       "      <td>0</td>\n",
       "      <td>0</td>\n",
       "      <td>0</td>\n",
       "      <td>0</td>\n",
       "      <td>0</td>\n",
       "      <td>0</td>\n",
       "      <td>0</td>\n",
       "      <td>0</td>\n",
       "    </tr>\n",
       "    <tr>\n",
       "      <th>ＥＩＺＯ</th>\n",
       "      <th>NaN</th>\n",
       "      <td>11</td>\n",
       "      <td>100</td>\n",
       "      <td>22</td>\n",
       "      <td>8</td>\n",
       "      <td>21</td>\n",
       "      <td>25</td>\n",
       "      <td>17</td>\n",
       "      <td>36</td>\n",
       "      <td>21</td>\n",
       "      <td>11</td>\n",
       "      <td>...</td>\n",
       "      <td>0</td>\n",
       "      <td>0</td>\n",
       "      <td>0</td>\n",
       "      <td>0</td>\n",
       "      <td>0</td>\n",
       "      <td>0</td>\n",
       "      <td>0</td>\n",
       "      <td>0</td>\n",
       "      <td>0</td>\n",
       "      <td>0</td>\n",
       "    </tr>\n",
       "    <tr>\n",
       "      <th>極東開発工業</th>\n",
       "      <th>NaN</th>\n",
       "      <td>48</td>\n",
       "      <td>22</td>\n",
       "      <td>100</td>\n",
       "      <td>54</td>\n",
       "      <td>39</td>\n",
       "      <td>31</td>\n",
       "      <td>35</td>\n",
       "      <td>26</td>\n",
       "      <td>32</td>\n",
       "      <td>51</td>\n",
       "      <td>...</td>\n",
       "      <td>0</td>\n",
       "      <td>0</td>\n",
       "      <td>0</td>\n",
       "      <td>0</td>\n",
       "      <td>0</td>\n",
       "      <td>0</td>\n",
       "      <td>0</td>\n",
       "      <td>0</td>\n",
       "      <td>0</td>\n",
       "      <td>0</td>\n",
       "    </tr>\n",
       "    <tr>\n",
       "      <th>オイレス工業</th>\n",
       "      <th>NaN</th>\n",
       "      <td>74</td>\n",
       "      <td>8</td>\n",
       "      <td>54</td>\n",
       "      <td>100</td>\n",
       "      <td>35</td>\n",
       "      <td>39</td>\n",
       "      <td>48</td>\n",
       "      <td>25</td>\n",
       "      <td>38</td>\n",
       "      <td>74</td>\n",
       "      <td>...</td>\n",
       "      <td>0</td>\n",
       "      <td>0</td>\n",
       "      <td>0</td>\n",
       "      <td>0</td>\n",
       "      <td>0</td>\n",
       "      <td>0</td>\n",
       "      <td>0</td>\n",
       "      <td>0</td>\n",
       "      <td>0</td>\n",
       "      <td>0</td>\n",
       "    </tr>\n",
       "    <tr>\n",
       "      <th>日東工業</th>\n",
       "      <th>NaN</th>\n",
       "      <td>36</td>\n",
       "      <td>21</td>\n",
       "      <td>39</td>\n",
       "      <td>35</td>\n",
       "      <td>100</td>\n",
       "      <td>32</td>\n",
       "      <td>24</td>\n",
       "      <td>23</td>\n",
       "      <td>32</td>\n",
       "      <td>39</td>\n",
       "      <td>...</td>\n",
       "      <td>0</td>\n",
       "      <td>0</td>\n",
       "      <td>0</td>\n",
       "      <td>0</td>\n",
       "      <td>0</td>\n",
       "      <td>0</td>\n",
       "      <td>0</td>\n",
       "      <td>0</td>\n",
       "      <td>0</td>\n",
       "      <td>0</td>\n",
       "    </tr>\n",
       "    <tr>\n",
       "      <th>...</th>\n",
       "      <th>...</th>\n",
       "      <td>...</td>\n",
       "      <td>...</td>\n",
       "      <td>...</td>\n",
       "      <td>...</td>\n",
       "      <td>...</td>\n",
       "      <td>...</td>\n",
       "      <td>...</td>\n",
       "      <td>...</td>\n",
       "      <td>...</td>\n",
       "      <td>...</td>\n",
       "      <td>...</td>\n",
       "      <td>...</td>\n",
       "      <td>...</td>\n",
       "      <td>...</td>\n",
       "      <td>...</td>\n",
       "      <td>...</td>\n",
       "      <td>...</td>\n",
       "      <td>...</td>\n",
       "      <td>...</td>\n",
       "      <td>...</td>\n",
       "      <td>...</td>\n",
       "    </tr>\n",
       "    <tr>\n",
       "      <th>地方私鉄</th>\n",
       "      <th>NaN</th>\n",
       "      <td>0</td>\n",
       "      <td>0</td>\n",
       "      <td>0</td>\n",
       "      <td>0</td>\n",
       "      <td>0</td>\n",
       "      <td>0</td>\n",
       "      <td>0</td>\n",
       "      <td>0</td>\n",
       "      <td>0</td>\n",
       "      <td>0</td>\n",
       "      <td>...</td>\n",
       "      <td>59</td>\n",
       "      <td>61</td>\n",
       "      <td>63</td>\n",
       "      <td>96</td>\n",
       "      <td>58</td>\n",
       "      <td>100</td>\n",
       "      <td>70</td>\n",
       "      <td>61</td>\n",
       "      <td>29</td>\n",
       "      <td>64</td>\n",
       "    </tr>\n",
       "    <tr>\n",
       "      <th>九州旅客鉄道</th>\n",
       "      <th>NaN</th>\n",
       "      <td>0</td>\n",
       "      <td>0</td>\n",
       "      <td>0</td>\n",
       "      <td>0</td>\n",
       "      <td>0</td>\n",
       "      <td>0</td>\n",
       "      <td>0</td>\n",
       "      <td>0</td>\n",
       "      <td>0</td>\n",
       "      <td>0</td>\n",
       "      <td>...</td>\n",
       "      <td>30</td>\n",
       "      <td>32</td>\n",
       "      <td>34</td>\n",
       "      <td>66</td>\n",
       "      <td>29</td>\n",
       "      <td>70</td>\n",
       "      <td>100</td>\n",
       "      <td>32</td>\n",
       "      <td>13</td>\n",
       "      <td>90</td>\n",
       "    </tr>\n",
       "    <tr>\n",
       "      <th>外食2・学習塾</th>\n",
       "      <th>NaN</th>\n",
       "      <td>0</td>\n",
       "      <td>0</td>\n",
       "      <td>0</td>\n",
       "      <td>0</td>\n",
       "      <td>0</td>\n",
       "      <td>0</td>\n",
       "      <td>0</td>\n",
       "      <td>0</td>\n",
       "      <td>0</td>\n",
       "      <td>0</td>\n",
       "      <td>...</td>\n",
       "      <td>96</td>\n",
       "      <td>100</td>\n",
       "      <td>98</td>\n",
       "      <td>65</td>\n",
       "      <td>92</td>\n",
       "      <td>61</td>\n",
       "      <td>32</td>\n",
       "      <td>100</td>\n",
       "      <td>47</td>\n",
       "      <td>27</td>\n",
       "    </tr>\n",
       "    <tr>\n",
       "      <th>鎌倉新書</th>\n",
       "      <th>NaN</th>\n",
       "      <td>0</td>\n",
       "      <td>0</td>\n",
       "      <td>0</td>\n",
       "      <td>0</td>\n",
       "      <td>0</td>\n",
       "      <td>0</td>\n",
       "      <td>0</td>\n",
       "      <td>0</td>\n",
       "      <td>0</td>\n",
       "      <td>0</td>\n",
       "      <td>...</td>\n",
       "      <td>44</td>\n",
       "      <td>47</td>\n",
       "      <td>47</td>\n",
       "      <td>29</td>\n",
       "      <td>40</td>\n",
       "      <td>29</td>\n",
       "      <td>13</td>\n",
       "      <td>47</td>\n",
       "      <td>100</td>\n",
       "      <td>13</td>\n",
       "    </tr>\n",
       "    <tr>\n",
       "      <th>西武ホールディングス</th>\n",
       "      <th>NaN</th>\n",
       "      <td>0</td>\n",
       "      <td>0</td>\n",
       "      <td>0</td>\n",
       "      <td>0</td>\n",
       "      <td>0</td>\n",
       "      <td>0</td>\n",
       "      <td>0</td>\n",
       "      <td>0</td>\n",
       "      <td>0</td>\n",
       "      <td>0</td>\n",
       "      <td>...</td>\n",
       "      <td>25</td>\n",
       "      <td>27</td>\n",
       "      <td>29</td>\n",
       "      <td>60</td>\n",
       "      <td>24</td>\n",
       "      <td>64</td>\n",
       "      <td>90</td>\n",
       "      <td>27</td>\n",
       "      <td>13</td>\n",
       "      <td>100</td>\n",
       "    </tr>\n",
       "  </tbody>\n",
       "</table>\n",
       "<p>317 rows × 317 columns</p>\n",
       "</div>"
      ],
      "text/plain": [
       "Code                   オカムラ ＥＩＺＯ 極東開発工業 オイレス工業 日東工業 マックス 新晃工業 大阪ソーダ アパレル1  \\\n",
       "CompanyName             NaN  NaN    NaN    NaN  NaN  NaN  NaN   NaN   NaN   \n",
       "Code       CompanyName                                                      \n",
       "オカムラ       NaN          100   11     48     74   36   45   54    29    41   \n",
       "ＥＩＺＯ       NaN           11  100     22      8   21   25   17    36    21   \n",
       "極東開発工業     NaN           48   22    100     54   39   31   35    26    32   \n",
       "オイレス工業     NaN           74    8     54    100   35   39   48    25    38   \n",
       "日東工業       NaN           36   21     39     35  100   32   24    23    32   \n",
       "...                     ...  ...    ...    ...  ...  ...  ...   ...   ...   \n",
       "地方私鉄       NaN            0    0      0      0    0    0    0     0     0   \n",
       "九州旅客鉄道     NaN            0    0      0      0    0    0    0     0     0   \n",
       "外食2・学習塾    NaN            0    0      0      0    0    0    0     0     0   \n",
       "鎌倉新書       NaN            0    0      0      0    0    0    0     0     0   \n",
       "西武ホールディングス NaN            0    0      0      0    0    0    0     0     0   \n",
       "\n",
       "Code                   専門商社2  ... ネクステージ コメダホールディングス 外食1 エンタメ 王将フードサービス 地方私鉄  \\\n",
       "CompanyName              NaN  ...    NaN         NaN NaN  NaN       NaN  NaN   \n",
       "Code       CompanyName        ...                                              \n",
       "オカムラ       NaN            58  ...      0           0   0    0         0    0   \n",
       "ＥＩＺＯ       NaN            11  ...      0           0   0    0         0    0   \n",
       "極東開発工業     NaN            51  ...      0           0   0    0         0    0   \n",
       "オイレス工業     NaN            74  ...      0           0   0    0         0    0   \n",
       "日東工業       NaN            39  ...      0           0   0    0         0    0   \n",
       "...                      ...  ...    ...         ...  ..  ...       ...  ...   \n",
       "地方私鉄       NaN             0  ...     59          61  63   96        58  100   \n",
       "九州旅客鉄道     NaN             0  ...     30          32  34   66        29   70   \n",
       "外食2・学習塾    NaN             0  ...     96         100  98   65        92   61   \n",
       "鎌倉新書       NaN             0  ...     44          47  47   29        40   29   \n",
       "西武ホールディングス NaN             0  ...     25          27  29   60        24   64   \n",
       "\n",
       "Code                   九州旅客鉄道 外食2・学習塾 鎌倉新書 西武ホールディングス  \n",
       "CompanyName               NaN     NaN  NaN        NaN  \n",
       "Code       CompanyName                                 \n",
       "オカムラ       NaN              0       0    0          0  \n",
       "ＥＩＺＯ       NaN              0       0    0          0  \n",
       "極東開発工業     NaN              0       0    0          0  \n",
       "オイレス工業     NaN              0       0    0          0  \n",
       "日東工業       NaN              0       0    0          0  \n",
       "...                       ...     ...  ...        ...  \n",
       "地方私鉄       NaN             70      61   29         64  \n",
       "九州旅客鉄道     NaN            100      32   13         90  \n",
       "外食2・学習塾    NaN             32     100   47         27  \n",
       "鎌倉新書       NaN             13      47  100         13  \n",
       "西武ホールディングス NaN             90      27   13        100  \n",
       "\n",
       "[317 rows x 317 columns]"
      ]
     },
     "execution_count": 471,
     "metadata": {},
     "output_type": "execute_result"
    }
   ],
   "source": [
    "sum_df = pd.DataFrame(index=dfs.index, columns=dfs.index)\n",
    "\n",
    "for index1, row1 in dfs.iterrows():\n",
    "    for index2, row2 in dfs.iterrows():\n",
    "        sum_df.loc[index1, index2] = (row1 == row2).sum()\n",
    "\n",
    "sum_df"
   ]
  },
  {
   "cell_type": "code",
   "execution_count": 472,
   "metadata": {},
   "outputs": [],
   "source": [
    "#sum_df.to_csv('TOPIX1000_ClusterProbability.csv', encoding='utf-8')"
   ]
  },
  {
   "cell_type": "code",
   "execution_count": 473,
   "metadata": {},
   "outputs": [
    {
     "data": {
      "text/html": [
       "<div>\n",
       "<style scoped>\n",
       "    .dataframe tbody tr th:only-of-type {\n",
       "        vertical-align: middle;\n",
       "    }\n",
       "\n",
       "    .dataframe tbody tr th {\n",
       "        vertical-align: top;\n",
       "    }\n",
       "\n",
       "    .dataframe thead th {\n",
       "        text-align: right;\n",
       "    }\n",
       "</style>\n",
       "<table border=\"1\" class=\"dataframe\">\n",
       "  <thead>\n",
       "    <tr style=\"text-align: right;\">\n",
       "      <th></th>\n",
       "      <th></th>\n",
       "      <th>Cluster</th>\n",
       "      <th>MeanDistIntraCluster</th>\n",
       "    </tr>\n",
       "    <tr>\n",
       "      <th>Code</th>\n",
       "      <th>CompanyName</th>\n",
       "      <th></th>\n",
       "      <th></th>\n",
       "    </tr>\n",
       "  </thead>\n",
       "  <tbody>\n",
       "    <tr>\n",
       "      <th>オカムラ</th>\n",
       "      <th>NaN</th>\n",
       "      <td>100</td>\n",
       "      <td>72.8</td>\n",
       "    </tr>\n",
       "    <tr>\n",
       "      <th>ＥＩＺＯ</th>\n",
       "      <th>NaN</th>\n",
       "      <td>106</td>\n",
       "      <td>75.5</td>\n",
       "    </tr>\n",
       "    <tr>\n",
       "      <th>極東開発工業</th>\n",
       "      <th>NaN</th>\n",
       "      <td>45</td>\n",
       "      <td>74.5</td>\n",
       "    </tr>\n",
       "    <tr>\n",
       "      <th>オイレス工業</th>\n",
       "      <th>NaN</th>\n",
       "      <td>100</td>\n",
       "      <td>79.8</td>\n",
       "    </tr>\n",
       "    <tr>\n",
       "      <th>日東工業</th>\n",
       "      <th>NaN</th>\n",
       "      <td>57</td>\n",
       "      <td>100.0</td>\n",
       "    </tr>\n",
       "  </tbody>\n",
       "</table>\n",
       "</div>"
      ],
      "text/plain": [
       "                    Cluster  MeanDistIntraCluster\n",
       "Code   CompanyName                               \n",
       "オカムラ   NaN              100                  72.8\n",
       "ＥＩＺＯ   NaN              106                  75.5\n",
       "極東開発工業 NaN               45                  74.5\n",
       "オイレス工業 NaN              100                  79.8\n",
       "日東工業   NaN               57                 100.0"
      ]
     },
     "execution_count": 473,
     "metadata": {},
     "output_type": "execute_result"
    }
   ],
   "source": [
    "dist_df = sum_df\n",
    "kmeans = KMeans(n_clusters=150, random_state=0)\n",
    "dist_df['Cluster'] = kmeans.fit_predict(dist_df)\n",
    "distlist = []\n",
    "for index, row in dist_df.iterrows():\n",
    "    distlist.append(dist_df.loc[dist_df['Cluster']==row['Cluster'].values[0], index].mean())\n",
    "\n",
    "dist_df['MeanDistIntraCluster'] = distlist\n",
    "\n",
    "dist_df= dist_df[['Cluster', 'MeanDistIntraCluster']]\n",
    "dist_df = dist_df.droplevel(1, axis=1)\n",
    "dist_df.columns.name = ''\n",
    "\n",
    "dist_df.head()"
   ]
  },
  {
   "cell_type": "code",
   "execution_count": 474,
   "metadata": {},
   "outputs": [],
   "source": [
    "dist_df.to_csv('TOPIX1000_DeterminedClusterPartial.csv', encoding='utf-8')"
   ]
  },
  {
   "cell_type": "code",
   "execution_count": 475,
   "metadata": {},
   "outputs": [],
   "source": [
    "\n",
    "# 1回目の場合のみこのセルをオン\n",
    "code_and_name = stock_dfs_dict['stock_list'].loc[stock_dfs_dict['stock_list']['Code'].isin(codes), ['Code', 'CompanyName']]\n",
    "df = pd.read_csv(input_csv, encoding='utf-8')\n",
    "df = df[['Code', 'ClusterName']]\n",
    "code_and_name['Code'] = code_and_name['Code'].astype(str)\n",
    "df['Code'] = df['Code'].astype(str)\n",
    "code_and_name = pd.merge(code_and_name, df, how='outer', on='Code')\n",
    "code_and_name.loc[code_and_name['ClusterName'].isna(), 'ClusterName'] = code_and_name['CompanyName']\n",
    "a = dist_df.reset_index(drop=False)[['Code', 'Cluster', 'MeanDistIntraCluster']]\n",
    "a = a.rename(columns={'Code':'ClusterName'})\n",
    "df = pd.merge(code_and_name, a, how='left', on='ClusterName')\n",
    "df.to_csv(output_csv, encoding='utf-8')\n"
   ]
  },
  {
   "cell_type": "code",
   "execution_count": 476,
   "metadata": {},
   "outputs": [
    {
     "data": {
      "text/plain": [
       "\"\\ndist_df = dist_df.reset_index()[['Code', 'Cluster', 'MeanDistIntraCluster']]\\ndist_df = dist_df.rename(columns={'Code': 'ClusterName'})\\ndf = pd.read_csv(input_csv, encoding='utf-8')\\ndf = pd.merge(df,dist_df, how='left', on='ClusterName')\\ndf.to_csv(output_csv, encoding='utf-8')\\n\""
      ]
     },
     "execution_count": 476,
     "metadata": {},
     "output_type": "execute_result"
    }
   ],
   "source": [
    "'''\n",
    "dist_df = dist_df.reset_index()[['Code', 'Cluster', 'MeanDistIntraCluster']]\n",
    "dist_df = dist_df.rename(columns={'Code': 'ClusterName'})\n",
    "df = pd.read_csv(input_csv, encoding='utf-8')\n",
    "df = pd.merge(df,dist_df, how='left', on='ClusterName')\n",
    "df.to_csv(output_csv, encoding='utf-8')\n",
    "'''"
   ]
  },
  {
   "cell_type": "code",
   "execution_count": 477,
   "metadata": {},
   "outputs": [
    {
     "data": {
      "text/html": [
       "<div>\n",
       "<style scoped>\n",
       "    .dataframe tbody tr th:only-of-type {\n",
       "        vertical-align: middle;\n",
       "    }\n",
       "\n",
       "    .dataframe tbody tr th {\n",
       "        vertical-align: top;\n",
       "    }\n",
       "\n",
       "    .dataframe thead th {\n",
       "        text-align: right;\n",
       "    }\n",
       "</style>\n",
       "<table border=\"1\" class=\"dataframe\">\n",
       "  <thead>\n",
       "    <tr style=\"text-align: right;\">\n",
       "      <th>Code</th>\n",
       "      <th>コメダホールディングス</th>\n",
       "    </tr>\n",
       "    <tr>\n",
       "      <th>Code</th>\n",
       "      <th></th>\n",
       "    </tr>\n",
       "  </thead>\n",
       "  <tbody>\n",
       "    <tr>\n",
       "      <th>フジオフードグループ本社</th>\n",
       "      <td>100</td>\n",
       "    </tr>\n",
       "    <tr>\n",
       "      <th>外食2・学習塾</th>\n",
       "      <td>100</td>\n",
       "    </tr>\n",
       "    <tr>\n",
       "      <th>コメダホールディングス</th>\n",
       "      <td>100</td>\n",
       "    </tr>\n",
       "    <tr>\n",
       "      <th>ＦＯＯＤ　＆　ＬＩＦＥ　ＣＯＭＰＡＮＩＥＳ</th>\n",
       "      <td>99</td>\n",
       "    </tr>\n",
       "    <tr>\n",
       "      <th>外食1</th>\n",
       "      <td>98</td>\n",
       "    </tr>\n",
       "    <tr>\n",
       "      <th>すかいらーくホールディングス</th>\n",
       "      <td>98</td>\n",
       "    </tr>\n",
       "    <tr>\n",
       "      <th>ネクステージ</th>\n",
       "      <td>96</td>\n",
       "    </tr>\n",
       "    <tr>\n",
       "      <th>テクノプロ・ホールディングス</th>\n",
       "      <td>92</td>\n",
       "    </tr>\n",
       "    <tr>\n",
       "      <th>王将フードサービス</th>\n",
       "      <td>92</td>\n",
       "    </tr>\n",
       "    <tr>\n",
       "      <th>エンタメ</th>\n",
       "      <td>65</td>\n",
       "    </tr>\n",
       "  </tbody>\n",
       "</table>\n",
       "</div>"
      ],
      "text/plain": [
       "Code                  コメダホールディングス\n",
       "Code                             \n",
       "フジオフードグループ本社                  100\n",
       "外食2・学習塾                       100\n",
       "コメダホールディングス                   100\n",
       "ＦＯＯＤ　＆　ＬＩＦＥ　ＣＯＭＰＡＮＩＥＳ          99\n",
       "外食1                            98\n",
       "すかいらーくホールディングス                 98\n",
       "ネクステージ                         96\n",
       "テクノプロ・ホールディングス                 92\n",
       "王将フードサービス                      92\n",
       "エンタメ                           65"
      ]
     },
     "execution_count": 477,
     "metadata": {},
     "output_type": "execute_result"
    }
   ],
   "source": [
    "\n",
    "x = 'コメダホールディングス'\n",
    "a = sum_df.droplevel(-1, axis=0).droplevel(-1, axis=1)\n",
    "a[[x]].sort_values(x, ascending=False).head(10)\n"
   ]
  },
  {
   "cell_type": "code",
   "execution_count": 478,
   "metadata": {},
   "outputs": [
    {
     "data": {
      "text/html": [
       "<div>\n",
       "<style scoped>\n",
       "    .dataframe tbody tr th:only-of-type {\n",
       "        vertical-align: middle;\n",
       "    }\n",
       "\n",
       "    .dataframe tbody tr th {\n",
       "        vertical-align: top;\n",
       "    }\n",
       "\n",
       "    .dataframe thead th {\n",
       "        text-align: right;\n",
       "    }\n",
       "</style>\n",
       "<table border=\"1\" class=\"dataframe\">\n",
       "  <thead>\n",
       "    <tr style=\"text-align: right;\">\n",
       "      <th></th>\n",
       "      <th>Code</th>\n",
       "      <th>CompanyName</th>\n",
       "      <th>ClusterName</th>\n",
       "      <th>Cluster</th>\n",
       "      <th>MeanDistIntraCluster</th>\n",
       "    </tr>\n",
       "  </thead>\n",
       "  <tbody>\n",
       "    <tr>\n",
       "      <th>0</th>\n",
       "      <td>1332</td>\n",
       "      <td>ニッスイ</td>\n",
       "      <td>食品1</td>\n",
       "      <td>20.0</td>\n",
       "      <td>88.750000</td>\n",
       "    </tr>\n",
       "    <tr>\n",
       "      <th>1</th>\n",
       "      <td>1333</td>\n",
       "      <td>マルハニチロ</td>\n",
       "      <td>食品1</td>\n",
       "      <td>20.0</td>\n",
       "      <td>88.750000</td>\n",
       "    </tr>\n",
       "    <tr>\n",
       "      <th>2</th>\n",
       "      <td>1377</td>\n",
       "      <td>サカタのタネ</td>\n",
       "      <td>食品1</td>\n",
       "      <td>20.0</td>\n",
       "      <td>88.750000</td>\n",
       "    </tr>\n",
       "    <tr>\n",
       "      <th>3</th>\n",
       "      <td>1379</td>\n",
       "      <td>ホクト</td>\n",
       "      <td>食品運搬・販売</td>\n",
       "      <td>30.0</td>\n",
       "      <td>84.000000</td>\n",
       "    </tr>\n",
       "    <tr>\n",
       "      <th>4</th>\n",
       "      <td>1414</td>\n",
       "      <td>ショーボンドホールディングス</td>\n",
       "      <td>土木・道路</td>\n",
       "      <td>28.0</td>\n",
       "      <td>79.500000</td>\n",
       "    </tr>\n",
       "    <tr>\n",
       "      <th>...</th>\n",
       "      <td>...</td>\n",
       "      <td>...</td>\n",
       "      <td>...</td>\n",
       "      <td>...</td>\n",
       "      <td>...</td>\n",
       "    </tr>\n",
       "    <tr>\n",
       "      <th>1129</th>\n",
       "      <td>9984</td>\n",
       "      <td>ソフトバンクグループ</td>\n",
       "      <td>樹脂等</td>\n",
       "      <td>2.0</td>\n",
       "      <td>98.214286</td>\n",
       "    </tr>\n",
       "    <tr>\n",
       "      <th>1130</th>\n",
       "      <td>9987</td>\n",
       "      <td>スズケン</td>\n",
       "      <td>医薬品卸</td>\n",
       "      <td>107.0</td>\n",
       "      <td>91.000000</td>\n",
       "    </tr>\n",
       "    <tr>\n",
       "      <th>1131</th>\n",
       "      <td>9989</td>\n",
       "      <td>サンドラッグ</td>\n",
       "      <td>ドラッグストア</td>\n",
       "      <td>67.0</td>\n",
       "      <td>99.142857</td>\n",
       "    </tr>\n",
       "    <tr>\n",
       "      <th>1132</th>\n",
       "      <td>9990</td>\n",
       "      <td>サックスバー　ホールディングス</td>\n",
       "      <td>小売2</td>\n",
       "      <td>0.0</td>\n",
       "      <td>100.000000</td>\n",
       "    </tr>\n",
       "    <tr>\n",
       "      <th>1133</th>\n",
       "      <td>9997</td>\n",
       "      <td>ベルーナ</td>\n",
       "      <td>ロードサイド</td>\n",
       "      <td>40.0</td>\n",
       "      <td>73.666667</td>\n",
       "    </tr>\n",
       "  </tbody>\n",
       "</table>\n",
       "<p>1134 rows × 5 columns</p>\n",
       "</div>"
      ],
      "text/plain": [
       "      Code      CompanyName ClusterName  Cluster  MeanDistIntraCluster\n",
       "0     1332             ニッスイ         食品1     20.0             88.750000\n",
       "1     1333           マルハニチロ         食品1     20.0             88.750000\n",
       "2     1377           サカタのタネ         食品1     20.0             88.750000\n",
       "3     1379              ホクト     食品運搬・販売     30.0             84.000000\n",
       "4     1414   ショーボンドホールディングス       土木・道路     28.0             79.500000\n",
       "...    ...              ...         ...      ...                   ...\n",
       "1129  9984       ソフトバンクグループ         樹脂等      2.0             98.214286\n",
       "1130  9987             スズケン        医薬品卸    107.0             91.000000\n",
       "1131  9989           サンドラッグ     ドラッグストア     67.0             99.142857\n",
       "1132  9990  サックスバー　ホールディングス         小売2      0.0            100.000000\n",
       "1133  9997             ベルーナ      ロードサイド     40.0             73.666667\n",
       "\n",
       "[1134 rows x 5 columns]"
      ]
     },
     "execution_count": 478,
     "metadata": {},
     "output_type": "execute_result"
    }
   ],
   "source": [
    "df"
   ]
  },
  {
   "cell_type": "code",
   "execution_count": 479,
   "metadata": {},
   "outputs": [
    {
     "data": {
      "text/plain": [
       "\"\\ndf2 = pd.read_csv('TOPIX1000_DeterminedCluster2.csv', encoding='utf-8')\\ndf2 = df2[['Code', 'Cluster', 'MeanDistIntraCluster']]\\ndf2.columns = ['ClusterName', 'Cluster', 'MeanDistIntraCluster']\\ndf = pd.merge(df, df2, how='inner', on='ClusterName')\\ndf = df.rename(columns={'ClusterName':'ClusterName1'})\\ndf.to_csv('TOPIX1000_DeterminedCluster2.csv', encoding='utf-8')\\n\""
      ]
     },
     "execution_count": 479,
     "metadata": {},
     "output_type": "execute_result"
    }
   ],
   "source": [
    "'''\n",
    "df2 = pd.read_csv('TOPIX1000_DeterminedCluster2.csv', encoding='utf-8')\n",
    "df2 = df2[['Code', 'Cluster', 'MeanDistIntraCluster']]\n",
    "df2.columns = ['ClusterName', 'Cluster', 'MeanDistIntraCluster']\n",
    "df = pd.merge(df, df2, how='inner', on='ClusterName')\n",
    "df = df.rename(columns={'ClusterName':'ClusterName1'})\n",
    "df.to_csv('TOPIX1000_DeterminedCluster2.csv', encoding='utf-8')\n",
    "'''"
   ]
  }
 ],
 "metadata": {
  "kernelspec": {
   "display_name": "Python 3",
   "language": "python",
   "name": "python3"
  },
  "language_info": {
   "codemirror_mode": {
    "name": "ipython",
    "version": 3
   },
   "file_extension": ".py",
   "mimetype": "text/x-python",
   "name": "python",
   "nbconvert_exporter": "python",
   "pygments_lexer": "ipython3",
   "version": "3.11.10"
  }
 },
 "nbformat": 4,
 "nbformat_minor": 2
}
